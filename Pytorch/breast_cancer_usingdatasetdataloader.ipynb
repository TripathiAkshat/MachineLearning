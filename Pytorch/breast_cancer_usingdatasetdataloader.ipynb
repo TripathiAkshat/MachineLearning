{
 "cells": [
  {
   "cell_type": "code",
   "id": "initial_id",
   "metadata": {
    "collapsed": true,
    "ExecuteTime": {
     "end_time": "2025-06-10T08:04:16.676534Z",
     "start_time": "2025-06-10T08:04:16.669995Z"
    }
   },
   "source": [
    "from sklearn.datasets import load_breast_cancer\n",
    "import torch\n",
    "from sklearn.preprocessing import StandardScaler\n",
    "from sklearn.model_selection import train_test_split\n",
    "from sympy.polys.subresultants_qq_zz import backward_eye\n"
   ],
   "outputs": [],
   "execution_count": 138
  },
  {
   "metadata": {
    "ExecuteTime": {
     "end_time": "2025-06-10T08:04:16.877485Z",
     "start_time": "2025-06-10T08:04:16.850206Z"
    }
   },
   "cell_type": "code",
   "source": [
    "import numpy as np\n",
    "\n",
    "dataset = load_breast_cancer()\n",
    "X = dataset.data\n",
    "y = dataset.target\n",
    "X_train, X_test, y_train, y_test = train_test_split(X_tensor, y_tensor, test_size=0.2)\n",
    "scaler = StandardScaler()\n",
    "X_train = scaler.fit_transform(X_train)\n",
    "X_test = scaler.transform(X_test)\n",
    "X_train_tensor = torch.tensor(X_train,dtype=torch.float32)\n",
    "X_test_tensor = torch.tensor(X_test,dtype=torch.float32)\n",
    "y_train_tensor = torch.tensor(y_train,dtype=torch.float32)\n",
    "y_test_tensor = torch.tensor(y_test,dtype=torch.float32)"
   ],
   "id": "6ce0f60b7073862a",
   "outputs": [
    {
     "name": "stderr",
     "output_type": "stream",
     "text": [
      "C:\\Users\\mailt\\AppData\\Local\\Temp\\ipykernel_14688\\3801309834.py:12: UserWarning: To copy construct from a tensor, it is recommended to use sourceTensor.detach().clone() or sourceTensor.detach().clone().requires_grad_(True), rather than torch.tensor(sourceTensor).\n",
      "  y_train_tensor = torch.tensor(y_train,dtype=torch.float32)\n",
      "C:\\Users\\mailt\\AppData\\Local\\Temp\\ipykernel_14688\\3801309834.py:13: UserWarning: To copy construct from a tensor, it is recommended to use sourceTensor.detach().clone() or sourceTensor.detach().clone().requires_grad_(True), rather than torch.tensor(sourceTensor).\n",
      "  y_test_tensor = torch.tensor(y_test,dtype=torch.float32)\n"
     ]
    }
   ],
   "execution_count": 139
  },
  {
   "metadata": {
    "ExecuteTime": {
     "end_time": "2025-06-10T08:04:17.097643Z",
     "start_time": "2025-06-10T08:04:17.090517Z"
    }
   },
   "cell_type": "code",
   "source": "type(X_train)",
   "id": "1270e61a102f8d39",
   "outputs": [
    {
     "data": {
      "text/plain": [
       "numpy.ndarray"
      ]
     },
     "execution_count": 140,
     "metadata": {},
     "output_type": "execute_result"
    }
   ],
   "execution_count": 140
  },
  {
   "metadata": {
    "ExecuteTime": {
     "end_time": "2025-06-10T08:04:17.261526Z",
     "start_time": "2025-06-10T08:04:17.255361Z"
    }
   },
   "cell_type": "code",
   "source": "from torch.utils.data import Dataset,DataLoader",
   "id": "73bed4a60f417ffc",
   "outputs": [],
   "execution_count": 141
  },
  {
   "metadata": {
    "ExecuteTime": {
     "end_time": "2025-06-10T08:04:17.403675Z",
     "start_time": "2025-06-10T08:04:17.396992Z"
    }
   },
   "cell_type": "code",
   "source": [
    "import torch.nn as nn\n",
    "\n",
    "class CustomDataset(Dataset):\n",
    "    def __init__(self,features,label):\n",
    "        self.features = features\n",
    "        self.label = label\n",
    "    def __len__(self):\n",
    "        return len(self.label)\n",
    "    def __getitem__(self, idx):\n",
    "        return self.features[idx], self.label[idx]\n",
    "\n"
   ],
   "id": "77143b4cd8ed187",
   "outputs": [],
   "execution_count": 142
  },
  {
   "metadata": {
    "ExecuteTime": {
     "end_time": "2025-06-10T08:04:17.565734Z",
     "start_time": "2025-06-10T08:04:17.559243Z"
    }
   },
   "cell_type": "code",
   "source": [
    "train_dataset = CustomDataset(X_train_tensor,y_train_tensor)\n",
    "test_dataset = CustomDataset(X_test_tensor,y_test_tensor)\n",
    "print(train_dataset.__len__())\n",
    "print(test_dataset.__len__())"
   ],
   "id": "4eb0f93b0d363b9b",
   "outputs": [
    {
     "name": "stdout",
     "output_type": "stream",
     "text": [
      "455\n",
      "114\n"
     ]
    }
   ],
   "execution_count": 143
  },
  {
   "metadata": {
    "ExecuteTime": {
     "end_time": "2025-06-10T08:04:17.722637Z",
     "start_time": "2025-06-10T08:04:17.715288Z"
    }
   },
   "cell_type": "code",
   "source": [
    "train_loader = DataLoader(train_dataset, batch_size=32, shuffle=True)\n",
    "test_loader = DataLoader(test_dataset, batch_size=32, shuffle=True)"
   ],
   "id": "94bf11e9c1f93ea0",
   "outputs": [],
   "execution_count": 144
  },
  {
   "metadata": {
    "ExecuteTime": {
     "end_time": "2025-06-10T08:04:17.863254Z",
     "start_time": "2025-06-10T08:04:17.858800Z"
    }
   },
   "cell_type": "code",
   "source": "loss_function = nn.BCELoss()",
   "id": "632833d7d3de051b",
   "outputs": [],
   "execution_count": 145
  },
  {
   "metadata": {
    "ExecuteTime": {
     "end_time": "2025-06-10T08:04:18.002780Z",
     "start_time": "2025-06-10T08:04:17.994982Z"
    }
   },
   "cell_type": "code",
   "source": [
    "class Myneuralnetwork(nn.Module):\n",
    "    def __init__(self,num_feature):\n",
    "        super().__init__()\n",
    "        self.linear1 = nn.Linear(num_feature,10)\n",
    "        self.relu = nn.ReLU()\n",
    "        self.linear2 = nn.Linear(10,1)\n",
    "        self.sigmoid = nn.Sigmoid()\n",
    "\n",
    "    def forward(self,features):\n",
    "        out = self.linear1(features)\n",
    "        out = self.relu(out)\n",
    "        out = self.linear2(out)\n",
    "        out = self.sigmoid(out)\n",
    "        return out\n",
    "\n",
    "\n"
   ],
   "id": "2dedcd288e5c511",
   "outputs": [],
   "execution_count": 146
  },
  {
   "metadata": {
    "ExecuteTime": {
     "end_time": "2025-06-10T08:04:18.166677Z",
     "start_time": "2025-06-10T08:04:18.161122Z"
    }
   },
   "cell_type": "code",
   "source": [
    "learning_rate = 0.01\n",
    "epochs = 200\n"
   ],
   "id": "6aa56f8346e1a9a5",
   "outputs": [],
   "execution_count": 147
  },
  {
   "metadata": {
    "ExecuteTime": {
     "end_time": "2025-06-10T08:04:18.336620Z",
     "start_time": "2025-06-10T08:04:18.329071Z"
    }
   },
   "cell_type": "code",
   "source": [
    "model = Myneuralnetwork(X_train.shape[1])\n",
    "\n",
    "optimizer = torch.optim.SGD(model.parameters(), lr=learning_rate)\n"
   ],
   "id": "16e1c7a559464f95",
   "outputs": [],
   "execution_count": 148
  },
  {
   "metadata": {
    "ExecuteTime": {
     "end_time": "2025-06-10T08:04:22.596202Z",
     "start_time": "2025-06-10T08:04:18.494555Z"
    }
   },
   "cell_type": "code",
   "source": [
    "for epoch in range(epochs):\n",
    "    for batch_features, batch_label in train_loader:\n",
    "        y_pred = model(batch_features)\n",
    "        loss = loss_function(y_pred, batch_label.view(-1,1))\n",
    "        optimizer.zero_grad()\n",
    "        loss.backward()\n",
    "        optimizer.step()\n",
    "\n",
    "    print(f\"epoch: {epoch+1}, loss: {loss}\")\n"
   ],
   "id": "aa7a8275b32f1823",
   "outputs": [
    {
     "name": "stdout",
     "output_type": "stream",
     "text": [
      "epoch: 1, loss: 0.6994326710700989\n",
      "epoch: 2, loss: 0.7262479066848755\n",
      "epoch: 3, loss: 0.7087395787239075\n",
      "epoch: 4, loss: 0.6993163824081421\n",
      "epoch: 5, loss: 0.671747624874115\n",
      "epoch: 6, loss: 0.6036185026168823\n",
      "epoch: 7, loss: 0.6371415853500366\n",
      "epoch: 8, loss: 0.639208972454071\n",
      "epoch: 9, loss: 0.6302467584609985\n",
      "epoch: 10, loss: 0.530420184135437\n",
      "epoch: 11, loss: 0.4963884651660919\n",
      "epoch: 12, loss: 0.5003877878189087\n",
      "epoch: 13, loss: 0.5314141511917114\n",
      "epoch: 14, loss: 0.3598819375038147\n",
      "epoch: 15, loss: 0.3271043598651886\n",
      "epoch: 16, loss: 0.25161880254745483\n",
      "epoch: 17, loss: 0.2218659222126007\n",
      "epoch: 18, loss: 0.3249233365058899\n",
      "epoch: 19, loss: 0.3840339481830597\n",
      "epoch: 20, loss: 0.37220191955566406\n",
      "epoch: 21, loss: 0.22718404233455658\n",
      "epoch: 22, loss: 0.2869856357574463\n",
      "epoch: 23, loss: 0.3472844660282135\n",
      "epoch: 24, loss: 0.15995056927204132\n",
      "epoch: 25, loss: 0.20743976533412933\n",
      "epoch: 26, loss: 0.22448907792568207\n",
      "epoch: 27, loss: 0.10102248191833496\n",
      "epoch: 28, loss: 0.1596793234348297\n",
      "epoch: 29, loss: 0.3404845893383026\n",
      "epoch: 30, loss: 0.27673181891441345\n",
      "epoch: 31, loss: 0.1456446647644043\n",
      "epoch: 32, loss: 0.24736377596855164\n",
      "epoch: 33, loss: 0.1476055532693863\n",
      "epoch: 34, loss: 0.1274413764476776\n",
      "epoch: 35, loss: 0.15088678896427155\n",
      "epoch: 36, loss: 0.0733383372426033\n",
      "epoch: 37, loss: 0.16072706878185272\n",
      "epoch: 38, loss: 0.2856917679309845\n",
      "epoch: 39, loss: 0.2588479816913605\n",
      "epoch: 40, loss: 0.26578906178474426\n",
      "epoch: 41, loss: 0.13725683093070984\n",
      "epoch: 42, loss: 0.028377564623951912\n",
      "epoch: 43, loss: 0.15434202551841736\n",
      "epoch: 44, loss: 0.30749017000198364\n",
      "epoch: 45, loss: 0.0650063157081604\n",
      "epoch: 46, loss: 0.19076839089393616\n",
      "epoch: 47, loss: 0.10278946161270142\n",
      "epoch: 48, loss: 0.041619349271059036\n",
      "epoch: 49, loss: 0.24658134579658508\n",
      "epoch: 50, loss: 0.11005176603794098\n",
      "epoch: 51, loss: 0.08646338433027267\n",
      "epoch: 52, loss: 0.11456156522035599\n",
      "epoch: 53, loss: 0.07372476160526276\n",
      "epoch: 54, loss: 0.21161594986915588\n",
      "epoch: 55, loss: 0.12972120940685272\n",
      "epoch: 56, loss: 0.10044048726558685\n",
      "epoch: 57, loss: 0.12788450717926025\n",
      "epoch: 58, loss: 0.041001252830028534\n",
      "epoch: 59, loss: 0.10201562941074371\n",
      "epoch: 60, loss: 0.150314062833786\n",
      "epoch: 61, loss: 0.02802926115691662\n",
      "epoch: 62, loss: 0.026515906676650047\n",
      "epoch: 63, loss: 0.029686784371733665\n",
      "epoch: 64, loss: 0.5697560906410217\n",
      "epoch: 65, loss: 0.03156009688973427\n",
      "epoch: 66, loss: 0.041174422949552536\n",
      "epoch: 67, loss: 0.02275429666042328\n",
      "epoch: 68, loss: 0.15381279587745667\n",
      "epoch: 69, loss: 0.2578151524066925\n",
      "epoch: 70, loss: 0.029718726873397827\n",
      "epoch: 71, loss: 0.010751710273325443\n",
      "epoch: 72, loss: 0.027529126033186913\n",
      "epoch: 73, loss: 0.09371732175350189\n",
      "epoch: 74, loss: 0.019030475988984108\n",
      "epoch: 75, loss: 0.1658773273229599\n",
      "epoch: 76, loss: 0.016903989017009735\n",
      "epoch: 77, loss: 0.1441519558429718\n",
      "epoch: 78, loss: 0.03933616355061531\n",
      "epoch: 79, loss: 0.4170517325401306\n",
      "epoch: 80, loss: 0.0181064922362566\n",
      "epoch: 81, loss: 0.03905722126364708\n",
      "epoch: 82, loss: 0.15248098969459534\n",
      "epoch: 83, loss: 0.15667495131492615\n",
      "epoch: 84, loss: 0.13905243575572968\n",
      "epoch: 85, loss: 0.15750513970851898\n",
      "epoch: 86, loss: 0.0878969356417656\n",
      "epoch: 87, loss: 0.046161286532878876\n",
      "epoch: 88, loss: 0.02352113649249077\n",
      "epoch: 89, loss: 0.02571614645421505\n",
      "epoch: 90, loss: 0.058768946677446365\n",
      "epoch: 91, loss: 0.02529226616024971\n",
      "epoch: 92, loss: 0.033673740923404694\n",
      "epoch: 93, loss: 0.10553157329559326\n",
      "epoch: 94, loss: 0.07091810554265976\n",
      "epoch: 95, loss: 0.06505409628152847\n",
      "epoch: 96, loss: 0.11176326125860214\n",
      "epoch: 97, loss: 0.01973300613462925\n",
      "epoch: 98, loss: 0.04326772317290306\n",
      "epoch: 99, loss: 0.11214429140090942\n",
      "epoch: 100, loss: 0.06815415620803833\n",
      "epoch: 101, loss: 0.1463921070098877\n",
      "epoch: 102, loss: 0.17198900878429413\n",
      "epoch: 103, loss: 0.08792737871408463\n",
      "epoch: 104, loss: 0.02471320517361164\n",
      "epoch: 105, loss: 0.36352211236953735\n",
      "epoch: 106, loss: 0.1330377757549286\n",
      "epoch: 107, loss: 0.031018169596791267\n",
      "epoch: 108, loss: 0.027782514691352844\n",
      "epoch: 109, loss: 0.00842859037220478\n",
      "epoch: 110, loss: 0.02652752958238125\n",
      "epoch: 111, loss: 0.05553356558084488\n",
      "epoch: 112, loss: 0.1041622906923294\n",
      "epoch: 113, loss: 0.02848539873957634\n",
      "epoch: 114, loss: 0.05402383953332901\n",
      "epoch: 115, loss: 0.016850028187036514\n",
      "epoch: 116, loss: 0.06656648218631744\n",
      "epoch: 117, loss: 0.13570351898670197\n",
      "epoch: 118, loss: 0.34160640835762024\n",
      "epoch: 119, loss: 0.05376690626144409\n",
      "epoch: 120, loss: 0.015745650976896286\n",
      "epoch: 121, loss: 0.03101208806037903\n",
      "epoch: 122, loss: 0.07306011766195297\n",
      "epoch: 123, loss: 0.031492214649915695\n",
      "epoch: 124, loss: 0.06735820323228836\n",
      "epoch: 125, loss: 0.20130756497383118\n",
      "epoch: 126, loss: 0.0096604498103261\n",
      "epoch: 127, loss: 0.11315993219614029\n",
      "epoch: 128, loss: 0.010303649120032787\n",
      "epoch: 129, loss: 0.015585629269480705\n",
      "epoch: 130, loss: 0.016396446153521538\n",
      "epoch: 131, loss: 0.07967815548181534\n",
      "epoch: 132, loss: 0.054577652364969254\n",
      "epoch: 133, loss: 0.19762636721134186\n",
      "epoch: 134, loss: 0.006101235747337341\n",
      "epoch: 135, loss: 0.04943413659930229\n",
      "epoch: 136, loss: 0.03268160670995712\n",
      "epoch: 137, loss: 0.01122632808983326\n",
      "epoch: 138, loss: 0.13883888721466064\n",
      "epoch: 139, loss: 0.22128619253635406\n",
      "epoch: 140, loss: 0.04658850282430649\n",
      "epoch: 141, loss: 0.01724007911980152\n",
      "epoch: 142, loss: 0.022317424416542053\n",
      "epoch: 143, loss: 0.019273506477475166\n",
      "epoch: 144, loss: 0.016373837366700172\n",
      "epoch: 145, loss: 0.020344989374279976\n",
      "epoch: 146, loss: 0.1931367963552475\n",
      "epoch: 147, loss: 0.0036589226219803095\n",
      "epoch: 148, loss: 0.07392638921737671\n",
      "epoch: 149, loss: 0.011733384802937508\n",
      "epoch: 150, loss: 0.050077494233846664\n",
      "epoch: 151, loss: 0.05029219761490822\n",
      "epoch: 152, loss: 0.018185755237936974\n",
      "epoch: 153, loss: 0.00801653228700161\n",
      "epoch: 154, loss: 0.031203212216496468\n",
      "epoch: 155, loss: 0.020969968289136887\n",
      "epoch: 156, loss: 0.005275607109069824\n",
      "epoch: 157, loss: 0.07484626024961472\n",
      "epoch: 158, loss: 0.006563447881489992\n",
      "epoch: 159, loss: 0.022118249908089638\n",
      "epoch: 160, loss: 0.11901969462633133\n",
      "epoch: 161, loss: 0.04188156872987747\n",
      "epoch: 162, loss: 0.06423238664865494\n",
      "epoch: 163, loss: 0.02114255167543888\n",
      "epoch: 164, loss: 0.06349334120750427\n",
      "epoch: 165, loss: 0.5887589454650879\n",
      "epoch: 166, loss: 0.017058903351426125\n",
      "epoch: 167, loss: 0.014218450523912907\n",
      "epoch: 168, loss: 0.012827330268919468\n",
      "epoch: 169, loss: 0.14693664014339447\n",
      "epoch: 170, loss: 0.009869920089840889\n",
      "epoch: 171, loss: 0.026032015681266785\n",
      "epoch: 172, loss: 0.04458725452423096\n",
      "epoch: 173, loss: 0.013857263140380383\n",
      "epoch: 174, loss: 0.015172741375863552\n",
      "epoch: 175, loss: 0.026423931121826172\n",
      "epoch: 176, loss: 0.15935872495174408\n",
      "epoch: 177, loss: 0.05349680408835411\n",
      "epoch: 178, loss: 0.06005382165312767\n",
      "epoch: 179, loss: 0.021887093782424927\n",
      "epoch: 180, loss: 0.016155527904629707\n",
      "epoch: 181, loss: 0.005166386719793081\n",
      "epoch: 182, loss: 0.02219437062740326\n",
      "epoch: 183, loss: 0.10238496959209442\n",
      "epoch: 184, loss: 0.01005138922482729\n",
      "epoch: 185, loss: 0.0034204109106212854\n",
      "epoch: 186, loss: 0.008131418377161026\n",
      "epoch: 187, loss: 0.00853278674185276\n",
      "epoch: 188, loss: 0.003510374343022704\n",
      "epoch: 189, loss: 0.026352541521191597\n",
      "epoch: 190, loss: 0.018422145396471024\n",
      "epoch: 191, loss: 0.02879760041832924\n",
      "epoch: 192, loss: 0.3552134931087494\n",
      "epoch: 193, loss: 0.006191053427755833\n",
      "epoch: 194, loss: 0.03572633117437363\n",
      "epoch: 195, loss: 0.27600687742233276\n",
      "epoch: 196, loss: 0.07540325820446014\n",
      "epoch: 197, loss: 0.01826336607336998\n",
      "epoch: 198, loss: 0.001416881219483912\n",
      "epoch: 199, loss: 0.009099484421312809\n",
      "epoch: 200, loss: 0.022926824167370796\n"
     ]
    }
   ],
   "execution_count": 149
  },
  {
   "metadata": {
    "ExecuteTime": {
     "end_time": "2025-06-10T08:04:22.682525Z",
     "start_time": "2025-06-10T08:04:22.668345Z"
    }
   },
   "cell_type": "code",
   "source": [
    "model.eval()\n",
    "accuracy_list = []\n",
    "with torch.no_grad():\n",
    "    for batch_features, batch_label in test_loader:\n",
    "        y_pred = model(batch_features)\n",
    "        y_pred = (y_pred > 0.5).float()\n",
    "\n",
    "    batch_accuracy = (y_pred.view(-1) == batch_label).float().mean().item()\n",
    "    accuracy_list.append(batch_accuracy)\n",
    "\n",
    "overall_accuracy = sum(accuracy_list) / len(accuracy_list)\n",
    "print(f\"overall accuracy: {overall_accuracy}\")\n",
    "\n"
   ],
   "id": "ea83ae3279bd5e39",
   "outputs": [
    {
     "name": "stdout",
     "output_type": "stream",
     "text": [
      "overall accuracy: 1.0\n"
     ]
    }
   ],
   "execution_count": 150
  },
  {
   "metadata": {
    "ExecuteTime": {
     "end_time": "2025-06-10T08:04:22.799812Z",
     "start_time": "2025-06-10T08:04:22.795749Z"
    }
   },
   "cell_type": "code",
   "source": "",
   "id": "2ac6e4a75ad96cc8",
   "outputs": [],
   "execution_count": null
  }
 ],
 "metadata": {
  "kernelspec": {
   "display_name": "Python 3",
   "language": "python",
   "name": "python3"
  },
  "language_info": {
   "codemirror_mode": {
    "name": "ipython",
    "version": 2
   },
   "file_extension": ".py",
   "mimetype": "text/x-python",
   "name": "python",
   "nbconvert_exporter": "python",
   "pygments_lexer": "ipython2",
   "version": "2.7.6"
  }
 },
 "nbformat": 4,
 "nbformat_minor": 5
}
