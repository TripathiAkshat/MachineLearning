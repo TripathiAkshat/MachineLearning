{
 "cells": [
  {
   "cell_type": "code",
   "id": "initial_id",
   "metadata": {
    "collapsed": true,
    "ExecuteTime": {
     "end_time": "2025-06-10T06:09:45.464085Z",
     "start_time": "2025-06-10T06:09:13.365323Z"
    }
   },
   "source": [
    "from sklearn.datasets import make_classification\n",
    "import torch\n"
   ],
   "outputs": [],
   "execution_count": 2
  },
  {
   "metadata": {
    "ExecuteTime": {
     "end_time": "2025-06-10T06:09:45.534306Z",
     "start_time": "2025-06-10T06:09:45.504387Z"
    }
   },
   "cell_type": "code",
   "source": [
    "X,y = make_classification(\n",
    "    n_samples=10,\n",
    "    n_features=2,\n",
    "    n_informative=2,\n",
    "    n_redundant=0,\n",
    "    n_classes=2,\n",
    "    random_state=42\n",
    ")"
   ],
   "id": "a1ca28518eba6b8c",
   "outputs": [],
   "execution_count": 3
  },
  {
   "metadata": {
    "ExecuteTime": {
     "end_time": "2025-06-10T06:09:45.570167Z",
     "start_time": "2025-06-10T06:09:45.552069Z"
    }
   },
   "cell_type": "code",
   "source": "X",
   "id": "a0e941bb19686414",
   "outputs": [
    {
     "data": {
      "text/plain": [
       "array([[ 1.06833894, -0.97007347],\n",
       "       [-1.14021544, -0.83879234],\n",
       "       [-2.8953973 ,  1.97686236],\n",
       "       [-0.72063436, -0.96059253],\n",
       "       [-1.96287438, -0.99225135],\n",
       "       [-0.9382051 , -0.54304815],\n",
       "       [ 1.72725924, -1.18582677],\n",
       "       [ 1.77736657,  1.51157598],\n",
       "       [ 1.89969252,  0.83444483],\n",
       "       [-0.58723065, -1.97171753]])"
      ]
     },
     "execution_count": 4,
     "metadata": {},
     "output_type": "execute_result"
    }
   ],
   "execution_count": 4
  },
  {
   "metadata": {
    "ExecuteTime": {
     "end_time": "2025-06-10T06:11:13.512298Z",
     "start_time": "2025-06-10T06:11:12.737225Z"
    }
   },
   "cell_type": "code",
   "source": [
    "X_tensor = torch.Tensor(X)\n",
    "Y_tensor = torch.Tensor(y)\n",
    "X_tensor.to(torch.device('cuda'))\n",
    "Y_tensor.to(torch.device('cuda'))"
   ],
   "id": "fec51f901bc879a",
   "outputs": [
    {
     "data": {
      "text/plain": [
       "tensor([1., 0., 0., 0., 0., 1., 1., 1., 1., 0.], device='cuda:0')"
      ]
     },
     "execution_count": 7,
     "metadata": {},
     "output_type": "execute_result"
    }
   ],
   "execution_count": 7
  },
  {
   "metadata": {
    "ExecuteTime": {
     "end_time": "2025-06-10T06:11:51.259379Z",
     "start_time": "2025-06-10T06:11:51.253959Z"
    }
   },
   "cell_type": "code",
   "source": "from torch.utils.data import DataLoader,Dataset\n",
   "id": "4e76560f86e806a4",
   "outputs": [],
   "execution_count": 8
  },
  {
   "metadata": {
    "ExecuteTime": {
     "end_time": "2025-06-10T06:13:11.476462Z",
     "start_time": "2025-06-10T06:13:11.470335Z"
    }
   },
   "cell_type": "code",
   "source": [
    "class CustomDataset(Dataset):\n",
    "    def __init__(self,features, label):\n",
    "        self.features = features\n",
    "        self.label = label\n",
    "    def __len__(self):\n",
    "        return self.features.shape[0]\n",
    "    def __getitem__(self, idx):\n",
    "        return self.features[idx], self.label[idx]\n"
   ],
   "id": "8533b7ab60aabe09",
   "outputs": [],
   "execution_count": 9
  },
  {
   "metadata": {
    "ExecuteTime": {
     "end_time": "2025-06-10T06:13:18.607166Z",
     "start_time": "2025-06-10T06:13:18.601178Z"
    }
   },
   "cell_type": "code",
   "source": "dataset = CustomDataset(X, y)",
   "id": "7c3c125d8167002e",
   "outputs": [],
   "execution_count": 10
  },
  {
   "metadata": {
    "ExecuteTime": {
     "end_time": "2025-06-10T06:17:52.622948Z",
     "start_time": "2025-06-10T06:17:52.612596Z"
    }
   },
   "cell_type": "code",
   "source": "len(dataset)",
   "id": "d651e697599a3de7",
   "outputs": [
    {
     "data": {
      "text/plain": [
       "10"
      ]
     },
     "execution_count": 11,
     "metadata": {},
     "output_type": "execute_result"
    }
   ],
   "execution_count": 11
  },
  {
   "metadata": {
    "ExecuteTime": {
     "end_time": "2025-06-10T06:17:59.086425Z",
     "start_time": "2025-06-10T06:17:59.075446Z"
    }
   },
   "cell_type": "code",
   "source": "dataset[0]",
   "id": "414f1a8eef659cbe",
   "outputs": [
    {
     "data": {
      "text/plain": [
       "(array([ 1.06833894, -0.97007347]), np.int64(1))"
      ]
     },
     "execution_count": 12,
     "metadata": {},
     "output_type": "execute_result"
    }
   ],
   "execution_count": 12
  },
  {
   "metadata": {
    "ExecuteTime": {
     "end_time": "2025-06-10T06:18:32.806133Z",
     "start_time": "2025-06-10T06:18:32.799972Z"
    }
   },
   "cell_type": "code",
   "source": "dataloader = DataLoader(dataset,batch_size=2,shuffle=True)",
   "id": "7ee795097bbf771c",
   "outputs": [],
   "execution_count": 13
  },
  {
   "metadata": {
    "ExecuteTime": {
     "end_time": "2025-06-10T06:19:06.770084Z",
     "start_time": "2025-06-10T06:19:06.708782Z"
    }
   },
   "cell_type": "code",
   "source": [
    "for batch_features,batch_labels in dataloader:\n",
    "    print(batch_features)\n",
    "    print(batch_labels)"
   ],
   "id": "a2c52b950833266e",
   "outputs": [
    {
     "name": "stdout",
     "output_type": "stream",
     "text": [
      "tensor([[ 1.7273, -1.1858],\n",
      "        [-1.9629, -0.9923]], dtype=torch.float64)\n",
      "tensor([1, 0])\n",
      "tensor([[ 1.7774,  1.5116],\n",
      "        [-0.7206, -0.9606]], dtype=torch.float64)\n",
      "tensor([1, 0])\n",
      "tensor([[-2.8954,  1.9769],\n",
      "        [ 1.0683, -0.9701]], dtype=torch.float64)\n",
      "tensor([0, 1])\n",
      "tensor([[-0.9382, -0.5430],\n",
      "        [-0.5872, -1.9717]], dtype=torch.float64)\n",
      "tensor([1, 0])\n",
      "tensor([[-1.1402, -0.8388],\n",
      "        [ 1.8997,  0.8344]], dtype=torch.float64)\n",
      "tensor([0, 1])\n"
     ]
    }
   ],
   "execution_count": 14
  },
  {
   "metadata": {},
   "cell_type": "code",
   "outputs": [],
   "execution_count": null,
   "source": "",
   "id": "a3f75f07af3a13a0"
  }
 ],
 "metadata": {
  "kernelspec": {
   "display_name": "Python 3",
   "language": "python",
   "name": "python3"
  },
  "language_info": {
   "codemirror_mode": {
    "name": "ipython",
    "version": 2
   },
   "file_extension": ".py",
   "mimetype": "text/x-python",
   "name": "python",
   "nbconvert_exporter": "python",
   "pygments_lexer": "ipython2",
   "version": "2.7.6"
  }
 },
 "nbformat": 4,
 "nbformat_minor": 5
}
