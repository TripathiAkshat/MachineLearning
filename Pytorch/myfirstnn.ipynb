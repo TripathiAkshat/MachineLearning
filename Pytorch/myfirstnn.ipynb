{
 "cells": [
  {
   "cell_type": "code",
   "id": "initial_id",
   "metadata": {
    "collapsed": true,
    "ExecuteTime": {
     "end_time": "2025-06-09T11:09:26.605469Z",
     "start_time": "2025-06-09T11:09:26.593Z"
    }
   },
   "source": [
    "import torch\n",
    "import torch.nn as nn\n",
    "\n",
    "\n",
    "\n",
    "class Model(nn.Module):\n",
    "    def __init__(self,num_features):\n",
    "        super().__init__()\n",
    "        self.linear1 = nn.Linear(num_features,5)\n",
    "        self.relu = nn.ReLU()\n",
    "        self.linear2 = nn.Linear(5,1)\n",
    "        self.sigmoid = nn.Sigmoid()\n",
    "    def forward(self,features):\n",
    "        out = self.linear1(features)\n",
    "        out = self.relu(out)\n",
    "        out = self.linear2(out)\n",
    "        out = self.sigmoid(out)\n",
    "        return out\n",
    "\n",
    "    def loss_function(self,y_pred,y_true):\n",
    "        epsilon = 1e-7\n",
    "        y_pred = torch.clamp(y_pred, epsilon, 1-epsilon)\n",
    "        loss = -(y_true * torch.log(y_pred)+(1-y_true)*torch.log(1-y_pred)).mean()\n",
    "        return loss\n"
   ],
   "outputs": [],
   "execution_count": 19
  },
  {
   "metadata": {
    "ExecuteTime": {
     "end_time": "2025-06-09T11:09:26.982047Z",
     "start_time": "2025-06-09T11:09:26.928948Z"
    }
   },
   "cell_type": "code",
   "source": [
    "from sklearn.datasets import load_breast_cancer\n",
    "lbc = load_breast_cancer()\n",
    "X = lbc['data']\n",
    "y = lbc['target']\n",
    "from sklearn.preprocessing import StandardScaler\n",
    "scaler = StandardScaler()\n",
    "from sklearn.model_selection import train_test_split\n",
    "X_train,X_test,Y_train,Y_test = train_test_split(X,y,test_size=0.2,random_state=42)\n",
    "X_train = scaler.fit_transform(X_train)\n",
    "X_test = scaler.transform(X_test)\n",
    "X_train = torch.from_numpy(X_train).float()\n",
    "X_test = torch.from_numpy(X_test).float()\n",
    "Y_train = torch.from_numpy(Y_train).float()\n",
    "Y_test = torch.from_numpy(Y_test).float()\n",
    "X_train.to(device=torch.device('cuda'))\n",
    "X_test.to(device=torch.device('cuda'))\n",
    "Y_train.to(device=torch.device('cuda'))\n",
    "Y_test.to(device=torch.device('cuda'))\n"
   ],
   "id": "5def6ed979a67e8f",
   "outputs": [
    {
     "data": {
      "text/plain": [
       "tensor([1., 0., 0., 1., 1., 0., 0., 0., 1., 1., 1., 0., 1., 0., 1., 0., 1., 1.,\n",
       "        1., 0., 0., 1., 0., 1., 1., 1., 1., 1., 1., 0., 1., 1., 1., 1., 1., 1.,\n",
       "        0., 1., 0., 1., 1., 0., 1., 1., 1., 1., 1., 1., 1., 1., 0., 0., 1., 1.,\n",
       "        1., 1., 1., 0., 0., 1., 1., 0., 0., 1., 1., 1., 0., 0., 1., 1., 0., 0.,\n",
       "        1., 0., 1., 1., 1., 0., 1., 1., 0., 1., 0., 0., 0., 0., 0., 0., 1., 1.,\n",
       "        1., 1., 1., 1., 1., 1., 0., 0., 1., 0., 0., 1., 0., 0., 1., 1., 1., 0.,\n",
       "        1., 1., 0., 1., 1., 0.], device='cuda:0')"
      ]
     },
     "execution_count": 20,
     "metadata": {},
     "output_type": "execute_result"
    }
   ],
   "execution_count": 20
  },
  {
   "metadata": {
    "ExecuteTime": {
     "end_time": "2025-06-09T11:09:27.381980Z",
     "start_time": "2025-06-09T11:09:27.376249Z"
    }
   },
   "cell_type": "code",
   "source": [
    "learning_rate = 0.05\n",
    "epochs = 100"
   ],
   "id": "a51492c3c8d29328",
   "outputs": [],
   "execution_count": 21
  },
  {
   "metadata": {
    "ExecuteTime": {
     "end_time": "2025-06-09T11:09:27.801398Z",
     "start_time": "2025-06-09T11:09:27.796099Z"
    }
   },
   "cell_type": "code",
   "source": "loss_function = nn.BCELoss()",
   "id": "88616b98eaaccc09",
   "outputs": [],
   "execution_count": 22
  },
  {
   "metadata": {
    "ExecuteTime": {
     "end_time": "2025-06-09T11:09:28.434402Z",
     "start_time": "2025-06-09T11:09:28.261009Z"
    }
   },
   "cell_type": "code",
   "source": [
    "model = Model(X_train.shape[1])\n",
    "optimiser = torch.optim.SGD(model.parameters(), lr=learning_rate)\n",
    "for epoch in range(epochs):\n",
    "    y_pred = model.forward(X_train)\n",
    "    loss = loss_function(y_pred, Y_train.view(-1,1))\n",
    "    optimiser.zero_grad()\n",
    "    loss.backward()\n",
    "    optimiser.step()\n",
    "\n",
    "    print(f'epoch: {epoch}, loss: {loss}')\n"
   ],
   "id": "b4849141a1183241",
   "outputs": [
    {
     "name": "stdout",
     "output_type": "stream",
     "text": [
      "epoch: 0, loss: 0.7168493270874023\n",
      "epoch: 1, loss: 0.7014760971069336\n",
      "epoch: 2, loss: 0.6870385408401489\n",
      "epoch: 3, loss: 0.6734253764152527\n",
      "epoch: 4, loss: 0.6607495546340942\n",
      "epoch: 5, loss: 0.6490194201469421\n",
      "epoch: 6, loss: 0.6375851631164551\n",
      "epoch: 7, loss: 0.6266297698020935\n",
      "epoch: 8, loss: 0.6161724925041199\n",
      "epoch: 9, loss: 0.6061422824859619\n",
      "epoch: 10, loss: 0.5964657068252563\n",
      "epoch: 11, loss: 0.5870941281318665\n",
      "epoch: 12, loss: 0.5779328942298889\n",
      "epoch: 13, loss: 0.568848729133606\n",
      "epoch: 14, loss: 0.5598723888397217\n",
      "epoch: 15, loss: 0.5511026382446289\n",
      "epoch: 16, loss: 0.5425317287445068\n",
      "epoch: 17, loss: 0.5341066122055054\n",
      "epoch: 18, loss: 0.5257436037063599\n",
      "epoch: 19, loss: 0.5174406170845032\n",
      "epoch: 20, loss: 0.5092602372169495\n",
      "epoch: 21, loss: 0.5011597871780396\n",
      "epoch: 22, loss: 0.49323418736457825\n",
      "epoch: 23, loss: 0.4854499101638794\n",
      "epoch: 24, loss: 0.4777540862560272\n",
      "epoch: 25, loss: 0.47018226981163025\n",
      "epoch: 26, loss: 0.4628104269504547\n",
      "epoch: 27, loss: 0.455571711063385\n",
      "epoch: 28, loss: 0.4484087824821472\n",
      "epoch: 29, loss: 0.4413261413574219\n",
      "epoch: 30, loss: 0.4343578517436981\n",
      "epoch: 31, loss: 0.42745789885520935\n",
      "epoch: 32, loss: 0.4206535220146179\n",
      "epoch: 33, loss: 0.41396433115005493\n",
      "epoch: 34, loss: 0.4073893129825592\n",
      "epoch: 35, loss: 0.40086522698402405\n",
      "epoch: 36, loss: 0.3944377303123474\n",
      "epoch: 37, loss: 0.38814622163772583\n",
      "epoch: 38, loss: 0.38195517659187317\n",
      "epoch: 39, loss: 0.37592241168022156\n",
      "epoch: 40, loss: 0.36993056535720825\n",
      "epoch: 41, loss: 0.36403688788414\n",
      "epoch: 42, loss: 0.35826125741004944\n",
      "epoch: 43, loss: 0.3526158034801483\n",
      "epoch: 44, loss: 0.34710052609443665\n",
      "epoch: 45, loss: 0.3417387902736664\n",
      "epoch: 46, loss: 0.3365049958229065\n",
      "epoch: 47, loss: 0.3313726484775543\n",
      "epoch: 48, loss: 0.3263733685016632\n",
      "epoch: 49, loss: 0.3214765191078186\n",
      "epoch: 50, loss: 0.3167111277580261\n",
      "epoch: 51, loss: 0.31205904483795166\n",
      "epoch: 52, loss: 0.3074983060359955\n",
      "epoch: 53, loss: 0.30307042598724365\n",
      "epoch: 54, loss: 0.2987484633922577\n",
      "epoch: 55, loss: 0.29455408453941345\n",
      "epoch: 56, loss: 0.2904694080352783\n",
      "epoch: 57, loss: 0.28648412227630615\n",
      "epoch: 58, loss: 0.2826163172721863\n",
      "epoch: 59, loss: 0.2788675129413605\n",
      "epoch: 60, loss: 0.2752310633659363\n",
      "epoch: 61, loss: 0.2717013359069824\n",
      "epoch: 62, loss: 0.2682700455188751\n",
      "epoch: 63, loss: 0.2649332284927368\n",
      "epoch: 64, loss: 0.2616831362247467\n",
      "epoch: 65, loss: 0.25850850343704224\n",
      "epoch: 66, loss: 0.2554176151752472\n",
      "epoch: 67, loss: 0.2524173855781555\n",
      "epoch: 68, loss: 0.24950647354125977\n",
      "epoch: 69, loss: 0.2466781586408615\n",
      "epoch: 70, loss: 0.2439243495464325\n",
      "epoch: 71, loss: 0.2412392646074295\n",
      "epoch: 72, loss: 0.23862390220165253\n",
      "epoch: 73, loss: 0.23607446253299713\n",
      "epoch: 74, loss: 0.23359093070030212\n",
      "epoch: 75, loss: 0.23116803169250488\n",
      "epoch: 76, loss: 0.22880810499191284\n",
      "epoch: 77, loss: 0.22650831937789917\n",
      "epoch: 78, loss: 0.22426195442676544\n",
      "epoch: 79, loss: 0.2220645248889923\n",
      "epoch: 80, loss: 0.2199028581380844\n",
      "epoch: 81, loss: 0.2177945077419281\n",
      "epoch: 82, loss: 0.21573925018310547\n",
      "epoch: 83, loss: 0.2137424498796463\n",
      "epoch: 84, loss: 0.21179106831550598\n",
      "epoch: 85, loss: 0.20988522469997406\n",
      "epoch: 86, loss: 0.20801948010921478\n",
      "epoch: 87, loss: 0.20619188249111176\n",
      "epoch: 88, loss: 0.2044077217578888\n",
      "epoch: 89, loss: 0.20266376435756683\n",
      "epoch: 90, loss: 0.20097503066062927\n",
      "epoch: 91, loss: 0.19931992888450623\n",
      "epoch: 92, loss: 0.1976986527442932\n",
      "epoch: 93, loss: 0.1961127668619156\n",
      "epoch: 94, loss: 0.19456130266189575\n",
      "epoch: 95, loss: 0.1930433213710785\n",
      "epoch: 96, loss: 0.19155846536159515\n",
      "epoch: 97, loss: 0.19010403752326965\n",
      "epoch: 98, loss: 0.1886736899614334\n",
      "epoch: 99, loss: 0.18727204203605652\n"
     ]
    }
   ],
   "execution_count": 23
  },
  {
   "metadata": {
    "ExecuteTime": {
     "end_time": "2025-06-09T11:10:17.528155Z",
     "start_time": "2025-06-09T11:10:17.521138Z"
    }
   },
   "cell_type": "code",
   "source": [
    "with torch.no_grad():\n",
    "    y_pred = model.forward(X_test)\n",
    "    y_pred = (y_pred>0.00000001).float()\n",
    "    accuracy = (y_pred == Y_test).float().mean()\n",
    "    print(f'test accuracy: {accuracy}')"
   ],
   "id": "d00c5cb505ac1d8a",
   "outputs": [
    {
     "name": "stdout",
     "output_type": "stream",
     "text": [
      "test accuracy: 0.6228070259094238\n"
     ]
    }
   ],
   "execution_count": 37
  },
  {
   "metadata": {
    "ExecuteTime": {
     "end_time": "2025-06-09T07:58:28.641616Z",
     "start_time": "2025-06-09T07:58:28.620190Z"
    }
   },
   "cell_type": "code",
   "source": "",
   "id": "6e526d4c049434a7",
   "outputs": [],
   "execution_count": null
  }
 ],
 "metadata": {
  "kernelspec": {
   "display_name": "Python 3",
   "language": "python",
   "name": "python3"
  },
  "language_info": {
   "codemirror_mode": {
    "name": "ipython",
    "version": 2
   },
   "file_extension": ".py",
   "mimetype": "text/x-python",
   "name": "python",
   "nbconvert_exporter": "python",
   "pygments_lexer": "ipython2",
   "version": "2.7.6"
  }
 },
 "nbformat": 4,
 "nbformat_minor": 5
}
