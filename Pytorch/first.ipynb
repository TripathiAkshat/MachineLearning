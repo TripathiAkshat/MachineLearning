{
 "cells": [
  {
   "cell_type": "code",
   "execution_count": 18,
   "id": "initial_id",
   "metadata": {
    "ExecuteTime": {
     "end_time": "2025-06-05T07:47:04.342895Z",
     "start_time": "2025-06-05T07:47:04.335938Z"
    },
    "collapsed": true
   },
   "outputs": [
    {
     "name": "stdout",
     "output_type": "stream",
     "text": [
      "tensor([[0.8694, 0.5677, 0.7411],\n",
      "        [0.4294, 0.8854, 0.5739],\n",
      "        [0.2666, 0.6274, 0.2696],\n",
      "        [0.4414, 0.2969, 0.8317],\n",
      "        [0.1053, 0.2695, 0.3588]])\n"
     ]
    }
   ],
   "source": [
    "from __future__ import print_function\n",
    "import torch\n",
    "x = torch.rand(5,3)\n",
    "print(x)"
   ]
  },
  {
   "cell_type": "code",
   "execution_count": 19,
   "id": "8f22f141ae3a07db",
   "metadata": {
    "ExecuteTime": {
     "end_time": "2025-06-05T07:47:04.393942Z",
     "start_time": "2025-06-05T07:47:04.388406Z"
    }
   },
   "outputs": [
    {
     "name": "stdout",
     "output_type": "stream",
     "text": [
      "GPU is available\n",
      "Using GPU: NVIDIA GeForce GTX 1650\n"
     ]
    }
   ],
   "source": [
    "if torch.cuda.is_available():\n",
    "    print(\"GPU is available\")\n",
    "    print(f\"Using GPU: {torch.cuda.get_device_name(0)}\")\n",
    "else:\n",
    "    print(\"GPU is not available\")"
   ]
  },
  {
   "cell_type": "code",
   "execution_count": 20,
   "id": "e122cee861775905",
   "metadata": {
    "ExecuteTime": {
     "end_time": "2025-06-05T07:47:04.456339Z",
     "start_time": "2025-06-05T07:47:04.450098Z"
    }
   },
   "outputs": [
    {
     "data": {
      "text/plain": [
       "tensor([[ 4.2889e+14,  1.2037e-42,  2.3446e-01],\n",
       "        [ 2.3033e-01, -1.1229e+00, -1.8633e-01]])"
      ]
     },
     "execution_count": 20,
     "metadata": {},
     "output_type": "execute_result"
    }
   ],
   "source": [
    "torch.empty(2,3)"
   ]
  },
  {
   "cell_type": "code",
   "execution_count": 21,
   "id": "34a5653b04544e6a",
   "metadata": {
    "ExecuteTime": {
     "end_time": "2025-06-05T07:47:04.544667Z",
     "start_time": "2025-06-05T07:47:04.537402Z"
    }
   },
   "outputs": [
    {
     "data": {
      "text/plain": [
       "tensor([[0., 0., 0.],\n",
       "        [0., 0., 0.]])"
      ]
     },
     "execution_count": 21,
     "metadata": {},
     "output_type": "execute_result"
    }
   ],
   "source": [
    "a=torch.zeros(2,3)\n",
    "a"
   ]
  },
  {
   "cell_type": "code",
   "execution_count": 22,
   "id": "bc412bfc4c1dfa2",
   "metadata": {
    "ExecuteTime": {
     "end_time": "2025-06-05T07:47:04.891745Z",
     "start_time": "2025-06-05T07:47:04.886845Z"
    }
   },
   "outputs": [
    {
     "data": {
      "text/plain": [
       "torch.Tensor"
      ]
     },
     "execution_count": 22,
     "metadata": {},
     "output_type": "execute_result"
    }
   ],
   "source": [
    "type(a)"
   ]
  },
  {
   "cell_type": "code",
   "execution_count": 23,
   "id": "6901f044a9253f34",
   "metadata": {
    "ExecuteTime": {
     "end_time": "2025-06-05T07:47:05.056394Z",
     "start_time": "2025-06-05T07:47:05.047512Z"
    }
   },
   "outputs": [
    {
     "name": "stdout",
     "output_type": "stream",
     "text": [
      "tensor([[ 0.3367,  0.1288,  0.2345],\n",
      "        [ 0.2303, -1.1229, -0.1863]])\n"
     ]
    }
   ],
   "source": [
    "#manual_seed allows to generate same random values every time code is run\n",
    "torch.manual_seed(42)\n",
    "a=torch.randn(2,3)\n",
    "print(a)"
   ]
  },
  {
   "cell_type": "code",
   "execution_count": 24,
   "id": "6670104f62312b4c",
   "metadata": {
    "ExecuteTime": {
     "end_time": "2025-06-05T07:47:05.194202Z",
     "start_time": "2025-06-05T07:47:05.185372Z"
    }
   },
   "outputs": [
    {
     "name": "stdout",
     "output_type": "stream",
     "text": [
      "tensor([[ 0.3367,  0.1288,  0.2345],\n",
      "        [ 0.2303, -1.1229, -0.1863]])\n"
     ]
    }
   ],
   "source": [
    "torch.manual_seed(42)\n",
    "b=torch.randn(2,3)\n",
    "print(b)"
   ]
  },
  {
   "cell_type": "code",
   "execution_count": 25,
   "id": "8173d5dba524e1af",
   "metadata": {
    "ExecuteTime": {
     "end_time": "2025-06-05T07:47:05.351563Z",
     "start_time": "2025-06-05T07:47:05.337728Z"
    }
   },
   "outputs": [
    {
     "name": "stdout",
     "output_type": "stream",
     "text": [
      "using arange -> tensor([0, 2, 4, 6, 8])\n",
      "using linspace -> tensor([ 0.0000,  1.1111,  2.2222,  3.3333,  4.4444,  5.5556,  6.6667,  7.7778,\n",
      "         8.8889, 10.0000])\n",
      "using eye -> tensor([[1., 0., 0., 0., 0.],\n",
      "        [0., 1., 0., 0., 0.],\n",
      "        [0., 0., 1., 0., 0.],\n",
      "        [0., 0., 0., 1., 0.],\n",
      "        [0., 0., 0., 0., 1.]])\n",
      "using full -> tensor([[5, 5, 5],\n",
      "        [5, 5, 5]])\n"
     ]
    }
   ],
   "source": [
    "#arange\n",
    "print(\"using arange ->\", torch.arange(0,10,2))\n",
    "\n",
    "#using linespace equally spaced values between start index and endindex and number of values\n",
    "print(\"using linspace ->\",torch.linspace(0,10,10))\n",
    "\n",
    "#using eye : eye stands for identity matrix\n",
    "print(\"using eye ->\", torch.eye(5))\n",
    "\n",
    "#using full\n",
    "print(\"using full ->\", torch.full((2,3), 5))"
   ]
  },
  {
   "cell_type": "code",
   "execution_count": 26,
   "id": "3adc17eff9a8cce2",
   "metadata": {
    "ExecuteTime": {
     "end_time": "2025-06-05T07:47:05.439358Z",
     "start_time": "2025-06-05T07:47:05.434354Z"
    }
   },
   "outputs": [],
   "source": [
    "x += 3"
   ]
  },
  {
   "cell_type": "code",
   "execution_count": 27,
   "id": "7c9c23c977581b80",
   "metadata": {
    "ExecuteTime": {
     "end_time": "2025-06-05T07:47:05.491546Z",
     "start_time": "2025-06-05T07:47:05.482090Z"
    }
   },
   "outputs": [
    {
     "data": {
      "text/plain": [
       "tensor([[3, 3, 3],\n",
       "        [3, 3, 3],\n",
       "        [3, 3, 3],\n",
       "        [3, 3, 3],\n",
       "        [3, 3, 3]])"
      ]
     },
     "execution_count": 27,
     "metadata": {},
     "output_type": "execute_result"
    }
   ],
   "source": [
    "x.to(dtype=torch.int64)"
   ]
  },
  {
   "cell_type": "code",
   "execution_count": 28,
   "id": "c812eda780c72089",
   "metadata": {
    "ExecuteTime": {
     "end_time": "2025-06-05T07:47:05.611430Z",
     "start_time": "2025-06-05T07:47:05.601858Z"
    }
   },
   "outputs": [
    {
     "data": {
      "text/plain": [
       "tensor([2, 2, 3, 3, 3])"
      ]
     },
     "execution_count": 28,
     "metadata": {},
     "output_type": "execute_result"
    }
   ],
   "source": [
    "c = torch.tensor([1,2,3,4,5])\n",
    "c.clamp(min=2,max=3)"
   ]
  },
  {
   "cell_type": "code",
   "execution_count": 29,
   "id": "fe4aa47008d85959",
   "metadata": {
    "ExecuteTime": {
     "end_time": "2025-06-05T08:01:52.637647Z",
     "start_time": "2025-06-05T08:01:52.628846Z"
    }
   },
   "outputs": [
    {
     "data": {
      "text/plain": [
       "tensor([[2., 3., 4., 5.],\n",
       "        [6., 7., 8., 9.]])"
      ]
     },
     "execution_count": 29,
     "metadata": {},
     "output_type": "execute_result"
    }
   ],
   "source": [
    "y = torch.tensor([[1.2,2.3,3.4,4.5],[5.6,6.7,7.8,8.9]])\n",
    "torch.ceil(y)"
   ]
  },
  {
   "cell_type": "code",
   "execution_count": 30,
   "id": "864b5fe080fba279",
   "metadata": {
    "ExecuteTime": {
     "end_time": "2025-06-05T08:46:48.900185Z",
     "start_time": "2025-06-05T08:46:48.872793Z"
    }
   },
   "outputs": [
    {
     "name": "stdout",
     "output_type": "stream",
     "text": [
      "tensor([[1.2000, 2.3000, 3.4000, 4.5000],\n",
      "        [5.6000, 6.7000, 7.8000, 8.9000]])\n"
     ]
    }
   ],
   "source": [
    "z = torch.tensor([[1.2,2.3,3.4,4.5],[5.6,6.7,7.8,8.9]])\n",
    "print(z)"
   ]
  },
  {
   "cell_type": "code",
   "execution_count": 32,
   "id": "81565beb389cf9df",
   "metadata": {
    "ExecuteTime": {
     "end_time": "2025-06-05T08:47:46.873034Z",
     "start_time": "2025-06-05T08:47:46.865785Z"
    }
   },
   "outputs": [
    {
     "data": {
      "text/plain": [
       "tensor([[7, 6, 9],\n",
       "        [6, 3, 1]])"
      ]
     },
     "execution_count": 32,
     "metadata": {},
     "output_type": "execute_result"
    }
   ],
   "source": [
    "e = torch.randint(size =(2,3), low=0, high=10)\n",
    "e"
   ]
  },
  {
   "cell_type": "code",
   "execution_count": 35,
   "id": "62e5be7f239931c9",
   "metadata": {
    "ExecuteTime": {
     "end_time": "2025-06-05T08:50:02.518045Z",
     "start_time": "2025-06-05T08:50:02.511635Z"
    }
   },
   "outputs": [
    {
     "data": {
      "text/plain": [
       "tensor(32)"
      ]
     },
     "execution_count": 35,
     "metadata": {},
     "output_type": "execute_result"
    }
   ],
   "source": [
    "torch.sum(e)\n",
    "#sum of the entire tensor"
   ]
  },
  {
   "cell_type": "code",
   "execution_count": 36,
   "id": "e6d75cffdd3d77bb",
   "metadata": {
    "ExecuteTime": {
     "end_time": "2025-06-05T08:50:29.315098Z",
     "start_time": "2025-06-05T08:50:29.308107Z"
    }
   },
   "outputs": [
    {
     "data": {
      "text/plain": [
       "tensor([13,  9, 10])"
      ]
     },
     "execution_count": 36,
     "metadata": {},
     "output_type": "execute_result"
    }
   ],
   "source": [
    "torch.sum(e,dim=0)\n",
    "#sum along the columns"
   ]
  },
  {
   "cell_type": "code",
   "execution_count": 37,
   "id": "3efa1d52c89a93ec",
   "metadata": {
    "ExecuteTime": {
     "end_time": "2025-06-05T08:50:45.732296Z",
     "start_time": "2025-06-05T08:50:45.721115Z"
    }
   },
   "outputs": [
    {
     "data": {
      "text/plain": [
       "tensor([22, 10])"
      ]
     },
     "execution_count": 37,
     "metadata": {},
     "output_type": "execute_result"
    }
   ],
   "source": [
    "torch.sum(e,dim =1)"
   ]
  },
  {
   "cell_type": "code",
   "execution_count": 42,
   "id": "dcb7db29175c18f8",
   "metadata": {
    "ExecuteTime": {
     "end_time": "2025-06-05T09:07:30.326988Z",
     "start_time": "2025-06-05T09:07:30.318653Z"
    }
   },
   "outputs": [
    {
     "data": {
      "text/plain": [
       "tensor([[166,  69],\n",
       "        [ 69,  46]])"
      ]
     },
     "execution_count": 42,
     "metadata": {},
     "output_type": "execute_result"
    }
   ],
   "source": [
    "torch.matmul(e,torch.transpose(e,0,1))"
   ]
  },
  {
   "cell_type": "code",
   "execution_count": 44,
   "id": "a4a9ed35a274c101",
   "metadata": {
    "ExecuteTime": {
     "end_time": "2025-06-05T09:38:16.032784Z",
     "start_time": "2025-06-05T09:38:16.021174Z"
    }
   },
   "outputs": [
    {
     "data": {
      "text/plain": [
       "tensor([0.1192, 0.2689, 0.5000, 0.7311, 0.8808])"
      ]
     },
     "execution_count": 44,
     "metadata": {},
     "output_type": "execute_result"
    }
   ],
   "source": [
    "f = torch.tensor([-2,-1,0,1,2],dtype=torch.float32)\n",
    "torch.sigmoid(f)\n"
   ]
  },
  {
   "cell_type": "code",
   "execution_count": 45,
   "id": "c254eda90ffc9f3e",
   "metadata": {
    "ExecuteTime": {
     "end_time": "2025-06-05T09:38:27.117571Z",
     "start_time": "2025-06-05T09:38:27.110742Z"
    }
   },
   "outputs": [
    {
     "data": {
      "text/plain": [
       "tensor([0., 0., 0., 1., 2.])"
      ]
     },
     "execution_count": 45,
     "metadata": {},
     "output_type": "execute_result"
    }
   ],
   "source": [
    "torch.relu(f)"
   ]
  },
  {
   "cell_type": "code",
   "execution_count": 47,
   "id": "18c620082bbf989d",
   "metadata": {
    "ExecuteTime": {
     "end_time": "2025-06-05T09:39:06.060675Z",
     "start_time": "2025-06-05T09:39:06.053047Z"
    }
   },
   "outputs": [
    {
     "data": {
      "text/plain": [
       "tensor([-0.9640, -0.7616,  0.0000,  0.7616,  0.9640])"
      ]
     },
     "execution_count": 47,
     "metadata": {},
     "output_type": "execute_result"
    }
   ],
   "source": [
    "torch.tanh(f)"
   ]
  },
  {
   "cell_type": "code",
   "execution_count": 48,
   "id": "78a8ccd91497f27",
   "metadata": {
    "ExecuteTime": {
     "end_time": "2025-06-05T09:46:07.597698Z",
     "start_time": "2025-06-05T09:46:07.593600Z"
    }
   },
   "outputs": [],
   "source": [
    "e =f.clone()"
   ]
  },
  {
   "cell_type": "code",
   "execution_count": 49,
   "id": "f129f65e845d3ddb",
   "metadata": {
    "ExecuteTime": {
     "end_time": "2025-06-05T09:46:13.114352Z",
     "start_time": "2025-06-05T09:46:13.108811Z"
    }
   },
   "outputs": [
    {
     "data": {
      "text/plain": [
       "1398703541376"
      ]
     },
     "execution_count": 49,
     "metadata": {},
     "output_type": "execute_result"
    }
   ],
   "source": [
    "id(e)"
   ]
  },
  {
   "cell_type": "code",
   "execution_count": 50,
   "id": "9c4330eb2fea2b71",
   "metadata": {
    "ExecuteTime": {
     "end_time": "2025-06-05T09:46:17.710508Z",
     "start_time": "2025-06-05T09:46:17.704396Z"
    }
   },
   "outputs": [
    {
     "data": {
      "text/plain": [
       "1398703737984"
      ]
     },
     "execution_count": 50,
     "metadata": {},
     "output_type": "execute_result"
    }
   ],
   "source": [
    "id(f)"
   ]
  },
  {
   "cell_type": "code",
   "execution_count": 55,
   "id": "fa1395840dcd68bf",
   "metadata": {
    "ExecuteTime": {
     "end_time": "2025-06-05T09:49:25.117303Z",
     "start_time": "2025-06-05T09:49:25.113478Z"
    }
   },
   "outputs": [],
   "source": [
    "device = torch.device('cuda')\n",
    "x = torch.rand((2,3), device=device)"
   ]
  },
  {
   "cell_type": "code",
   "execution_count": 56,
   "id": "84519aa56b79080",
   "metadata": {
    "ExecuteTime": {
     "end_time": "2025-06-05T09:49:25.515012Z",
     "start_time": "2025-06-05T09:49:25.509223Z"
    }
   },
   "outputs": [
    {
     "data": {
      "text/plain": [
       "1398555242608"
      ]
     },
     "execution_count": 56,
     "metadata": {},
     "output_type": "execute_result"
    }
   ],
   "source": [
    "id(x)"
   ]
  },
  {
   "cell_type": "code",
   "execution_count": 62,
   "id": "718e507683400a33",
   "metadata": {
    "ExecuteTime": {
     "end_time": "2025-06-05T10:11:40.495593Z",
     "start_time": "2025-06-05T10:10:56.797690Z"
    }
   },
   "outputs": [
    {
     "name": "stdout",
     "output_type": "stream",
     "text": [
      "Time on CPU: 35.4662 seconds\n",
      "Time on GPU: 4.4751 seconds\n"
     ]
    }
   ],
   "source": [
    "import time\n",
    "size = 15000\n",
    "matrix_cpu1 = torch.randn(size,size)\n",
    "matrix_cpu2 = torch.randn(size,size)\n",
    "start_time = time.time()\n",
    "result= torch.matmul(matrix_cpu1,matrix_cpu2)\n",
    "end_time = time.time()\n",
    "print(f\"Time on CPU: {end_time - start_time:.4f} seconds\")\n",
    "\n",
    "matrix_cpu1 = matrix_cpu1.to('cuda')\n",
    "matrix_cpu2 = matrix_cpu2.to('cuda')\n",
    "\n",
    "start_time = time.time()\n",
    "result = torch.matmul(matrix_cpu1,matrix_cpu2)\n",
    "torch.cuda.synchronize()\n",
    "end_time = time.time()\n",
    "\n",
    "print(f\"Time on GPU: {end_time - start_time:.4f} seconds\")\n"
   ]
  },
  {
   "cell_type": "code",
   "execution_count": null,
   "id": "735e08302698bb8a",
   "metadata": {},
   "outputs": [],
   "source": []
  }
 ],
 "metadata": {
  "kernelspec": {
   "display_name": "Python 3",
   "language": "python",
   "name": "python3"
  },
  "language_info": {
   "codemirror_mode": {
    "name": "ipython",
    "version": 2
   },
   "file_extension": ".py",
   "mimetype": "text/x-python",
   "name": "python",
   "nbconvert_exporter": "python",
   "pygments_lexer": "ipython2",
   "version": "2.7.6"
  }
 },
 "nbformat": 4,
 "nbformat_minor": 5
}
