{
 "cells": [
  {
   "cell_type": "code",
   "execution_count": 1,
   "metadata": {
    "_cell_guid": "b1076dfc-b9ad-4769-8c92-a6c4dae69d19",
    "_uuid": "8f2839f25d086af736a60e9eeb907d3b93b6e0e5",
    "execution": {
     "iopub.execute_input": "2025-06-14T04:35:50.090610Z",
     "iopub.status.busy": "2025-06-14T04:35:50.090301Z",
     "iopub.status.idle": "2025-06-14T04:35:52.497508Z",
     "shell.execute_reply": "2025-06-14T04:35:52.496296Z",
     "shell.execute_reply.started": "2025-06-14T04:35:50.090579Z"
    },
    "trusted": true
   },
   "outputs": [],
   "source": [
    "import pandas as pd\n",
    "import numpy as np"
   ]
  },
  {
   "cell_type": "code",
   "execution_count": 2,
   "metadata": {
    "execution": {
     "iopub.execute_input": "2025-06-14T04:35:56.599675Z",
     "iopub.status.busy": "2025-06-14T04:35:56.599338Z",
     "iopub.status.idle": "2025-06-14T04:36:15.187463Z",
     "shell.execute_reply": "2025-06-14T04:36:15.186422Z",
     "shell.execute_reply.started": "2025-06-14T04:35:56.599641Z"
    },
    "trusted": true
   },
   "outputs": [],
   "source": [
    "train_dataset = pd.read_csv('/kaggle/input/burnout-datathon-ieeecsmuj/train.csv')\n",
    "test_dataset = pd.read_csv(\"/kaggle/input/burnout-datathon-ieeecsmuj/test.csv\")"
   ]
  },
  {
   "cell_type": "code",
   "execution_count": 3,
   "metadata": {
    "execution": {
     "iopub.execute_input": "2025-06-14T04:36:40.492826Z",
     "iopub.status.busy": "2025-06-14T04:36:40.492392Z",
     "iopub.status.idle": "2025-06-14T04:36:40.545282Z",
     "shell.execute_reply": "2025-06-14T04:36:40.544463Z",
     "shell.execute_reply.started": "2025-06-14T04:36:40.492793Z"
    },
    "trusted": true
   },
   "outputs": [
    {
     "name": "stdout",
     "output_type": "stream",
     "text": [
      "   Unique ID  Rider_ID category_x  Circuit_Length_km  Laps  Grid_Position  \\\n",
      "0    1894944      2659      Moto2              4.874    22             17   \n",
      "1      23438      5205      Moto2              3.875    24              7   \n",
      "2     939678      7392      Moto3              5.647    25              5   \n",
      "3    1196312      7894      Moto3              4.810    19              3   \n",
      "4    1033899      6163     MotoGP              5.809    25             21   \n",
      "\n",
      "   Avg_Speed_kmh Track_Condition  Humidity_% Tire_Compound_Front  ... air  \\\n",
      "0         264.66             Wet          61                Hard  ...  23   \n",
      "1         177.56             Wet          77                Soft  ...  12   \n",
      "2         317.74             Dry          87                Soft  ...  22   \n",
      "3         321.82             Wet          43                Soft  ...  23   \n",
      "4         239.92             Wet          47                Hard  ...  22   \n",
      "\n",
      "  ground  starts  finishes with_points  podiums  wins  min_year  max_year  \\\n",
      "0     35      53        45          41        4     0      2018      2021   \n",
      "1     12      27        27          22        2     1      1975      1983   \n",
      "2     23      45        43          10        0     0      1982      1989   \n",
      "3     35     192       172         155       16     9      1994      2009   \n",
      "4     31     175       146         132       29    17      2011      2021   \n",
      "\n",
      "   years_active  \n",
      "0             4  \n",
      "1             8  \n",
      "2             8  \n",
      "3            16  \n",
      "4            11  \n",
      "\n",
      "[5 rows x 45 columns]\n"
     ]
    }
   ],
   "source": [
    "print(train_dataset.head())"
   ]
  },
  {
   "cell_type": "code",
   "execution_count": 4,
   "metadata": {
    "execution": {
     "iopub.execute_input": "2025-06-14T04:37:17.834791Z",
     "iopub.status.busy": "2025-06-14T04:37:17.834446Z",
     "iopub.status.idle": "2025-06-14T04:37:17.846020Z",
     "shell.execute_reply": "2025-06-14T04:37:17.844998Z",
     "shell.execute_reply.started": "2025-06-14T04:37:17.834766Z"
    },
    "trusted": true
   },
   "outputs": [
    {
     "name": "stdout",
     "output_type": "stream",
     "text": [
      "<class 'pandas.core.frame.DataFrame'>\n",
      "RangeIndex: 1914056 entries, 0 to 1914055\n",
      "Data columns (total 45 columns):\n",
      " #   Column                           Dtype  \n",
      "---  ------                           -----  \n",
      " 0   Unique ID                        int64  \n",
      " 1   Rider_ID                         int64  \n",
      " 2   category_x                       object \n",
      " 3   Circuit_Length_km                float64\n",
      " 4   Laps                             int64  \n",
      " 5   Grid_Position                    int64  \n",
      " 6   Avg_Speed_kmh                    float64\n",
      " 7   Track_Condition                  object \n",
      " 8   Humidity_%                       int64  \n",
      " 9   Tire_Compound_Front              object \n",
      " 10  Tire_Compound_Rear               object \n",
      " 11  Penalty                          object \n",
      " 12  Championship_Points              int64  \n",
      " 13  Championship_Position            int64  \n",
      " 14  Session                          object \n",
      " 15  year_x                           int64  \n",
      " 16  sequence                         int64  \n",
      " 17  rider                            int64  \n",
      " 18  team                             int64  \n",
      " 19  bike                             int64  \n",
      " 20  position                         int64  \n",
      " 21  points                           float64\n",
      " 22  shortname                        object \n",
      " 23  circuit_name                     object \n",
      " 24  rider_name                       object \n",
      " 25  team_name                        object \n",
      " 26  bike_name                        object \n",
      " 27  Lap_Time_Seconds                 float64\n",
      " 28  Corners_per_Lap                  int64  \n",
      " 29  Tire_Degradation_Factor_per_Lap  float64\n",
      " 30  Pit_Stop_Duration_Seconds        float64\n",
      " 31  Ambient_Temperature_Celsius      float64\n",
      " 32  Track_Temperature_Celsius        float64\n",
      " 33  weather                          object \n",
      " 34  track                            object \n",
      " 35  air                              int64  \n",
      " 36  ground                           int64  \n",
      " 37  starts                           int64  \n",
      " 38  finishes                         int64  \n",
      " 39  with_points                      int64  \n",
      " 40  podiums                          int64  \n",
      " 41  wins                             int64  \n",
      " 42  min_year                         int64  \n",
      " 43  max_year                         int64  \n",
      " 44  years_active                     int64  \n",
      "dtypes: float64(8), int64(24), object(13)\n",
      "memory usage: 657.1+ MB\n"
     ]
    }
   ],
   "source": [
    "train_dataset.info()"
   ]
  },
  {
   "cell_type": "code",
   "execution_count": 5,
   "metadata": {
    "execution": {
     "iopub.execute_input": "2025-06-14T04:37:38.547477Z",
     "iopub.status.busy": "2025-06-14T04:37:38.547161Z",
     "iopub.status.idle": "2025-06-14T04:37:39.897206Z",
     "shell.execute_reply": "2025-06-14T04:37:39.896448Z",
     "shell.execute_reply.started": "2025-06-14T04:37:38.547453Z"
    },
    "trusted": true
   },
   "outputs": [
    {
     "data": {
      "text/plain": [
       "Unique ID                               0\n",
       "Rider_ID                                0\n",
       "category_x                              0\n",
       "Circuit_Length_km                       0\n",
       "Laps                                    0\n",
       "Grid_Position                           0\n",
       "Avg_Speed_kmh                           0\n",
       "Track_Condition                         0\n",
       "Humidity_%                              0\n",
       "Tire_Compound_Front                     0\n",
       "Tire_Compound_Rear                      0\n",
       "Penalty                            321292\n",
       "Championship_Points                     0\n",
       "Championship_Position                   0\n",
       "Session                                 0\n",
       "year_x                                  0\n",
       "sequence                                0\n",
       "rider                                   0\n",
       "team                                    0\n",
       "bike                                    0\n",
       "position                                0\n",
       "points                                  0\n",
       "shortname                               0\n",
       "circuit_name                            0\n",
       "rider_name                              0\n",
       "team_name                               0\n",
       "bike_name                               0\n",
       "Lap_Time_Seconds                        0\n",
       "Corners_per_Lap                         0\n",
       "Tire_Degradation_Factor_per_Lap         0\n",
       "Pit_Stop_Duration_Seconds               0\n",
       "Ambient_Temperature_Celsius             0\n",
       "Track_Temperature_Celsius               0\n",
       "weather                                 0\n",
       "track                                   0\n",
       "air                                     0\n",
       "ground                                  0\n",
       "starts                                  0\n",
       "finishes                                0\n",
       "with_points                             0\n",
       "podiums                                 0\n",
       "wins                                    0\n",
       "min_year                                0\n",
       "max_year                                0\n",
       "years_active                            0\n",
       "dtype: int64"
      ]
     },
     "execution_count": 5,
     "metadata": {},
     "output_type": "execute_result"
    }
   ],
   "source": [
    "train_dataset.isnull().sum()"
   ]
  },
  {
   "cell_type": "code",
   "execution_count": 6,
   "metadata": {},
   "outputs": [
    {
     "data": {
      "text/plain": [
       "Index(['Unique ID', 'Rider_ID', 'category_x', 'Circuit_Length_km', 'Laps',\n",
       "       'Grid_Position', 'Avg_Speed_kmh', 'Track_Condition', 'Humidity_%',\n",
       "       'Tire_Compound_Front', 'Tire_Compound_Rear', 'Penalty',\n",
       "       'Championship_Points', 'Championship_Position', 'Session', 'year_x',\n",
       "       'sequence', 'rider', 'team', 'bike', 'position', 'points', 'shortname',\n",
       "       'circuit_name', 'rider_name', 'team_name', 'bike_name',\n",
       "       'Lap_Time_Seconds', 'Corners_per_Lap',\n",
       "       'Tire_Degradation_Factor_per_Lap', 'Pit_Stop_Duration_Seconds',\n",
       "       'Ambient_Temperature_Celsius', 'Track_Temperature_Celsius', 'weather',\n",
       "       'track', 'air', 'ground', 'starts', 'finishes', 'with_points',\n",
       "       'podiums', 'wins', 'min_year', 'max_year', 'years_active'],\n",
       "      dtype='object')"
      ]
     },
     "execution_count": 6,
     "metadata": {},
     "output_type": "execute_result"
    }
   ],
   "source": [
    "train_dataset.columns"
   ]
  },
  {
   "cell_type": "code",
   "execution_count": 7,
   "metadata": {},
   "outputs": [
    {
     "name": "stdout",
     "output_type": "stream",
     "text": [
      "Training data shape: (1914056, 59)\n",
      "Test data shape: (546874, 58)\n",
      "Encoded columns count: 59\n"
     ]
    }
   ],
   "source": [
    "from sklearn.preprocessing import LabelEncoder\n",
    "import pandas as pd\n",
    "\n",
    "df_encoded_train = train_dataset.copy()\n",
    "df_encoded_test = test_dataset.copy()\n",
    "\n",
    "label_encoder = LabelEncoder()\n",
    "\n",
    "label_encode_columns = ['rider_name', 'circuit_name', 'shortname', 'team_name', 'bike_name']\n",
    "\n",
    "for col in label_encode_columns:\n",
    "    df_encoded_train[col + '_encoded'] = label_encoder.fit_transform(df_encoded_train[col].astype(str))\n",
    "    df_encoded_test[col + '_encoded'] = label_encoder.transform(df_encoded_test[col].astype(str))\n",
    "\n",
    "one_hot_columns = ['category_x', 'Track_Condition', 'Tire_Compound_Front', \n",
    "                  'Tire_Compound_Rear', 'Penalty', 'Session', 'weather', 'track']\n",
    "\n",
    "df_encoded_train = pd.get_dummies(df_encoded_train, columns=one_hot_columns, drop_first=True)\n",
    "df_encoded_test = pd.get_dummies(df_encoded_test, columns=one_hot_columns, drop_first=True)\n",
    "\n",
    "cols_to_drop = label_encode_columns + ['shortname', 'team_name', 'bike_name']\n",
    "df_encoded_train = df_encoded_train.drop(columns=cols_to_drop, errors='ignore')\n",
    "df_encoded_test = df_encoded_test.drop(columns=cols_to_drop, errors='ignore')\n",
    "\n",
    "\n",
    "\n",
    "print(\"Training data shape:\", df_encoded_train.shape)\n",
    "print(\"Test data shape:\", df_encoded_test.shape)\n",
    "print(\"Encoded columns count:\", len(df_encoded_train.columns))\n",
    "\n"
   ]
  },
  {
   "cell_type": "code",
   "execution_count": 8,
   "metadata": {},
   "outputs": [
    {
     "name": "stderr",
     "output_type": "stream",
     "text": [
      "[I 2025-06-14 09:39:20,673] A new study created in memory with name: no-name-f0335de7-76cb-463a-ba2f-f0fa2b2f8a19\n",
      "[I 2025-06-14 09:39:42,716] Trial 0 finished with value: 11.357183801032358 and parameters: {'max_depth': 3, 'learning_rate': 0.028997060198718578, 'n_estimators': 156, 'min_child_weight': 6, 'gamma': 0.19165289474641686, 'subsample': 0.6399307367737757, 'colsample_bytree': 0.7724720976737713, 'reg_alpha': 9.019193674870403, 'reg_lambda': 6.591575801079177}. Best is trial 0 with value: 11.357183801032358.\n",
      "[I 2025-06-14 09:40:09,566] Trial 1 finished with value: 10.627412148950173 and parameters: {'max_depth': 7, 'learning_rate': 0.01058045881554835, 'n_estimators': 680, 'min_child_weight': 2, 'gamma': 0.2903299916289516, 'subsample': 0.9673901309631876, 'colsample_bytree': 0.7601721103748319, 'reg_alpha': 9.892067596799853, 'reg_lambda': 1.9074801564646593}. Best is trial 1 with value: 10.627412148950173.\n",
      "[I 2025-06-14 09:40:51,273] Trial 2 finished with value: 1.7645460173451637 and parameters: {'max_depth': 10, 'learning_rate': 0.06533126814537839, 'n_estimators': 967, 'min_child_weight': 3, 'gamma': 0.14188288674170907, 'subsample': 0.7405232455111499, 'colsample_bytree': 0.7648459362202976, 'reg_alpha': 9.087357529192525, 'reg_lambda': 7.389301718116938}. Best is trial 2 with value: 1.7645460173451637.\n",
      "[I 2025-06-14 09:41:16,721] Trial 3 finished with value: 7.589011272406574 and parameters: {'max_depth': 6, 'learning_rate': 0.12242602158566275, 'n_estimators': 710, 'min_child_weight': 1, 'gamma': 0.5070332998722543, 'subsample': 0.6655177552150574, 'colsample_bytree': 0.5477729734915753, 'reg_alpha': 1.350412417655379, 'reg_lambda': 4.087597932326245}. Best is trial 2 with value: 1.7645460173451637.\n",
      "[I 2025-06-14 09:41:41,774] Trial 4 finished with value: 10.646588256809324 and parameters: {'max_depth': 6, 'learning_rate': 0.017356782228977997, 'n_estimators': 132, 'min_child_weight': 6, 'gamma': 0.9697623104380088, 'subsample': 0.70906838534796, 'colsample_bytree': 0.7755645084886763, 'reg_alpha': 6.555474491255104, 'reg_lambda': 5.188846681611244}. Best is trial 2 with value: 1.7645460173451637.\n",
      "[I 2025-06-14 09:42:03,211] Trial 5 finished with value: 10.921207467234726 and parameters: {'max_depth': 3, 'learning_rate': 0.13635360624291812, 'n_estimators': 159, 'min_child_weight': 10, 'gamma': 0.056341298518926095, 'subsample': 0.9177977971452298, 'colsample_bytree': 0.8301077101597342, 'reg_alpha': 9.96782772857144, 'reg_lambda': 5.4879994766689215}. Best is trial 2 with value: 1.7645460173451637.\n",
      "[I 2025-06-14 09:42:31,119] Trial 6 finished with value: 5.266505417131323 and parameters: {'max_depth': 7, 'learning_rate': 0.12679662026239163, 'n_estimators': 802, 'min_child_weight': 5, 'gamma': 0.330049394779051, 'subsample': 0.5528232628814407, 'colsample_bytree': 0.630868349661678, 'reg_alpha': 9.288843888112412, 'reg_lambda': 7.9100403460545685}. Best is trial 2 with value: 1.7645460173451637.\n",
      "[I 2025-06-14 09:43:05,518] Trial 7 finished with value: 4.9309262909805796 and parameters: {'max_depth': 9, 'learning_rate': 0.04437869343178654, 'n_estimators': 138, 'min_child_weight': 1, 'gamma': 0.6365515262235129, 'subsample': 0.8568644273914678, 'colsample_bytree': 0.8716196679617811, 'reg_alpha': 8.76023413475375, 'reg_lambda': 2.6103090552284702}. Best is trial 2 with value: 1.7645460173451637.\n",
      "[I 2025-06-14 09:43:39,341] Trial 8 finished with value: 8.304160563482798 and parameters: {'max_depth': 9, 'learning_rate': 0.01602208509555265, 'n_estimators': 589, 'min_child_weight': 5, 'gamma': 0.2037465948627444, 'subsample': 0.8342574451646999, 'colsample_bytree': 0.8163220597897458, 'reg_alpha': 5.4189135444497, 'reg_lambda': 1.4772230474081216}. Best is trial 2 with value: 1.7645460173451637.\n",
      "[I 2025-06-14 09:44:06,477] Trial 9 finished with value: 10.523186698718801 and parameters: {'max_depth': 7, 'learning_rate': 0.010767484096912205, 'n_estimators': 379, 'min_child_weight': 7, 'gamma': 0.6532101779197401, 'subsample': 0.6125920736429294, 'colsample_bytree': 0.9884316169217093, 'reg_alpha': 9.767025291186854, 'reg_lambda': 5.226450798883395}. Best is trial 2 with value: 1.7645460173451637.\n",
      "[I 2025-06-14 09:44:50,843] Trial 10 finished with value: 0.2568418464655746 and parameters: {'max_depth': 10, 'learning_rate': 0.2557229719912035, 'n_estimators': 987, 'min_child_weight': 3, 'gamma': 0.04769759768190407, 'subsample': 0.7860234957940337, 'colsample_bytree': 0.6660636590907313, 'reg_alpha': 1.962638300963083, 'reg_lambda': 9.994880054010098}. Best is trial 10 with value: 0.2568418464655746.\n",
      "[I 2025-06-14 09:45:30,836] Trial 11 finished with value: 0.20653915152556582 and parameters: {'max_depth': 10, 'learning_rate': 0.2902208765439437, 'n_estimators': 943, 'min_child_weight': 3, 'gamma': 0.08136202942807562, 'subsample': 0.7646114398364978, 'colsample_bytree': 0.6545916907732919, 'reg_alpha': 1.748483865547482, 'reg_lambda': 9.492454158487757}. Best is trial 11 with value: 0.20653915152556582.\n",
      "[I 2025-06-14 09:46:11,867] Trial 12 finished with value: 0.1640412974560564 and parameters: {'max_depth': 10, 'learning_rate': 0.2933372795283336, 'n_estimators': 999, 'min_child_weight': 3, 'gamma': 0.041916333276583416, 'subsample': 0.7995817101632466, 'colsample_bytree': 0.6547722889247781, 'reg_alpha': 1.0791811860505778, 'reg_lambda': 9.579605477094681}. Best is trial 12 with value: 0.1640412974560564.\n",
      "[I 2025-06-14 09:46:46,377] Trial 13 finished with value: 0.29641525633164795 and parameters: {'max_depth': 9, 'learning_rate': 0.2534207976843966, 'n_estimators': 846, 'min_child_weight': 4, 'gamma': 0.403788340123815, 'subsample': 0.8061016653515521, 'colsample_bytree': 0.620645518785543, 'reg_alpha': 0.10247052200749263, 'reg_lambda': 9.550211061255792}. Best is trial 12 with value: 0.1640412974560564.\n",
      "[I 2025-06-14 09:47:17,748] Trial 14 finished with value: 0.7009794181063346 and parameters: {'max_depth': 8, 'learning_rate': 0.29694966305675863, 'n_estimators': 863, 'min_child_weight': 8, 'gamma': 0.015328522591528865, 'subsample': 0.9058121098383134, 'colsample_bytree': 0.548267042588078, 'reg_alpha': 3.503245223515575, 'reg_lambda': 8.604933554441528}. Best is trial 12 with value: 0.1640412974560564.\n",
      "[I 2025-06-14 09:47:41,759] Trial 15 finished with value: 8.528048353609243 and parameters: {'max_depth': 5, 'learning_rate': 0.16616002999267845, 'n_estimators': 416, 'min_child_weight': 3, 'gamma': 0.8835527456753213, 'subsample': 0.7204922850541977, 'colsample_bytree': 0.6903899402909777, 'reg_alpha': 3.076585080366318, 'reg_lambda': 8.788033488237744}. Best is trial 12 with value: 0.1640412974560564.\n",
      "[I 2025-06-14 09:48:23,305] Trial 16 finished with value: 1.3003491736928978 and parameters: {'max_depth': 10, 'learning_rate': 0.07806847137731807, 'n_estimators': 989, 'min_child_weight': 4, 'gamma': 0.4762569745289519, 'subsample': 0.7739255196973744, 'colsample_bytree': 0.7027866472237545, 'reg_alpha': 0.43426890386722916, 'reg_lambda': 6.907598762467644}. Best is trial 12 with value: 0.1640412974560564.\n",
      "[I 2025-06-14 09:48:54,950] Trial 17 finished with value: 2.0864659458912618 and parameters: {'max_depth': 8, 'learning_rate': 0.1840471563263913, 'n_estimators': 753, 'min_child_weight': 2, 'gamma': 0.16143250505357282, 'subsample': 0.5023988317288945, 'colsample_bytree': 0.5124218856062515, 'reg_alpha': 3.224667735410816, 'reg_lambda': 8.980040731067707}. Best is trial 12 with value: 0.1640412974560564.\n",
      "[I 2025-06-14 09:49:25,489] Trial 18 finished with value: 4.34050397629333 and parameters: {'max_depth': 8, 'learning_rate': 0.08937045715259499, 'n_estimators': 568, 'min_child_weight': 4, 'gamma': 0.2898372449114598, 'subsample': 0.8543620714488008, 'colsample_bytree': 0.6115201611438568, 'reg_alpha': 1.9222388087670228, 'reg_lambda': 3.266264214382809}. Best is trial 12 with value: 0.1640412974560564.\n",
      "[I 2025-06-14 09:49:49,018] Trial 19 finished with value: 10.571844985188319 and parameters: {'max_depth': 5, 'learning_rate': 0.037629484660964274, 'n_estimators': 887, 'min_child_weight': 2, 'gamma': 0.6556875592747525, 'subsample': 0.9897004568581658, 'colsample_bytree': 0.9300699859636998, 'reg_alpha': 4.2853051109463784, 'reg_lambda': 6.40262736475351}. Best is trial 12 with value: 0.1640412974560564.\n",
      "[I 2025-06-14 09:50:32,080] Trial 20 finished with value: 0.3109623211496747 and parameters: {'max_depth': 10, 'learning_rate': 0.22056470187744198, 'n_estimators': 424, 'min_child_weight': 9, 'gamma': 0.10909393991516095, 'subsample': 0.685615893197159, 'colsample_bytree': 0.5813837504334789, 'reg_alpha': 6.164770509404755, 'reg_lambda': 0.506167005417602}. Best is trial 12 with value: 0.1640412974560564.\n",
      "[I 2025-06-14 09:51:15,650] Trial 21 finished with value: 0.1890593637598747 and parameters: {'max_depth': 10, 'learning_rate': 0.2945699844814131, 'n_estimators': 937, 'min_child_weight': 3, 'gamma': 0.040330676326327926, 'subsample': 0.778151593743779, 'colsample_bytree': 0.6761543580276631, 'reg_alpha': 1.8454390015309003, 'reg_lambda': 9.869045915100836}. Best is trial 12 with value: 0.1640412974560564.\n",
      "[I 2025-06-14 09:51:51,296] Trial 22 finished with value: 0.5582324892083982 and parameters: {'max_depth': 9, 'learning_rate': 0.18291216830076512, 'n_estimators': 910, 'min_child_weight': 3, 'gamma': 0.21870827222945652, 'subsample': 0.7626399868437406, 'colsample_bytree': 0.7193225126775787, 'reg_alpha': 1.1405012919002016, 'reg_lambda': 8.104768734221345}. Best is trial 12 with value: 0.1640412974560564.\n",
      "[I 2025-06-14 09:52:31,424] Trial 23 finished with value: 0.09004587116191441 and parameters: {'max_depth': 10, 'learning_rate': 0.2963448888665282, 'n_estimators': 930, 'min_child_weight': 4, 'gamma': 0.01545404291798122, 'subsample': 0.8208154703875714, 'colsample_bytree': 0.6572137696396126, 'reg_alpha': 2.4501802897942953, 'reg_lambda': 9.431645594361553}. Best is trial 23 with value: 0.09004587116191441.\n",
      "[I 2025-06-14 09:53:07,051] Trial 24 finished with value: 0.34771409909641365 and parameters: {'max_depth': 9, 'learning_rate': 0.21817464756344243, 'n_estimators': 778, 'min_child_weight': 5, 'gamma': 0.012382301709424778, 'subsample': 0.9004436459304228, 'colsample_bytree': 0.7080949221878577, 'reg_alpha': 2.508813835983079, 'reg_lambda': 9.72746907523932}. Best is trial 23 with value: 0.09004587116191441.\n",
      "[I 2025-06-14 09:53:48,811] Trial 25 finished with value: 0.813101304074601 and parameters: {'max_depth': 10, 'learning_rate': 0.1039501724229306, 'n_estimators': 656, 'min_child_weight': 4, 'gamma': 0.11459150623317275, 'subsample': 0.8401173838714884, 'colsample_bytree': 0.5782367953506403, 'reg_alpha': 4.238348115792201, 'reg_lambda': 7.956250412855173}. Best is trial 23 with value: 0.09004587116191441.\n",
      "[I 2025-06-14 09:54:19,510] Trial 26 finished with value: 2.245453330974689 and parameters: {'max_depth': 8, 'learning_rate': 0.15587754022465564, 'n_estimators': 833, 'min_child_weight': 2, 'gamma': 0.2476604965000738, 'subsample': 0.7955483103065805, 'colsample_bytree': 0.66213468422002, 'reg_alpha': 0.8077218414612315, 'reg_lambda': 8.77569428780004}. Best is trial 23 with value: 0.09004587116191441.\n",
      "[I 2025-06-14 09:54:54,878] Trial 27 finished with value: 0.5206937424630889 and parameters: {'max_depth': 9, 'learning_rate': 0.1964369976577601, 'n_estimators': 939, 'min_child_weight': 7, 'gamma': 0.3778213268291656, 'subsample': 0.8825700994740996, 'colsample_bytree': 0.5952342922881941, 'reg_alpha': 2.3553548909805753, 'reg_lambda': 7.38971364904668}. Best is trial 23 with value: 0.09004587116191441.\n",
      "[I 2025-06-14 09:55:17,387] Trial 28 finished with value: 9.172352526329023 and parameters: {'max_depth': 4, 'learning_rate': 0.29716752105388106, 'n_estimators': 996, 'min_child_weight': 1, 'gamma': 0.7526880330653039, 'subsample': 0.9450264220103006, 'colsample_bytree': 0.728098735822291, 'reg_alpha': 4.211853984889897, 'reg_lambda': 9.970774204556601}. Best is trial 23 with value: 0.09004587116191441.\n",
      "[I 2025-06-14 09:55:58,399] Trial 29 finished with value: 4.966358994892881 and parameters: {'max_depth': 10, 'learning_rate': 0.02917343994410721, 'n_estimators': 315, 'min_child_weight': 6, 'gamma': 0.174023144831201, 'subsample': 0.6106271590381469, 'colsample_bytree': 0.6665310108103161, 'reg_alpha': 0.016115398818382864, 'reg_lambda': 6.631428436092611}. Best is trial 23 with value: 0.09004587116191441.\n",
      "[I 2025-06-14 09:56:29,347] Trial 30 finished with value: 1.1105512657359462 and parameters: {'max_depth': 8, 'learning_rate': 0.2281030299730245, 'n_estimators': 512, 'min_child_weight': 4, 'gamma': 0.12311654843060185, 'subsample': 0.8106250609602668, 'colsample_bytree': 0.6409262007921604, 'reg_alpha': 2.5597854459617895, 'reg_lambda': 6.005191948805145}. Best is trial 23 with value: 0.09004587116191441.\n",
      "[I 2025-06-14 09:57:08,489] Trial 31 finished with value: 0.18410243076816274 and parameters: {'max_depth': 10, 'learning_rate': 0.2647585980477909, 'n_estimators': 913, 'min_child_weight': 3, 'gamma': 0.08821076122363242, 'subsample': 0.7390670694503156, 'colsample_bytree': 0.6775256538237534, 'reg_alpha': 1.3043841693533622, 'reg_lambda': 9.289566219416065}. Best is trial 23 with value: 0.09004587116191441.\n",
      "[I 2025-06-14 09:57:44,111] Trial 32 finished with value: 0.7639698724100265 and parameters: {'max_depth': 9, 'learning_rate': 0.15892928396867392, 'n_estimators': 879, 'min_child_weight': 2, 'gamma': 0.013521880469042909, 'subsample': 0.7371776177035454, 'colsample_bytree': 0.7479874990704216, 'reg_alpha': 0.8701372425254572, 'reg_lambda': 9.207565553069312}. Best is trial 23 with value: 0.09004587116191441.\n",
      "[I 2025-06-14 09:58:27,839] Trial 33 finished with value: 0.268178361737673 and parameters: {'max_depth': 10, 'learning_rate': 0.2402990195795906, 'n_estimators': 924, 'min_child_weight': 3, 'gamma': 0.08762217094269735, 'subsample': 0.6947659771536434, 'colsample_bytree': 0.6789979499631719, 'reg_alpha': 1.5062257388658697, 'reg_lambda': 8.124638357798057}. Best is trial 23 with value: 0.09004587116191441.\n",
      "[I 2025-06-14 09:59:07,878] Trial 34 finished with value: 0.2897593373696943 and parameters: {'max_depth': 10, 'learning_rate': 0.20476706986549864, 'n_estimators': 737, 'min_child_weight': 5, 'gamma': 0.25477820808841783, 'subsample': 0.6647264248968848, 'colsample_bytree': 0.779885578134752, 'reg_alpha': 2.774044334623099, 'reg_lambda': 4.372547881758722}. Best is trial 23 with value: 0.09004587116191441.\n",
      "[I 2025-06-14 09:59:42,188] Trial 35 finished with value: 4.012198751518729 and parameters: {'max_depth': 9, 'learning_rate': 0.05782491352148079, 'n_estimators': 663, 'min_child_weight': 3, 'gamma': 0.14842555305076172, 'subsample': 0.8175486374791602, 'colsample_bytree': 0.7498482317129428, 'reg_alpha': 3.6602010144546893, 'reg_lambda': 8.427748851356412}. Best is trial 23 with value: 0.09004587116191441.\n",
      "[I 2025-06-14 10:00:24,366] Trial 36 finished with value: 0.7957866522674694 and parameters: {'max_depth': 10, 'learning_rate': 0.10413765656627931, 'n_estimators': 800, 'min_child_weight': 4, 'gamma': 0.06042783243414861, 'subsample': 0.7385654336128732, 'colsample_bytree': 0.6317843468621279, 'reg_alpha': 1.1984419477353137, 'reg_lambda': 7.4306277473099644}. Best is trial 23 with value: 0.09004587116191441.\n",
      "[I 2025-06-14 10:01:06,367] Trial 37 finished with value: 0.41995505348391804 and parameters: {'max_depth': 10, 'learning_rate': 0.13833781845202892, 'n_estimators': 944, 'min_child_weight': 1, 'gamma': 0.20716710475357983, 'subsample': 0.8698993110289164, 'colsample_bytree': 0.558592929417071, 'reg_alpha': 7.334291863214377, 'reg_lambda': 9.372589949612935}. Best is trial 23 with value: 0.09004587116191441.\n",
      "[I 2025-06-14 10:01:34,360] Trial 38 finished with value: 2.781003776723894 and parameters: {'max_depth': 7, 'learning_rate': 0.26418800790174507, 'n_estimators': 709, 'min_child_weight': 2, 'gamma': 0.33179291272585487, 'subsample': 0.7188254277576309, 'colsample_bytree': 0.51693736304942, 'reg_alpha': 2.1115891045008, 'reg_lambda': 9.22481357968515}. Best is trial 23 with value: 0.09004587116191441.\n",
      "[I 2025-06-14 10:02:09,442] Trial 39 finished with value: 1.367623252749348 and parameters: {'max_depth': 9, 'learning_rate': 0.11687329118464132, 'n_estimators': 823, 'min_child_weight': 5, 'gamma': 0.07633181894779212, 'subsample': 0.8284373226364309, 'colsample_bytree': 0.7977202271931002, 'reg_alpha': 1.5484952223046378, 'reg_lambda': 7.219256548189868}. Best is trial 23 with value: 0.09004587116191441.\n",
      "[I 2025-06-14 10:02:34,784] Trial 40 finished with value: 8.60708439478568 and parameters: {'max_depth': 6, 'learning_rate': 0.07565221026677144, 'n_estimators': 893, 'min_child_weight': 6, 'gamma': 0.15085894829146648, 'subsample': 0.6507346412076838, 'colsample_bytree': 0.7280079045375821, 'reg_alpha': 0.6792868305599227, 'reg_lambda': 8.389379960166089}. Best is trial 23 with value: 0.09004587116191441.\n",
      "[I 2025-06-14 10:03:16,258] Trial 41 finished with value: 0.21411433863211532 and parameters: {'max_depth': 10, 'learning_rate': 0.2781772470126882, 'n_estimators': 939, 'min_child_weight': 3, 'gamma': 0.07094372869626081, 'subsample': 0.760947195495495, 'colsample_bytree': 0.6460217951166484, 'reg_alpha': 1.6824604181124538, 'reg_lambda': 9.445569620875252}. Best is trial 23 with value: 0.09004587116191441.\n",
      "[I 2025-06-14 10:04:00,049] Trial 42 finished with value: 0.11560618644114926 and parameters: {'max_depth': 10, 'learning_rate': 0.29230655812235584, 'n_estimators': 952, 'min_child_weight': 3, 'gamma': 0.012129455111921872, 'subsample': 0.7741513916200149, 'colsample_bytree': 0.6884765186726258, 'reg_alpha': 1.1819557265293585, 'reg_lambda': 9.894886156229681}. Best is trial 23 with value: 0.09004587116191441.\n",
      "[I 2025-06-14 10:04:36,224] Trial 43 finished with value: 0.395146621895755 and parameters: {'max_depth': 9, 'learning_rate': 0.23533625087078722, 'n_estimators': 994, 'min_child_weight': 2, 'gamma': 0.010602969642129131, 'subsample': 0.7901814651195795, 'colsample_bytree': 0.6928215183513634, 'reg_alpha': 0.42504241223233574, 'reg_lambda': 9.873644397125364}. Best is trial 23 with value: 0.09004587116191441.\n",
      "[I 2025-06-14 10:05:20,086] Trial 44 finished with value: 0.24647617988993778 and parameters: {'max_depth': 10, 'learning_rate': 0.2991055780454382, 'n_estimators': 197, 'min_child_weight': 4, 'gamma': 0.051897653151630724, 'subsample': 0.7474378546703996, 'colsample_bytree': 0.603655908657864, 'reg_alpha': 1.1476579272722864, 'reg_lambda': 9.003704056550932}. Best is trial 23 with value: 0.09004587116191441.\n",
      "[I 2025-06-14 10:05:41,555] Trial 45 finished with value: 10.781347296975596 and parameters: {'max_depth': 3, 'learning_rate': 0.19191344093580512, 'n_estimators': 962, 'min_child_weight': 3, 'gamma': 0.14239424381673824, 'subsample': 0.6980480184929443, 'colsample_bytree': 0.6725542795250141, 'reg_alpha': 5.153374671384873, 'reg_lambda': 7.675488025486233}. Best is trial 23 with value: 0.09004587116191441.\n",
      "[I 2025-06-14 10:06:17,638] Trial 46 finished with value: 0.32602504006761607 and parameters: {'max_depth': 9, 'learning_rate': 0.2486863245063486, 'n_estimators': 864, 'min_child_weight': 3, 'gamma': 0.10785000005978354, 'subsample': 0.7848045608333085, 'colsample_bytree': 0.7365595327986415, 'reg_alpha': 1.9722181019313245, 'reg_lambda': 8.595782040289693}. Best is trial 23 with value: 0.09004587116191441.\n",
      "[I 2025-06-14 10:07:00,593] Trial 47 finished with value: 0.3678265184603444 and parameters: {'max_depth': 10, 'learning_rate': 0.1458745717681338, 'n_estimators': 897, 'min_child_weight': 1, 'gamma': 0.1885833320700018, 'subsample': 0.842915109774905, 'colsample_bytree': 0.690440980987512, 'reg_alpha': 3.0311059916325025, 'reg_lambda': 9.97402208920938}. Best is trial 23 with value: 0.09004587116191441.\n",
      "[I 2025-06-14 10:07:42,083] Trial 48 finished with value: 0.4329234472200903 and parameters: {'max_depth': 10, 'learning_rate': 0.17535116965154568, 'n_estimators': 962, 'min_child_weight': 5, 'gamma': 0.5859722288410094, 'subsample': 0.6215163810087175, 'colsample_bytree': 0.6187161972326276, 'reg_alpha': 8.281783811997737, 'reg_lambda': 9.047031692027446}. Best is trial 23 with value: 0.09004587116191441.\n",
      "[I 2025-06-14 10:08:16,013] Trial 49 finished with value: 8.885034187755489 and parameters: {'max_depth': 9, 'learning_rate': 0.012854778180125998, 'n_estimators': 833, 'min_child_weight': 4, 'gamma': 0.05697736593695246, 'subsample': 0.7208865350597243, 'colsample_bytree': 0.8372632549478543, 'reg_alpha': 0.4174154415615816, 'reg_lambda': 9.676550465328397}. Best is trial 23 with value: 0.09004587116191441.\n"
     ]
    },
    {
     "name": "stdout",
     "output_type": "stream",
     "text": [
      "Best trial:\n",
      "  RMSE: 0.0900\n",
      "  Params: \n",
      "    max_depth: 10\n",
      "    learning_rate: 0.2963448888665282\n",
      "    n_estimators: 930\n",
      "    min_child_weight: 4\n",
      "    gamma: 0.01545404291798122\n",
      "    subsample: 0.8208154703875714\n",
      "    colsample_bytree: 0.6572137696396126\n",
      "    reg_alpha: 2.4501802897942953\n",
      "    reg_lambda: 9.431645594361553\n",
      "[0]\ttrain-rmse:11.41537\n",
      "[100]\ttrain-rmse:4.78301\n",
      "[200]\ttrain-rmse:2.12965\n",
      "[300]\ttrain-rmse:0.94010\n",
      "[400]\ttrain-rmse:0.41151\n",
      "[500]\ttrain-rmse:0.17980\n",
      "[600]\ttrain-rmse:0.09055\n",
      "[700]\ttrain-rmse:0.05869\n",
      "[800]\ttrain-rmse:0.05406\n",
      "[900]\ttrain-rmse:0.05198\n",
      "[999]\ttrain-rmse:0.05046\n",
      "Submission file saved as 'submission_final.csv'\n"
     ]
    }
   ],
   "source": [
    "import numpy as np\n",
    "import pandas as pd\n",
    "import xgboost as xgb\n",
    "import optuna\n",
    "from sklearn.metrics import mean_squared_error\n",
    "from sklearn.model_selection import train_test_split\n",
    "import warnings\n",
    "warnings.filterwarnings('ignore')\n",
    "X = df_encoded_train.drop(columns=['Lap_Time_Seconds', 'Unique ID', 'Rider_ID', 'year_x', 'rider', 'team', 'bike'])\n",
    "y = df_encoded_train['Lap_Time_Seconds']\n",
    "X_test = df_encoded_test.drop(columns=['Unique ID', 'Rider_ID', 'year_x', 'rider', 'team', 'bike'])\n",
    "X_train, X_val, y_train, y_val = train_test_split(X, y, test_size=0.2, random_state=42)\n",
    "def objective(trial):\n",
    "    param = {\n",
    "        'tree_method': 'gpu_hist',\n",
    "        'predictor': 'gpu_predictor',\n",
    "        'gpu_id': 0, \n",
    "        'random_state': 42,\n",
    "        'max_depth': trial.suggest_int('max_depth', 3, 10),\n",
    "        'learning_rate': trial.suggest_float('learning_rate', 0.01, 0.3, log=True),\n",
    "        'n_estimators': trial.suggest_int('n_estimators', 100, 1000),\n",
    "        'min_child_weight': trial.suggest_int('min_child_weight', 1, 15),\n",
    "        'gamma': trial.suggest_float('gamma', 0.01, 1.0),\n",
    "        'subsample': trial.suggest_float('subsample', 0.5, 1.0),\n",
    "        'colsample_bytree': trial.suggest_float('colsample_bytree', 0.5, 1.0),\n",
    "        'reg_alpha': trial.suggest_float('reg_alpha', 0, 10),\n",
    "        'reg_lambda': trial.suggest_float('reg_lambda', 0, 10),\n",
    "        'n_jobs': -1\n",
    "\n",
    "    }\n",
    "    dtrain = xgb.DMatrix(X_train, label=y_train)\n",
    "    dval = xgb.DMatrix(X_val, label=y_val)\n",
    "    model = xgb.train(\n",
    "        param,\n",
    "        dtrain,\n",
    "        num_boost_round=1000, \n",
    "        evals=[(dval, 'eval')],\n",
    "        early_stopping_rounds=50,\n",
    "        verbose_eval=False\n",
    "    )\n",
    "    y_pred = model.predict(dval)\n",
    "    rmse = mean_squared_error(y_val, y_pred, squared=False)\n",
    "    return rmse\n",
    "study = optuna.create_study(direction='minimize')\n",
    "study.optimize(objective, n_trials=50, n_jobs=1) \n",
    "print('Best trial:')\n",
    "trial = study.best_trial\n",
    "print(f'RMSE: {trial.value}')\n",
    "print('Params: ')\n",
    "for key, value in trial.params.items():\n",
    "    print(f'{key}: {value}')\n",
    "best_params = {\n",
    "    'tree_method': 'gpu_hist',\n",
    "    'predictor': 'gpu_predictor',\n",
    "    'gpu_id': 0,\n",
    "    'random_state': 42,\n",
    "    **study.best_params\n",
    "}\n",
    "\n",
    "dtrain = xgb.DMatrix(X, label=y)\n",
    "dtest = xgb.DMatrix(X_test)\n",
    "final_model = xgb.train(\n",
    "    best_params,\n",
    "    dtrain,\n",
    "    num_boost_round=1000,\n",
    "    evals=[(dtrain, 'train')],\n",
    "    early_stopping_rounds=50,\n",
    "    verbose_eval=100\n",
    ")\n",
    "test_predictions = final_model.predict(dtest)\n",
    "submission = pd.DataFrame({\n",
    "    'Unique ID': df_encoded_test['Unique ID'],\n",
    "    'Lap_Time_Seconds': test_predictions\n",
    "})\n",
    "submission.to_csv('submission_final.csv', index=False)\n",
    "print(\"saved\")"
   ]
  },
  {
   "cell_type": "code",
   "execution_count": 11,
   "metadata": {},
   "outputs": [
    {
     "name": "stdout",
     "output_type": "stream",
     "text": [
      "Using device: cuda\n"
     ]
    },
    {
     "name": "stderr",
     "output_type": "stream",
     "text": [
      "[I 2025-06-14 10:45:21,161] A new study created in memory with name: no-name-5621589b-665f-4cc5-a0f2-8d9dcba3fd85\n"
     ]
    },
    {
     "name": "stdout",
     "output_type": "stream",
     "text": [
      "Epoch [10/100], Train Loss: 39176.6394, Val Loss: 31812.0641\n",
      "Epoch [20/100], Train Loss: 39171.7739, Val Loss: 31806.9664\n",
      "Epoch [30/100], Train Loss: 39166.8953, Val Loss: 31801.9303\n",
      "Epoch [40/100], Train Loss: 39160.7424, Val Loss: 31796.9000\n",
      "Epoch [50/100], Train Loss: 39151.4517, Val Loss: 31791.7910\n",
      "Epoch [60/100], Train Loss: 39149.1182, Val Loss: 31786.6141\n",
      "Epoch [70/100], Train Loss: 39146.7635, Val Loss: 31781.3320\n",
      "Epoch [80/100], Train Loss: 39135.6900, Val Loss: 31775.9656\n",
      "Epoch [90/100], Train Loss: 39123.6231, Val Loss: 31770.4535\n"
     ]
    },
    {
     "name": "stderr",
     "output_type": "stream",
     "text": [
      "[I 2025-06-14 10:45:27,297] Trial 0 finished with value: 31764.8255859375 and parameters: {'n_layers': 1, 'n_units_l1': 23, 'dropout_l1': 0.25275380747597154, 'batch_size': 16, 'learning_rate': 1.3512592173853275e-05, 'weight_decay': 0.0008159292579610498}. Best is trial 0 with value: 31764.8255859375.\n"
     ]
    },
    {
     "name": "stdout",
     "output_type": "stream",
     "text": [
      "Epoch [100/100], Train Loss: 39119.6413, Val Loss: 31764.8256\n",
      "Epoch [10/100], Train Loss: 4038.3629, Val Loss: 938.9952\n",
      "Epoch [20/100], Train Loss: 3174.2007, Val Loss: 442.4306\n",
      "Epoch [30/100], Train Loss: 2835.1305, Val Loss: 150.8033\n"
     ]
    },
    {
     "name": "stderr",
     "output_type": "stream",
     "text": [
      "[I 2025-06-14 10:45:28,296] Trial 1 finished with value: 150.80333455403647 and parameters: {'n_layers': 3, 'n_units_l1': 91, 'dropout_l1': 0.2421923639950254, 'n_units_l2': 38, 'dropout_l2': 0.3354494221491638, 'n_units_l3': 23, 'dropout_l3': 0.32687330448943497, 'batch_size': 64, 'learning_rate': 0.004881173557644558, 'weight_decay': 1.6133291200486806e-05}. Best is trial 1 with value: 150.80333455403647.\n"
     ]
    },
    {
     "name": "stdout",
     "output_type": "stream",
     "text": [
      "Early stopping at epoch 40\n",
      "Epoch [10/100], Train Loss: 3921.6491, Val Loss: 590.0200\n",
      "Epoch [20/100], Train Loss: 4027.6441, Val Loss: 484.3877\n"
     ]
    },
    {
     "name": "stderr",
     "output_type": "stream",
     "text": [
      "[I 2025-06-14 10:45:30,453] Trial 2 finished with value: 289.49371643066405 and parameters: {'n_layers': 3, 'n_units_l1': 47, 'dropout_l1': 0.15667062164809234, 'n_units_l2': 16, 'dropout_l2': 0.1277391664571504, 'n_units_l3': 28, 'dropout_l3': 0.4528137125587439, 'batch_size': 16, 'learning_rate': 0.005419852625700108, 'weight_decay': 0.00012943276795974329}. Best is trial 1 with value: 150.80333455403647.\n"
     ]
    },
    {
     "name": "stdout",
     "output_type": "stream",
     "text": [
      "Early stopping at epoch 27\n",
      "Epoch [10/100], Train Loss: 3228.0880, Val Loss: 466.9076\n",
      "Epoch [20/100], Train Loss: 2767.0039, Val Loss: 341.2514\n"
     ]
    },
    {
     "name": "stderr",
     "output_type": "stream",
     "text": [
      "[I 2025-06-14 10:45:32,461] Trial 3 finished with value: 295.1533905029297 and parameters: {'n_layers': 3, 'n_units_l1': 53, 'dropout_l1': 0.3558838759891202, 'n_units_l2': 31, 'dropout_l2': 0.4273778640702066, 'n_units_l3': 56, 'dropout_l3': 0.20643264456697855, 'batch_size': 16, 'learning_rate': 0.00472049785464082, 'weight_decay': 0.003950037476807548}. Best is trial 1 with value: 150.80333455403647.\n"
     ]
    },
    {
     "name": "stdout",
     "output_type": "stream",
     "text": [
      "Early stopping at epoch 25\n",
      "Epoch [10/100], Train Loss: 31092.2871, Val Loss: 28317.0008\n",
      "Epoch [20/100], Train Loss: 13393.9057, Val Loss: 12032.3303\n",
      "Epoch [30/100], Train Loss: 4465.0778, Val Loss: 3570.8177\n",
      "Epoch [40/100], Train Loss: 2688.1485, Val Loss: 1292.1359\n",
      "Epoch [50/100], Train Loss: 2321.3877, Val Loss: 835.4936\n",
      "Epoch [60/100], Train Loss: 2436.3738, Val Loss: 751.5465\n",
      "Epoch [70/100], Train Loss: 2049.9290, Val Loss: 658.6843\n",
      "Epoch [80/100], Train Loss: 2408.5983, Val Loss: 626.7865\n",
      "Epoch [90/100], Train Loss: 2418.8607, Val Loss: 532.7146\n"
     ]
    },
    {
     "name": "stderr",
     "output_type": "stream",
     "text": [
      "[I 2025-06-14 10:45:35,911] Trial 4 finished with value: 513.6531982421875 and parameters: {'n_layers': 1, 'n_units_l1': 21, 'dropout_l1': 0.3191218853519727, 'batch_size': 32, 'learning_rate': 0.003242071977744403, 'weight_decay': 3.954509352998663e-05}. Best is trial 1 with value: 150.80333455403647.\n"
     ]
    },
    {
     "name": "stdout",
     "output_type": "stream",
     "text": [
      "Epoch [100/100], Train Loss: 2038.1963, Val Loss: 513.6532\n",
      "Epoch [10/100], Train Loss: 17565.6510, Val Loss: 19676.6650\n",
      "Epoch [20/100], Train Loss: 553.4339, Val Loss: 691.7417\n",
      "Epoch [30/100], Train Loss: 342.7773, Val Loss: 439.4323\n",
      "Epoch [40/100], Train Loss: 292.2902, Val Loss: 353.5051\n",
      "Epoch [50/100], Train Loss: 232.8741, Val Loss: 285.8421\n",
      "Epoch [60/100], Train Loss: 163.7743, Val Loss: 235.7261\n",
      "Epoch [70/100], Train Loss: 150.3177, Val Loss: 191.3313\n",
      "Epoch [80/100], Train Loss: 149.3706, Val Loss: 159.4909\n",
      "Epoch [90/100], Train Loss: 132.2486, Val Loss: 132.8125\n"
     ]
    },
    {
     "name": "stderr",
     "output_type": "stream",
     "text": [
      "[I 2025-06-14 10:45:37,251] Trial 5 finished with value: 109.98445892333984 and parameters: {'n_layers': 1, 'n_units_l1': 238, 'dropout_l1': 0.15644603948715652, 'batch_size': 128, 'learning_rate': 0.007712657669540492, 'weight_decay': 0.0034632632699019145}. Best is trial 5 with value: 109.98445892333984.\n"
     ]
    },
    {
     "name": "stdout",
     "output_type": "stream",
     "text": [
      "Epoch [100/100], Train Loss: 134.0314, Val Loss: 109.9845\n",
      "Epoch [10/100], Train Loss: 37777.0859, Val Loss: 39752.0039\n",
      "Epoch [20/100], Train Loss: 37775.5922, Val Loss: 39749.2227\n",
      "Epoch [30/100], Train Loss: 37768.6344, Val Loss: 39745.8789\n",
      "Epoch [40/100], Train Loss: 37769.6617, Val Loss: 39741.5996\n",
      "Epoch [50/100], Train Loss: 37761.1133, Val Loss: 39735.6895\n",
      "Epoch [60/100], Train Loss: 37753.6523, Val Loss: 39727.4434\n",
      "Epoch [70/100], Train Loss: 37741.3426, Val Loss: 39715.9785\n",
      "Epoch [80/100], Train Loss: 37724.5195, Val Loss: 39699.1602\n",
      "Epoch [90/100], Train Loss: 37703.2371, Val Loss: 39676.1484\n"
     ]
    },
    {
     "name": "stderr",
     "output_type": "stream",
     "text": [
      "[I 2025-06-14 10:45:38,889] Trial 6 finished with value: 39644.44140625 and parameters: {'n_layers': 3, 'n_units_l1': 64, 'dropout_l1': 0.40474804120069996, 'n_units_l2': 73, 'dropout_l2': 0.1751119858471285, 'n_units_l3': 35, 'dropout_l3': 0.34536527575663506, 'batch_size': 128, 'learning_rate': 4.3298805358606685e-05, 'weight_decay': 0.0004517580538236366}. Best is trial 5 with value: 109.98445892333984.\n"
     ]
    },
    {
     "name": "stdout",
     "output_type": "stream",
     "text": [
      "Epoch [100/100], Train Loss: 37678.3879, Val Loss: 39644.4414\n",
      "Epoch [10/100], Train Loss: 38170.3970, Val Loss: 35358.0234\n",
      "Epoch [20/100], Train Loss: 37386.2679, Val Loss: 34648.8238\n",
      "Epoch [30/100], Train Loss: 33344.1755, Val Loss: 31115.8812\n",
      "Epoch [40/100], Train Loss: 25171.5058, Val Loss: 24369.8898\n",
      "Epoch [50/100], Train Loss: 18268.0688, Val Loss: 17963.7971\n",
      "Epoch [60/100], Train Loss: 13422.9980, Val Loss: 13377.1012\n",
      "Epoch [70/100], Train Loss: 9963.5729, Val Loss: 9765.7125\n",
      "Epoch [80/100], Train Loss: 8171.4394, Val Loss: 6961.8031\n",
      "Epoch [90/100], Train Loss: 7052.7923, Val Loss: 5043.2514\n"
     ]
    },
    {
     "name": "stderr",
     "output_type": "stream",
     "text": [
      "[I 2025-06-14 10:45:42,859] Trial 7 finished with value: 3886.32099609375 and parameters: {'n_layers': 2, 'n_units_l1': 21, 'dropout_l1': 0.4696524508625324, 'n_units_l2': 141, 'dropout_l2': 0.15127656083200147, 'batch_size': 32, 'learning_rate': 0.0002347668196351814, 'weight_decay': 0.0047631247698360435}. Best is trial 5 with value: 109.98445892333984.\n"
     ]
    },
    {
     "name": "stdout",
     "output_type": "stream",
     "text": [
      "Epoch [100/100], Train Loss: 6118.3381, Val Loss: 3886.3210\n",
      "Epoch [10/100], Train Loss: 34760.0709, Val Loss: 37947.7904\n",
      "Epoch [20/100], Train Loss: 24951.5941, Val Loss: 27284.7246\n",
      "Epoch [30/100], Train Loss: 13264.5807, Val Loss: 14494.0674\n",
      "Epoch [40/100], Train Loss: 5880.6178, Val Loss: 5899.9880\n",
      "Epoch [50/100], Train Loss: 3162.2300, Val Loss: 2336.0681\n",
      "Epoch [60/100], Train Loss: 2612.6818, Val Loss: 1231.7110\n",
      "Epoch [70/100], Train Loss: 2612.6582, Val Loss: 953.7291\n",
      "Epoch [80/100], Train Loss: 2352.9229, Val Loss: 842.7053\n",
      "Epoch [90/100], Train Loss: 2601.2016, Val Loss: 792.3134\n"
     ]
    },
    {
     "name": "stderr",
     "output_type": "stream",
     "text": [
      "[I 2025-06-14 10:45:44,913] Trial 8 finished with value: 751.6936442057291 and parameters: {'n_layers': 1, 'n_units_l1': 32, 'dropout_l1': 0.4579766151854724, 'batch_size': 64, 'learning_rate': 0.003240518703285433, 'weight_decay': 0.0053691848234407764}. Best is trial 5 with value: 109.98445892333984.\n"
     ]
    },
    {
     "name": "stdout",
     "output_type": "stream",
     "text": [
      "Epoch [100/100], Train Loss: 2705.0734, Val Loss: 751.6936\n",
      "Epoch [10/100], Train Loss: 37711.2516, Val Loss: 37075.7305\n",
      "Epoch [20/100], Train Loss: 37662.3699, Val Loss: 37033.6536\n",
      "Epoch [30/100], Train Loss: 37617.3150, Val Loss: 36986.2188\n",
      "Epoch [40/100], Train Loss: 37555.9889, Val Loss: 36931.0911\n",
      "Epoch [50/100], Train Loss: 37496.3125, Val Loss: 36866.3776\n",
      "Epoch [60/100], Train Loss: 37406.7547, Val Loss: 36789.7865\n",
      "Epoch [70/100], Train Loss: 37312.0805, Val Loss: 36698.6354\n",
      "Epoch [80/100], Train Loss: 37199.9711, Val Loss: 36591.4544\n",
      "Epoch [90/100], Train Loss: 37071.6248, Val Loss: 36465.6562\n"
     ]
    },
    {
     "name": "stderr",
     "output_type": "stream",
     "text": [
      "[I 2025-06-14 10:45:47,070] Trial 9 finished with value: 36320.705729166664 and parameters: {'n_layers': 1, 'n_units_l1': 92, 'dropout_l1': 0.3010181555523873, 'batch_size': 64, 'learning_rate': 0.00010576183995567101, 'weight_decay': 4.045011403163091e-05}. Best is trial 5 with value: 109.98445892333984.\n"
     ]
    },
    {
     "name": "stdout",
     "output_type": "stream",
     "text": [
      "Epoch [100/100], Train Loss: 36926.4068, Val Loss: 36320.7057\n",
      "Epoch [10/100], Train Loss: 35018.8934, Val Loss: 34863.3086\n",
      "Epoch [20/100], Train Loss: 16115.2613, Val Loss: 15540.5967\n",
      "Epoch [30/100], Train Loss: 1395.2083, Val Loss: 970.7443\n",
      "Epoch [40/100], Train Loss: 778.1065, Val Loss: 380.6487\n",
      "Epoch [50/100], Train Loss: 689.5684, Val Loss: 232.8834\n",
      "Epoch [60/100], Train Loss: 677.4251, Val Loss: 182.6620\n",
      "Epoch [70/100], Train Loss: 650.4756, Val Loss: 150.6761\n",
      "Epoch [80/100], Train Loss: 590.9285, Val Loss: 137.5496\n"
     ]
    },
    {
     "name": "stderr",
     "output_type": "stream",
     "text": [
      "[I 2025-06-14 10:45:48,580] Trial 10 finished with value: 124.14212799072266 and parameters: {'n_layers': 2, 'n_units_l1': 225, 'dropout_l1': 0.11690070281599522, 'n_units_l2': 230, 'dropout_l2': 0.4721014502064559, 'batch_size': 128, 'learning_rate': 0.0007854228839539728, 'weight_decay': 0.0009801823325740046}. Best is trial 5 with value: 109.98445892333984.\n"
     ]
    },
    {
     "name": "stdout",
     "output_type": "stream",
     "text": [
      "Epoch [90/100], Train Loss: 523.8085, Val Loss: 130.7412\n",
      "Early stopping at epoch 96\n",
      "Epoch [10/100], Train Loss: 35764.4711, Val Loss: 32622.9658\n",
      "Epoch [20/100], Train Loss: 17849.3471, Val Loss: 16077.7266\n",
      "Epoch [30/100], Train Loss: 1671.8949, Val Loss: 1265.6555\n",
      "Epoch [40/100], Train Loss: 947.8328, Val Loss: 414.1515\n",
      "Epoch [50/100], Train Loss: 776.8424, Val Loss: 247.6831\n",
      "Epoch [60/100], Train Loss: 697.0816, Val Loss: 209.0454\n",
      "Epoch [70/100], Train Loss: 795.5032, Val Loss: 171.9860\n",
      "Epoch [80/100], Train Loss: 719.9561, Val Loss: 170.9756\n"
     ]
    },
    {
     "name": "stderr",
     "output_type": "stream",
     "text": [
      "[I 2025-06-14 10:45:50,124] Trial 11 finished with value: 146.1183090209961 and parameters: {'n_layers': 2, 'n_units_l1': 242, 'dropout_l1': 0.10366802338973552, 'n_units_l2': 194, 'dropout_l2': 0.4896282010100944, 'batch_size': 128, 'learning_rate': 0.000790524082278766, 'weight_decay': 0.001348056827829453}. Best is trial 5 with value: 109.98445892333984.\n"
     ]
    },
    {
     "name": "stdout",
     "output_type": "stream",
     "text": [
      "Epoch [90/100], Train Loss: 652.7609, Val Loss: 154.2003\n",
      "Epoch [100/100], Train Loss: 624.7858, Val Loss: 153.1862\n",
      "Epoch [10/100], Train Loss: 30889.0504, Val Loss: 34539.9902\n",
      "Epoch [20/100], Train Loss: 4708.8510, Val Loss: 5189.2324\n",
      "Epoch [30/100], Train Loss: 722.6064, Val Loss: 399.7267\n",
      "Epoch [40/100], Train Loss: 506.9703, Val Loss: 178.5813\n",
      "Epoch [50/100], Train Loss: 512.7705, Val Loss: 132.4632\n",
      "Epoch [60/100], Train Loss: 444.8415, Val Loss: 124.9824\n",
      "Epoch [70/100], Train Loss: 434.6157, Val Loss: 103.1154\n",
      "Epoch [80/100], Train Loss: 414.6536, Val Loss: 101.1497\n"
     ]
    },
    {
     "name": "stderr",
     "output_type": "stream",
     "text": [
      "[I 2025-06-14 10:45:51,551] Trial 12 finished with value: 86.52241516113281 and parameters: {'n_layers': 2, 'n_units_l1': 246, 'dropout_l1': 0.174843480384495, 'n_units_l2': 239, 'dropout_l2': 0.320786683984024, 'batch_size': 128, 'learning_rate': 0.001005453896213294, 'weight_decay': 0.0016824160487714014}. Best is trial 12 with value: 86.52241516113281.\n"
     ]
    },
    {
     "name": "stdout",
     "output_type": "stream",
     "text": [
      "Epoch [90/100], Train Loss: 417.2138, Val Loss: 94.7670\n",
      "Early stopping at epoch 94\n",
      "Epoch [10/100], Train Loss: 35742.7719, Val Loss: 40456.5723\n",
      "Epoch [20/100], Train Loss: 28481.4238, Val Loss: 32531.5186\n",
      "Epoch [30/100], Train Loss: 12056.6932, Val Loss: 14773.1431\n",
      "Epoch [40/100], Train Loss: 1963.9174, Val Loss: 2709.2253\n",
      "Epoch [50/100], Train Loss: 839.6932, Val Loss: 985.8944\n",
      "Epoch [60/100], Train Loss: 754.5538, Val Loss: 572.1147\n",
      "Epoch [70/100], Train Loss: 789.7924, Val Loss: 394.2469\n",
      "Epoch [80/100], Train Loss: 729.3792, Val Loss: 344.6267\n"
     ]
    },
    {
     "name": "stderr",
     "output_type": "stream",
     "text": [
      "[I 2025-06-14 10:45:53,117] Trial 13 finished with value: 293.8261489868164 and parameters: {'n_layers': 2, 'n_units_l1': 151, 'dropout_l1': 0.19412291209392663, 'n_units_l2': 97, 'dropout_l2': 0.2739011447922887, 'batch_size': 128, 'learning_rate': 0.0008030490469729095, 'weight_decay': 0.001945777046863464}. Best is trial 12 with value: 86.52241516113281.\n"
     ]
    },
    {
     "name": "stdout",
     "output_type": "stream",
     "text": [
      "Epoch [90/100], Train Loss: 644.0363, Val Loss: 297.0491\n",
      "Epoch [100/100], Train Loss: 670.9473, Val Loss: 297.8290\n",
      "Epoch [10/100], Train Loss: 19143.8109, Val Loss: 15972.4736\n",
      "Epoch [20/100], Train Loss: 704.8749, Val Loss: 748.3757\n",
      "Epoch [30/100], Train Loss: 505.8425, Val Loss: 351.1943\n",
      "Epoch [40/100], Train Loss: 417.0206, Val Loss: 278.6147\n",
      "Epoch [50/100], Train Loss: 341.2918, Val Loss: 212.5195\n",
      "Epoch [60/100], Train Loss: 302.9237, Val Loss: 171.3020\n",
      "Epoch [70/100], Train Loss: 243.7872, Val Loss: 134.0826\n",
      "Epoch [80/100], Train Loss: 260.0149, Val Loss: 101.5471\n"
     ]
    },
    {
     "name": "stderr",
     "output_type": "stream",
     "text": [
      "[I 2025-06-14 10:45:54,500] Trial 14 finished with value: 59.15256118774414 and parameters: {'n_layers': 1, 'n_units_l1': 152, 'dropout_l1': 0.22417262762394424, 'batch_size': 128, 'learning_rate': 0.009764484417391481, 'weight_decay': 0.008349399359387616}. Best is trial 14 with value: 59.15256118774414.\n"
     ]
    },
    {
     "name": "stdout",
     "output_type": "stream",
     "text": [
      "Epoch [90/100], Train Loss: 193.1143, Val Loss: 68.3324\n",
      "Epoch [100/100], Train Loss: 218.4518, Val Loss: 62.8804\n",
      "Epoch [10/100], Train Loss: 31583.0223, Val Loss: 36228.2891\n",
      "Epoch [20/100], Train Loss: 5288.2516, Val Loss: 5435.9136\n",
      "Epoch [30/100], Train Loss: 928.4748, Val Loss: 534.6576\n",
      "Epoch [40/100], Train Loss: 761.4190, Val Loss: 264.2476\n",
      "Epoch [50/100], Train Loss: 757.8509, Val Loss: 215.1558\n",
      "Epoch [60/100], Train Loss: 692.1031, Val Loss: 176.5483\n",
      "Epoch [70/100], Train Loss: 811.7339, Val Loss: 158.8813\n",
      "Epoch [80/100], Train Loss: 717.3492, Val Loss: 153.9147\n"
     ]
    },
    {
     "name": "stderr",
     "output_type": "stream",
     "text": [
      "[I 2025-06-14 10:45:55,955] Trial 15 finished with value: 136.31534576416016 and parameters: {'n_layers': 2, 'n_units_l1': 147, 'dropout_l1': 0.22866431472590312, 'n_units_l2': 124, 'dropout_l2': 0.2985021347466739, 'batch_size': 128, 'learning_rate': 0.0014826273118949166, 'weight_decay': 0.009851485016312854}. Best is trial 14 with value: 59.15256118774414.\n"
     ]
    },
    {
     "name": "stdout",
     "output_type": "stream",
     "text": [
      "Epoch [90/100], Train Loss: 722.1454, Val Loss: 151.5695\n",
      "Early stopping at epoch 97\n",
      "Epoch [10/100], Train Loss: 38023.1789, Val Loss: 39848.9102\n",
      "Epoch [20/100], Train Loss: 37912.7281, Val Loss: 39729.9180\n",
      "Epoch [30/100], Train Loss: 37753.0687, Val Loss: 39563.2031\n",
      "Epoch [40/100], Train Loss: 37526.4414, Val Loss: 39329.6523\n",
      "Epoch [50/100], Train Loss: 37220.9078, Val Loss: 39013.7686\n",
      "Epoch [60/100], Train Loss: 36837.8141, Val Loss: 38603.4131\n",
      "Epoch [70/100], Train Loss: 36342.8746, Val Loss: 38094.4277\n",
      "Epoch [80/100], Train Loss: 35766.5133, Val Loss: 37487.4941\n"
     ]
    },
    {
     "name": "stderr",
     "output_type": "stream",
     "text": [
      "[I 2025-06-14 10:45:57,301] Trial 16 finished with value: 35988.373046875 and parameters: {'n_layers': 1, 'n_units_l1': 148, 'dropout_l1': 0.1739701697205946, 'batch_size': 128, 'learning_rate': 0.0002892000244460168, 'weight_decay': 0.00024035659369601358}. Best is trial 14 with value: 59.15256118774414.\n"
     ]
    },
    {
     "name": "stdout",
     "output_type": "stream",
     "text": [
      "Epoch [90/100], Train Loss: 35091.6871, Val Loss: 36782.7344\n",
      "Epoch [100/100], Train Loss: 34311.9383, Val Loss: 35988.3730\n",
      "Epoch [10/100], Train Loss: 36560.7395, Val Loss: 33653.8145\n",
      "Epoch [20/100], Train Loss: 26372.5859, Val Loss: 23760.8643\n",
      "Epoch [30/100], Train Loss: 7443.1806, Val Loss: 5750.5439\n",
      "Epoch [40/100], Train Loss: 2336.4978, Val Loss: 766.6086\n",
      "Epoch [50/100], Train Loss: 1680.6360, Val Loss: 428.3959\n",
      "Epoch [60/100], Train Loss: 1925.0628, Val Loss: 350.7008\n",
      "Epoch [70/100], Train Loss: 1778.3979, Val Loss: 299.3092\n",
      "Epoch [80/100], Train Loss: 1523.4656, Val Loss: 246.2076\n"
     ]
    },
    {
     "name": "stderr",
     "output_type": "stream",
     "text": [
      "[I 2025-06-14 10:45:58,816] Trial 17 finished with value: 221.83079528808594 and parameters: {'n_layers': 2, 'n_units_l1': 118, 'dropout_l1': 0.27549336052642054, 'n_units_l2': 48, 'dropout_l2': 0.37749993430702833, 'batch_size': 128, 'learning_rate': 0.00131597511656367, 'weight_decay': 0.0022780306204872995}. Best is trial 14 with value: 59.15256118774414.\n"
     ]
    },
    {
     "name": "stdout",
     "output_type": "stream",
     "text": [
      "Epoch [90/100], Train Loss: 1523.5051, Val Loss: 233.6917\n",
      "Epoch [100/100], Train Loss: 1447.7915, Val Loss: 221.8308\n",
      "Epoch [10/100], Train Loss: 455.4686, Val Loss: 383.1615\n",
      "Epoch [20/100], Train Loss: 251.3814, Val Loss: 146.3751\n",
      "Epoch [30/100], Train Loss: 176.8970, Val Loss: 51.6250\n",
      "Epoch [40/100], Train Loss: 148.1093, Val Loss: 32.2715\n",
      "Epoch [50/100], Train Loss: 163.1891, Val Loss: 23.2062\n",
      "Epoch [60/100], Train Loss: 143.9093, Val Loss: 19.6929\n",
      "Epoch [70/100], Train Loss: 167.2244, Val Loss: 19.4042\n",
      "Epoch [80/100], Train Loss: 138.5547, Val Loss: 21.1861\n"
     ]
    },
    {
     "name": "stderr",
     "output_type": "stream",
     "text": [
      "[I 2025-06-14 10:46:01,946] Trial 18 finished with value: 8.77572078704834 and parameters: {'n_layers': 1, 'n_units_l1': 178, 'dropout_l1': 0.21312814224911433, 'batch_size': 32, 'learning_rate': 0.009834825415160692, 'weight_decay': 0.0006593711606235692}. Best is trial 18 with value: 8.77572078704834.\n"
     ]
    },
    {
     "name": "stdout",
     "output_type": "stream",
     "text": [
      "Epoch [90/100], Train Loss: 161.9166, Val Loss: 15.6250\n",
      "Early stopping at epoch 94\n",
      "Epoch [10/100], Train Loss: 1015.8064, Val Loss: 583.2579\n",
      "Epoch [20/100], Train Loss: 885.2681, Val Loss: 335.7030\n",
      "Epoch [30/100], Train Loss: 696.3746, Val Loss: 160.5835\n",
      "Epoch [40/100], Train Loss: 649.3225, Val Loss: 64.9924\n",
      "Epoch [50/100], Train Loss: 560.2458, Val Loss: 31.7951\n",
      "Epoch [60/100], Train Loss: 574.9976, Val Loss: 40.3897\n",
      "Epoch [70/100], Train Loss: 532.5693, Val Loss: 29.8061\n",
      "Early stopping at epoch 76\n"
     ]
    },
    {
     "name": "stderr",
     "output_type": "stream",
     "text": [
      "[I 2025-06-14 10:46:04,533] Trial 19 finished with value: 19.455764770507812 and parameters: {'n_layers': 1, 'n_units_l1': 81, 'dropout_l1': 0.34394612455377266, 'batch_size': 32, 'learning_rate': 0.009590376112926015, 'weight_decay': 0.00014480735680045333}. Best is trial 18 with value: 8.77572078704834.\n"
     ]
    },
    {
     "name": "stdout",
     "output_type": "stream",
     "text": [
      "\n",
      "Best trial:\n",
      "  Value: 8.7757\n",
      "  Params: \n",
      "    n_layers: 1\n",
      "    n_units_l1: 178\n",
      "    dropout_l1: 0.21312814224911433\n",
      "    batch_size: 32\n",
      "    learning_rate: 0.009834825415160692\n",
      "    weight_decay: 0.0006593711606235692\n",
      "\n",
      "Training final model...\n",
      "Epoch [10/200], Train Loss: 388.9527, Val Loss: 256.5384\n",
      "Epoch [20/200], Train Loss: 202.0493, Val Loss: 60.7365\n",
      "Epoch [30/200], Train Loss: 170.3327, Val Loss: 18.7003\n",
      "Epoch [40/200], Train Loss: 157.7611, Val Loss: 17.0709\n",
      "Epoch [50/200], Train Loss: 152.5294, Val Loss: 20.6394\n",
      "Epoch [60/200], Train Loss: 148.3977, Val Loss: 26.6106\n",
      "Early stopping at epoch 61\n"
     ]
    },
    {
     "data": {
      "image/png": "[encoded data removed]",
      "text/plain": [
       "<Figure size 1000x500 with 1 Axes>"
      ]
     },
     "metadata": {},
     "output_type": "display_data"
    },
    {
     "name": "stdout",
     "output_type": "stream",
     "text": [
      "Test Loss: 13.8983\n"
     ]
    },
    {
     "data": {
      "image/png": "[encoded data removed]",
      "text/plain": [
       "<Figure size 1200x600 with 1 Axes>"
      ]
     },
     "metadata": {},
     "output_type": "display_data"
    }
   ],
   "source": [
    "# Import necessary libraries\n",
    "import numpy as np\n",
    "import pandas as pd\n",
    "import torch\n",
    "import torch.nn as nn\n",
    "import torch.optim as optim\n",
    "from torch.utils.data import DataLoader, TensorDataset\n",
    "from sklearn.model_selection import train_test_split\n",
    "from sklearn.preprocessing import StandardScaler\n",
    "import optuna\n",
    "from optuna.trial import TrialState\n",
    "import matplotlib.pyplot as plt\n",
    "from tqdm import tqdm\n",
    "\n",
    "# For reproducibility\n",
    "torch.manual_seed(42)\n",
    "np.random.seed(42)\n",
    "\n",
    "# Check if CUDA is available\n",
    "device = torch.device('cuda' if torch.cuda.is_available() else 'cpu')\n",
    "print(f\"Using device: {device}\")\n",
    "\n",
    "# Create synthetic data (replace with your dataset)\n",
    "def create_synthetic_data(n_samples=1000, n_features=20):\n",
    "    from sklearn.datasets import make_regression\n",
    "    X, y = make_regression(\n",
    "        n_samples=n_samples,\n",
    "        n_features=n_features,\n",
    "        n_informative=10,\n",
    "        noise=0.1,\n",
    "        random_state=42\n",
    "    )\n",
    "    return X, y.reshape(-1, 1)  # Reshape y to (n_samples, 1)\n",
    "\n",
    "# Create or load your data\n",
    "X, y = create_synthetic_data()\n",
    "\n",
    "# Split the data\n",
    "X_train, X_test, y_train, y_test = train_test_split(\n",
    "    X, y, test_size=0.2, random_state=42\n",
    ")\n",
    "\n",
    "# Standardize the features\n",
    "scaler = StandardScaler()\n",
    "X_train_scaled = scaler.fit_transform(X_train)\n",
    "X_test_scaled = scaler.transform(X_test)\n",
    "\n",
    "# Convert to PyTorch tensors\n",
    "X_train_tensor = torch.FloatTensor(X_train_scaled).to(device)\n",
    "y_train_tensor = torch.FloatTensor(y_train).to(device)\n",
    "X_test_tensor = torch.FloatTensor(X_test_scaled).to(device)\n",
    "y_test_tensor = torch.FloatTensor(y_test).to(device)\n",
    "\n",
    "# Create PyTorch datasets\n",
    "train_dataset = TensorDataset(X_train_tensor, y_train_tensor)\n",
    "test_dataset = TensorDataset(X_test_tensor, y_test_tensor)\n",
    "\n",
    "# Define the neural network\n",
    "class RegressionNN(nn.Module):\n",
    "    def __init__(self, input_dim, hidden_dims, dropout_rate):\n",
    "        super(RegressionNN, self).__init__()\n",
    "        layers = []\n",
    "        \n",
    "        # Input layer\n",
    "        layers.append(nn.Linear(input_dim, hidden_dims[0]))\n",
    "        layers.append(nn.ReLU())\n",
    "        layers.append(nn.Dropout(dropout_rate[0]))\n",
    "        \n",
    "        # Hidden layers\n",
    "        for i in range(1, len(hidden_dims)):\n",
    "            layers.append(nn.Linear(hidden_dims[i-1], hidden_dims[i]))\n",
    "            layers.append(nn.ReLU())\n",
    "            layers.append(nn.Dropout(dropout_rate[i]))\n",
    "        \n",
    "        # Output layer\n",
    "        layers.append(nn.Linear(hidden_dims[-1], 1))\n",
    "        \n",
    "        self.model = nn.Sequential(*layers)\n",
    "    \n",
    "    def forward(self, x):\n",
    "        return self.model(x)\n",
    "\n",
    "def train_model(model, train_loader, val_loader, criterion, optimizer, device, n_epochs=100, patience=10):\n",
    "    best_val_loss = float('inf')\n",
    "    patience_counter = 0\n",
    "    train_losses = []\n",
    "    val_losses = []\n",
    "    \n",
    "    for epoch in range(n_epochs):\n",
    "        # Training\n",
    "        model.train()\n",
    "        train_loss = 0.0\n",
    "        for X_batch, y_batch in train_loader:\n",
    "            X_batch, y_batch = X_batch.to(device), y_batch.to(device)\n",
    "            \n",
    "            # Forward pass\n",
    "            outputs = model(X_batch)\n",
    "            loss = criterion(outputs, y_batch)\n",
    "            \n",
    "            # Backward and optimize\n",
    "            optimizer.zero_grad()\n",
    "            loss.backward()\n",
    "            optimizer.step()\n",
    "            \n",
    "            train_loss += loss.item()\n",
    "        \n",
    "        # Validation\n",
    "        model.eval()\n",
    "        val_loss = 0.0\n",
    "        with torch.no_grad():\n",
    "            for X_batch, y_batch in val_loader:\n",
    "                X_batch, y_batch = X_batch.to(device), y_batch.to(device)\n",
    "                outputs = model(X_batch)\n",
    "                val_loss += criterion(outputs, y_batch).item()\n",
    "        \n",
    "        # Calculate average losses\n",
    "        train_loss /= len(train_loader)\n",
    "        val_loss /= len(val_loader)\n",
    "        train_losses.append(train_loss)\n",
    "        val_losses.append(val_loss)\n",
    "        \n",
    "        # Early stopping\n",
    "        if val_loss < best_val_loss:\n",
    "            best_val_loss = val_loss\n",
    "            patience_counter = 0\n",
    "            # Save best model\n",
    "            torch.save(model.state_dict(), 'best_model.pth')\n",
    "        else:\n",
    "            patience_counter += 1\n",
    "            if patience_counter >= patience:\n",
    "                print(f'Early stopping at epoch {epoch+1}')\n",
    "                break\n",
    "        \n",
    "        if (epoch + 1) % 10 == 0:\n",
    "            print(f'Epoch [{epoch+1}/{n_epochs}], Train Loss: {train_loss:.4f}, Val Loss: {val_loss:.4f}')\n",
    "    \n",
    "    # Load best model\n",
    "    model.load_state_dict(torch.load('best_model.pth'))\n",
    "    return model, train_losses, val_losses\n",
    "\n",
    "def objective(trial):\n",
    "    # Hyperparameters to optimize\n",
    "    n_layers = trial.suggest_int('n_layers', 1, 3)\n",
    "    hidden_dims = []\n",
    "    dropout_rates = []\n",
    "    \n",
    "    # First hidden layer\n",
    "    hidden_dim = trial.suggest_int('n_units_l1', 16, 256, log=True)\n",
    "    hidden_dims.append(hidden_dim)\n",
    "    dropout_rate = trial.suggest_float('dropout_l1', 0.1, 0.5)\n",
    "    dropout_rates.append(dropout_rate)\n",
    "    \n",
    "    # Additional hidden layers\n",
    "    for i in range(1, n_layers):\n",
    "        hidden_dim = trial.suggest_int(f'n_units_l{i+1}', 16, 256, log=True)\n",
    "        hidden_dims.append(hidden_dim)\n",
    "        dropout_rate = trial.suggest_float(f'dropout_l{i+1}', 0.1, 0.5)\n",
    "        dropout_rates.append(dropout_rate)\n",
    "    \n",
    "    # Training parameters\n",
    "    batch_size = trial.suggest_categorical('batch_size', [16, 32, 64, 128])\n",
    "    learning_rate = trial.suggest_float('learning_rate', 1e-5, 1e-2, log=True)\n",
    "    weight_decay = trial.suggest_float('weight_decay', 1e-5, 1e-2, log=True)\n",
    "    \n",
    "    # Create data loaders\n",
    "    train_size = int(0.8 * len(train_dataset))\n",
    "    val_size = len(train_dataset) - train_size\n",
    "    train_subset, val_subset = torch.utils.data.random_split(\n",
    "        train_dataset, [train_size, val_size]\n",
    "    )\n",
    "    \n",
    "    train_loader = DataLoader(\n",
    "        train_subset, batch_size=batch_size, shuffle=True\n",
    "    )\n",
    "    val_loader = DataLoader(\n",
    "        val_subset, batch_size=batch_size, shuffle=False\n",
    "    )\n",
    "    \n",
    "    # Initialize model\n",
    "    model = RegressionNN(\n",
    "        input_dim=X_train.shape[1],\n",
    "        hidden_dims=hidden_dims,\n",
    "        dropout_rate=dropout_rates\n",
    "    ).to(device)\n",
    "    \n",
    "    # Loss and optimizer\n",
    "    criterion = nn.MSELoss()\n",
    "    optimizer = optim.Adam(\n",
    "        model.parameters(), \n",
    "        lr=learning_rate, \n",
    "        weight_decay=weight_decay\n",
    "    )\n",
    "    \n",
    "    # Train the model\n",
    "    model, train_losses, val_losses = train_model(\n",
    "        model, train_loader, val_loader, criterion, optimizer, \n",
    "        device, n_epochs=100, patience=10\n",
    "    )\n",
    "    \n",
    "    # Return the best validation loss\n",
    "    return min(val_losses)\n",
    "\n",
    "# Create study\n",
    "study = optuna.create_study(direction='minimize')\n",
    "study.optimize(objective, n_trials=20)\n",
    "\n",
    "# Print best trial\n",
    "print('\\nBest trial:')\n",
    "trial = study.best_trial\n",
    "print(f'  Value: {trial.value:.4f}')\n",
    "print('  Params: ')\n",
    "for key, value in trial.params.items():\n",
    "    print(f'    {key}: {value}')\n",
    "\n",
    "# Train final model with best hyperparameters\n",
    "n_layers = sum(1 for k in trial.params if k.startswith('n_units_l'))\n",
    "hidden_dims = [trial.params[f'n_units_l{i+1}'] for i in range(n_layers)]\n",
    "dropout_rates = [trial.params[f'dropout_l{i+1}'] for i in range(n_layers)]\n",
    "\n",
    "# Create final model\n",
    "final_model = RegressionNN(\n",
    "    input_dim=X_train.shape[1],\n",
    "    hidden_dims=hidden_dims,\n",
    "    dropout_rate=dropout_rates\n",
    ").to(device)\n",
    "\n",
    "# Create data loaders\n",
    "batch_size = trial.params['batch_size']\n",
    "train_loader = DataLoader(\n",
    "    train_dataset, batch_size=batch_size, shuffle=True\n",
    ")\n",
    "test_loader = DataLoader(\n",
    "    test_dataset, batch_size=batch_size, shuffle=False\n",
    ")\n",
    "\n",
    "# Loss and optimizer\n",
    "criterion = nn.MSELoss()\n",
    "optimizer = optim.Adam(\n",
    "    final_model.parameters(), \n",
    "    lr=trial.params['learning_rate'],\n",
    "    weight_decay=trial.params['weight_decay']\n",
    ")\n",
    "\n",
    "# Train the final model\n",
    "print(\"\\nTraining final model...\")\n",
    "final_model, train_losses, val_losses = train_model(\n",
    "    final_model, train_loader, DataLoader(\n",
    "        test_dataset, batch_size=batch_size, shuffle=False\n",
    "    ), \n",
    "    criterion, optimizer, device, n_epochs=200, patience=20\n",
    ")\n",
    "\n",
    "# Plot training history\n",
    "plt.figure(figsize=(10, 5))\n",
    "plt.plot(train_losses, label='Training Loss')\n",
    "plt.plot(val_losses, label='Validation Loss')\n",
    "plt.title('Model Loss')\n",
    "plt.xlabel('Epoch')\n",
    "plt.ylabel('Loss')\n",
    "plt.legend()\n",
    "plt.show()\n",
    "\n",
    "# Evaluate on test set\n",
    "final_model.eval()\n",
    "test_loss = 0.0\n",
    "with torch.no_grad():\n",
    "    for X_batch, y_batch in test_loader:\n",
    "        X_batch, y_batch = X_batch.to(device), y_batch.to(device)\n",
    "        outputs = final_model(X_batch)\n",
    "        test_loss += criterion(outputs, y_batch).item()\n",
    "\n",
    "test_loss /= len(test_loader)\n",
    "print(f'Test Loss: {test_loss:.4f}')\n",
    "\n",
    "# Feature importance (using permutation importance)\n",
    "def calculate_feature_importance(model, X, y, n_repeats=10):\n",
    "    model.eval()\n",
    "    baseline_loss = 0.0\n",
    "    with torch.no_grad():\n",
    "        for i in range(len(X)):\n",
    "            inputs = X[i:i+1]\n",
    "            targets = y[i:i+1]\n",
    "            outputs = model(inputs)\n",
    "            baseline_loss += criterion(outputs, targets).item()\n",
    "    baseline_loss /= len(X)\n",
    "    \n",
    "    feature_importance = np.zeros(X.shape[1])\n",
    "    for feature_idx in range(X.shape[1]):\n",
    "        total_loss = 0.0\n",
    "        for _ in range(n_repeats):\n",
    "            X_perturbed = X.clone()\n",
    "            # Shuffle the feature\n",
    "            X_perturbed[:, feature_idx] = X_perturbed[torch.randperm(X_perturbed.size(0)), feature_idx]\n",
    "            \n",
    "            with torch.no_grad():\n",
    "                for i in range(len(X_perturbed)):\n",
    "                    inputs = X_perturbed[i:i+1]\n",
    "                    targets = y[i:i+1]\n",
    "                    outputs = model(inputs)\n",
    "                    total_loss += criterion(outputs, targets).item()\n",
    "        \n",
    "        total_loss /= (len(X) * n_repeats)\n",
    "        feature_importance[feature_idx] = total_loss - baseline_loss\n",
    "    \n",
    "    return feature_importance\n",
    "\n",
    "# Calculate feature importance\n",
    "feature_importance = calculate_feature_importance(\n",
    "    final_model, X_test_tensor, y_test_tensor\n",
    ")\n",
    "\n",
    "# Plot feature importance\n",
    "plt.figure(figsize=(12, 6))\n",
    "plt.bar(range(len(feature_importance)), feature_importance)\n",
    "plt.title('Feature Importance (Permutation Importance)')\n",
    "plt.xlabel('Feature Index')\n",
    "plt.ylabel('Importance')\n",
    "plt.show()"
   ]
  },
  {
   "cell_type": "code",
   "execution_count": null,
   "metadata": {},
   "outputs": [],
   "source": []
  }
 ],
 "metadata": {
  "kaggle": {
   "accelerator": "none",
   "dataSources": [
    {
     "databundleVersionId": 12651513,
     "sourceId": 104857,
     "sourceType": "competition"
    }
   ],
   "dockerImageVersionId": 31040,
   "isGpuEnabled": false,
   "isInternetEnabled": true,
   "language": "python",
   "sourceType": "notebook"
  },
  "kernelspec": {
   "display_name": "Python 3 (ipykernel)",
   "language": "python",
   "name": "python3"
  },
  "language_info": {
   "codemirror_mode": {
    "name": "ipython",
    "version": 3
   },
   "file_extension": ".py",
   "mimetype": "text/x-python",
   "name": "python",
   "nbconvert_exporter": "python",
   "pygments_lexer": "ipython3",
   "version": "3.11.11"
  }
 },
 "nbformat": 4,
 "nbformat_minor": 4
}
