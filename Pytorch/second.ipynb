{
 "cells": [
  {
   "cell_type": "code",
   "id": "initial_id",
   "metadata": {
    "collapsed": true,
    "ExecuteTime": {
     "end_time": "2025-06-07T04:43:57.750563Z",
     "start_time": "2025-06-07T04:43:57.742609Z"
    }
   },
   "source": [
    "from torch.nn.functional import binary_cross_entropy\n",
    "\n",
    "\n",
    "def dy_dx(x):\n",
    "    return 2*x\n",
    "\n",
    "dy_dx(3)"
   ],
   "outputs": [
    {
     "data": {
      "text/plain": [
       "6"
      ]
     },
     "execution_count": 28,
     "metadata": {},
     "output_type": "execute_result"
    }
   ],
   "execution_count": 28
  },
  {
   "metadata": {
    "ExecuteTime": {
     "end_time": "2025-06-07T04:43:57.811050Z",
     "start_time": "2025-06-07T04:43:57.804450Z"
    }
   },
   "cell_type": "code",
   "source": [
    "import torch\n",
    "x = torch.tensor(1,device='cuda',requires_grad=True,dtype=torch.float)"
   ],
   "id": "84eb004a2f6cf31b",
   "outputs": [],
   "execution_count": 29
  },
  {
   "metadata": {
    "ExecuteTime": {
     "end_time": "2025-06-07T04:43:57.852642Z",
     "start_time": "2025-06-07T04:43:57.846827Z"
    }
   },
   "cell_type": "code",
   "source": "y = x**2",
   "id": "c80d26f70bfe6c2c",
   "outputs": [],
   "execution_count": 30
  },
  {
   "metadata": {
    "ExecuteTime": {
     "end_time": "2025-06-07T04:43:57.909710Z",
     "start_time": "2025-06-07T04:43:57.905248Z"
    }
   },
   "cell_type": "code",
   "source": "z = torch.sin(y)",
   "id": "2636a6dda9ecaea2",
   "outputs": [],
   "execution_count": 31
  },
  {
   "metadata": {
    "ExecuteTime": {
     "end_time": "2025-06-07T04:43:57.973018Z",
     "start_time": "2025-06-07T04:43:57.963706Z"
    }
   },
   "cell_type": "code",
   "source": "z",
   "id": "f3a7cbed54edae1c",
   "outputs": [
    {
     "data": {
      "text/plain": [
       "tensor(0.8415, device='cuda:0', grad_fn=<SinBackward0>)"
      ]
     },
     "execution_count": 32,
     "metadata": {},
     "output_type": "execute_result"
    }
   ],
   "execution_count": 32
  },
  {
   "metadata": {
    "ExecuteTime": {
     "end_time": "2025-06-07T04:43:58.034625Z",
     "start_time": "2025-06-07T04:43:58.025921Z"
    }
   },
   "cell_type": "code",
   "source": "z.backward()",
   "id": "49dc1c770aad4221",
   "outputs": [],
   "execution_count": 33
  },
  {
   "metadata": {
    "ExecuteTime": {
     "end_time": "2025-06-07T04:43:58.092389Z",
     "start_time": "2025-06-07T04:43:58.084525Z"
    }
   },
   "cell_type": "code",
   "source": "x.grad",
   "id": "14a7f6ded1e9922d",
   "outputs": [
    {
     "data": {
      "text/plain": [
       "tensor(1.0806, device='cuda:0')"
      ]
     },
     "execution_count": 34,
     "metadata": {},
     "output_type": "execute_result"
    }
   ],
   "execution_count": 34
  },
  {
   "metadata": {
    "ExecuteTime": {
     "end_time": "2025-06-07T04:43:58.183957Z",
     "start_time": "2025-06-07T04:43:58.174018Z"
    }
   },
   "cell_type": "code",
   "source": "torch.cos(x**2)*2*x",
   "id": "ddb84767ed1148cc",
   "outputs": [
    {
     "data": {
      "text/plain": [
       "tensor(1.0806, device='cuda:0', grad_fn=<MulBackward0>)"
      ]
     },
     "execution_count": 35,
     "metadata": {},
     "output_type": "execute_result"
    }
   ],
   "execution_count": 35
  },
  {
   "metadata": {
    "ExecuteTime": {
     "end_time": "2025-06-07T04:43:58.281281Z",
     "start_time": "2025-06-07T04:43:58.267624Z"
    }
   },
   "cell_type": "code",
   "source": [
    "x = torch.tensor(6.7,device='cuda',dtype=torch.float)\n",
    "y= torch.tensor(0.0,device='cuda',dtype=torch.float)\n",
    "\n",
    "w = torch.tensor(1.0 ,device='cuda',dtype=torch.float,requires_grad=True)\n",
    "b = torch.tensor(0.0,device='cuda',dtype=torch.float,requires_grad=True)\n",
    "z = w*x + b\n",
    "y_pred = torch.sigmoid(z)\n",
    "y_pred"
   ],
   "id": "c6dc705c611d9df5",
   "outputs": [
    {
     "data": {
      "text/plain": [
       "tensor(0.9988, device='cuda:0', grad_fn=<SigmoidBackward0>)"
      ]
     },
     "execution_count": 36,
     "metadata": {},
     "output_type": "execute_result"
    }
   ],
   "execution_count": 36
  },
  {
   "metadata": {
    "ExecuteTime": {
     "end_time": "2025-06-07T04:43:58.340374Z",
     "start_time": "2025-06-07T04:43:58.335055Z"
    }
   },
   "cell_type": "code",
   "source": [
    "def binary_cross_entropy_loss(prediction,target):\n",
    "    epsilon = 1e-8\n",
    "    prediction = torch.clamp(prediction,-epsilon,1-epsilon)\n",
    "    return -(target* torch.log(prediction)+(1-target)*torch.log(1-prediction))"
   ],
   "id": "b5c32c24934e2846",
   "outputs": [],
   "execution_count": 37
  },
  {
   "metadata": {
    "ExecuteTime": {
     "end_time": "2025-06-07T04:43:58.392236Z",
     "start_time": "2025-06-07T04:43:58.386284Z"
    }
   },
   "cell_type": "code",
   "source": "loss = binary_cross_entropy_loss(y_pred, y)",
   "id": "c0bc62fc67aa413f",
   "outputs": [],
   "execution_count": 38
  },
  {
   "metadata": {
    "ExecuteTime": {
     "end_time": "2025-06-07T04:43:58.448158Z",
     "start_time": "2025-06-07T04:43:58.437990Z"
    }
   },
   "cell_type": "code",
   "source": "loss",
   "id": "840ed8deb7a8ac2e",
   "outputs": [
    {
     "data": {
      "text/plain": [
       "tensor(6.7012, device='cuda:0', grad_fn=<NegBackward0>)"
      ]
     },
     "execution_count": 39,
     "metadata": {},
     "output_type": "execute_result"
    }
   ],
   "execution_count": 39
  },
  {
   "metadata": {
    "ExecuteTime": {
     "end_time": "2025-06-07T04:43:58.533980Z",
     "start_time": "2025-06-07T04:43:58.525267Z"
    }
   },
   "cell_type": "code",
   "source": "z",
   "id": "10250000029f4062",
   "outputs": [
    {
     "data": {
      "text/plain": [
       "tensor(6.7000, device='cuda:0', grad_fn=<AddBackward0>)"
      ]
     },
     "execution_count": 40,
     "metadata": {},
     "output_type": "execute_result"
    }
   ],
   "execution_count": 40
  },
  {
   "metadata": {
    "ExecuteTime": {
     "end_time": "2025-06-07T05:27:18.417308Z",
     "start_time": "2025-06-07T05:27:18.285721Z"
    }
   },
   "cell_type": "code",
   "source": "loss.backward()",
   "id": "7333d776c5b94018",
   "outputs": [],
   "execution_count": 41
  },
  {
   "metadata": {
    "ExecuteTime": {
     "end_time": "2025-06-07T05:27:50.227632Z",
     "start_time": "2025-06-07T05:27:50.215449Z"
    }
   },
   "cell_type": "code",
   "source": [
    "print(w.grad)\n",
    " print(b.grad)"
   ],
   "id": "8e0efe24ee7e014e",
   "outputs": [
    {
     "name": "stdout",
     "output_type": "stream",
     "text": [
      "tensor(6.6918, device='cuda:0')\n",
      "tensor(0.9988, device='cuda:0')\n"
     ]
    }
   ],
   "execution_count": 42
  },
  {
   "metadata": {
    "ExecuteTime": {
     "end_time": "2025-06-07T06:41:53.125247Z",
     "start_time": "2025-06-07T06:41:53.076532Z"
    }
   },
   "cell_type": "code",
   "source": [
    "x1 = torch.tensor([1,2,3,4],requires_grad=True,device='cuda',dtype=torch.float)\n",
    "y = (x1**2).mean()"
   ],
   "id": "dcc272e70d5efc03",
   "outputs": [],
   "execution_count": 43
  },
  {
   "metadata": {
    "ExecuteTime": {
     "end_time": "2025-06-07T06:41:57.114182Z",
     "start_time": "2025-06-07T06:41:57.096881Z"
    }
   },
   "cell_type": "code",
   "source": "y.backward()",
   "id": "3686ebb8d07d6e3b",
   "outputs": [],
   "execution_count": 44
  },
  {
   "metadata": {
    "ExecuteTime": {
     "end_time": "2025-06-07T06:42:03.511265Z",
     "start_time": "2025-06-07T06:42:03.499594Z"
    }
   },
   "cell_type": "code",
   "source": "x1.grad",
   "id": "b44706d5db34a064",
   "outputs": [
    {
     "data": {
      "text/plain": [
       "tensor([0.5000, 1.0000, 1.5000, 2.0000], device='cuda:0')"
      ]
     },
     "execution_count": 45,
     "metadata": {},
     "output_type": "execute_result"
    }
   ],
   "execution_count": 45
  },
  {
   "metadata": {
    "ExecuteTime": {
     "end_time": "2025-06-07T06:48:15.301183Z",
     "start_time": "2025-06-07T06:48:15.290143Z"
    }
   },
   "cell_type": "code",
   "source": [
    "#gradients accumlate hote rehte hai and they do not clear by their own isliye we need to manually clear them up\n",
    "\n",
    "x1.grad.zero_()"
   ],
   "id": "4d91d621858b7366",
   "outputs": [
    {
     "data": {
      "text/plain": [
       "tensor([0., 0., 0., 0.], device='cuda:0')"
      ]
     },
     "execution_count": 46,
     "metadata": {},
     "output_type": "execute_result"
    }
   ],
   "execution_count": 46
  },
  {
   "metadata": {},
   "cell_type": "code",
   "outputs": [],
   "execution_count": null,
   "source": "",
   "id": "8c7618eb65d6c326"
  }
 ],
 "metadata": {
  "kernelspec": {
   "display_name": "Python 3",
   "language": "python",
   "name": "python3"
  },
  "language_info": {
   "codemirror_mode": {
    "name": "ipython",
    "version": 2
   },
   "file_extension": ".py",
   "mimetype": "text/x-python",
   "name": "python",
   "nbconvert_exporter": "python",
   "pygments_lexer": "ipython2",
   "version": "2.7.6"
  }
 },
 "nbformat": 4,
 "nbformat_minor": 5
}
