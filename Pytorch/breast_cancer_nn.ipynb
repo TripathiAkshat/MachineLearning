{
 "cells": [
  {
   "cell_type": "code",
   "id": "initial_id",
   "metadata": {
    "collapsed": true,
    "ExecuteTime": {
     "end_time": "2025-06-07T14:23:24.199691Z",
     "start_time": "2025-06-07T14:23:24.192512Z"
    }
   },
   "source": [
    "from fontTools.misc.bezierTools import epsilon\n",
    "from sklearn.datasets import load_breast_cancer\n",
    "from sklearn.metrics import accuracy_score\n",
    "from sklearn.model_selection import train_test_split\n",
    "from sklearn.preprocessing import StandardScaler\n",
    "import torch"
   ],
   "outputs": [],
   "execution_count": 165
  },
  {
   "metadata": {
    "ExecuteTime": {
     "end_time": "2025-06-07T14:23:24.335813Z",
     "start_time": "2025-06-07T14:23:24.318478Z"
    }
   },
   "cell_type": "code",
   "source": "data = load_breast_cancer()",
   "id": "839d90624e6ab4c5",
   "outputs": [],
   "execution_count": 166
  },
  {
   "metadata": {
    "ExecuteTime": {
     "end_time": "2025-06-07T14:23:24.463321Z",
     "start_time": "2025-06-07T14:23:24.458285Z"
    }
   },
   "cell_type": "code",
   "source": "print(data.DESCR)",
   "id": "aff1b7336cf233b8",
   "outputs": [
    {
     "name": "stdout",
     "output_type": "stream",
     "text": [
      ".. _breast_cancer_dataset:\n",
      "\n",
      "Breast cancer wisconsin (diagnostic) dataset\n",
      "--------------------------------------------\n",
      "\n",
      "**Data Set Characteristics:**\n",
      "\n",
      ":Number of Instances: 569\n",
      "\n",
      ":Number of Attributes: 30 numeric, predictive attributes and the class\n",
      "\n",
      ":Attribute Information:\n",
      "    - radius (mean of distances from center to points on the perimeter)\n",
      "    - texture (standard deviation of gray-scale values)\n",
      "    - perimeter\n",
      "    - area\n",
      "    - smoothness (local variation in radius lengths)\n",
      "    - compactness (perimeter^2 / area - 1.0)\n",
      "    - concavity (severity of concave portions of the contour)\n",
      "    - concave points (number of concave portions of the contour)\n",
      "    - symmetry\n",
      "    - fractal dimension (\"coastline approximation\" - 1)\n",
      "\n",
      "    The mean, standard error, and \"worst\" or largest (mean of the three\n",
      "    worst/largest values) of these features were computed for each image,\n",
      "    resulting in 30 features.  For instance, field 0 is Mean Radius, field\n",
      "    10 is Radius SE, field 20 is Worst Radius.\n",
      "\n",
      "    - class:\n",
      "            - WDBC-Malignant\n",
      "            - WDBC-Benign\n",
      "\n",
      ":Summary Statistics:\n",
      "\n",
      "===================================== ====== ======\n",
      "                                        Min    Max\n",
      "===================================== ====== ======\n",
      "radius (mean):                        6.981  28.11\n",
      "texture (mean):                       9.71   39.28\n",
      "perimeter (mean):                     43.79  188.5\n",
      "area (mean):                          143.5  2501.0\n",
      "smoothness (mean):                    0.053  0.163\n",
      "compactness (mean):                   0.019  0.345\n",
      "concavity (mean):                     0.0    0.427\n",
      "concave points (mean):                0.0    0.201\n",
      "symmetry (mean):                      0.106  0.304\n",
      "fractal dimension (mean):             0.05   0.097\n",
      "radius (standard error):              0.112  2.873\n",
      "texture (standard error):             0.36   4.885\n",
      "perimeter (standard error):           0.757  21.98\n",
      "area (standard error):                6.802  542.2\n",
      "smoothness (standard error):          0.002  0.031\n",
      "compactness (standard error):         0.002  0.135\n",
      "concavity (standard error):           0.0    0.396\n",
      "concave points (standard error):      0.0    0.053\n",
      "symmetry (standard error):            0.008  0.079\n",
      "fractal dimension (standard error):   0.001  0.03\n",
      "radius (worst):                       7.93   36.04\n",
      "texture (worst):                      12.02  49.54\n",
      "perimeter (worst):                    50.41  251.2\n",
      "area (worst):                         185.2  4254.0\n",
      "smoothness (worst):                   0.071  0.223\n",
      "compactness (worst):                  0.027  1.058\n",
      "concavity (worst):                    0.0    1.252\n",
      "concave points (worst):               0.0    0.291\n",
      "symmetry (worst):                     0.156  0.664\n",
      "fractal dimension (worst):            0.055  0.208\n",
      "===================================== ====== ======\n",
      "\n",
      ":Missing Attribute Values: None\n",
      "\n",
      ":Class Distribution: 212 - Malignant, 357 - Benign\n",
      "\n",
      ":Creator:  Dr. William H. Wolberg, W. Nick Street, Olvi L. Mangasarian\n",
      "\n",
      ":Donor: Nick Street\n",
      "\n",
      ":Date: November, 1995\n",
      "\n",
      "This is a copy of UCI ML Breast Cancer Wisconsin (Diagnostic) datasets.\n",
      "https://goo.gl/U2Uwz2\n",
      "\n",
      "Features are computed from a digitized image of a fine needle\n",
      "aspirate (FNA) of a breast mass.  They describe\n",
      "characteristics of the cell nuclei present in the image.\n",
      "\n",
      "Separating plane described above was obtained using\n",
      "Multisurface Method-Tree (MSM-T) [K. P. Bennett, \"Decision Tree\n",
      "Construction Via Linear Programming.\" Proceedings of the 4th\n",
      "Midwest Artificial Intelligence and Cognitive Science Society,\n",
      "pp. 97-101, 1992], a classification method which uses linear\n",
      "programming to construct a decision tree.  Relevant features\n",
      "were selected using an exhaustive search in the space of 1-4\n",
      "features and 1-3 separating planes.\n",
      "\n",
      "The actual linear program used to obtain the separating plane\n",
      "in the 3-dimensional space is that described in:\n",
      "[K. P. Bennett and O. L. Mangasarian: \"Robust Linear\n",
      "Programming Discrimination of Two Linearly Inseparable Sets\",\n",
      "Optimization Methods and Software 1, 1992, 23-34].\n",
      "\n",
      "This database is also available through the UW CS ftp server:\n",
      "\n",
      "ftp ftp.cs.wisc.edu\n",
      "cd math-prog/cpo-dataset/machine-learn/WDBC/\n",
      "\n",
      ".. dropdown:: References\n",
      "\n",
      "  - W.N. Street, W.H. Wolberg and O.L. Mangasarian. Nuclear feature extraction\n",
      "    for breast tumor diagnosis. IS&T/SPIE 1993 International Symposium on\n",
      "    Electronic Imaging: Science and Technology, volume 1905, pages 861-870,\n",
      "    San Jose, CA, 1993.\n",
      "  - O.L. Mangasarian, W.N. Street and W.H. Wolberg. Breast cancer diagnosis and\n",
      "    prognosis via linear programming. Operations Research, 43(4), pages 570-577,\n",
      "    July-August 1995.\n",
      "  - W.H. Wolberg, W.N. Street, and O.L. Mangasarian. Machine learning techniques\n",
      "    to diagnose breast cancer from fine-needle aspirates. Cancer Letters 77 (1994)\n",
      "    163-171.\n",
      "\n"
     ]
    }
   ],
   "execution_count": 167
  },
  {
   "metadata": {
    "ExecuteTime": {
     "end_time": "2025-06-07T14:23:24.591075Z",
     "start_time": "2025-06-07T14:23:24.574348Z"
    }
   },
   "cell_type": "code",
   "source": [
    "X = data.data\n",
    "y = data.target\n",
    "X_train, X_test, y_train, y_test = train_test_split(X, y, test_size=0.2)\n",
    "scaler = StandardScaler()\n",
    "X_train_d = torch.Tensor(scaler.fit_transform(X_train))\n",
    "X_train_d.to('cuda')\n",
    "Y_train_d = torch.Tensor(y_train)\n",
    "Y_train_d.to('cuda')\n",
    "Y_test_d = torch.Tensor(y_test)\n",
    "Y_test_d.to('cuda')\n",
    "X_test_d = torch.Tensor(scaler.transform(X_test))\n",
    "X_test_d.to('cuda')"
   ],
   "id": "f53901161ab7d81f",
   "outputs": [
    {
     "data": {
      "text/plain": [
       "tensor([[-0.7930, -0.2138, -0.7313,  ...,  0.1310,  0.6632,  2.6410],\n",
       "        [-0.8163,  0.1843, -0.8152,  ..., -1.4482,  0.6374, -1.0436],\n",
       "        [ 0.4269,  0.4751,  0.4895,  ...,  1.5551,  0.1725,  1.2181],\n",
       "        ...,\n",
       "        [ 0.2061,  1.5096,  0.1440,  ..., -0.0602, -0.2795, -0.7956],\n",
       "        [-0.3661,  2.4655, -0.4186,  ..., -0.7523, -0.7863, -1.0653],\n",
       "        [-0.0756,  0.7635, -0.0276,  ...,  0.8384,  0.2964,  0.5627]],\n",
       "       device='cuda:0')"
      ]
     },
     "execution_count": 168,
     "metadata": {},
     "output_type": "execute_result"
    }
   ],
   "execution_count": 168
  },
  {
   "metadata": {
    "ExecuteTime": {
     "end_time": "2025-06-07T14:23:24.692474Z",
     "start_time": "2025-06-07T14:23:24.685601Z"
    }
   },
   "cell_type": "code",
   "source": "X_test_d.dtype",
   "id": "7c575cb4b1d6609d",
   "outputs": [
    {
     "data": {
      "text/plain": [
       "torch.float32"
      ]
     },
     "execution_count": 169,
     "metadata": {},
     "output_type": "execute_result"
    }
   ],
   "execution_count": 169
  },
  {
   "metadata": {
    "ExecuteTime": {
     "end_time": "2025-06-07T14:23:24.939269Z",
     "start_time": "2025-06-07T14:23:24.933092Z"
    }
   },
   "cell_type": "code",
   "source": "X_train_d.shape",
   "id": "1d8beeb60f6fa003",
   "outputs": [
    {
     "data": {
      "text/plain": [
       "torch.Size([455, 30])"
      ]
     },
     "execution_count": 170,
     "metadata": {},
     "output_type": "execute_result"
    }
   ],
   "execution_count": 170
  },
  {
   "metadata": {
    "ExecuteTime": {
     "end_time": "2025-06-07T14:23:25.132385Z",
     "start_time": "2025-06-07T14:23:25.121739Z"
    }
   },
   "cell_type": "code",
   "source": [
    "class Mysimplenn:\n",
    "    def __init__(self,X):\n",
    "        self.weights = torch.rand(X.shape[1],1,dtype=torch.float32,requires_grad=True)\n",
    "        self.bias = torch.zeros(1,1,dtype=torch.float32,requires_grad=True)\n",
    "    def forward(self,X):\n",
    "         z = torch.matmul(X,self.weights)+self.bias\n",
    "         y_pred = torch.sigmoid(z)\n",
    "         return y_pred\n",
    "    def loss_function(self,y_pred,y):\n",
    "        epsilon = 1e-7\n",
    "        y_pred = torch.clamp(y_pred, epsilon, 1-epsilon)\n",
    "        loss = -(y*torch.log(y_pred)+(1-y)*torch.log(1-y_pred)).mean()\n",
    "        return loss\n",
    "\n"
   ],
   "id": "79087b39e74a495b",
   "outputs": [],
   "execution_count": 171
  },
  {
   "metadata": {
    "ExecuteTime": {
     "end_time": "2025-06-07T14:23:25.378335Z",
     "start_time": "2025-06-07T14:23:25.371372Z"
    }
   },
   "cell_type": "code",
   "source": [
    "learning_rate = 0.1\n",
    "epochs = 100"
   ],
   "id": "4fa15f89d2f7ae05",
   "outputs": [],
   "execution_count": 172
  },
  {
   "metadata": {
    "ExecuteTime": {
     "end_time": "2025-06-07T14:23:25.538095Z",
     "start_time": "2025-06-07T14:23:25.531368Z"
    }
   },
   "cell_type": "code",
   "source": [
    "model = Mysimplenn(X_train_d)\n",
    "print(model.weights)"
   ],
   "id": "db35d43179937f03",
   "outputs": [
    {
     "name": "stdout",
     "output_type": "stream",
     "text": [
      "tensor([[0.1783],\n",
      "        [0.0905],\n",
      "        [0.4729],\n",
      "        [0.9496],\n",
      "        [0.1355],\n",
      "        [0.3560],\n",
      "        [0.2044],\n",
      "        [0.9351],\n",
      "        [0.8068],\n",
      "        [0.6740],\n",
      "        [0.3109],\n",
      "        [0.7309],\n",
      "        [0.2440],\n",
      "        [0.0870],\n",
      "        [0.5027],\n",
      "        [0.1848],\n",
      "        [0.1607],\n",
      "        [0.7818],\n",
      "        [0.8453],\n",
      "        [0.3783],\n",
      "        [0.0556],\n",
      "        [0.3094],\n",
      "        [0.7890],\n",
      "        [0.7177],\n",
      "        [0.8468],\n",
      "        [0.7267],\n",
      "        [0.3375],\n",
      "        [0.7654],\n",
      "        [0.0655],\n",
      "        [0.2776]], requires_grad=True)\n"
     ]
    }
   ],
   "execution_count": 173
  },
  {
   "metadata": {
    "ExecuteTime": {
     "end_time": "2025-06-07T14:27:27.793697Z",
     "start_time": "2025-06-07T14:27:27.668809Z"
    }
   },
   "cell_type": "code",
   "source": [
    "for epoch in range(epochs):\n",
    "    y_pred = model.forward(X_train_d)\n",
    "    loss = model.loss_function(y_pred, Y_train_d)\n",
    "    loss.backward()\n",
    "\n",
    "    with torch.no_grad():\n",
    "        model.weights -= learning_rate*model.weights.grad\n",
    "        model.bias -=learning_rate*model.bias.grad\n",
    "\n",
    "    model.weights.grad.zero_()\n",
    "    model.bias.grad.zero_()\n",
    "    print(f\"epoch: {epoch+1}, loss: {loss.item()}\")\n",
    "\n"
   ],
   "id": "dee6953d09abf0c5",
   "outputs": [
    {
     "name": "stdout",
     "output_type": "stream",
     "text": [
      "epoch: 1, loss: 6.427799224853516\n",
      "epoch: 2, loss: 6.426502704620361\n",
      "epoch: 3, loss: 6.424448013305664\n",
      "epoch: 4, loss: 6.42283821105957\n",
      "epoch: 5, loss: 6.421529293060303\n",
      "epoch: 6, loss: 6.420452117919922\n",
      "epoch: 7, loss: 6.419071197509766\n",
      "epoch: 8, loss: 6.417410373687744\n",
      "epoch: 9, loss: 6.415934085845947\n",
      "epoch: 10, loss: 6.4145941734313965\n",
      "epoch: 11, loss: 6.413266658782959\n",
      "epoch: 12, loss: 6.411702632904053\n",
      "epoch: 13, loss: 6.410368919372559\n",
      "epoch: 14, loss: 6.409030437469482\n",
      "epoch: 15, loss: 6.407711029052734\n",
      "epoch: 16, loss: 6.406512260437012\n",
      "epoch: 17, loss: 6.4052734375\n",
      "epoch: 18, loss: 6.403932571411133\n",
      "epoch: 19, loss: 6.402453422546387\n",
      "epoch: 20, loss: 6.400927543640137\n",
      "epoch: 21, loss: 6.3992719650268555\n",
      "epoch: 22, loss: 6.397877216339111\n",
      "epoch: 23, loss: 6.396062850952148\n",
      "epoch: 24, loss: 6.394784450531006\n",
      "epoch: 25, loss: 6.392126083374023\n",
      "epoch: 26, loss: 6.39064884185791\n",
      "epoch: 27, loss: 6.388706684112549\n",
      "epoch: 28, loss: 6.386616230010986\n",
      "epoch: 29, loss: 6.384928226470947\n",
      "epoch: 30, loss: 6.38333797454834\n",
      "epoch: 31, loss: 6.3817291259765625\n",
      "epoch: 32, loss: 6.380248069763184\n",
      "epoch: 33, loss: 6.378801345825195\n",
      "epoch: 34, loss: 6.376954078674316\n",
      "epoch: 35, loss: 6.375402927398682\n",
      "epoch: 36, loss: 6.373371124267578\n",
      "epoch: 37, loss: 6.371779918670654\n",
      "epoch: 38, loss: 6.370123863220215\n",
      "epoch: 39, loss: 6.368619918823242\n",
      "epoch: 40, loss: 6.36651086807251\n",
      "epoch: 41, loss: 6.364402770996094\n",
      "epoch: 42, loss: 6.362999439239502\n",
      "epoch: 43, loss: 6.361212253570557\n",
      "epoch: 44, loss: 6.359250068664551\n",
      "epoch: 45, loss: 6.357351303100586\n",
      "epoch: 46, loss: 6.355911731719971\n",
      "epoch: 47, loss: 6.354544162750244\n",
      "epoch: 48, loss: 6.352596759796143\n",
      "epoch: 49, loss: 6.350634574890137\n",
      "epoch: 50, loss: 6.3488569259643555\n",
      "epoch: 51, loss: 6.347191333770752\n",
      "epoch: 52, loss: 6.345064640045166\n",
      "epoch: 53, loss: 6.343100547790527\n",
      "epoch: 54, loss: 6.341135025024414\n",
      "epoch: 55, loss: 6.339374542236328\n",
      "epoch: 56, loss: 6.337522029876709\n",
      "epoch: 57, loss: 6.335158824920654\n",
      "epoch: 58, loss: 6.332559585571289\n",
      "epoch: 59, loss: 6.330366611480713\n",
      "epoch: 60, loss: 6.328237533569336\n",
      "epoch: 61, loss: 6.326323986053467\n",
      "epoch: 62, loss: 6.324120044708252\n",
      "epoch: 63, loss: 6.322223663330078\n",
      "epoch: 64, loss: 6.320075511932373\n",
      "epoch: 65, loss: 6.318093299865723\n",
      "epoch: 66, loss: 6.31640100479126\n",
      "epoch: 67, loss: 6.3144307136535645\n",
      "epoch: 68, loss: 6.3125691413879395\n",
      "epoch: 69, loss: 6.310430526733398\n",
      "epoch: 70, loss: 6.308452606201172\n",
      "epoch: 71, loss: 6.306716442108154\n",
      "epoch: 72, loss: 6.304566860198975\n",
      "epoch: 73, loss: 6.3018903732299805\n",
      "epoch: 74, loss: 6.30011510848999\n",
      "epoch: 75, loss: 6.298087120056152\n",
      "epoch: 76, loss: 6.2959184646606445\n",
      "epoch: 77, loss: 6.293657302856445\n",
      "epoch: 78, loss: 6.291668891906738\n",
      "epoch: 79, loss: 6.289602756500244\n",
      "epoch: 80, loss: 6.287230014801025\n",
      "epoch: 81, loss: 6.284985065460205\n",
      "epoch: 82, loss: 6.282492637634277\n",
      "epoch: 83, loss: 6.2802557945251465\n",
      "epoch: 84, loss: 6.277882099151611\n",
      "epoch: 85, loss: 6.275919437408447\n",
      "epoch: 86, loss: 6.273715019226074\n",
      "epoch: 87, loss: 6.271369457244873\n",
      "epoch: 88, loss: 6.269374847412109\n",
      "epoch: 89, loss: 6.266907215118408\n",
      "epoch: 90, loss: 6.2648210525512695\n",
      "epoch: 91, loss: 6.262699127197266\n",
      "epoch: 92, loss: 6.259871959686279\n",
      "epoch: 93, loss: 6.2574567794799805\n",
      "epoch: 94, loss: 6.255023002624512\n",
      "epoch: 95, loss: 6.25271463394165\n",
      "epoch: 96, loss: 6.250128746032715\n",
      "epoch: 97, loss: 6.247800827026367\n",
      "epoch: 98, loss: 6.2456889152526855\n",
      "epoch: 99, loss: 6.242903232574463\n",
      "epoch: 100, loss: 6.240549564361572\n"
     ]
    }
   ],
   "execution_count": 176
  },
  {
   "metadata": {
    "ExecuteTime": {
     "end_time": "2025-06-07T14:35:24.720140Z",
     "start_time": "2025-06-07T14:35:24.711817Z"
    }
   },
   "cell_type": "code",
   "source": [
    "with torch.no_grad():\n",
    "    y_pred = model.forward(X_test_d)\n",
    "    y_pred = (y_pred>0.5).float()\n",
    "    accuracy_score = (y_pred == Y_test_d).float().mean()\n",
    "    print(accuracy_score)"
   ],
   "id": "ae86a4d08a55dd4f",
   "outputs": [
    {
     "name": "stdout",
     "output_type": "stream",
     "text": [
      "tensor(0.5054)\n"
     ]
    }
   ],
   "execution_count": 189
  },
  {
   "metadata": {
    "ExecuteTime": {
     "end_time": "2025-06-07T14:23:26.175869Z",
     "start_time": "2025-06-07T14:23:26.173175Z"
    }
   },
   "cell_type": "code",
   "source": "",
   "id": "18e97a7741a3eea4",
   "outputs": [],
   "execution_count": null
  }
 ],
 "metadata": {
  "kernelspec": {
   "display_name": "Python 3",
   "language": "python",
   "name": "python3"
  },
  "language_info": {
   "codemirror_mode": {
    "name": "ipython",
    "version": 2
   },
   "file_extension": ".py",
   "mimetype": "text/x-python",
   "name": "python",
   "nbconvert_exporter": "python",
   "pygments_lexer": "ipython2",
   "version": "2.7.6"
  }
 },
 "nbformat": 4,
 "nbformat_minor": 5
}
