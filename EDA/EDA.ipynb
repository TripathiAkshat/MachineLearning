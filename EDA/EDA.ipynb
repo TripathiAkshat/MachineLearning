{
 "cells": [
  {
   "cell_type": "code",
   "id": "initial_id",
   "metadata": {
    "collapsed": true,
    "ExecuteTime": {
     "end_time": "2025-06-04T07:05:22.570833Z",
     "start_time": "2025-06-04T07:05:19.056453Z"
    }
   },
   "source": [
    "import pandas as pd\n",
    "import matplotlib.pyplot as plt\n"
   ],
   "outputs": [],
   "execution_count": 1
  },
  {
   "cell_type": "code",
   "id": "5fac04955b6d5dcf",
   "metadata": {
    "ExecuteTime": {
     "end_time": "2025-06-04T07:05:22.747574Z",
     "start_time": "2025-06-04T07:05:22.739868Z"
    }
   },
   "source": [
    "df = pd.read_csv('final_cities.csv')"
   ],
   "outputs": [],
   "execution_count": 2
  },
  {
   "cell_type": "code",
   "id": "a6e9a6eb8a447813",
   "metadata": {
    "ExecuteTime": {
     "end_time": "2025-06-04T07:05:22.804973Z",
     "start_time": "2025-06-04T07:05:22.786551Z"
    }
   },
   "source": [
    "df"
   ],
   "outputs": [
    {
     "data": {
      "text/plain": [
       "                         State       District        City  Population  \\\n",
       "0              Jammu & Kashmir       Srinagar    Srinagar     1180570   \n",
       "1              Jammu & Kashmir       Anantnag    Anantnag      150198   \n",
       "2              Jammu & Kashmir          Jammu       Jammu      576198   \n",
       "3             Himachal Pradesh         Shimla      Shimla      169578   \n",
       "4                       Punjab      Gurdaspur   Pathankot      156306   \n",
       "..                         ...            ...         ...         ...   \n",
       "518                 Tamil Nadu     Coimbatore     Kurichi      123667   \n",
       "519                 Tamil Nadu       Tiruppur    Tiruppur      444352   \n",
       "520                 Puducherry     Puducherry  Puducherry      244377   \n",
       "521                 Puducherry     Puducherry   Ozhukarai      300104   \n",
       "522  Andaman & Nicobar Islands  South Andaman  Port Blair      108058   \n",
       "\n",
       "     Area (in km^2)  Latitude  Longitude  \n",
       "0             298.0     34.08      74.80  \n",
       "1             189.0     33.73      75.15  \n",
       "2            1070.0     32.73      74.87  \n",
       "3              35.0     31.10      77.17  \n",
       "4             687.0     32.27      75.65  \n",
       "..              ...       ...        ...  \n",
       "518             0.0     10.97      77.02  \n",
       "519           372.0     11.11      77.35  \n",
       "520           483.0     11.90      79.80  \n",
       "521             0.0     11.95      79.77  \n",
       "522           548.0     11.62      92.73  \n",
       "\n",
       "[523 rows x 7 columns]"
      ],
      "text/html": [
       "<div>\n",
       "<style scoped>\n",
       "    .dataframe tbody tr th:only-of-type {\n",
       "        vertical-align: middle;\n",
       "    }\n",
       "\n",
       "    .dataframe tbody tr th {\n",
       "        vertical-align: top;\n",
       "    }\n",
       "\n",
       "    .dataframe thead th {\n",
       "        text-align: right;\n",
       "    }\n",
       "</style>\n",
       "<table border=\"1\" class=\"dataframe\">\n",
       "  <thead>\n",
       "    <tr style=\"text-align: right;\">\n",
       "      <th></th>\n",
       "      <th>State</th>\n",
       "      <th>District</th>\n",
       "      <th>City</th>\n",
       "      <th>Population</th>\n",
       "      <th>Area (in km^2)</th>\n",
       "      <th>Latitude</th>\n",
       "      <th>Longitude</th>\n",
       "    </tr>\n",
       "  </thead>\n",
       "  <tbody>\n",
       "    <tr>\n",
       "      <th>0</th>\n",
       "      <td>Jammu &amp; Kashmir</td>\n",
       "      <td>Srinagar</td>\n",
       "      <td>Srinagar</td>\n",
       "      <td>1180570</td>\n",
       "      <td>298.0</td>\n",
       "      <td>34.08</td>\n",
       "      <td>74.80</td>\n",
       "    </tr>\n",
       "    <tr>\n",
       "      <th>1</th>\n",
       "      <td>Jammu &amp; Kashmir</td>\n",
       "      <td>Anantnag</td>\n",
       "      <td>Anantnag</td>\n",
       "      <td>150198</td>\n",
       "      <td>189.0</td>\n",
       "      <td>33.73</td>\n",
       "      <td>75.15</td>\n",
       "    </tr>\n",
       "    <tr>\n",
       "      <th>2</th>\n",
       "      <td>Jammu &amp; Kashmir</td>\n",
       "      <td>Jammu</td>\n",
       "      <td>Jammu</td>\n",
       "      <td>576198</td>\n",
       "      <td>1070.0</td>\n",
       "      <td>32.73</td>\n",
       "      <td>74.87</td>\n",
       "    </tr>\n",
       "    <tr>\n",
       "      <th>3</th>\n",
       "      <td>Himachal Pradesh</td>\n",
       "      <td>Shimla</td>\n",
       "      <td>Shimla</td>\n",
       "      <td>169578</td>\n",
       "      <td>35.0</td>\n",
       "      <td>31.10</td>\n",
       "      <td>77.17</td>\n",
       "    </tr>\n",
       "    <tr>\n",
       "      <th>4</th>\n",
       "      <td>Punjab</td>\n",
       "      <td>Gurdaspur</td>\n",
       "      <td>Pathankot</td>\n",
       "      <td>156306</td>\n",
       "      <td>687.0</td>\n",
       "      <td>32.27</td>\n",
       "      <td>75.65</td>\n",
       "    </tr>\n",
       "    <tr>\n",
       "      <th>...</th>\n",
       "      <td>...</td>\n",
       "      <td>...</td>\n",
       "      <td>...</td>\n",
       "      <td>...</td>\n",
       "      <td>...</td>\n",
       "      <td>...</td>\n",
       "      <td>...</td>\n",
       "    </tr>\n",
       "    <tr>\n",
       "      <th>518</th>\n",
       "      <td>Tamil Nadu</td>\n",
       "      <td>Coimbatore</td>\n",
       "      <td>Kurichi</td>\n",
       "      <td>123667</td>\n",
       "      <td>0.0</td>\n",
       "      <td>10.97</td>\n",
       "      <td>77.02</td>\n",
       "    </tr>\n",
       "    <tr>\n",
       "      <th>519</th>\n",
       "      <td>Tamil Nadu</td>\n",
       "      <td>Tiruppur</td>\n",
       "      <td>Tiruppur</td>\n",
       "      <td>444352</td>\n",
       "      <td>372.0</td>\n",
       "      <td>11.11</td>\n",
       "      <td>77.35</td>\n",
       "    </tr>\n",
       "    <tr>\n",
       "      <th>520</th>\n",
       "      <td>Puducherry</td>\n",
       "      <td>Puducherry</td>\n",
       "      <td>Puducherry</td>\n",
       "      <td>244377</td>\n",
       "      <td>483.0</td>\n",
       "      <td>11.90</td>\n",
       "      <td>79.80</td>\n",
       "    </tr>\n",
       "    <tr>\n",
       "      <th>521</th>\n",
       "      <td>Puducherry</td>\n",
       "      <td>Puducherry</td>\n",
       "      <td>Ozhukarai</td>\n",
       "      <td>300104</td>\n",
       "      <td>0.0</td>\n",
       "      <td>11.95</td>\n",
       "      <td>79.77</td>\n",
       "    </tr>\n",
       "    <tr>\n",
       "      <th>522</th>\n",
       "      <td>Andaman &amp; Nicobar Islands</td>\n",
       "      <td>South Andaman</td>\n",
       "      <td>Port Blair</td>\n",
       "      <td>108058</td>\n",
       "      <td>548.0</td>\n",
       "      <td>11.62</td>\n",
       "      <td>92.73</td>\n",
       "    </tr>\n",
       "  </tbody>\n",
       "</table>\n",
       "<p>523 rows × 7 columns</p>\n",
       "</div>"
      ]
     },
     "execution_count": 3,
     "metadata": {},
     "output_type": "execute_result"
    }
   ],
   "execution_count": 3
  },
  {
   "cell_type": "code",
   "id": "55329287b6da8693",
   "metadata": {
    "ExecuteTime": {
     "end_time": "2025-06-04T07:05:22.843485Z",
     "start_time": "2025-06-04T07:05:22.833437Z"
    }
   },
   "source": [
    "df[df.isnull().any(axis=1)]\n"
   ],
   "outputs": [
    {
     "data": {
      "text/plain": [
       "Empty DataFrame\n",
       "Columns: [State, District, City, Population, Area (in km^2), Latitude, Longitude]\n",
       "Index: []"
      ],
      "text/html": [
       "<div>\n",
       "<style scoped>\n",
       "    .dataframe tbody tr th:only-of-type {\n",
       "        vertical-align: middle;\n",
       "    }\n",
       "\n",
       "    .dataframe tbody tr th {\n",
       "        vertical-align: top;\n",
       "    }\n",
       "\n",
       "    .dataframe thead th {\n",
       "        text-align: right;\n",
       "    }\n",
       "</style>\n",
       "<table border=\"1\" class=\"dataframe\">\n",
       "  <thead>\n",
       "    <tr style=\"text-align: right;\">\n",
       "      <th></th>\n",
       "      <th>State</th>\n",
       "      <th>District</th>\n",
       "      <th>City</th>\n",
       "      <th>Population</th>\n",
       "      <th>Area (in km^2)</th>\n",
       "      <th>Latitude</th>\n",
       "      <th>Longitude</th>\n",
       "    </tr>\n",
       "  </thead>\n",
       "  <tbody>\n",
       "  </tbody>\n",
       "</table>\n",
       "</div>"
      ]
     },
     "execution_count": 4,
     "metadata": {},
     "output_type": "execute_result"
    }
   ],
   "execution_count": 4
  },
  {
   "cell_type": "code",
   "id": "7eb2e2501403e8ab",
   "metadata": {
    "ExecuteTime": {
     "end_time": "2025-06-04T07:05:22.970529Z",
     "start_time": "2025-06-04T07:05:22.962863Z"
    }
   },
   "source": [
    "df.isnull().sum()"
   ],
   "outputs": [
    {
     "data": {
      "text/plain": [
       "State             0\n",
       "District          0\n",
       "City              0\n",
       "Population        0\n",
       "Area (in km^2)    0\n",
       "Latitude          0\n",
       "Longitude         0\n",
       "dtype: int64"
      ]
     },
     "execution_count": 5,
     "metadata": {},
     "output_type": "execute_result"
    }
   ],
   "execution_count": 5
  },
  {
   "cell_type": "code",
   "id": "3a967b341dcd2cec",
   "metadata": {
    "ExecuteTime": {
     "end_time": "2025-06-04T07:05:23.134051Z",
     "start_time": "2025-06-04T07:05:23.128996Z"
    }
   },
   "source": [
    "df.dropna(inplace=True)"
   ],
   "outputs": [],
   "execution_count": 6
  },
  {
   "cell_type": "code",
   "id": "eebb68fd486f8520",
   "metadata": {
    "ExecuteTime": {
     "end_time": "2025-06-04T07:05:23.388958Z",
     "start_time": "2025-06-04T07:05:23.386025Z"
    }
   },
   "source": [],
   "outputs": [],
   "execution_count": null
  },
  {
   "cell_type": "code",
   "id": "2b6d72a1171c2971",
   "metadata": {
    "ExecuteTime": {
     "end_time": "2025-06-04T07:05:23.572072Z",
     "start_time": "2025-06-04T07:05:23.562620Z"
    }
   },
   "source": [
    "df.isnull().sum()"
   ],
   "outputs": [
    {
     "data": {
      "text/plain": [
       "State             0\n",
       "District          0\n",
       "City              0\n",
       "Population        0\n",
       "Area (in km^2)    0\n",
       "Latitude          0\n",
       "Longitude         0\n",
       "dtype: int64"
      ]
     },
     "execution_count": 7,
     "metadata": {},
     "output_type": "execute_result"
    }
   ],
   "execution_count": 7
  },
  {
   "cell_type": "code",
   "id": "c06c47711cf383ec",
   "metadata": {
    "ExecuteTime": {
     "end_time": "2025-06-04T07:05:23.682263Z",
     "start_time": "2025-06-04T07:05:23.663557Z"
    }
   },
   "source": [
    "df"
   ],
   "outputs": [
    {
     "data": {
      "text/plain": [
       "                         State       District        City  Population  \\\n",
       "0              Jammu & Kashmir       Srinagar    Srinagar     1180570   \n",
       "1              Jammu & Kashmir       Anantnag    Anantnag      150198   \n",
       "2              Jammu & Kashmir          Jammu       Jammu      576198   \n",
       "3             Himachal Pradesh         Shimla      Shimla      169578   \n",
       "4                       Punjab      Gurdaspur   Pathankot      156306   \n",
       "..                         ...            ...         ...         ...   \n",
       "518                 Tamil Nadu     Coimbatore     Kurichi      123667   \n",
       "519                 Tamil Nadu       Tiruppur    Tiruppur      444352   \n",
       "520                 Puducherry     Puducherry  Puducherry      244377   \n",
       "521                 Puducherry     Puducherry   Ozhukarai      300104   \n",
       "522  Andaman & Nicobar Islands  South Andaman  Port Blair      108058   \n",
       "\n",
       "     Area (in km^2)  Latitude  Longitude  \n",
       "0             298.0     34.08      74.80  \n",
       "1             189.0     33.73      75.15  \n",
       "2            1070.0     32.73      74.87  \n",
       "3              35.0     31.10      77.17  \n",
       "4             687.0     32.27      75.65  \n",
       "..              ...       ...        ...  \n",
       "518             0.0     10.97      77.02  \n",
       "519           372.0     11.11      77.35  \n",
       "520           483.0     11.90      79.80  \n",
       "521             0.0     11.95      79.77  \n",
       "522           548.0     11.62      92.73  \n",
       "\n",
       "[523 rows x 7 columns]"
      ],
      "text/html": [
       "<div>\n",
       "<style scoped>\n",
       "    .dataframe tbody tr th:only-of-type {\n",
       "        vertical-align: middle;\n",
       "    }\n",
       "\n",
       "    .dataframe tbody tr th {\n",
       "        vertical-align: top;\n",
       "    }\n",
       "\n",
       "    .dataframe thead th {\n",
       "        text-align: right;\n",
       "    }\n",
       "</style>\n",
       "<table border=\"1\" class=\"dataframe\">\n",
       "  <thead>\n",
       "    <tr style=\"text-align: right;\">\n",
       "      <th></th>\n",
       "      <th>State</th>\n",
       "      <th>District</th>\n",
       "      <th>City</th>\n",
       "      <th>Population</th>\n",
       "      <th>Area (in km^2)</th>\n",
       "      <th>Latitude</th>\n",
       "      <th>Longitude</th>\n",
       "    </tr>\n",
       "  </thead>\n",
       "  <tbody>\n",
       "    <tr>\n",
       "      <th>0</th>\n",
       "      <td>Jammu &amp; Kashmir</td>\n",
       "      <td>Srinagar</td>\n",
       "      <td>Srinagar</td>\n",
       "      <td>1180570</td>\n",
       "      <td>298.0</td>\n",
       "      <td>34.08</td>\n",
       "      <td>74.80</td>\n",
       "    </tr>\n",
       "    <tr>\n",
       "      <th>1</th>\n",
       "      <td>Jammu &amp; Kashmir</td>\n",
       "      <td>Anantnag</td>\n",
       "      <td>Anantnag</td>\n",
       "      <td>150198</td>\n",
       "      <td>189.0</td>\n",
       "      <td>33.73</td>\n",
       "      <td>75.15</td>\n",
       "    </tr>\n",
       "    <tr>\n",
       "      <th>2</th>\n",
       "      <td>Jammu &amp; Kashmir</td>\n",
       "      <td>Jammu</td>\n",
       "      <td>Jammu</td>\n",
       "      <td>576198</td>\n",
       "      <td>1070.0</td>\n",
       "      <td>32.73</td>\n",
       "      <td>74.87</td>\n",
       "    </tr>\n",
       "    <tr>\n",
       "      <th>3</th>\n",
       "      <td>Himachal Pradesh</td>\n",
       "      <td>Shimla</td>\n",
       "      <td>Shimla</td>\n",
       "      <td>169578</td>\n",
       "      <td>35.0</td>\n",
       "      <td>31.10</td>\n",
       "      <td>77.17</td>\n",
       "    </tr>\n",
       "    <tr>\n",
       "      <th>4</th>\n",
       "      <td>Punjab</td>\n",
       "      <td>Gurdaspur</td>\n",
       "      <td>Pathankot</td>\n",
       "      <td>156306</td>\n",
       "      <td>687.0</td>\n",
       "      <td>32.27</td>\n",
       "      <td>75.65</td>\n",
       "    </tr>\n",
       "    <tr>\n",
       "      <th>...</th>\n",
       "      <td>...</td>\n",
       "      <td>...</td>\n",
       "      <td>...</td>\n",
       "      <td>...</td>\n",
       "      <td>...</td>\n",
       "      <td>...</td>\n",
       "      <td>...</td>\n",
       "    </tr>\n",
       "    <tr>\n",
       "      <th>518</th>\n",
       "      <td>Tamil Nadu</td>\n",
       "      <td>Coimbatore</td>\n",
       "      <td>Kurichi</td>\n",
       "      <td>123667</td>\n",
       "      <td>0.0</td>\n",
       "      <td>10.97</td>\n",
       "      <td>77.02</td>\n",
       "    </tr>\n",
       "    <tr>\n",
       "      <th>519</th>\n",
       "      <td>Tamil Nadu</td>\n",
       "      <td>Tiruppur</td>\n",
       "      <td>Tiruppur</td>\n",
       "      <td>444352</td>\n",
       "      <td>372.0</td>\n",
       "      <td>11.11</td>\n",
       "      <td>77.35</td>\n",
       "    </tr>\n",
       "    <tr>\n",
       "      <th>520</th>\n",
       "      <td>Puducherry</td>\n",
       "      <td>Puducherry</td>\n",
       "      <td>Puducherry</td>\n",
       "      <td>244377</td>\n",
       "      <td>483.0</td>\n",
       "      <td>11.90</td>\n",
       "      <td>79.80</td>\n",
       "    </tr>\n",
       "    <tr>\n",
       "      <th>521</th>\n",
       "      <td>Puducherry</td>\n",
       "      <td>Puducherry</td>\n",
       "      <td>Ozhukarai</td>\n",
       "      <td>300104</td>\n",
       "      <td>0.0</td>\n",
       "      <td>11.95</td>\n",
       "      <td>79.77</td>\n",
       "    </tr>\n",
       "    <tr>\n",
       "      <th>522</th>\n",
       "      <td>Andaman &amp; Nicobar Islands</td>\n",
       "      <td>South Andaman</td>\n",
       "      <td>Port Blair</td>\n",
       "      <td>108058</td>\n",
       "      <td>548.0</td>\n",
       "      <td>11.62</td>\n",
       "      <td>92.73</td>\n",
       "    </tr>\n",
       "  </tbody>\n",
       "</table>\n",
       "<p>523 rows × 7 columns</p>\n",
       "</div>"
      ]
     },
     "execution_count": 8,
     "metadata": {},
     "output_type": "execute_result"
    }
   ],
   "execution_count": 8
  },
  {
   "cell_type": "code",
   "id": "e29b53ce48f73f9c",
   "metadata": {
    "ExecuteTime": {
     "end_time": "2025-06-04T07:05:23.937926Z",
     "start_time": "2025-06-04T07:05:23.929779Z"
    }
   },
   "source": [
    "df.drop(columns=['Area (in km^2)','Latitude','Longitude'], inplace=True)"
   ],
   "outputs": [],
   "execution_count": 9
  },
  {
   "cell_type": "code",
   "id": "646c2299697aa7ee",
   "metadata": {
    "ExecuteTime": {
     "end_time": "2025-06-04T07:05:24.178469Z",
     "start_time": "2025-06-04T07:05:24.165778Z"
    }
   },
   "source": [
    "df"
   ],
   "outputs": [
    {
     "data": {
      "text/plain": [
       "                         State       District        City  Population\n",
       "0              Jammu & Kashmir       Srinagar    Srinagar     1180570\n",
       "1              Jammu & Kashmir       Anantnag    Anantnag      150198\n",
       "2              Jammu & Kashmir          Jammu       Jammu      576198\n",
       "3             Himachal Pradesh         Shimla      Shimla      169578\n",
       "4                       Punjab      Gurdaspur   Pathankot      156306\n",
       "..                         ...            ...         ...         ...\n",
       "518                 Tamil Nadu     Coimbatore     Kurichi      123667\n",
       "519                 Tamil Nadu       Tiruppur    Tiruppur      444352\n",
       "520                 Puducherry     Puducherry  Puducherry      244377\n",
       "521                 Puducherry     Puducherry   Ozhukarai      300104\n",
       "522  Andaman & Nicobar Islands  South Andaman  Port Blair      108058\n",
       "\n",
       "[523 rows x 4 columns]"
      ],
      "text/html": [
       "<div>\n",
       "<style scoped>\n",
       "    .dataframe tbody tr th:only-of-type {\n",
       "        vertical-align: middle;\n",
       "    }\n",
       "\n",
       "    .dataframe tbody tr th {\n",
       "        vertical-align: top;\n",
       "    }\n",
       "\n",
       "    .dataframe thead th {\n",
       "        text-align: right;\n",
       "    }\n",
       "</style>\n",
       "<table border=\"1\" class=\"dataframe\">\n",
       "  <thead>\n",
       "    <tr style=\"text-align: right;\">\n",
       "      <th></th>\n",
       "      <th>State</th>\n",
       "      <th>District</th>\n",
       "      <th>City</th>\n",
       "      <th>Population</th>\n",
       "    </tr>\n",
       "  </thead>\n",
       "  <tbody>\n",
       "    <tr>\n",
       "      <th>0</th>\n",
       "      <td>Jammu &amp; Kashmir</td>\n",
       "      <td>Srinagar</td>\n",
       "      <td>Srinagar</td>\n",
       "      <td>1180570</td>\n",
       "    </tr>\n",
       "    <tr>\n",
       "      <th>1</th>\n",
       "      <td>Jammu &amp; Kashmir</td>\n",
       "      <td>Anantnag</td>\n",
       "      <td>Anantnag</td>\n",
       "      <td>150198</td>\n",
       "    </tr>\n",
       "    <tr>\n",
       "      <th>2</th>\n",
       "      <td>Jammu &amp; Kashmir</td>\n",
       "      <td>Jammu</td>\n",
       "      <td>Jammu</td>\n",
       "      <td>576198</td>\n",
       "    </tr>\n",
       "    <tr>\n",
       "      <th>3</th>\n",
       "      <td>Himachal Pradesh</td>\n",
       "      <td>Shimla</td>\n",
       "      <td>Shimla</td>\n",
       "      <td>169578</td>\n",
       "    </tr>\n",
       "    <tr>\n",
       "      <th>4</th>\n",
       "      <td>Punjab</td>\n",
       "      <td>Gurdaspur</td>\n",
       "      <td>Pathankot</td>\n",
       "      <td>156306</td>\n",
       "    </tr>\n",
       "    <tr>\n",
       "      <th>...</th>\n",
       "      <td>...</td>\n",
       "      <td>...</td>\n",
       "      <td>...</td>\n",
       "      <td>...</td>\n",
       "    </tr>\n",
       "    <tr>\n",
       "      <th>518</th>\n",
       "      <td>Tamil Nadu</td>\n",
       "      <td>Coimbatore</td>\n",
       "      <td>Kurichi</td>\n",
       "      <td>123667</td>\n",
       "    </tr>\n",
       "    <tr>\n",
       "      <th>519</th>\n",
       "      <td>Tamil Nadu</td>\n",
       "      <td>Tiruppur</td>\n",
       "      <td>Tiruppur</td>\n",
       "      <td>444352</td>\n",
       "    </tr>\n",
       "    <tr>\n",
       "      <th>520</th>\n",
       "      <td>Puducherry</td>\n",
       "      <td>Puducherry</td>\n",
       "      <td>Puducherry</td>\n",
       "      <td>244377</td>\n",
       "    </tr>\n",
       "    <tr>\n",
       "      <th>521</th>\n",
       "      <td>Puducherry</td>\n",
       "      <td>Puducherry</td>\n",
       "      <td>Ozhukarai</td>\n",
       "      <td>300104</td>\n",
       "    </tr>\n",
       "    <tr>\n",
       "      <th>522</th>\n",
       "      <td>Andaman &amp; Nicobar Islands</td>\n",
       "      <td>South Andaman</td>\n",
       "      <td>Port Blair</td>\n",
       "      <td>108058</td>\n",
       "    </tr>\n",
       "  </tbody>\n",
       "</table>\n",
       "<p>523 rows × 4 columns</p>\n",
       "</div>"
      ]
     },
     "execution_count": 10,
     "metadata": {},
     "output_type": "execute_result"
    }
   ],
   "execution_count": 10
  },
  {
   "cell_type": "code",
   "id": "a9b2c622ed2b48b9",
   "metadata": {
    "ExecuteTime": {
     "end_time": "2025-06-04T07:05:24.419909Z",
     "start_time": "2025-06-04T07:05:24.397437Z"
    }
   },
   "source": [
    "# Mark all occurrences of duplicated rows as True\n",
    "duplicates_all = df.duplicated(keep=False)\n",
    "print(df[duplicates_all])\n"
   ],
   "outputs": [
    {
     "name": "stdout",
     "output_type": "stream",
     "text": [
      "Empty DataFrame\n",
      "Columns: [State, District, City, Population]\n",
      "Index: []\n"
     ]
    }
   ],
   "execution_count": 11
  },
  {
   "cell_type": "code",
   "id": "cdce9442cddccc4f",
   "metadata": {
    "ExecuteTime": {
     "end_time": "2025-06-04T07:05:24.582916Z",
     "start_time": "2025-06-04T07:05:24.575656Z"
    }
   },
   "source": [
    "df.drop_duplicates(inplace=True)\n"
   ],
   "outputs": [],
   "execution_count": 12
  },
  {
   "cell_type": "code",
   "id": "79726ec751a4eccb",
   "metadata": {
    "ExecuteTime": {
     "end_time": "2025-06-04T07:05:24.811806Z",
     "start_time": "2025-06-04T07:05:24.782421Z"
    }
   },
   "source": [
    "df"
   ],
   "outputs": [
    {
     "data": {
      "text/plain": [
       "                         State       District        City  Population\n",
       "0              Jammu & Kashmir       Srinagar    Srinagar     1180570\n",
       "1              Jammu & Kashmir       Anantnag    Anantnag      150198\n",
       "2              Jammu & Kashmir          Jammu       Jammu      576198\n",
       "3             Himachal Pradesh         Shimla      Shimla      169578\n",
       "4                       Punjab      Gurdaspur   Pathankot      156306\n",
       "..                         ...            ...         ...         ...\n",
       "518                 Tamil Nadu     Coimbatore     Kurichi      123667\n",
       "519                 Tamil Nadu       Tiruppur    Tiruppur      444352\n",
       "520                 Puducherry     Puducherry  Puducherry      244377\n",
       "521                 Puducherry     Puducherry   Ozhukarai      300104\n",
       "522  Andaman & Nicobar Islands  South Andaman  Port Blair      108058\n",
       "\n",
       "[523 rows x 4 columns]"
      ],
      "text/html": [
       "<div>\n",
       "<style scoped>\n",
       "    .dataframe tbody tr th:only-of-type {\n",
       "        vertical-align: middle;\n",
       "    }\n",
       "\n",
       "    .dataframe tbody tr th {\n",
       "        vertical-align: top;\n",
       "    }\n",
       "\n",
       "    .dataframe thead th {\n",
       "        text-align: right;\n",
       "    }\n",
       "</style>\n",
       "<table border=\"1\" class=\"dataframe\">\n",
       "  <thead>\n",
       "    <tr style=\"text-align: right;\">\n",
       "      <th></th>\n",
       "      <th>State</th>\n",
       "      <th>District</th>\n",
       "      <th>City</th>\n",
       "      <th>Population</th>\n",
       "    </tr>\n",
       "  </thead>\n",
       "  <tbody>\n",
       "    <tr>\n",
       "      <th>0</th>\n",
       "      <td>Jammu &amp; Kashmir</td>\n",
       "      <td>Srinagar</td>\n",
       "      <td>Srinagar</td>\n",
       "      <td>1180570</td>\n",
       "    </tr>\n",
       "    <tr>\n",
       "      <th>1</th>\n",
       "      <td>Jammu &amp; Kashmir</td>\n",
       "      <td>Anantnag</td>\n",
       "      <td>Anantnag</td>\n",
       "      <td>150198</td>\n",
       "    </tr>\n",
       "    <tr>\n",
       "      <th>2</th>\n",
       "      <td>Jammu &amp; Kashmir</td>\n",
       "      <td>Jammu</td>\n",
       "      <td>Jammu</td>\n",
       "      <td>576198</td>\n",
       "    </tr>\n",
       "    <tr>\n",
       "      <th>3</th>\n",
       "      <td>Himachal Pradesh</td>\n",
       "      <td>Shimla</td>\n",
       "      <td>Shimla</td>\n",
       "      <td>169578</td>\n",
       "    </tr>\n",
       "    <tr>\n",
       "      <th>4</th>\n",
       "      <td>Punjab</td>\n",
       "      <td>Gurdaspur</td>\n",
       "      <td>Pathankot</td>\n",
       "      <td>156306</td>\n",
       "    </tr>\n",
       "    <tr>\n",
       "      <th>...</th>\n",
       "      <td>...</td>\n",
       "      <td>...</td>\n",
       "      <td>...</td>\n",
       "      <td>...</td>\n",
       "    </tr>\n",
       "    <tr>\n",
       "      <th>518</th>\n",
       "      <td>Tamil Nadu</td>\n",
       "      <td>Coimbatore</td>\n",
       "      <td>Kurichi</td>\n",
       "      <td>123667</td>\n",
       "    </tr>\n",
       "    <tr>\n",
       "      <th>519</th>\n",
       "      <td>Tamil Nadu</td>\n",
       "      <td>Tiruppur</td>\n",
       "      <td>Tiruppur</td>\n",
       "      <td>444352</td>\n",
       "    </tr>\n",
       "    <tr>\n",
       "      <th>520</th>\n",
       "      <td>Puducherry</td>\n",
       "      <td>Puducherry</td>\n",
       "      <td>Puducherry</td>\n",
       "      <td>244377</td>\n",
       "    </tr>\n",
       "    <tr>\n",
       "      <th>521</th>\n",
       "      <td>Puducherry</td>\n",
       "      <td>Puducherry</td>\n",
       "      <td>Ozhukarai</td>\n",
       "      <td>300104</td>\n",
       "    </tr>\n",
       "    <tr>\n",
       "      <th>522</th>\n",
       "      <td>Andaman &amp; Nicobar Islands</td>\n",
       "      <td>South Andaman</td>\n",
       "      <td>Port Blair</td>\n",
       "      <td>108058</td>\n",
       "    </tr>\n",
       "  </tbody>\n",
       "</table>\n",
       "<p>523 rows × 4 columns</p>\n",
       "</div>"
      ]
     },
     "execution_count": 13,
     "metadata": {},
     "output_type": "execute_result"
    }
   ],
   "execution_count": 13
  },
  {
   "cell_type": "code",
   "id": "bcd6264da82b563d",
   "metadata": {
    "ExecuteTime": {
     "end_time": "2025-06-04T07:05:35.751727Z",
     "start_time": "2025-06-04T07:05:24.970085Z"
    }
   },
   "source": [
    "city_name = input(\"Enter the city name: \")\n",
    "result = df.Population[df.City == city_name]\n",
    "\n",
    "if not result.empty:\n",
    "    print(\"The population is\", result.iloc[0])\n",
    "else:\n",
    "    print(\"City not found\")\n"
   ],
   "outputs": [
    {
     "name": "stdout",
     "output_type": "stream",
     "text": [
      "The population is 1618879\n"
     ]
    }
   ],
   "execution_count": 14
  },
  {
   "cell_type": "code",
   "id": "9e178451fa11f3e1",
   "metadata": {
    "ExecuteTime": {
     "end_time": "2025-06-04T07:05:36.796548Z",
     "start_time": "2025-06-04T07:05:36.018314Z"
    }
   },
   "source": [
    "plt.figure(figsize=(10, 20))\n",
    "plt.bar(df.State, df.Population)\n",
    "plt.xticks(rotation=90)\n",
    "plt.show()\n"
   ],
   "outputs": [
    {
     "data": {
      "text/plain": [
       "<Figure size 1000x2000 with 1 Axes>"
      ],
      "image/png": "[encoded data removed]"
     },
     "metadata": {},
     "output_type": "display_data"
    }
   ],
   "execution_count": 15
  },
  {
   "cell_type": "code",
   "id": "67f6ead96538b6f9",
   "metadata": {
    "ExecuteTime": {
     "end_time": "2025-06-04T07:05:36.887872Z",
     "start_time": "2025-06-04T07:05:36.884659Z"
    }
   },
   "source": [],
   "outputs": [],
   "execution_count": null
  }
 ],
 "metadata": {
  "kernelspec": {
   "display_name": "Python 3",
   "language": "python",
   "name": "python3"
  },
  "language_info": {
   "codemirror_mode": {
    "name": "ipython",
    "version": 2
   },
   "file_extension": ".py",
   "mimetype": "text/x-python",
   "name": "python",
   "nbconvert_exporter": "python",
   "pygments_lexer": "ipython2",
   "version": "2.7.6"
  }
 },
 "nbformat": 4,
 "nbformat_minor": 5
}
