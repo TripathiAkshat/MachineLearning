{
 "cells": [
  {
   "cell_type": "code",
   "execution_count": 1,
   "id": "4d2c70f4",
   "metadata": {},
   "outputs": [
    {
     "name": "stdout",
     "output_type": "stream",
     "text": [
      "Toyota Corolla 2022\n"
     ]
    }
   ],
   "source": [
    "class Car:\n",
    "    def __init__(self,make,model,year):\n",
    "        self.make = make\n",
    "        self.model = model\n",
    "        self.year = year\n",
    "\n",
    "Car1 = Car(\"Toyota\",\"Corolla\",2022)\n",
    "print(Car1.make,Car1.model,Car1.year)"
   ]
  },
  {
   "cell_type": "code",
   "execution_count": 6,
   "id": "ee41c3d3",
   "metadata": {},
   "outputs": [
    {
     "name": "stdout",
     "output_type": "stream",
     "text": [
      "Self Driving car of Tesla Model Y\n"
     ]
    }
   ],
   "source": [
    "class SelfDrivingCar(Car):\n",
    "    def __init__(self,make,model,year,autopilot):\n",
    "        super().__init__(make,model,year)\n",
    "        self.autopilot = autopilot\n",
    "    def self_drive(self):\n",
    "        print(f\"Self Driving car of {self.make} {self.model}\")\n",
    "Car2 = SelfDrivingCar(\"Tesla\",\"Model Y\",2022,True)\n",
    "Car2.self_drive()            "
   ]
  },
  {
   "cell_type": "code",
   "execution_count": 9,
   "id": "d70f3d73",
   "metadata": {},
   "outputs": [
    {
     "name": "stdout",
     "output_type": "stream",
     "text": [
      "The registration number of the vehicle is  KA 01 AB 1234\n"
     ]
    }
   ],
   "source": [
    "class Car:\n",
    "    def __init__(self,make,model,year,regno):\n",
    "        self.make = make\n",
    "        self.model = model\n",
    "        self.year = year\n",
    "        self.__regno = regno\n",
    "    def getregno(self):\n",
    "        print(\"The registration number of the vehicle is \",self.__regno)\n",
    "\n",
    "Car3 = Car(\"Toyota\",\"Camry\",2022,\"KA 01 AB 1234\")\n",
    "#print(Car3.regno) this now no longer works, priivate varible now\n",
    "Car3.getregno()    \n",
    "    "
   ]
  },
  {
   "cell_type": "code",
   "execution_count": 10,
   "id": "e1567522",
   "metadata": {},
   "outputs": [
    {
     "name": "stdout",
     "output_type": "stream",
     "text": [
      "The name of my obj is  First\n",
      "The age of my obj is  13\n"
     ]
    }
   ],
   "source": [
    "#pass in python\n",
    "class Myclass:\n",
    "    pass\n",
    "myobj = Myclass()\n",
    "myobj.name = \"First\"\n",
    "myobj.age = 13\n",
    "print(\"The name of my obj is \",myobj.name)    \n",
    "print(\"The age of my obj is \",myobj.age)\n"
   ]
  },
  {
   "cell_type": "code",
   "execution_count": null,
   "id": "3521df96",
   "metadata": {},
   "outputs": [],
   "source": [
    "#abstract methods in python\n",
    "from abc import ABC,abstractmethod\n",
    "\n",
    "class Car(ABC):\n",
    "    @abstractmethod\n",
    "    def start(self):\n",
    "        pass\n",
    "    @abstractmethod\n",
    "    def stop(self):\n",
    "        pass\n",
    "\n",
    "class SelfDrivingCar(Car):\n",
    "    def start(self):\n",
    "        print(\"Self Driving car started\")\n",
    "    def stop(self):\n",
    "        print(\"Self Driving car stopped\")\n",
    "\n",
    "car = SelfDrivingCar()\n",
    "car.start()\n",
    "car.stop()\n",
    "\n"
   ]
  },
  {
   "cell_type": "code",
   "execution_count": 11,
   "id": "a4179b24",
   "metadata": {},
   "outputs": [
    {
     "name": "stdout",
     "output_type": "stream",
     "text": [
      "Buddy\n",
      "John\n"
     ]
    }
   ],
   "source": [
    "#multiple inheritance in python\n",
    "class Pet:\n",
    "    def __init__(self,name):\n",
    "        self.petname = name\n",
    "class Owner:\n",
    "    def __init__(self,name):\n",
    "        self.owname = name\n",
    "\n",
    "class Dog(Pet,Owner):\n",
    "    def __init__(self,petname,owname):\n",
    "        Pet.__init__(self,petname)\n",
    "        Owner.__init__(self,owname)\n",
    "\n",
    "Dog1 = Dog(\"Buddy\",\"John\")\n",
    "print(Dog1.petname)\n",
    "print(Dog1.owname)"
   ]
  },
  {
   "cell_type": "code",
   "execution_count": null,
   "id": "47f0e46b",
   "metadata": {},
   "outputs": [],
   "source": []
  }
 ],
 "metadata": {
  "kernelspec": {
   "display_name": "base",
   "language": "python",
   "name": "python3"
  },
  "language_info": {
   "codemirror_mode": {
    "name": "ipython",
    "version": 3
   },
   "file_extension": ".py",
   "mimetype": "text/x-python",
   "name": "python",
   "nbconvert_exporter": "python",
   "pygments_lexer": "ipython3",
   "version": "3.12.7"
  }
 },
 "nbformat": 4,
 "nbformat_minor": 5
}
