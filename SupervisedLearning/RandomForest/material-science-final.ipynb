{
  "metadata": {
    "kernelspec": {
      "display_name": "Python 3",
      "name": "python3"
    },
    "language_info": {
      "name": "python",
      "version": "3.11.11",
      "mimetype": "text/x-python",
      "codemirror_mode": {
        "name": "ipython",
        "version": 3
      },
      "pygments_lexer": "ipython3",
      "nbconvert_exporter": "python",
      "file_extension": ".py"
    },
    "kaggle": {
      "accelerator": "none",
      "dataSources": [
        {
          "sourceId": 65711,
          "databundleVersionId": 7405009,
          "sourceType": "competition"
        },
        {
          "sourceId": 11754370,
          "sourceType": "datasetVersion",
          "datasetId": 7379261
        }
      ],
      "dockerImageVersionId": 31040,
      "isInternetEnabled": true,
      "language": "python",
      "sourceType": "notebook",
      "isGpuEnabled": false
    },
    "colab": {
      "provenance": []
    }
  },
  "nbformat_minor": 0,
  "nbformat": 4,
  "cells": [
    {
      "cell_type": "code",
      "source": [
        "!pip install optuna"
      ],
      "metadata": {
        "_uuid": "8f2839f25d086af736a60e9eeb907d3b93b6e0e5",
        "_cell_guid": "b1076dfc-b9ad-4769-8c92-a6c4dae69d19",
        "trusted": true,
        "execution": {
          "iopub.status.busy": "2025-06-08T07:09:17.322604Z",
          "iopub.execute_input": "2025-06-08T07:09:17.322929Z",
          "iopub.status.idle": "2025-06-08T07:09:19.226251Z",
          "shell.execute_reply.started": "2025-06-08T07:09:17.322906Z",
          "shell.execute_reply": "2025-06-08T07:09:19.225329Z"
        },
        "id": "MDapPpDKucYr",
        "outputId": "9b4eb855-5c5d-44c6-c3e0-7ec2ac061387",
        "colab": {
          "base_uri": "https://localhost:8080/"
        }
      },
      "outputs": [
        {
          "output_type": "stream",
          "name": "stdout",
          "text": [
            "Collecting optuna\n",
            "  Downloading optuna-4.3.0-py3-none-any.whl.metadata (17 kB)\n",
            "Collecting alembic>=1.5.0 (from optuna)\n",
            "  Downloading alembic-1.16.1-py3-none-any.whl.metadata (7.3 kB)\n",
            "Collecting colorlog (from optuna)\n",
            "  Downloading colorlog-6.9.0-py3-none-any.whl.metadata (10 kB)\n",
            "Requirement already satisfied: numpy in /usr/local/lib/python3.11/dist-packages (from optuna) (2.0.2)\n",
            "Requirement already satisfied: packaging>=20.0 in /usr/local/lib/python3.11/dist-packages (from optuna) (24.2)\n",
            "Requirement already satisfied: sqlalchemy>=1.4.2 in /usr/local/lib/python3.11/dist-packages (from optuna) (2.0.41)\n",
            "Requirement already satisfied: tqdm in /usr/local/lib/python3.11/dist-packages (from optuna) (4.67.1)\n",
            "Requirement already satisfied: PyYAML in /usr/local/lib/python3.11/dist-packages (from optuna) (6.0.2)\n",
            "Requirement already satisfied: Mako in /usr/lib/python3/dist-packages (from alembic>=1.5.0->optuna) (1.1.3)\n",
            "Requirement already satisfied: typing-extensions>=4.12 in /usr/local/lib/python3.11/dist-packages (from alembic>=1.5.0->optuna) (4.14.0)\n",
            "Requirement already satisfied: greenlet>=1 in /usr/local/lib/python3.11/dist-packages (from sqlalchemy>=1.4.2->optuna) (3.2.2)\n",
            "Downloading optuna-4.3.0-py3-none-any.whl (386 kB)\n",
            "\u001b[2K   \u001b[90m━━━━━━━━━━━━━━━━━━━━━━━━━━━━━━━━━━━━━━━━\u001b[0m \u001b[32m386.6/386.6 kB\u001b[0m \u001b[31m8.0 MB/s\u001b[0m eta \u001b[36m0:00:00\u001b[0m\n",
            "\u001b[?25hDownloading alembic-1.16.1-py3-none-any.whl (242 kB)\n",
            "\u001b[2K   \u001b[90m━━━━━━━━━━━━━━━━━━━━━━━━━━━━━━━━━━━━━━━━\u001b[0m \u001b[32m242.5/242.5 kB\u001b[0m \u001b[31m14.1 MB/s\u001b[0m eta \u001b[36m0:00:00\u001b[0m\n",
            "\u001b[?25hDownloading colorlog-6.9.0-py3-none-any.whl (11 kB)\n",
            "Installing collected packages: colorlog, alembic, optuna\n",
            "Successfully installed alembic-1.16.1 colorlog-6.9.0 optuna-4.3.0\n"
          ]
        }
      ],
      "execution_count": 1
    },
    {
      "cell_type": "code",
      "source": [
        "import optuna\n",
        "from sklearn.datasets import load_diabetes\n",
        "from sklearn.model_selection import train_test_split\n",
        "from sklearn.preprocessing import StandardScaler\n",
        "import pandas as pd\n",
        "url = \"https://raw.githubusercontent.com/jbrownlee/Datasets/master/pima-indians-diabetes.data.csv\"\n",
        "columns = ['Pregnancies', 'Glucose', 'BloodPressure', 'SkinThickness', 'Insulin', 'BMI',\n",
        "           'DiabetesPedigreeFunction', 'Age', 'Outcome']\n",
        "\n",
        "# Load the dataset\n",
        "df = pd.read_csv(url, names=columns)\n",
        "\n",
        "df.head()"
      ],
      "metadata": {
        "trusted": true,
        "execution": {
          "iopub.status.busy": "2025-06-08T07:09:19.228349Z",
          "iopub.execute_input": "2025-06-08T07:09:19.228692Z",
          "iopub.status.idle": "2025-06-08T07:09:58.230806Z",
          "shell.execute_reply.started": "2025-06-08T07:09:19.228662Z",
          "shell.execute_reply": "2025-06-08T07:09:58.229820Z"
        },
        "id": "Fm5sb4-nucYs",
        "outputId": "3e94504d-48e7-4184-b73e-442c51298a1d",
        "colab": {
          "base_uri": "https://localhost:8080/",
          "height": 226
        }
      },
      "outputs": [
        {
          "output_type": "execute_result",
          "data": {
            "text/plain": [
              "   Pregnancies  Glucose  BloodPressure  ...  DiabetesPedigreeFunction  Age  Outcome\n",
              "0            6      148             72  ...                     0.627   50        1\n",
              "1            1       85             66  ...                     0.351   31        0\n",
              "2            8      183             64  ...                     0.672   32        1\n",
              "3            1       89             66  ...                     0.167   21        0\n",
              "4            0      137             40  ...                     2.288   33        1\n",
              "\n",
              "[5 rows x 9 columns]"
            ],
            "text/html": [
              "\n",
              "  <div id=\"df-d841ab8d-69a2-4ae0-a9d6-159e149491f5\" class=\"colab-df-container\">\n",
              "    <div>\n",
              "<style scoped>\n",
              "    .dataframe tbody tr th:only-of-type {\n",
              "        vertical-align: middle;\n",
              "    }\n",
              "\n",
              "    .dataframe tbody tr th {\n",
              "        vertical-align: top;\n",
              "    }\n",
              "\n",
              "    .dataframe thead th {\n",
              "        text-align: right;\n",
              "    }\n",
              "</style>\n",
              "<table border=\"1\" class=\"dataframe\">\n",
              "  <thead>\n",
              "    <tr style=\"text-align: right;\">\n",
              "      <th></th>\n",
              "      <th>Pregnancies</th>\n",
              "      <th>Glucose</th>\n",
              "      <th>BloodPressure</th>\n",
              "      <th>SkinThickness</th>\n",
              "      <th>Insulin</th>\n",
              "      <th>BMI</th>\n",
              "      <th>DiabetesPedigreeFunction</th>\n",
              "      <th>Age</th>\n",
              "      <th>Outcome</th>\n",
              "    </tr>\n",
              "  </thead>\n",
              "  <tbody>\n",
              "    <tr>\n",
              "      <th>0</th>\n",
              "      <td>6</td>\n",
              "      <td>148</td>\n",
              "      <td>72</td>\n",
              "      <td>35</td>\n",
              "      <td>0</td>\n",
              "      <td>33.6</td>\n",
              "      <td>0.627</td>\n",
              "      <td>50</td>\n",
              "      <td>1</td>\n",
              "    </tr>\n",
              "    <tr>\n",
              "      <th>1</th>\n",
              "      <td>1</td>\n",
              "      <td>85</td>\n",
              "      <td>66</td>\n",
              "      <td>29</td>\n",
              "      <td>0</td>\n",
              "      <td>26.6</td>\n",
              "      <td>0.351</td>\n",
              "      <td>31</td>\n",
              "      <td>0</td>\n",
              "    </tr>\n",
              "    <tr>\n",
              "      <th>2</th>\n",
              "      <td>8</td>\n",
              "      <td>183</td>\n",
              "      <td>64</td>\n",
              "      <td>0</td>\n",
              "      <td>0</td>\n",
              "      <td>23.3</td>\n",
              "      <td>0.672</td>\n",
              "      <td>32</td>\n",
              "      <td>1</td>\n",
              "    </tr>\n",
              "    <tr>\n",
              "      <th>3</th>\n",
              "      <td>1</td>\n",
              "      <td>89</td>\n",
              "      <td>66</td>\n",
              "      <td>23</td>\n",
              "      <td>94</td>\n",
              "      <td>28.1</td>\n",
              "      <td>0.167</td>\n",
              "      <td>21</td>\n",
              "      <td>0</td>\n",
              "    </tr>\n",
              "    <tr>\n",
              "      <th>4</th>\n",
              "      <td>0</td>\n",
              "      <td>137</td>\n",
              "      <td>40</td>\n",
              "      <td>35</td>\n",
              "      <td>168</td>\n",
              "      <td>43.1</td>\n",
              "      <td>2.288</td>\n",
              "      <td>33</td>\n",
              "      <td>1</td>\n",
              "    </tr>\n",
              "  </tbody>\n",
              "</table>\n",
              "</div>\n",
              "    <div class=\"colab-df-buttons\">\n",
              "\n",
              "  <div class=\"colab-df-container\">\n",
              "    <button class=\"colab-df-convert\" onclick=\"convertToInteractive('df-d841ab8d-69a2-4ae0-a9d6-159e149491f5')\"\n",
              "            title=\"Convert this dataframe to an interactive table.\"\n",
              "            style=\"display:none;\">\n",
              "\n",
              "  <svg xmlns=\"http://www.w3.org/2000/svg\" height=\"24px\" viewBox=\"0 -960 960 960\">\n",
              "    <path d=\"M120-120v-720h720v720H120Zm60-500h600v-160H180v160Zm220 220h160v-160H400v160Zm0 220h160v-160H400v160ZM180-400h160v-160H180v160Zm440 0h160v-160H620v160ZM180-180h160v-160H180v160Zm440 0h160v-160H620v160Z\"/>\n",
              "  </svg>\n",
              "    </button>\n",
              "\n",
              "  <style>\n",
              "    .colab-df-container {\n",
              "      display:flex;\n",
              "      gap: 12px;\n",
              "    }\n",
              "\n",
              "    .colab-df-convert {\n",
              "      background-color: #E8F0FE;\n",
              "      border: none;\n",
              "      border-radius: 50%;\n",
              "      cursor: pointer;\n",
              "      display: none;\n",
              "      fill: #1967D2;\n",
              "      height: 32px;\n",
              "      padding: 0 0 0 0;\n",
              "      width: 32px;\n",
              "    }\n",
              "\n",
              "    .colab-df-convert:hover {\n",
              "      background-color: #E2EBFA;\n",
              "      box-shadow: 0px 1px 2px rgba(60, 64, 67, 0.3), 0px 1px 3px 1px rgba(60, 64, 67, 0.15);\n",
              "      fill: #174EA6;\n",
              "    }\n",
              "\n",
              "    .colab-df-buttons div {\n",
              "      margin-bottom: 4px;\n",
              "    }\n",
              "\n",
              "    [theme=dark] .colab-df-convert {\n",
              "      background-color: #3B4455;\n",
              "      fill: #D2E3FC;\n",
              "    }\n",
              "\n",
              "    [theme=dark] .colab-df-convert:hover {\n",
              "      background-color: #434B5C;\n",
              "      box-shadow: 0px 1px 3px 1px rgba(0, 0, 0, 0.15);\n",
              "      filter: drop-shadow(0px 1px 2px rgba(0, 0, 0, 0.3));\n",
              "      fill: #FFFFFF;\n",
              "    }\n",
              "  </style>\n",
              "\n",
              "    <script>\n",
              "      const buttonEl =\n",
              "        document.querySelector('#df-d841ab8d-69a2-4ae0-a9d6-159e149491f5 button.colab-df-convert');\n",
              "      buttonEl.style.display =\n",
              "        google.colab.kernel.accessAllowed ? 'block' : 'none';\n",
              "\n",
              "      async function convertToInteractive(key) {\n",
              "        const element = document.querySelector('#df-d841ab8d-69a2-4ae0-a9d6-159e149491f5');\n",
              "        const dataTable =\n",
              "          await google.colab.kernel.invokeFunction('convertToInteractive',\n",
              "                                                    [key], {});\n",
              "        if (!dataTable) return;\n",
              "\n",
              "        const docLinkHtml = 'Like what you see? Visit the ' +\n",
              "          '<a target=\"_blank\" href=https://colab.research.google.com/notebooks/data_table.ipynb>data table notebook</a>'\n",
              "          + ' to learn more about interactive tables.';\n",
              "        element.innerHTML = '';\n",
              "        dataTable['output_type'] = 'display_data';\n",
              "        await google.colab.output.renderOutput(dataTable, element);\n",
              "        const docLink = document.createElement('div');\n",
              "        docLink.innerHTML = docLinkHtml;\n",
              "        element.appendChild(docLink);\n",
              "      }\n",
              "    </script>\n",
              "  </div>\n",
              "\n",
              "\n",
              "    <div id=\"df-98db016b-90c3-4fad-ae2c-7fdbc770c158\">\n",
              "      <button class=\"colab-df-quickchart\" onclick=\"quickchart('df-98db016b-90c3-4fad-ae2c-7fdbc770c158')\"\n",
              "                title=\"Suggest charts\"\n",
              "                style=\"display:none;\">\n",
              "\n",
              "<svg xmlns=\"http://www.w3.org/2000/svg\" height=\"24px\"viewBox=\"0 0 24 24\"\n",
              "     width=\"24px\">\n",
              "    <g>\n",
              "        <path d=\"M19 3H5c-1.1 0-2 .9-2 2v14c0 1.1.9 2 2 2h14c1.1 0 2-.9 2-2V5c0-1.1-.9-2-2-2zM9 17H7v-7h2v7zm4 0h-2V7h2v10zm4 0h-2v-4h2v4z\"/>\n",
              "    </g>\n",
              "</svg>\n",
              "      </button>\n",
              "\n",
              "<style>\n",
              "  .colab-df-quickchart {\n",
              "      --bg-color: #E8F0FE;\n",
              "      --fill-color: #1967D2;\n",
              "      --hover-bg-color: #E2EBFA;\n",
              "      --hover-fill-color: #174EA6;\n",
              "      --disabled-fill-color: #AAA;\n",
              "      --disabled-bg-color: #DDD;\n",
              "  }\n",
              "\n",
              "  [theme=dark] .colab-df-quickchart {\n",
              "      --bg-color: #3B4455;\n",
              "      --fill-color: #D2E3FC;\n",
              "      --hover-bg-color: #434B5C;\n",
              "      --hover-fill-color: #FFFFFF;\n",
              "      --disabled-bg-color: #3B4455;\n",
              "      --disabled-fill-color: #666;\n",
              "  }\n",
              "\n",
              "  .colab-df-quickchart {\n",
              "    background-color: var(--bg-color);\n",
              "    border: none;\n",
              "    border-radius: 50%;\n",
              "    cursor: pointer;\n",
              "    display: none;\n",
              "    fill: var(--fill-color);\n",
              "    height: 32px;\n",
              "    padding: 0;\n",
              "    width: 32px;\n",
              "  }\n",
              "\n",
              "  .colab-df-quickchart:hover {\n",
              "    background-color: var(--hover-bg-color);\n",
              "    box-shadow: 0 1px 2px rgba(60, 64, 67, 0.3), 0 1px 3px 1px rgba(60, 64, 67, 0.15);\n",
              "    fill: var(--button-hover-fill-color);\n",
              "  }\n",
              "\n",
              "  .colab-df-quickchart-complete:disabled,\n",
              "  .colab-df-quickchart-complete:disabled:hover {\n",
              "    background-color: var(--disabled-bg-color);\n",
              "    fill: var(--disabled-fill-color);\n",
              "    box-shadow: none;\n",
              "  }\n",
              "\n",
              "  .colab-df-spinner {\n",
              "    border: 2px solid var(--fill-color);\n",
              "    border-color: transparent;\n",
              "    border-bottom-color: var(--fill-color);\n",
              "    animation:\n",
              "      spin 1s steps(1) infinite;\n",
              "  }\n",
              "\n",
              "  @keyframes spin {\n",
              "    0% {\n",
              "      border-color: transparent;\n",
              "      border-bottom-color: var(--fill-color);\n",
              "      border-left-color: var(--fill-color);\n",
              "    }\n",
              "    20% {\n",
              "      border-color: transparent;\n",
              "      border-left-color: var(--fill-color);\n",
              "      border-top-color: var(--fill-color);\n",
              "    }\n",
              "    30% {\n",
              "      border-color: transparent;\n",
              "      border-left-color: var(--fill-color);\n",
              "      border-top-color: var(--fill-color);\n",
              "      border-right-color: var(--fill-color);\n",
              "    }\n",
              "    40% {\n",
              "      border-color: transparent;\n",
              "      border-right-color: var(--fill-color);\n",
              "      border-top-color: var(--fill-color);\n",
              "    }\n",
              "    60% {\n",
              "      border-color: transparent;\n",
              "      border-right-color: var(--fill-color);\n",
              "    }\n",
              "    80% {\n",
              "      border-color: transparent;\n",
              "      border-right-color: var(--fill-color);\n",
              "      border-bottom-color: var(--fill-color);\n",
              "    }\n",
              "    90% {\n",
              "      border-color: transparent;\n",
              "      border-bottom-color: var(--fill-color);\n",
              "    }\n",
              "  }\n",
              "</style>\n",
              "\n",
              "      <script>\n",
              "        async function quickchart(key) {\n",
              "          const quickchartButtonEl =\n",
              "            document.querySelector('#' + key + ' button');\n",
              "          quickchartButtonEl.disabled = true;  // To prevent multiple clicks.\n",
              "          quickchartButtonEl.classList.add('colab-df-spinner');\n",
              "          try {\n",
              "            const charts = await google.colab.kernel.invokeFunction(\n",
              "                'suggestCharts', [key], {});\n",
              "          } catch (error) {\n",
              "            console.error('Error during call to suggestCharts:', error);\n",
              "          }\n",
              "          quickchartButtonEl.classList.remove('colab-df-spinner');\n",
              "          quickchartButtonEl.classList.add('colab-df-quickchart-complete');\n",
              "        }\n",
              "        (() => {\n",
              "          let quickchartButtonEl =\n",
              "            document.querySelector('#df-98db016b-90c3-4fad-ae2c-7fdbc770c158 button');\n",
              "          quickchartButtonEl.style.display =\n",
              "            google.colab.kernel.accessAllowed ? 'block' : 'none';\n",
              "        })();\n",
              "      </script>\n",
              "    </div>\n",
              "\n",
              "    </div>\n",
              "  </div>\n"
            ],
            "application/vnd.google.colaboratory.intrinsic+json": {
              "type": "dataframe",
              "variable_name": "df",
              "summary": "{\n  \"name\": \"df\",\n  \"rows\": 768,\n  \"fields\": [\n    {\n      \"column\": \"Pregnancies\",\n      \"properties\": {\n        \"dtype\": \"number\",\n        \"std\": 3,\n        \"min\": 0,\n        \"max\": 17,\n        \"num_unique_values\": 17,\n        \"samples\": [\n          6,\n          1,\n          3\n        ],\n        \"semantic_type\": \"\",\n        \"description\": \"\"\n      }\n    },\n    {\n      \"column\": \"Glucose\",\n      \"properties\": {\n        \"dtype\": \"number\",\n        \"std\": 31,\n        \"min\": 0,\n        \"max\": 199,\n        \"num_unique_values\": 136,\n        \"samples\": [\n          151,\n          101,\n          112\n        ],\n        \"semantic_type\": \"\",\n        \"description\": \"\"\n      }\n    },\n    {\n      \"column\": \"BloodPressure\",\n      \"properties\": {\n        \"dtype\": \"number\",\n        \"std\": 19,\n        \"min\": 0,\n        \"max\": 122,\n        \"num_unique_values\": 47,\n        \"samples\": [\n          86,\n          46,\n          85\n        ],\n        \"semantic_type\": \"\",\n        \"description\": \"\"\n      }\n    },\n    {\n      \"column\": \"SkinThickness\",\n      \"properties\": {\n        \"dtype\": \"number\",\n        \"std\": 15,\n        \"min\": 0,\n        \"max\": 99,\n        \"num_unique_values\": 51,\n        \"samples\": [\n          7,\n          12,\n          48\n        ],\n        \"semantic_type\": \"\",\n        \"description\": \"\"\n      }\n    },\n    {\n      \"column\": \"Insulin\",\n      \"properties\": {\n        \"dtype\": \"number\",\n        \"std\": 115,\n        \"min\": 0,\n        \"max\": 846,\n        \"num_unique_values\": 186,\n        \"samples\": [\n          52,\n          41,\n          183\n        ],\n        \"semantic_type\": \"\",\n        \"description\": \"\"\n      }\n    },\n    {\n      \"column\": \"BMI\",\n      \"properties\": {\n        \"dtype\": \"number\",\n        \"std\": 7.8841603203754405,\n        \"min\": 0.0,\n        \"max\": 67.1,\n        \"num_unique_values\": 248,\n        \"samples\": [\n          19.9,\n          31.0,\n          38.1\n        ],\n        \"semantic_type\": \"\",\n        \"description\": \"\"\n      }\n    },\n    {\n      \"column\": \"DiabetesPedigreeFunction\",\n      \"properties\": {\n        \"dtype\": \"number\",\n        \"std\": 0.33132859501277484,\n        \"min\": 0.078,\n        \"max\": 2.42,\n        \"num_unique_values\": 517,\n        \"samples\": [\n          1.731,\n          0.426,\n          0.138\n        ],\n        \"semantic_type\": \"\",\n        \"description\": \"\"\n      }\n    },\n    {\n      \"column\": \"Age\",\n      \"properties\": {\n        \"dtype\": \"number\",\n        \"std\": 11,\n        \"min\": 21,\n        \"max\": 81,\n        \"num_unique_values\": 52,\n        \"samples\": [\n          60,\n          47,\n          72\n        ],\n        \"semantic_type\": \"\",\n        \"description\": \"\"\n      }\n    },\n    {\n      \"column\": \"Outcome\",\n      \"properties\": {\n        \"dtype\": \"number\",\n        \"std\": 0,\n        \"min\": 0,\n        \"max\": 1,\n        \"num_unique_values\": 2,\n        \"samples\": [\n          0,\n          1\n        ],\n        \"semantic_type\": \"\",\n        \"description\": \"\"\n      }\n    }\n  ]\n}"
            }
          },
          "metadata": {},
          "execution_count": 2
        }
      ],
      "execution_count": 2
    },
    {
      "cell_type": "code",
      "source": [],
      "metadata": {
        "trusted": true,
        "execution": {
          "iopub.status.busy": "2025-06-08T07:12:20.487229Z",
          "iopub.execute_input": "2025-06-08T07:12:20.487550Z",
          "iopub.status.idle": "2025-06-08T07:12:22.538793Z",
          "shell.execute_reply.started": "2025-06-08T07:12:20.487520Z",
          "shell.execute_reply": "2025-06-08T07:12:22.538034Z"
        },
        "id": "hvN3SAgwucYt"
      },
      "outputs": [],
      "execution_count": null
    },
    {
      "cell_type": "code",
      "source": [
        "import numpy as np\n",
        "\n",
        "cols_with_missing_vals = ['Glucose', 'BloodPressure', 'SkinThickness', 'Insulin', 'BMI']\n",
        "df[cols_with_missing_vals] = df[cols_with_missing_vals].replace(0, np.nan)\n",
        "\n",
        "df.fillna(df.median(), inplace=True)\n",
        "\n",
        "print(df.isnull().sum())\n"
      ],
      "metadata": {
        "colab": {
          "base_uri": "https://localhost:8080/"
        },
        "id": "tZ_ggrcuTcgI",
        "outputId": "3ee02c90-e7d8-4d37-d637-152243b478a8"
      },
      "execution_count": 5,
      "outputs": [
        {
          "output_type": "stream",
          "name": "stdout",
          "text": [
            "Pregnancies                 0\n",
            "Glucose                     0\n",
            "BloodPressure               0\n",
            "SkinThickness               0\n",
            "Insulin                     0\n",
            "BMI                         0\n",
            "DiabetesPedigreeFunction    0\n",
            "Age                         0\n",
            "Outcome                     0\n",
            "dtype: int64\n"
          ]
        }
      ]
    },
    {
      "cell_type": "code",
      "source": [
        "# Split into features (X) and target (y)\n",
        "X = df.drop('Outcome', axis=1)\n",
        "y = df['Outcome']\n",
        "\n",
        "# Split data into training and test sets (70% train, 30% test)\n",
        "X_train, X_test, y_train, y_test = train_test_split(X, y, test_size=0.3, random_state=42)\n",
        "\n",
        "# Optional: Scale the data for better model performance\n",
        "scaler = StandardScaler()\n",
        "X_train = scaler.fit_transform(X_train)\n",
        "X_test = scaler.transform(X_test)\n",
        "\n",
        "# Check the shape of the data\n",
        "print(f'Training set shape: {X_train.shape}')\n",
        "print(f'Test set shape: {X_test.shape}')\n"
      ],
      "metadata": {
        "trusted": true,
        "execution": {
          "iopub.status.busy": "2025-06-08T07:14:08.567623Z",
          "iopub.execute_input": "2025-06-08T07:14:08.568251Z",
          "iopub.status.idle": "2025-06-08T09:08:13.319469Z",
          "shell.execute_reply.started": "2025-06-08T07:14:08.568215Z",
          "shell.execute_reply": "2025-06-08T09:08:13.318478Z"
        },
        "id": "rihOBtd_ucYt",
        "outputId": "16c0f916-0d49-45e9-edcf-e97a4e8e3795",
        "colab": {
          "base_uri": "https://localhost:8080/"
        }
      },
      "outputs": [
        {
          "output_type": "stream",
          "name": "stdout",
          "text": [
            "Training set shape: (537, 8)\n",
            "Test set shape: (231, 8)\n"
          ]
        }
      ],
      "execution_count": 6
    },
    {
      "cell_type": "code",
      "source": [
        "from sklearn.ensemble import RandomForestClassifier\n",
        "from sklearn.model_selection import cross_val_score\n",
        "\n",
        "def objective(trial):\n",
        "  n_estimators = trial.suggest_int('n_estimators',50,200)\n",
        "  max_depth = trial.suggest_int('max_depth',3,20)\n",
        "  model = RandomForestClassifier(n_estimators=n_estimators,max_depth=max_depth,random_state = 42)\n",
        "  score = cross_val_score(model,X_train,y_train,cv=5,scoring='accuracy',n_jobs=-1).mean()\n",
        "  return score"
      ],
      "metadata": {
        "trusted": true,
        "id": "_gnzMFK7ucYu"
      },
      "outputs": [],
      "execution_count": 7
    },
    {
      "cell_type": "code",
      "source": [
        "study = optuna.create_study(direction='maximize',sampler=optuna.samplers.TPESampler())\n",
        "study.optimize(objective, n_trials=50)"
      ],
      "metadata": {
        "id": "WiwFtESg39XG",
        "outputId": "09af0a8d-d790-4c3b-9baa-229da8c517f2",
        "colab": {
          "base_uri": "https://localhost:8080/"
        }
      },
      "execution_count": 8,
      "outputs": [
        {
          "output_type": "stream",
          "name": "stderr",
          "text": [
            "[I 2025-06-12 11:35:39,158] A new study created in memory with name: no-name-993dcdfc-2683-41f1-b3b7-fedbbb1ea2d7\n",
            "[I 2025-06-12 11:35:47,208] Trial 0 finished with value: 0.754153686396677 and parameters: {'n_estimators': 98, 'max_depth': 4}. Best is trial 0 with value: 0.754153686396677.\n",
            "[I 2025-06-12 11:35:48,115] Trial 1 finished with value: 0.7652647975077882 and parameters: {'n_estimators': 96, 'max_depth': 11}. Best is trial 1 with value: 0.7652647975077882.\n",
            "[I 2025-06-12 11:35:48,930] Trial 2 finished with value: 0.7634302526825891 and parameters: {'n_estimators': 97, 'max_depth': 7}. Best is trial 1 with value: 0.7652647975077882.\n",
            "[I 2025-06-12 11:35:49,606] Trial 3 finished with value: 0.7578573901003807 and parameters: {'n_estimators': 77, 'max_depth': 18}. Best is trial 1 with value: 0.7652647975077882.\n",
            "[I 2025-06-12 11:35:51,079] Trial 4 finished with value: 0.7522672204915196 and parameters: {'n_estimators': 144, 'max_depth': 3}. Best is trial 1 with value: 0.7652647975077882.\n",
            "[I 2025-06-12 11:35:53,789] Trial 5 finished with value: 0.770889581169955 and parameters: {'n_estimators': 161, 'max_depth': 9}. Best is trial 5 with value: 0.770889581169955.\n",
            "[I 2025-06-12 11:35:58,695] Trial 6 finished with value: 0.7652474904811354 and parameters: {'n_estimators': 186, 'max_depth': 13}. Best is trial 5 with value: 0.770889581169955.\n",
            "[I 2025-06-12 11:35:59,606] Trial 7 finished with value: 0.7615784008307372 and parameters: {'n_estimators': 96, 'max_depth': 20}. Best is trial 5 with value: 0.770889581169955.\n",
            "[I 2025-06-12 11:36:01,061] Trial 8 finished with value: 0.7634129456559362 and parameters: {'n_estimators': 165, 'max_depth': 15}. Best is trial 5 with value: 0.770889581169955.\n",
            "[I 2025-06-12 11:36:02,093] Trial 9 finished with value: 0.76711664935964 and parameters: {'n_estimators': 116, 'max_depth': 10}. Best is trial 5 with value: 0.770889581169955.\n",
            "[I 2025-06-12 11:36:02,559] Trial 10 finished with value: 0.755988231221876 and parameters: {'n_estimators': 50, 'max_depth': 8}. Best is trial 5 with value: 0.770889581169955.\n",
            "[I 2025-06-12 11:36:03,694] Trial 11 finished with value: 0.7727587400484597 and parameters: {'n_estimators': 134, 'max_depth': 9}. Best is trial 11 with value: 0.7727587400484597.\n",
            "[I 2025-06-12 11:36:05,103] Trial 12 finished with value: 0.7652821045344409 and parameters: {'n_estimators': 152, 'max_depth': 7}. Best is trial 11 with value: 0.7727587400484597.\n",
            "[I 2025-06-12 11:36:06,811] Trial 13 finished with value: 0.7652647975077882 and parameters: {'n_estimators': 196, 'max_depth': 14}. Best is trial 11 with value: 0.7727587400484597.\n",
            "[I 2025-06-12 11:36:07,969] Trial 14 finished with value: 0.7727587400484597 and parameters: {'n_estimators': 137, 'max_depth': 9}. Best is trial 11 with value: 0.7727587400484597.\n",
            "[I 2025-06-12 11:36:09,262] Trial 15 finished with value: 0.7541190723433714 and parameters: {'n_estimators': 129, 'max_depth': 5}. Best is trial 11 with value: 0.7727587400484597.\n",
            "[I 2025-06-12 11:36:11,168] Trial 16 finished with value: 0.7596573208722741 and parameters: {'n_estimators': 128, 'max_depth': 12}. Best is trial 11 with value: 0.7727587400484597.\n",
            "[I 2025-06-12 11:36:12,865] Trial 17 finished with value: 0.7690031152647976 and parameters: {'n_estimators': 173, 'max_depth': 16}. Best is trial 11 with value: 0.7727587400484597.\n",
            "[I 2025-06-12 11:36:13,993] Trial 18 finished with value: 0.76711664935964 and parameters: {'n_estimators': 141, 'max_depth': 6}. Best is trial 11 with value: 0.7727587400484597.\n",
            "[I 2025-06-12 11:36:14,960] Trial 19 finished with value: 0.7596573208722741 and parameters: {'n_estimators': 113, 'max_depth': 11}. Best is trial 11 with value: 0.7727587400484597.\n",
            "[I 2025-06-12 11:36:16,208] Trial 20 finished with value: 0.7615610938040843 and parameters: {'n_estimators': 138, 'max_depth': 8}. Best is trial 11 with value: 0.7727587400484597.\n",
            "[I 2025-06-12 11:36:17,567] Trial 21 finished with value: 0.772741433021807 and parameters: {'n_estimators': 162, 'max_depth': 9}. Best is trial 11 with value: 0.7727587400484597.\n",
            "[I 2025-06-12 11:36:19,077] Trial 22 finished with value: 0.7746278989269643 and parameters: {'n_estimators': 181, 'max_depth': 9}. Best is trial 22 with value: 0.7746278989269643.\n",
            "[I 2025-06-12 11:36:20,654] Trial 23 finished with value: 0.7615264797507788 and parameters: {'n_estimators': 180, 'max_depth': 10}. Best is trial 22 with value: 0.7746278989269643.\n",
            "[I 2025-06-12 11:36:21,630] Trial 24 finished with value: 0.7615264797507788 and parameters: {'n_estimators': 115, 'max_depth': 6}. Best is trial 22 with value: 0.7746278989269643.\n",
            "[I 2025-06-12 11:36:24,435] Trial 25 finished with value: 0.7559190031152648 and parameters: {'n_estimators': 194, 'max_depth': 12}. Best is trial 22 with value: 0.7746278989269643.\n",
            "[I 2025-06-12 11:36:25,880] Trial 26 finished with value: 0.7708722741433023 and parameters: {'n_estimators': 153, 'max_depth': 9}. Best is trial 22 with value: 0.7746278989269643.\n",
            "[I 2025-06-12 11:36:26,509] Trial 27 finished with value: 0.7633610245759778 and parameters: {'n_estimators': 72, 'max_depth': 13}. Best is trial 22 with value: 0.7746278989269643.\n",
            "[I 2025-06-12 11:36:28,000] Trial 28 finished with value: 0.7633956386292835 and parameters: {'n_estimators': 175, 'max_depth': 10}. Best is trial 22 with value: 0.7746278989269643.\n",
            "[I 2025-06-12 11:36:29,032] Trial 29 finished with value: 0.7504326756663205 and parameters: {'n_estimators': 135, 'max_depth': 4}. Best is trial 22 with value: 0.7746278989269643.\n",
            "[I 2025-06-12 11:36:29,925] Trial 30 finished with value: 0.7634475597092419 and parameters: {'n_estimators': 107, 'max_depth': 7}. Best is trial 22 with value: 0.7746278989269643.\n",
            "[I 2025-06-12 11:36:31,288] Trial 31 finished with value: 0.770889581169955 and parameters: {'n_estimators': 161, 'max_depth': 9}. Best is trial 22 with value: 0.7746278989269643.\n",
            "[I 2025-06-12 11:36:32,568] Trial 32 finished with value: 0.7615437867774316 and parameters: {'n_estimators': 154, 'max_depth': 8}. Best is trial 22 with value: 0.7746278989269643.\n",
            "[I 2025-06-12 11:36:34,155] Trial 33 finished with value: 0.7652647975077882 and parameters: {'n_estimators': 186, 'max_depth': 11}. Best is trial 22 with value: 0.7746278989269643.\n",
            "[I 2025-06-12 11:36:36,123] Trial 34 finished with value: 0.7652474904811353 and parameters: {'n_estimators': 170, 'max_depth': 10}. Best is trial 22 with value: 0.7746278989269643.\n",
            "[I 2025-06-12 11:36:38,175] Trial 35 finished with value: 0.7634129456559363 and parameters: {'n_estimators': 149, 'max_depth': 6}. Best is trial 22 with value: 0.7746278989269643.\n",
            "[I 2025-06-12 11:36:39,249] Trial 36 finished with value: 0.7578400830737279 and parameters: {'n_estimators': 126, 'max_depth': 8}. Best is trial 22 with value: 0.7746278989269643.\n",
            "[I 2025-06-12 11:36:40,630] Trial 37 finished with value: 0.772741433021807 and parameters: {'n_estimators': 162, 'max_depth': 9}. Best is trial 22 with value: 0.7746278989269643.\n",
            "[I 2025-06-12 11:36:42,214] Trial 38 finished with value: 0.7541017653167186 and parameters: {'n_estimators': 200, 'max_depth': 5}. Best is trial 22 with value: 0.7746278989269643.\n",
            "[I 2025-06-12 11:36:43,462] Trial 39 finished with value: 0.7633610245759779 and parameters: {'n_estimators': 146, 'max_depth': 11}. Best is trial 22 with value: 0.7746278989269643.\n",
            "[I 2025-06-12 11:36:45,092] Trial 40 finished with value: 0.7670993423329872 and parameters: {'n_estimators': 188, 'max_depth': 13}. Best is trial 22 with value: 0.7746278989269643.\n",
            "[I 2025-06-12 11:36:46,610] Trial 41 finished with value: 0.7709068881966079 and parameters: {'n_estimators': 178, 'max_depth': 9}. Best is trial 22 with value: 0.7746278989269643.\n",
            "[I 2025-06-12 11:36:47,987] Trial 42 finished with value: 0.7727414330218069 and parameters: {'n_estimators': 159, 'max_depth': 9}. Best is trial 22 with value: 0.7746278989269643.\n",
            "[I 2025-06-12 11:36:50,189] Trial 43 finished with value: 0.7652994115610938 and parameters: {'n_estimators': 168, 'max_depth': 7}. Best is trial 22 with value: 0.7746278989269643.\n",
            "[I 2025-06-12 11:36:52,133] Trial 44 finished with value: 0.76711664935964 and parameters: {'n_estimators': 163, 'max_depth': 10}. Best is trial 22 with value: 0.7746278989269643.\n",
            "[I 2025-06-12 11:36:53,261] Trial 45 finished with value: 0.7578227760470752 and parameters: {'n_estimators': 135, 'max_depth': 8}. Best is trial 22 with value: 0.7746278989269643.\n",
            "[I 2025-06-12 11:36:54,321] Trial 46 finished with value: 0.7577881619937694 and parameters: {'n_estimators': 122, 'max_depth': 12}. Best is trial 22 with value: 0.7746278989269643.\n",
            "[I 2025-06-12 11:36:55,191] Trial 47 finished with value: 0.7615264797507788 and parameters: {'n_estimators': 101, 'max_depth': 9}. Best is trial 22 with value: 0.7746278989269643.\n",
            "[I 2025-06-12 11:36:56,521] Trial 48 finished with value: 0.7633783316026307 and parameters: {'n_estimators': 156, 'max_depth': 11}. Best is trial 22 with value: 0.7746278989269643.\n",
            "[I 2025-06-12 11:36:57,766] Trial 49 finished with value: 0.7634302526825891 and parameters: {'n_estimators': 144, 'max_depth': 20}. Best is trial 22 with value: 0.7746278989269643.\n"
          ]
        }
      ]
    },
    {
      "cell_type": "code",
      "source": [
        "print(f'Best trial accuracy: {study.best_trial.value}')\n",
        "print(f'Best trial parameters: {study.best_trial.params}')"
      ],
      "metadata": {
        "id": "FEjvoH707Jbo",
        "outputId": "3a57ea23-d727-4142-ed1a-79c64af7d40a",
        "colab": {
          "base_uri": "https://localhost:8080/"
        }
      },
      "execution_count": 9,
      "outputs": [
        {
          "output_type": "stream",
          "name": "stdout",
          "text": [
            "Best trial accuracy: 0.7746278989269643\n",
            "Best trial parameters: {'n_estimators': 181, 'max_depth': 9}\n"
          ]
        }
      ]
    },
    {
      "cell_type": "code",
      "source": [
        "from sklearn.metrics import accuracy_score\n",
        "best_model = RandomForestClassifier(**study.best_trial.params, random_state=42)\n",
        "best_model.fit(X_train, y_train)\n",
        "y_pred = best_model.predict(X_test)\n",
        "\n",
        "test_accuracy = accuracy_score(y_test, y_pred)\n",
        "\n",
        "print(f'Test Accuracy with best hyperparameters: {test_accuracy:.2f}')\n"
      ],
      "metadata": {
        "id": "jS7OX0gV8Bbc",
        "outputId": "712a55e7-e4cc-48e7-a4a5-bce76ec84dae",
        "colab": {
          "base_uri": "https://localhost:8080/"
        }
      },
      "execution_count": 10,
      "outputs": [
        {
          "output_type": "stream",
          "name": "stdout",
          "text": [
            "Test Accuracy with best hyperparameters: 0.76\n"
          ]
        }
      ]
    },
    {
      "cell_type": "code",
      "source": [
        "from optuna.visualization import plot_optimization_history,plot_parallel_coordinate,plot_slice,plot_contour,plot_param_importances"
      ],
      "metadata": {
        "id": "-57M521F8JaL"
      },
      "execution_count": 11,
      "outputs": []
    },
    {
      "cell_type": "code",
      "source": [
        "plot_optimization_history(study)"
      ],
      "metadata": {
        "id": "cQsqH75V_QrU",
        "outputId": "20e4d52d-e16d-451f-87dc-e7b8501f2b25",
        "colab": {
          "base_uri": "https://localhost:8080/",
          "height": 542
        }
      },
      "execution_count": 12,
      "outputs": [
        {
          "output_type": "display_data",
          "data": {
            "text/html": [
              "<html>\n",
              "<head><meta charset=\"utf-8\" /></head>\n",
              "<body>\n",
              "    <div>            <script src=\"https://cdnjs.cloudflare.com/ajax/libs/mathjax/2.7.5/MathJax.js?config=TeX-AMS-MML_SVG\"></script><script type=\"text/javascript\">if (window.MathJax && window.MathJax.Hub && window.MathJax.Hub.Config) {window.MathJax.Hub.Config({SVG: {font: \"STIX-Web\"}});}</script>                <script type=\"text/javascript\">window.PlotlyConfig = {MathJaxConfig: 'local'};</script>\n",
              "        <script charset=\"utf-8\" src=\"https://cdn.plot.ly/plotly-2.35.2.min.js\"></script>                <div id=\"8a57c438-296f-47cf-a728-d0a1f766a6f4\" class=\"plotly-graph-div\" style=\"height:525px; width:100%;\"></div>            <script type=\"text/javascript\">                                    window.PLOTLYENV=window.PLOTLYENV || {};                                    if (document.getElementById(\"8a57c438-296f-47cf-a728-d0a1f766a6f4\")) {                    Plotly.newPlot(                        \"8a57c438-296f-47cf-a728-d0a1f766a6f4\",                        [{\"mode\":\"markers\",\"name\":\"Objective Value\",\"x\":[0,1,2,3,4,5,6,7,8,9,10,11,12,13,14,15,16,17,18,19,20,21,22,23,24,25,26,27,28,29,30,31,32,33,34,35,36,37,38,39,40,41,42,43,44,45,46,47,48,49],\"y\":[0.754153686396677,0.7652647975077882,0.7634302526825891,0.7578573901003807,0.7522672204915196,0.770889581169955,0.7652474904811354,0.7615784008307372,0.7634129456559362,0.76711664935964,0.755988231221876,0.7727587400484597,0.7652821045344409,0.7652647975077882,0.7727587400484597,0.7541190723433714,0.7596573208722741,0.7690031152647976,0.76711664935964,0.7596573208722741,0.7615610938040843,0.772741433021807,0.7746278989269643,0.7615264797507788,0.7615264797507788,0.7559190031152648,0.7708722741433023,0.7633610245759778,0.7633956386292835,0.7504326756663205,0.7634475597092419,0.770889581169955,0.7615437867774316,0.7652647975077882,0.7652474904811353,0.7634129456559363,0.7578400830737279,0.772741433021807,0.7541017653167186,0.7633610245759779,0.7670993423329872,0.7709068881966079,0.7727414330218069,0.7652994115610938,0.76711664935964,0.7578227760470752,0.7577881619937694,0.7615264797507788,0.7633783316026307,0.7634302526825891],\"type\":\"scatter\"},{\"mode\":\"lines\",\"name\":\"Best Value\",\"x\":[0,1,2,3,4,5,6,7,8,9,10,11,12,13,14,15,16,17,18,19,20,21,22,23,24,25,26,27,28,29,30,31,32,33,34,35,36,37,38,39,40,41,42,43,44,45,46,47,48,49],\"y\":[0.754153686396677,0.7652647975077882,0.7652647975077882,0.7652647975077882,0.7652647975077882,0.770889581169955,0.770889581169955,0.770889581169955,0.770889581169955,0.770889581169955,0.770889581169955,0.7727587400484597,0.7727587400484597,0.7727587400484597,0.7727587400484597,0.7727587400484597,0.7727587400484597,0.7727587400484597,0.7727587400484597,0.7727587400484597,0.7727587400484597,0.7727587400484597,0.7746278989269643,0.7746278989269643,0.7746278989269643,0.7746278989269643,0.7746278989269643,0.7746278989269643,0.7746278989269643,0.7746278989269643,0.7746278989269643,0.7746278989269643,0.7746278989269643,0.7746278989269643,0.7746278989269643,0.7746278989269643,0.7746278989269643,0.7746278989269643,0.7746278989269643,0.7746278989269643,0.7746278989269643,0.7746278989269643,0.7746278989269643,0.7746278989269643,0.7746278989269643,0.7746278989269643,0.7746278989269643,0.7746278989269643,0.7746278989269643,0.7746278989269643],\"type\":\"scatter\"},{\"marker\":{\"color\":\"#cccccc\"},\"mode\":\"markers\",\"name\":\"Infeasible Trial\",\"showlegend\":false,\"x\":[],\"y\":[],\"type\":\"scatter\"}],                        {\"title\":{\"text\":\"Optimization History Plot\"},\"xaxis\":{\"title\":{\"text\":\"Trial\"}},\"yaxis\":{\"title\":{\"text\":\"Objective Value\"}},\"template\":{\"data\":{\"histogram2dcontour\":[{\"type\":\"histogram2dcontour\",\"colorbar\":{\"outlinewidth\":0,\"ticks\":\"\"},\"colorscale\":[[0.0,\"#0d0887\"],[0.1111111111111111,\"#46039f\"],[0.2222222222222222,\"#7201a8\"],[0.3333333333333333,\"#9c179e\"],[0.4444444444444444,\"#bd3786\"],[0.5555555555555556,\"#d8576b\"],[0.6666666666666666,\"#ed7953\"],[0.7777777777777778,\"#fb9f3a\"],[0.8888888888888888,\"#fdca26\"],[1.0,\"#f0f921\"]]}],\"choropleth\":[{\"type\":\"choropleth\",\"colorbar\":{\"outlinewidth\":0,\"ticks\":\"\"}}],\"histogram2d\":[{\"type\":\"histogram2d\",\"colorbar\":{\"outlinewidth\":0,\"ticks\":\"\"},\"colorscale\":[[0.0,\"#0d0887\"],[0.1111111111111111,\"#46039f\"],[0.2222222222222222,\"#7201a8\"],[0.3333333333333333,\"#9c179e\"],[0.4444444444444444,\"#bd3786\"],[0.5555555555555556,\"#d8576b\"],[0.6666666666666666,\"#ed7953\"],[0.7777777777777778,\"#fb9f3a\"],[0.8888888888888888,\"#fdca26\"],[1.0,\"#f0f921\"]]}],\"heatmap\":[{\"type\":\"heatmap\",\"colorbar\":{\"outlinewidth\":0,\"ticks\":\"\"},\"colorscale\":[[0.0,\"#0d0887\"],[0.1111111111111111,\"#46039f\"],[0.2222222222222222,\"#7201a8\"],[0.3333333333333333,\"#9c179e\"],[0.4444444444444444,\"#bd3786\"],[0.5555555555555556,\"#d8576b\"],[0.6666666666666666,\"#ed7953\"],[0.7777777777777778,\"#fb9f3a\"],[0.8888888888888888,\"#fdca26\"],[1.0,\"#f0f921\"]]}],\"heatmapgl\":[{\"type\":\"heatmapgl\",\"colorbar\":{\"outlinewidth\":0,\"ticks\":\"\"},\"colorscale\":[[0.0,\"#0d0887\"],[0.1111111111111111,\"#46039f\"],[0.2222222222222222,\"#7201a8\"],[0.3333333333333333,\"#9c179e\"],[0.4444444444444444,\"#bd3786\"],[0.5555555555555556,\"#d8576b\"],[0.6666666666666666,\"#ed7953\"],[0.7777777777777778,\"#fb9f3a\"],[0.8888888888888888,\"#fdca26\"],[1.0,\"#f0f921\"]]}],\"contourcarpet\":[{\"type\":\"contourcarpet\",\"colorbar\":{\"outlinewidth\":0,\"ticks\":\"\"}}],\"contour\":[{\"type\":\"contour\",\"colorbar\":{\"outlinewidth\":0,\"ticks\":\"\"},\"colorscale\":[[0.0,\"#0d0887\"],[0.1111111111111111,\"#46039f\"],[0.2222222222222222,\"#7201a8\"],[0.3333333333333333,\"#9c179e\"],[0.4444444444444444,\"#bd3786\"],[0.5555555555555556,\"#d8576b\"],[0.6666666666666666,\"#ed7953\"],[0.7777777777777778,\"#fb9f3a\"],[0.8888888888888888,\"#fdca26\"],[1.0,\"#f0f921\"]]}],\"surface\":[{\"type\":\"surface\",\"colorbar\":{\"outlinewidth\":0,\"ticks\":\"\"},\"colorscale\":[[0.0,\"#0d0887\"],[0.1111111111111111,\"#46039f\"],[0.2222222222222222,\"#7201a8\"],[0.3333333333333333,\"#9c179e\"],[0.4444444444444444,\"#bd3786\"],[0.5555555555555556,\"#d8576b\"],[0.6666666666666666,\"#ed7953\"],[0.7777777777777778,\"#fb9f3a\"],[0.8888888888888888,\"#fdca26\"],[1.0,\"#f0f921\"]]}],\"mesh3d\":[{\"type\":\"mesh3d\",\"colorbar\":{\"outlinewidth\":0,\"ticks\":\"\"}}],\"scatter\":[{\"fillpattern\":{\"fillmode\":\"overlay\",\"size\":10,\"solidity\":0.2},\"type\":\"scatter\"}],\"parcoords\":[{\"type\":\"parcoords\",\"line\":{\"colorbar\":{\"outlinewidth\":0,\"ticks\":\"\"}}}],\"scatterpolargl\":[{\"type\":\"scatterpolargl\",\"marker\":{\"colorbar\":{\"outlinewidth\":0,\"ticks\":\"\"}}}],\"bar\":[{\"error_x\":{\"color\":\"#2a3f5f\"},\"error_y\":{\"color\":\"#2a3f5f\"},\"marker\":{\"line\":{\"color\":\"#E5ECF6\",\"width\":0.5},\"pattern\":{\"fillmode\":\"overlay\",\"size\":10,\"solidity\":0.2}},\"type\":\"bar\"}],\"scattergeo\":[{\"type\":\"scattergeo\",\"marker\":{\"colorbar\":{\"outlinewidth\":0,\"ticks\":\"\"}}}],\"scatterpolar\":[{\"type\":\"scatterpolar\",\"marker\":{\"colorbar\":{\"outlinewidth\":0,\"ticks\":\"\"}}}],\"histogram\":[{\"marker\":{\"pattern\":{\"fillmode\":\"overlay\",\"size\":10,\"solidity\":0.2}},\"type\":\"histogram\"}],\"scattergl\":[{\"type\":\"scattergl\",\"marker\":{\"colorbar\":{\"outlinewidth\":0,\"ticks\":\"\"}}}],\"scatter3d\":[{\"type\":\"scatter3d\",\"line\":{\"colorbar\":{\"outlinewidth\":0,\"ticks\":\"\"}},\"marker\":{\"colorbar\":{\"outlinewidth\":0,\"ticks\":\"\"}}}],\"scattermapbox\":[{\"type\":\"scattermapbox\",\"marker\":{\"colorbar\":{\"outlinewidth\":0,\"ticks\":\"\"}}}],\"scatterternary\":[{\"type\":\"scatterternary\",\"marker\":{\"colorbar\":{\"outlinewidth\":0,\"ticks\":\"\"}}}],\"scattercarpet\":[{\"type\":\"scattercarpet\",\"marker\":{\"colorbar\":{\"outlinewidth\":0,\"ticks\":\"\"}}}],\"carpet\":[{\"aaxis\":{\"endlinecolor\":\"#2a3f5f\",\"gridcolor\":\"white\",\"linecolor\":\"white\",\"minorgridcolor\":\"white\",\"startlinecolor\":\"#2a3f5f\"},\"baxis\":{\"endlinecolor\":\"#2a3f5f\",\"gridcolor\":\"white\",\"linecolor\":\"white\",\"minorgridcolor\":\"white\",\"startlinecolor\":\"#2a3f5f\"},\"type\":\"carpet\"}],\"table\":[{\"cells\":{\"fill\":{\"color\":\"#EBF0F8\"},\"line\":{\"color\":\"white\"}},\"header\":{\"fill\":{\"color\":\"#C8D4E3\"},\"line\":{\"color\":\"white\"}},\"type\":\"table\"}],\"barpolar\":[{\"marker\":{\"line\":{\"color\":\"#E5ECF6\",\"width\":0.5},\"pattern\":{\"fillmode\":\"overlay\",\"size\":10,\"solidity\":0.2}},\"type\":\"barpolar\"}],\"pie\":[{\"automargin\":true,\"type\":\"pie\"}]},\"layout\":{\"autotypenumbers\":\"strict\",\"colorway\":[\"#636efa\",\"#EF553B\",\"#00cc96\",\"#ab63fa\",\"#FFA15A\",\"#19d3f3\",\"#FF6692\",\"#B6E880\",\"#FF97FF\",\"#FECB52\"],\"font\":{\"color\":\"#2a3f5f\"},\"hovermode\":\"closest\",\"hoverlabel\":{\"align\":\"left\"},\"paper_bgcolor\":\"white\",\"plot_bgcolor\":\"#E5ECF6\",\"polar\":{\"bgcolor\":\"#E5ECF6\",\"angularaxis\":{\"gridcolor\":\"white\",\"linecolor\":\"white\",\"ticks\":\"\"},\"radialaxis\":{\"gridcolor\":\"white\",\"linecolor\":\"white\",\"ticks\":\"\"}},\"ternary\":{\"bgcolor\":\"#E5ECF6\",\"aaxis\":{\"gridcolor\":\"white\",\"linecolor\":\"white\",\"ticks\":\"\"},\"baxis\":{\"gridcolor\":\"white\",\"linecolor\":\"white\",\"ticks\":\"\"},\"caxis\":{\"gridcolor\":\"white\",\"linecolor\":\"white\",\"ticks\":\"\"}},\"coloraxis\":{\"colorbar\":{\"outlinewidth\":0,\"ticks\":\"\"}},\"colorscale\":{\"sequential\":[[0.0,\"#0d0887\"],[0.1111111111111111,\"#46039f\"],[0.2222222222222222,\"#7201a8\"],[0.3333333333333333,\"#9c179e\"],[0.4444444444444444,\"#bd3786\"],[0.5555555555555556,\"#d8576b\"],[0.6666666666666666,\"#ed7953\"],[0.7777777777777778,\"#fb9f3a\"],[0.8888888888888888,\"#fdca26\"],[1.0,\"#f0f921\"]],\"sequentialminus\":[[0.0,\"#0d0887\"],[0.1111111111111111,\"#46039f\"],[0.2222222222222222,\"#7201a8\"],[0.3333333333333333,\"#9c179e\"],[0.4444444444444444,\"#bd3786\"],[0.5555555555555556,\"#d8576b\"],[0.6666666666666666,\"#ed7953\"],[0.7777777777777778,\"#fb9f3a\"],[0.8888888888888888,\"#fdca26\"],[1.0,\"#f0f921\"]],\"diverging\":[[0,\"#8e0152\"],[0.1,\"#c51b7d\"],[0.2,\"#de77ae\"],[0.3,\"#f1b6da\"],[0.4,\"#fde0ef\"],[0.5,\"#f7f7f7\"],[0.6,\"#e6f5d0\"],[0.7,\"#b8e186\"],[0.8,\"#7fbc41\"],[0.9,\"#4d9221\"],[1,\"#276419\"]]},\"xaxis\":{\"gridcolor\":\"white\",\"linecolor\":\"white\",\"ticks\":\"\",\"title\":{\"standoff\":15},\"zerolinecolor\":\"white\",\"automargin\":true,\"zerolinewidth\":2},\"yaxis\":{\"gridcolor\":\"white\",\"linecolor\":\"white\",\"ticks\":\"\",\"title\":{\"standoff\":15},\"zerolinecolor\":\"white\",\"automargin\":true,\"zerolinewidth\":2},\"scene\":{\"xaxis\":{\"backgroundcolor\":\"#E5ECF6\",\"gridcolor\":\"white\",\"linecolor\":\"white\",\"showbackground\":true,\"ticks\":\"\",\"zerolinecolor\":\"white\",\"gridwidth\":2},\"yaxis\":{\"backgroundcolor\":\"#E5ECF6\",\"gridcolor\":\"white\",\"linecolor\":\"white\",\"showbackground\":true,\"ticks\":\"\",\"zerolinecolor\":\"white\",\"gridwidth\":2},\"zaxis\":{\"backgroundcolor\":\"#E5ECF6\",\"gridcolor\":\"white\",\"linecolor\":\"white\",\"showbackground\":true,\"ticks\":\"\",\"zerolinecolor\":\"white\",\"gridwidth\":2}},\"shapedefaults\":{\"line\":{\"color\":\"#2a3f5f\"}},\"annotationdefaults\":{\"arrowcolor\":\"#2a3f5f\",\"arrowhead\":0,\"arrowwidth\":1},\"geo\":{\"bgcolor\":\"white\",\"landcolor\":\"#E5ECF6\",\"subunitcolor\":\"white\",\"showland\":true,\"showlakes\":true,\"lakecolor\":\"white\"},\"title\":{\"x\":0.05},\"mapbox\":{\"style\":\"light\"}}}},                        {\"responsive\": true}                    ).then(function(){\n",
              "                            \n",
              "var gd = document.getElementById('8a57c438-296f-47cf-a728-d0a1f766a6f4');\n",
              "var x = new MutationObserver(function (mutations, observer) {{\n",
              "        var display = window.getComputedStyle(gd).display;\n",
              "        if (!display || display === 'none') {{\n",
              "            console.log([gd, 'removed!']);\n",
              "            Plotly.purge(gd);\n",
              "            observer.disconnect();\n",
              "        }}\n",
              "}});\n",
              "\n",
              "// Listen for the removal of the full notebook cells\n",
              "var notebookContainer = gd.closest('#notebook-container');\n",
              "if (notebookContainer) {{\n",
              "    x.observe(notebookContainer, {childList: true});\n",
              "}}\n",
              "\n",
              "// Listen for the clearing of the current output cell\n",
              "var outputEl = gd.closest('.output');\n",
              "if (outputEl) {{\n",
              "    x.observe(outputEl, {childList: true});\n",
              "}}\n",
              "\n",
              "                        })                };                            </script>        </div>\n",
              "</body>\n",
              "</html>"
            ]
          },
          "metadata": {}
        }
      ]
    },
    {
      "cell_type": "code",
      "source": [
        "plot_parallel_coordinate(study)"
      ],
      "metadata": {
        "id": "-KFU6V6x_U4K",
        "outputId": "fe534749-0f44-4b8e-aadf-8846376fe919",
        "colab": {
          "base_uri": "https://localhost:8080/",
          "height": 542
        }
      },
      "execution_count": 13,
      "outputs": [
        {
          "output_type": "display_data",
          "data": {
            "text/html": [
              "<html>\n",
              "<head><meta charset=\"utf-8\" /></head>\n",
              "<body>\n",
              "    <div>            <script src=\"https://cdnjs.cloudflare.com/ajax/libs/mathjax/2.7.5/MathJax.js?config=TeX-AMS-MML_SVG\"></script><script type=\"text/javascript\">if (window.MathJax && window.MathJax.Hub && window.MathJax.Hub.Config) {window.MathJax.Hub.Config({SVG: {font: \"STIX-Web\"}});}</script>                <script type=\"text/javascript\">window.PlotlyConfig = {MathJaxConfig: 'local'};</script>\n",
              "        <script charset=\"utf-8\" src=\"https://cdn.plot.ly/plotly-2.35.2.min.js\"></script>                <div id=\"f7f1ae90-0107-4576-8fed-f1b8feedac24\" class=\"plotly-graph-div\" style=\"height:525px; width:100%;\"></div>            <script type=\"text/javascript\">                                    window.PLOTLYENV=window.PLOTLYENV || {};                                    if (document.getElementById(\"f7f1ae90-0107-4576-8fed-f1b8feedac24\")) {                    Plotly.newPlot(                        \"f7f1ae90-0107-4576-8fed-f1b8feedac24\",                        [{\"dimensions\":[{\"label\":\"Objective Value\",\"range\":[0.7504326756663205,0.7746278989269643],\"values\":[0.754153686396677,0.7652647975077882,0.7634302526825891,0.7578573901003807,0.7522672204915196,0.770889581169955,0.7652474904811354,0.7615784008307372,0.7634129456559362,0.76711664935964,0.755988231221876,0.7727587400484597,0.7652821045344409,0.7652647975077882,0.7727587400484597,0.7541190723433714,0.7596573208722741,0.7690031152647976,0.76711664935964,0.7596573208722741,0.7615610938040843,0.772741433021807,0.7746278989269643,0.7615264797507788,0.7615264797507788,0.7559190031152648,0.7708722741433023,0.7633610245759778,0.7633956386292835,0.7504326756663205,0.7634475597092419,0.770889581169955,0.7615437867774316,0.7652647975077882,0.7652474904811353,0.7634129456559363,0.7578400830737279,0.772741433021807,0.7541017653167186,0.7633610245759779,0.7670993423329872,0.7709068881966079,0.7727414330218069,0.7652994115610938,0.76711664935964,0.7578227760470752,0.7577881619937694,0.7615264797507788,0.7633783316026307,0.7634302526825891]},{\"label\":\"max_depth\",\"range\":[3,20],\"values\":[4,11,7,18,3,9,13,20,15,10,8,9,7,14,9,5,12,16,6,11,8,9,9,10,6,12,9,13,10,4,7,9,8,11,10,6,8,9,5,11,13,9,9,7,10,8,12,9,11,20]},{\"label\":\"n_estimators\",\"range\":[50,200],\"values\":[98,96,97,77,144,161,186,96,165,116,50,134,152,196,137,129,128,173,141,113,138,162,181,180,115,194,153,72,175,135,107,161,154,186,170,149,126,162,200,146,188,178,159,168,163,135,122,101,156,144]}],\"labelangle\":30,\"labelside\":\"bottom\",\"line\":{\"color\":[0.754153686396677,0.7652647975077882,0.7634302526825891,0.7578573901003807,0.7522672204915196,0.770889581169955,0.7652474904811354,0.7615784008307372,0.7634129456559362,0.76711664935964,0.755988231221876,0.7727587400484597,0.7652821045344409,0.7652647975077882,0.7727587400484597,0.7541190723433714,0.7596573208722741,0.7690031152647976,0.76711664935964,0.7596573208722741,0.7615610938040843,0.772741433021807,0.7746278989269643,0.7615264797507788,0.7615264797507788,0.7559190031152648,0.7708722741433023,0.7633610245759778,0.7633956386292835,0.7504326756663205,0.7634475597092419,0.770889581169955,0.7615437867774316,0.7652647975077882,0.7652474904811353,0.7634129456559363,0.7578400830737279,0.772741433021807,0.7541017653167186,0.7633610245759779,0.7670993423329872,0.7709068881966079,0.7727414330218069,0.7652994115610938,0.76711664935964,0.7578227760470752,0.7577881619937694,0.7615264797507788,0.7633783316026307,0.7634302526825891],\"colorbar\":{\"title\":{\"text\":\"Objective Value\"}},\"colorscale\":[[0.0,\"rgb(247,251,255)\"],[0.125,\"rgb(222,235,247)\"],[0.25,\"rgb(198,219,239)\"],[0.375,\"rgb(158,202,225)\"],[0.5,\"rgb(107,174,214)\"],[0.625,\"rgb(66,146,198)\"],[0.75,\"rgb(33,113,181)\"],[0.875,\"rgb(8,81,156)\"],[1.0,\"rgb(8,48,107)\"]],\"reversescale\":false,\"showscale\":true},\"type\":\"parcoords\"}],                        {\"title\":{\"text\":\"Parallel Coordinate Plot\"},\"template\":{\"data\":{\"histogram2dcontour\":[{\"type\":\"histogram2dcontour\",\"colorbar\":{\"outlinewidth\":0,\"ticks\":\"\"},\"colorscale\":[[0.0,\"#0d0887\"],[0.1111111111111111,\"#46039f\"],[0.2222222222222222,\"#7201a8\"],[0.3333333333333333,\"#9c179e\"],[0.4444444444444444,\"#bd3786\"],[0.5555555555555556,\"#d8576b\"],[0.6666666666666666,\"#ed7953\"],[0.7777777777777778,\"#fb9f3a\"],[0.8888888888888888,\"#fdca26\"],[1.0,\"#f0f921\"]]}],\"choropleth\":[{\"type\":\"choropleth\",\"colorbar\":{\"outlinewidth\":0,\"ticks\":\"\"}}],\"histogram2d\":[{\"type\":\"histogram2d\",\"colorbar\":{\"outlinewidth\":0,\"ticks\":\"\"},\"colorscale\":[[0.0,\"#0d0887\"],[0.1111111111111111,\"#46039f\"],[0.2222222222222222,\"#7201a8\"],[0.3333333333333333,\"#9c179e\"],[0.4444444444444444,\"#bd3786\"],[0.5555555555555556,\"#d8576b\"],[0.6666666666666666,\"#ed7953\"],[0.7777777777777778,\"#fb9f3a\"],[0.8888888888888888,\"#fdca26\"],[1.0,\"#f0f921\"]]}],\"heatmap\":[{\"type\":\"heatmap\",\"colorbar\":{\"outlinewidth\":0,\"ticks\":\"\"},\"colorscale\":[[0.0,\"#0d0887\"],[0.1111111111111111,\"#46039f\"],[0.2222222222222222,\"#7201a8\"],[0.3333333333333333,\"#9c179e\"],[0.4444444444444444,\"#bd3786\"],[0.5555555555555556,\"#d8576b\"],[0.6666666666666666,\"#ed7953\"],[0.7777777777777778,\"#fb9f3a\"],[0.8888888888888888,\"#fdca26\"],[1.0,\"#f0f921\"]]}],\"heatmapgl\":[{\"type\":\"heatmapgl\",\"colorbar\":{\"outlinewidth\":0,\"ticks\":\"\"},\"colorscale\":[[0.0,\"#0d0887\"],[0.1111111111111111,\"#46039f\"],[0.2222222222222222,\"#7201a8\"],[0.3333333333333333,\"#9c179e\"],[0.4444444444444444,\"#bd3786\"],[0.5555555555555556,\"#d8576b\"],[0.6666666666666666,\"#ed7953\"],[0.7777777777777778,\"#fb9f3a\"],[0.8888888888888888,\"#fdca26\"],[1.0,\"#f0f921\"]]}],\"contourcarpet\":[{\"type\":\"contourcarpet\",\"colorbar\":{\"outlinewidth\":0,\"ticks\":\"\"}}],\"contour\":[{\"type\":\"contour\",\"colorbar\":{\"outlinewidth\":0,\"ticks\":\"\"},\"colorscale\":[[0.0,\"#0d0887\"],[0.1111111111111111,\"#46039f\"],[0.2222222222222222,\"#7201a8\"],[0.3333333333333333,\"#9c179e\"],[0.4444444444444444,\"#bd3786\"],[0.5555555555555556,\"#d8576b\"],[0.6666666666666666,\"#ed7953\"],[0.7777777777777778,\"#fb9f3a\"],[0.8888888888888888,\"#fdca26\"],[1.0,\"#f0f921\"]]}],\"surface\":[{\"type\":\"surface\",\"colorbar\":{\"outlinewidth\":0,\"ticks\":\"\"},\"colorscale\":[[0.0,\"#0d0887\"],[0.1111111111111111,\"#46039f\"],[0.2222222222222222,\"#7201a8\"],[0.3333333333333333,\"#9c179e\"],[0.4444444444444444,\"#bd3786\"],[0.5555555555555556,\"#d8576b\"],[0.6666666666666666,\"#ed7953\"],[0.7777777777777778,\"#fb9f3a\"],[0.8888888888888888,\"#fdca26\"],[1.0,\"#f0f921\"]]}],\"mesh3d\":[{\"type\":\"mesh3d\",\"colorbar\":{\"outlinewidth\":0,\"ticks\":\"\"}}],\"scatter\":[{\"fillpattern\":{\"fillmode\":\"overlay\",\"size\":10,\"solidity\":0.2},\"type\":\"scatter\"}],\"parcoords\":[{\"type\":\"parcoords\",\"line\":{\"colorbar\":{\"outlinewidth\":0,\"ticks\":\"\"}}}],\"scatterpolargl\":[{\"type\":\"scatterpolargl\",\"marker\":{\"colorbar\":{\"outlinewidth\":0,\"ticks\":\"\"}}}],\"bar\":[{\"error_x\":{\"color\":\"#2a3f5f\"},\"error_y\":{\"color\":\"#2a3f5f\"},\"marker\":{\"line\":{\"color\":\"#E5ECF6\",\"width\":0.5},\"pattern\":{\"fillmode\":\"overlay\",\"size\":10,\"solidity\":0.2}},\"type\":\"bar\"}],\"scattergeo\":[{\"type\":\"scattergeo\",\"marker\":{\"colorbar\":{\"outlinewidth\":0,\"ticks\":\"\"}}}],\"scatterpolar\":[{\"type\":\"scatterpolar\",\"marker\":{\"colorbar\":{\"outlinewidth\":0,\"ticks\":\"\"}}}],\"histogram\":[{\"marker\":{\"pattern\":{\"fillmode\":\"overlay\",\"size\":10,\"solidity\":0.2}},\"type\":\"histogram\"}],\"scattergl\":[{\"type\":\"scattergl\",\"marker\":{\"colorbar\":{\"outlinewidth\":0,\"ticks\":\"\"}}}],\"scatter3d\":[{\"type\":\"scatter3d\",\"line\":{\"colorbar\":{\"outlinewidth\":0,\"ticks\":\"\"}},\"marker\":{\"colorbar\":{\"outlinewidth\":0,\"ticks\":\"\"}}}],\"scattermapbox\":[{\"type\":\"scattermapbox\",\"marker\":{\"colorbar\":{\"outlinewidth\":0,\"ticks\":\"\"}}}],\"scatterternary\":[{\"type\":\"scatterternary\",\"marker\":{\"colorbar\":{\"outlinewidth\":0,\"ticks\":\"\"}}}],\"scattercarpet\":[{\"type\":\"scattercarpet\",\"marker\":{\"colorbar\":{\"outlinewidth\":0,\"ticks\":\"\"}}}],\"carpet\":[{\"aaxis\":{\"endlinecolor\":\"#2a3f5f\",\"gridcolor\":\"white\",\"linecolor\":\"white\",\"minorgridcolor\":\"white\",\"startlinecolor\":\"#2a3f5f\"},\"baxis\":{\"endlinecolor\":\"#2a3f5f\",\"gridcolor\":\"white\",\"linecolor\":\"white\",\"minorgridcolor\":\"white\",\"startlinecolor\":\"#2a3f5f\"},\"type\":\"carpet\"}],\"table\":[{\"cells\":{\"fill\":{\"color\":\"#EBF0F8\"},\"line\":{\"color\":\"white\"}},\"header\":{\"fill\":{\"color\":\"#C8D4E3\"},\"line\":{\"color\":\"white\"}},\"type\":\"table\"}],\"barpolar\":[{\"marker\":{\"line\":{\"color\":\"#E5ECF6\",\"width\":0.5},\"pattern\":{\"fillmode\":\"overlay\",\"size\":10,\"solidity\":0.2}},\"type\":\"barpolar\"}],\"pie\":[{\"automargin\":true,\"type\":\"pie\"}]},\"layout\":{\"autotypenumbers\":\"strict\",\"colorway\":[\"#636efa\",\"#EF553B\",\"#00cc96\",\"#ab63fa\",\"#FFA15A\",\"#19d3f3\",\"#FF6692\",\"#B6E880\",\"#FF97FF\",\"#FECB52\"],\"font\":{\"color\":\"#2a3f5f\"},\"hovermode\":\"closest\",\"hoverlabel\":{\"align\":\"left\"},\"paper_bgcolor\":\"white\",\"plot_bgcolor\":\"#E5ECF6\",\"polar\":{\"bgcolor\":\"#E5ECF6\",\"angularaxis\":{\"gridcolor\":\"white\",\"linecolor\":\"white\",\"ticks\":\"\"},\"radialaxis\":{\"gridcolor\":\"white\",\"linecolor\":\"white\",\"ticks\":\"\"}},\"ternary\":{\"bgcolor\":\"#E5ECF6\",\"aaxis\":{\"gridcolor\":\"white\",\"linecolor\":\"white\",\"ticks\":\"\"},\"baxis\":{\"gridcolor\":\"white\",\"linecolor\":\"white\",\"ticks\":\"\"},\"caxis\":{\"gridcolor\":\"white\",\"linecolor\":\"white\",\"ticks\":\"\"}},\"coloraxis\":{\"colorbar\":{\"outlinewidth\":0,\"ticks\":\"\"}},\"colorscale\":{\"sequential\":[[0.0,\"#0d0887\"],[0.1111111111111111,\"#46039f\"],[0.2222222222222222,\"#7201a8\"],[0.3333333333333333,\"#9c179e\"],[0.4444444444444444,\"#bd3786\"],[0.5555555555555556,\"#d8576b\"],[0.6666666666666666,\"#ed7953\"],[0.7777777777777778,\"#fb9f3a\"],[0.8888888888888888,\"#fdca26\"],[1.0,\"#f0f921\"]],\"sequentialminus\":[[0.0,\"#0d0887\"],[0.1111111111111111,\"#46039f\"],[0.2222222222222222,\"#7201a8\"],[0.3333333333333333,\"#9c179e\"],[0.4444444444444444,\"#bd3786\"],[0.5555555555555556,\"#d8576b\"],[0.6666666666666666,\"#ed7953\"],[0.7777777777777778,\"#fb9f3a\"],[0.8888888888888888,\"#fdca26\"],[1.0,\"#f0f921\"]],\"diverging\":[[0,\"#8e0152\"],[0.1,\"#c51b7d\"],[0.2,\"#de77ae\"],[0.3,\"#f1b6da\"],[0.4,\"#fde0ef\"],[0.5,\"#f7f7f7\"],[0.6,\"#e6f5d0\"],[0.7,\"#b8e186\"],[0.8,\"#7fbc41\"],[0.9,\"#4d9221\"],[1,\"#276419\"]]},\"xaxis\":{\"gridcolor\":\"white\",\"linecolor\":\"white\",\"ticks\":\"\",\"title\":{\"standoff\":15},\"zerolinecolor\":\"white\",\"automargin\":true,\"zerolinewidth\":2},\"yaxis\":{\"gridcolor\":\"white\",\"linecolor\":\"white\",\"ticks\":\"\",\"title\":{\"standoff\":15},\"zerolinecolor\":\"white\",\"automargin\":true,\"zerolinewidth\":2},\"scene\":{\"xaxis\":{\"backgroundcolor\":\"#E5ECF6\",\"gridcolor\":\"white\",\"linecolor\":\"white\",\"showbackground\":true,\"ticks\":\"\",\"zerolinecolor\":\"white\",\"gridwidth\":2},\"yaxis\":{\"backgroundcolor\":\"#E5ECF6\",\"gridcolor\":\"white\",\"linecolor\":\"white\",\"showbackground\":true,\"ticks\":\"\",\"zerolinecolor\":\"white\",\"gridwidth\":2},\"zaxis\":{\"backgroundcolor\":\"#E5ECF6\",\"gridcolor\":\"white\",\"linecolor\":\"white\",\"showbackground\":true,\"ticks\":\"\",\"zerolinecolor\":\"white\",\"gridwidth\":2}},\"shapedefaults\":{\"line\":{\"color\":\"#2a3f5f\"}},\"annotationdefaults\":{\"arrowcolor\":\"#2a3f5f\",\"arrowhead\":0,\"arrowwidth\":1},\"geo\":{\"bgcolor\":\"white\",\"landcolor\":\"#E5ECF6\",\"subunitcolor\":\"white\",\"showland\":true,\"showlakes\":true,\"lakecolor\":\"white\"},\"title\":{\"x\":0.05},\"mapbox\":{\"style\":\"light\"}}}},                        {\"responsive\": true}                    ).then(function(){\n",
              "                            \n",
              "var gd = document.getElementById('f7f1ae90-0107-4576-8fed-f1b8feedac24');\n",
              "var x = new MutationObserver(function (mutations, observer) {{\n",
              "        var display = window.getComputedStyle(gd).display;\n",
              "        if (!display || display === 'none') {{\n",
              "            console.log([gd, 'removed!']);\n",
              "            Plotly.purge(gd);\n",
              "            observer.disconnect();\n",
              "        }}\n",
              "}});\n",
              "\n",
              "// Listen for the removal of the full notebook cells\n",
              "var notebookContainer = gd.closest('#notebook-container');\n",
              "if (notebookContainer) {{\n",
              "    x.observe(notebookContainer, {childList: true});\n",
              "}}\n",
              "\n",
              "// Listen for the clearing of the current output cell\n",
              "var outputEl = gd.closest('.output');\n",
              "if (outputEl) {{\n",
              "    x.observe(outputEl, {childList: true});\n",
              "}}\n",
              "\n",
              "                        })                };                            </script>        </div>\n",
              "</body>\n",
              "</html>"
            ]
          },
          "metadata": {}
        }
      ]
    },
    {
      "cell_type": "code",
      "source": [
        "plot_slice(study).show()"
      ],
      "metadata": {
        "id": "ZRu0cxsc_onz",
        "outputId": "8015c6bb-8561-46ba-88ce-bfc53340a42c",
        "colab": {
          "base_uri": "https://localhost:8080/",
          "height": 542
        }
      },
      "execution_count": 14,
      "outputs": [
        {
          "output_type": "display_data",
          "data": {
            "text/html": [
              "<html>\n",
              "<head><meta charset=\"utf-8\" /></head>\n",
              "<body>\n",
              "    <div>            <script src=\"https://cdnjs.cloudflare.com/ajax/libs/mathjax/2.7.5/MathJax.js?config=TeX-AMS-MML_SVG\"></script><script type=\"text/javascript\">if (window.MathJax && window.MathJax.Hub && window.MathJax.Hub.Config) {window.MathJax.Hub.Config({SVG: {font: \"STIX-Web\"}});}</script>                <script type=\"text/javascript\">window.PlotlyConfig = {MathJaxConfig: 'local'};</script>\n",
              "        <script charset=\"utf-8\" src=\"https://cdn.plot.ly/plotly-2.35.2.min.js\"></script>                <div id=\"b048f6af-befd-4a1b-95f6-4af4d8d3df7e\" class=\"plotly-graph-div\" style=\"height:525px; width:100%;\"></div>            <script type=\"text/javascript\">                                    window.PLOTLYENV=window.PLOTLYENV || {};                                    if (document.getElementById(\"b048f6af-befd-4a1b-95f6-4af4d8d3df7e\")) {                    Plotly.newPlot(                        \"b048f6af-befd-4a1b-95f6-4af4d8d3df7e\",                        [{\"marker\":{\"color\":[0,1,2,3,4,5,6,7,8,9,10,11,12,13,14,15,16,17,18,19,20,21,22,23,24,25,26,27,28,29,30,31,32,33,34,35,36,37,38,39,40,41,42,43,44,45,46,47,48,49],\"colorbar\":{\"title\":{\"text\":\"Trial\"},\"x\":1.0,\"xpad\":40},\"colorscale\":[[0.0,\"rgb(247,251,255)\"],[0.125,\"rgb(222,235,247)\"],[0.25,\"rgb(198,219,239)\"],[0.375,\"rgb(158,202,225)\"],[0.5,\"rgb(107,174,214)\"],[0.625,\"rgb(66,146,198)\"],[0.75,\"rgb(33,113,181)\"],[0.875,\"rgb(8,81,156)\"],[1.0,\"rgb(8,48,107)\"]],\"line\":{\"color\":\"Grey\",\"width\":0.5},\"showscale\":true},\"mode\":\"markers\",\"name\":\"Feasible Trial\",\"showlegend\":false,\"x\":[4,11,7,18,3,9,13,20,15,10,8,9,7,14,9,5,12,16,6,11,8,9,9,10,6,12,9,13,10,4,7,9,8,11,10,6,8,9,5,11,13,9,9,7,10,8,12,9,11,20],\"y\":[0.754153686396677,0.7652647975077882,0.7634302526825891,0.7578573901003807,0.7522672204915196,0.770889581169955,0.7652474904811354,0.7615784008307372,0.7634129456559362,0.76711664935964,0.755988231221876,0.7727587400484597,0.7652821045344409,0.7652647975077882,0.7727587400484597,0.7541190723433714,0.7596573208722741,0.7690031152647976,0.76711664935964,0.7596573208722741,0.7615610938040843,0.772741433021807,0.7746278989269643,0.7615264797507788,0.7615264797507788,0.7559190031152648,0.7708722741433023,0.7633610245759778,0.7633956386292835,0.7504326756663205,0.7634475597092419,0.770889581169955,0.7615437867774316,0.7652647975077882,0.7652474904811353,0.7634129456559363,0.7578400830737279,0.772741433021807,0.7541017653167186,0.7633610245759779,0.7670993423329872,0.7709068881966079,0.7727414330218069,0.7652994115610938,0.76711664935964,0.7578227760470752,0.7577881619937694,0.7615264797507788,0.7633783316026307,0.7634302526825891],\"type\":\"scatter\",\"xaxis\":\"x\",\"yaxis\":\"y\"},{\"marker\":{\"color\":[0,1,2,3,4,5,6,7,8,9,10,11,12,13,14,15,16,17,18,19,20,21,22,23,24,25,26,27,28,29,30,31,32,33,34,35,36,37,38,39,40,41,42,43,44,45,46,47,48,49],\"colorbar\":{\"title\":{\"text\":\"Trial\"},\"x\":1.0,\"xpad\":40},\"colorscale\":[[0.0,\"rgb(247,251,255)\"],[0.125,\"rgb(222,235,247)\"],[0.25,\"rgb(198,219,239)\"],[0.375,\"rgb(158,202,225)\"],[0.5,\"rgb(107,174,214)\"],[0.625,\"rgb(66,146,198)\"],[0.75,\"rgb(33,113,181)\"],[0.875,\"rgb(8,81,156)\"],[1.0,\"rgb(8,48,107)\"]],\"line\":{\"color\":\"Grey\",\"width\":0.5},\"showscale\":false},\"mode\":\"markers\",\"name\":\"Feasible Trial\",\"showlegend\":false,\"x\":[98,96,97,77,144,161,186,96,165,116,50,134,152,196,137,129,128,173,141,113,138,162,181,180,115,194,153,72,175,135,107,161,154,186,170,149,126,162,200,146,188,178,159,168,163,135,122,101,156,144],\"y\":[0.754153686396677,0.7652647975077882,0.7634302526825891,0.7578573901003807,0.7522672204915196,0.770889581169955,0.7652474904811354,0.7615784008307372,0.7634129456559362,0.76711664935964,0.755988231221876,0.7727587400484597,0.7652821045344409,0.7652647975077882,0.7727587400484597,0.7541190723433714,0.7596573208722741,0.7690031152647976,0.76711664935964,0.7596573208722741,0.7615610938040843,0.772741433021807,0.7746278989269643,0.7615264797507788,0.7615264797507788,0.7559190031152648,0.7708722741433023,0.7633610245759778,0.7633956386292835,0.7504326756663205,0.7634475597092419,0.770889581169955,0.7615437867774316,0.7652647975077882,0.7652474904811353,0.7634129456559363,0.7578400830737279,0.772741433021807,0.7541017653167186,0.7633610245759779,0.7670993423329872,0.7709068881966079,0.7727414330218069,0.7652994115610938,0.76711664935964,0.7578227760470752,0.7577881619937694,0.7615264797507788,0.7633783316026307,0.7634302526825891],\"type\":\"scatter\",\"xaxis\":\"x2\",\"yaxis\":\"y2\"}],                        {\"template\":{\"data\":{\"histogram2dcontour\":[{\"type\":\"histogram2dcontour\",\"colorbar\":{\"outlinewidth\":0,\"ticks\":\"\"},\"colorscale\":[[0.0,\"#0d0887\"],[0.1111111111111111,\"#46039f\"],[0.2222222222222222,\"#7201a8\"],[0.3333333333333333,\"#9c179e\"],[0.4444444444444444,\"#bd3786\"],[0.5555555555555556,\"#d8576b\"],[0.6666666666666666,\"#ed7953\"],[0.7777777777777778,\"#fb9f3a\"],[0.8888888888888888,\"#fdca26\"],[1.0,\"#f0f921\"]]}],\"choropleth\":[{\"type\":\"choropleth\",\"colorbar\":{\"outlinewidth\":0,\"ticks\":\"\"}}],\"histogram2d\":[{\"type\":\"histogram2d\",\"colorbar\":{\"outlinewidth\":0,\"ticks\":\"\"},\"colorscale\":[[0.0,\"#0d0887\"],[0.1111111111111111,\"#46039f\"],[0.2222222222222222,\"#7201a8\"],[0.3333333333333333,\"#9c179e\"],[0.4444444444444444,\"#bd3786\"],[0.5555555555555556,\"#d8576b\"],[0.6666666666666666,\"#ed7953\"],[0.7777777777777778,\"#fb9f3a\"],[0.8888888888888888,\"#fdca26\"],[1.0,\"#f0f921\"]]}],\"heatmap\":[{\"type\":\"heatmap\",\"colorbar\":{\"outlinewidth\":0,\"ticks\":\"\"},\"colorscale\":[[0.0,\"#0d0887\"],[0.1111111111111111,\"#46039f\"],[0.2222222222222222,\"#7201a8\"],[0.3333333333333333,\"#9c179e\"],[0.4444444444444444,\"#bd3786\"],[0.5555555555555556,\"#d8576b\"],[0.6666666666666666,\"#ed7953\"],[0.7777777777777778,\"#fb9f3a\"],[0.8888888888888888,\"#fdca26\"],[1.0,\"#f0f921\"]]}],\"heatmapgl\":[{\"type\":\"heatmapgl\",\"colorbar\":{\"outlinewidth\":0,\"ticks\":\"\"},\"colorscale\":[[0.0,\"#0d0887\"],[0.1111111111111111,\"#46039f\"],[0.2222222222222222,\"#7201a8\"],[0.3333333333333333,\"#9c179e\"],[0.4444444444444444,\"#bd3786\"],[0.5555555555555556,\"#d8576b\"],[0.6666666666666666,\"#ed7953\"],[0.7777777777777778,\"#fb9f3a\"],[0.8888888888888888,\"#fdca26\"],[1.0,\"#f0f921\"]]}],\"contourcarpet\":[{\"type\":\"contourcarpet\",\"colorbar\":{\"outlinewidth\":0,\"ticks\":\"\"}}],\"contour\":[{\"type\":\"contour\",\"colorbar\":{\"outlinewidth\":0,\"ticks\":\"\"},\"colorscale\":[[0.0,\"#0d0887\"],[0.1111111111111111,\"#46039f\"],[0.2222222222222222,\"#7201a8\"],[0.3333333333333333,\"#9c179e\"],[0.4444444444444444,\"#bd3786\"],[0.5555555555555556,\"#d8576b\"],[0.6666666666666666,\"#ed7953\"],[0.7777777777777778,\"#fb9f3a\"],[0.8888888888888888,\"#fdca26\"],[1.0,\"#f0f921\"]]}],\"surface\":[{\"type\":\"surface\",\"colorbar\":{\"outlinewidth\":0,\"ticks\":\"\"},\"colorscale\":[[0.0,\"#0d0887\"],[0.1111111111111111,\"#46039f\"],[0.2222222222222222,\"#7201a8\"],[0.3333333333333333,\"#9c179e\"],[0.4444444444444444,\"#bd3786\"],[0.5555555555555556,\"#d8576b\"],[0.6666666666666666,\"#ed7953\"],[0.7777777777777778,\"#fb9f3a\"],[0.8888888888888888,\"#fdca26\"],[1.0,\"#f0f921\"]]}],\"mesh3d\":[{\"type\":\"mesh3d\",\"colorbar\":{\"outlinewidth\":0,\"ticks\":\"\"}}],\"scatter\":[{\"fillpattern\":{\"fillmode\":\"overlay\",\"size\":10,\"solidity\":0.2},\"type\":\"scatter\"}],\"parcoords\":[{\"type\":\"parcoords\",\"line\":{\"colorbar\":{\"outlinewidth\":0,\"ticks\":\"\"}}}],\"scatterpolargl\":[{\"type\":\"scatterpolargl\",\"marker\":{\"colorbar\":{\"outlinewidth\":0,\"ticks\":\"\"}}}],\"bar\":[{\"error_x\":{\"color\":\"#2a3f5f\"},\"error_y\":{\"color\":\"#2a3f5f\"},\"marker\":{\"line\":{\"color\":\"#E5ECF6\",\"width\":0.5},\"pattern\":{\"fillmode\":\"overlay\",\"size\":10,\"solidity\":0.2}},\"type\":\"bar\"}],\"scattergeo\":[{\"type\":\"scattergeo\",\"marker\":{\"colorbar\":{\"outlinewidth\":0,\"ticks\":\"\"}}}],\"scatterpolar\":[{\"type\":\"scatterpolar\",\"marker\":{\"colorbar\":{\"outlinewidth\":0,\"ticks\":\"\"}}}],\"histogram\":[{\"marker\":{\"pattern\":{\"fillmode\":\"overlay\",\"size\":10,\"solidity\":0.2}},\"type\":\"histogram\"}],\"scattergl\":[{\"type\":\"scattergl\",\"marker\":{\"colorbar\":{\"outlinewidth\":0,\"ticks\":\"\"}}}],\"scatter3d\":[{\"type\":\"scatter3d\",\"line\":{\"colorbar\":{\"outlinewidth\":0,\"ticks\":\"\"}},\"marker\":{\"colorbar\":{\"outlinewidth\":0,\"ticks\":\"\"}}}],\"scattermapbox\":[{\"type\":\"scattermapbox\",\"marker\":{\"colorbar\":{\"outlinewidth\":0,\"ticks\":\"\"}}}],\"scatterternary\":[{\"type\":\"scatterternary\",\"marker\":{\"colorbar\":{\"outlinewidth\":0,\"ticks\":\"\"}}}],\"scattercarpet\":[{\"type\":\"scattercarpet\",\"marker\":{\"colorbar\":{\"outlinewidth\":0,\"ticks\":\"\"}}}],\"carpet\":[{\"aaxis\":{\"endlinecolor\":\"#2a3f5f\",\"gridcolor\":\"white\",\"linecolor\":\"white\",\"minorgridcolor\":\"white\",\"startlinecolor\":\"#2a3f5f\"},\"baxis\":{\"endlinecolor\":\"#2a3f5f\",\"gridcolor\":\"white\",\"linecolor\":\"white\",\"minorgridcolor\":\"white\",\"startlinecolor\":\"#2a3f5f\"},\"type\":\"carpet\"}],\"table\":[{\"cells\":{\"fill\":{\"color\":\"#EBF0F8\"},\"line\":{\"color\":\"white\"}},\"header\":{\"fill\":{\"color\":\"#C8D4E3\"},\"line\":{\"color\":\"white\"}},\"type\":\"table\"}],\"barpolar\":[{\"marker\":{\"line\":{\"color\":\"#E5ECF6\",\"width\":0.5},\"pattern\":{\"fillmode\":\"overlay\",\"size\":10,\"solidity\":0.2}},\"type\":\"barpolar\"}],\"pie\":[{\"automargin\":true,\"type\":\"pie\"}]},\"layout\":{\"autotypenumbers\":\"strict\",\"colorway\":[\"#636efa\",\"#EF553B\",\"#00cc96\",\"#ab63fa\",\"#FFA15A\",\"#19d3f3\",\"#FF6692\",\"#B6E880\",\"#FF97FF\",\"#FECB52\"],\"font\":{\"color\":\"#2a3f5f\"},\"hovermode\":\"closest\",\"hoverlabel\":{\"align\":\"left\"},\"paper_bgcolor\":\"white\",\"plot_bgcolor\":\"#E5ECF6\",\"polar\":{\"bgcolor\":\"#E5ECF6\",\"angularaxis\":{\"gridcolor\":\"white\",\"linecolor\":\"white\",\"ticks\":\"\"},\"radialaxis\":{\"gridcolor\":\"white\",\"linecolor\":\"white\",\"ticks\":\"\"}},\"ternary\":{\"bgcolor\":\"#E5ECF6\",\"aaxis\":{\"gridcolor\":\"white\",\"linecolor\":\"white\",\"ticks\":\"\"},\"baxis\":{\"gridcolor\":\"white\",\"linecolor\":\"white\",\"ticks\":\"\"},\"caxis\":{\"gridcolor\":\"white\",\"linecolor\":\"white\",\"ticks\":\"\"}},\"coloraxis\":{\"colorbar\":{\"outlinewidth\":0,\"ticks\":\"\"}},\"colorscale\":{\"sequential\":[[0.0,\"#0d0887\"],[0.1111111111111111,\"#46039f\"],[0.2222222222222222,\"#7201a8\"],[0.3333333333333333,\"#9c179e\"],[0.4444444444444444,\"#bd3786\"],[0.5555555555555556,\"#d8576b\"],[0.6666666666666666,\"#ed7953\"],[0.7777777777777778,\"#fb9f3a\"],[0.8888888888888888,\"#fdca26\"],[1.0,\"#f0f921\"]],\"sequentialminus\":[[0.0,\"#0d0887\"],[0.1111111111111111,\"#46039f\"],[0.2222222222222222,\"#7201a8\"],[0.3333333333333333,\"#9c179e\"],[0.4444444444444444,\"#bd3786\"],[0.5555555555555556,\"#d8576b\"],[0.6666666666666666,\"#ed7953\"],[0.7777777777777778,\"#fb9f3a\"],[0.8888888888888888,\"#fdca26\"],[1.0,\"#f0f921\"]],\"diverging\":[[0,\"#8e0152\"],[0.1,\"#c51b7d\"],[0.2,\"#de77ae\"],[0.3,\"#f1b6da\"],[0.4,\"#fde0ef\"],[0.5,\"#f7f7f7\"],[0.6,\"#e6f5d0\"],[0.7,\"#b8e186\"],[0.8,\"#7fbc41\"],[0.9,\"#4d9221\"],[1,\"#276419\"]]},\"xaxis\":{\"gridcolor\":\"white\",\"linecolor\":\"white\",\"ticks\":\"\",\"title\":{\"standoff\":15},\"zerolinecolor\":\"white\",\"automargin\":true,\"zerolinewidth\":2},\"yaxis\":{\"gridcolor\":\"white\",\"linecolor\":\"white\",\"ticks\":\"\",\"title\":{\"standoff\":15},\"zerolinecolor\":\"white\",\"automargin\":true,\"zerolinewidth\":2},\"scene\":{\"xaxis\":{\"backgroundcolor\":\"#E5ECF6\",\"gridcolor\":\"white\",\"linecolor\":\"white\",\"showbackground\":true,\"ticks\":\"\",\"zerolinecolor\":\"white\",\"gridwidth\":2},\"yaxis\":{\"backgroundcolor\":\"#E5ECF6\",\"gridcolor\":\"white\",\"linecolor\":\"white\",\"showbackground\":true,\"ticks\":\"\",\"zerolinecolor\":\"white\",\"gridwidth\":2},\"zaxis\":{\"backgroundcolor\":\"#E5ECF6\",\"gridcolor\":\"white\",\"linecolor\":\"white\",\"showbackground\":true,\"ticks\":\"\",\"zerolinecolor\":\"white\",\"gridwidth\":2}},\"shapedefaults\":{\"line\":{\"color\":\"#2a3f5f\"}},\"annotationdefaults\":{\"arrowcolor\":\"#2a3f5f\",\"arrowhead\":0,\"arrowwidth\":1},\"geo\":{\"bgcolor\":\"white\",\"landcolor\":\"#E5ECF6\",\"subunitcolor\":\"white\",\"showland\":true,\"showlakes\":true,\"lakecolor\":\"white\"},\"title\":{\"x\":0.05},\"mapbox\":{\"style\":\"light\"}}},\"xaxis\":{\"anchor\":\"y\",\"domain\":[0.0,0.45],\"title\":{\"text\":\"max_depth\"}},\"yaxis\":{\"anchor\":\"x\",\"domain\":[0.0,1.0],\"title\":{\"text\":\"Objective Value\"}},\"xaxis2\":{\"anchor\":\"y2\",\"domain\":[0.55,1.0],\"title\":{\"text\":\"n_estimators\"}},\"yaxis2\":{\"anchor\":\"x2\",\"domain\":[0.0,1.0],\"matches\":\"y\",\"showticklabels\":false},\"title\":{\"text\":\"Slice Plot\"}},                        {\"responsive\": true}                    ).then(function(){\n",
              "                            \n",
              "var gd = document.getElementById('b048f6af-befd-4a1b-95f6-4af4d8d3df7e');\n",
              "var x = new MutationObserver(function (mutations, observer) {{\n",
              "        var display = window.getComputedStyle(gd).display;\n",
              "        if (!display || display === 'none') {{\n",
              "            console.log([gd, 'removed!']);\n",
              "            Plotly.purge(gd);\n",
              "            observer.disconnect();\n",
              "        }}\n",
              "}});\n",
              "\n",
              "// Listen for the removal of the full notebook cells\n",
              "var notebookContainer = gd.closest('#notebook-container');\n",
              "if (notebookContainer) {{\n",
              "    x.observe(notebookContainer, {childList: true});\n",
              "}}\n",
              "\n",
              "// Listen for the clearing of the current output cell\n",
              "var outputEl = gd.closest('.output');\n",
              "if (outputEl) {{\n",
              "    x.observe(outputEl, {childList: true});\n",
              "}}\n",
              "\n",
              "                        })                };                            </script>        </div>\n",
              "</body>\n",
              "</html>"
            ]
          },
          "metadata": {}
        }
      ]
    },
    {
      "cell_type": "code",
      "source": [
        "plot_contour(study).show()"
      ],
      "metadata": {
        "id": "aisDfEE-BPvX",
        "outputId": "3bdb0aa6-5377-435c-ee61-c965df0231c7",
        "colab": {
          "base_uri": "https://localhost:8080/",
          "height": 542
        }
      },
      "execution_count": 15,
      "outputs": [
        {
          "output_type": "display_data",
          "data": {
            "text/html": [
              "<html>\n",
              "<head><meta charset=\"utf-8\" /></head>\n",
              "<body>\n",
              "    <div>            <script src=\"https://cdnjs.cloudflare.com/ajax/libs/mathjax/2.7.5/MathJax.js?config=TeX-AMS-MML_SVG\"></script><script type=\"text/javascript\">if (window.MathJax && window.MathJax.Hub && window.MathJax.Hub.Config) {window.MathJax.Hub.Config({SVG: {font: \"STIX-Web\"}});}</script>                <script type=\"text/javascript\">window.PlotlyConfig = {MathJaxConfig: 'local'};</script>\n",
              "        <script charset=\"utf-8\" src=\"https://cdn.plot.ly/plotly-2.35.2.min.js\"></script>                <div id=\"e930dfb7-af29-4eb3-b15d-5be1eaa24196\" class=\"plotly-graph-div\" style=\"height:525px; width:100%;\"></div>            <script type=\"text/javascript\">                                    window.PLOTLYENV=window.PLOTLYENV || {};                                    if (document.getElementById(\"e930dfb7-af29-4eb3-b15d-5be1eaa24196\")) {                    Plotly.newPlot(                        \"e930dfb7-af29-4eb3-b15d-5be1eaa24196\",                        [{\"colorbar\":{\"title\":{\"text\":\"Objective Value\"}},\"colorscale\":[[0.0,\"rgb(247,251,255)\"],[0.125,\"rgb(222,235,247)\"],[0.25,\"rgb(198,219,239)\"],[0.375,\"rgb(158,202,225)\"],[0.5,\"rgb(107,174,214)\"],[0.625,\"rgb(66,146,198)\"],[0.75,\"rgb(33,113,181)\"],[0.875,\"rgb(8,81,156)\"],[1.0,\"rgb(8,48,107)\"]],\"connectgaps\":true,\"contours\":{\"coloring\":\"heatmap\"},\"hoverinfo\":\"none\",\"line\":{\"smoothing\":1.3},\"reversescale\":false,\"x\":[2.15,3,4,5,6,7,8,9,10,11,12,13,14,15,16,18,20,20.85],\"y\":[42.5,50,72,77,96,97,98,101,107,113,115,116,122,126,128,129,134,135,137,138,141,144,146,149,152,153,154,156,159,161,162,163,165,168,170,173,175,178,180,181,186,188,194,196,200,207.5],\"z\":[[null,null,null,null,null,null,null,null,null,null,null,null,null,null,null,null,null,null],[null,null,null,null,null,null,0.755988231221876,null,null,null,null,null,null,null,null,null,null,null],[null,null,null,null,null,null,null,null,null,null,null,0.7633610245759778,null,null,null,null,null,null],[null,null,null,null,null,null,null,null,null,null,null,null,null,null,null,0.7578573901003807,null,null],[null,null,null,null,null,null,null,null,null,0.7652647975077882,null,null,null,null,null,null,0.7615784008307372,null],[null,null,null,null,null,0.7634302526825891,null,null,null,null,null,null,null,null,null,null,null,null],[null,null,0.754153686396677,null,null,null,null,null,null,null,null,null,null,null,null,null,null,null],[null,null,null,null,null,null,null,0.7615264797507788,null,null,null,null,null,null,null,null,null,null],[null,null,null,null,null,0.7634475597092419,null,null,null,null,null,null,null,null,null,null,null,null],[null,null,null,null,null,null,null,null,null,0.7596573208722741,null,null,null,null,null,null,null,null],[null,null,null,null,0.7615264797507788,null,null,null,null,null,null,null,null,null,null,null,null,null],[null,null,null,null,null,null,null,null,0.76711664935964,null,null,null,null,null,null,null,null,null],[null,null,null,null,null,null,null,null,null,null,0.7577881619937694,null,null,null,null,null,null,null],[null,null,null,null,null,null,0.7578400830737279,null,null,null,null,null,null,null,null,null,null,null],[null,null,null,null,null,null,null,null,null,null,0.7596573208722741,null,null,null,null,null,null,null],[null,null,null,0.7541190723433714,null,null,null,null,null,null,null,null,null,null,null,null,null,null],[null,null,null,null,null,null,null,0.7727587400484597,null,null,null,null,null,null,null,null,null,null],[null,null,0.7504326756663205,null,null,null,0.7578227760470752,null,null,null,null,null,null,null,null,null,null,null],[null,null,null,null,null,null,null,0.7727587400484597,null,null,null,null,null,null,null,null,null,null],[null,null,null,null,null,null,0.7615610938040843,null,null,null,null,null,null,null,null,null,null,null],[null,null,null,null,0.76711664935964,null,null,null,null,null,null,null,null,null,null,null,null,null],[null,0.7522672204915196,null,null,null,null,null,null,null,null,null,null,null,null,null,null,0.7634302526825891,null],[null,null,null,null,null,null,null,null,null,0.7633610245759779,null,null,null,null,null,null,null,null],[null,null,null,null,0.7634129456559363,null,null,null,null,null,null,null,null,null,null,null,null,null],[null,null,null,null,null,0.7652821045344409,null,null,null,null,null,null,null,null,null,null,null,null],[null,null,null,null,null,null,null,0.7708722741433023,null,null,null,null,null,null,null,null,null,null],[null,null,null,null,null,null,0.7615437867774316,null,null,null,null,null,null,null,null,null,null,null],[null,null,null,null,null,null,null,null,null,0.7633783316026307,null,null,null,null,null,null,null,null],[null,null,null,null,null,null,null,0.7727414330218069,null,null,null,null,null,null,null,null,null,null],[null,null,null,null,null,null,null,0.770889581169955,null,null,null,null,null,null,null,null,null,null],[null,null,null,null,null,null,null,0.772741433021807,null,null,null,null,null,null,null,null,null,null],[null,null,null,null,null,null,null,null,0.76711664935964,null,null,null,null,null,null,null,null,null],[null,null,null,null,null,null,null,null,null,null,null,null,null,0.7634129456559362,null,null,null,null],[null,null,null,null,null,0.7652994115610938,null,null,null,null,null,null,null,null,null,null,null,null],[null,null,null,null,null,null,null,null,0.7652474904811353,null,null,null,null,null,null,null,null,null],[null,null,null,null,null,null,null,null,null,null,null,null,null,null,0.7690031152647976,null,null,null],[null,null,null,null,null,null,null,null,0.7633956386292835,null,null,null,null,null,null,null,null,null],[null,null,null,null,null,null,null,0.7709068881966079,null,null,null,null,null,null,null,null,null,null],[null,null,null,null,null,null,null,null,0.7615264797507788,null,null,null,null,null,null,null,null,null],[null,null,null,null,null,null,null,0.7746278989269643,null,null,null,null,null,null,null,null,null,null],[null,null,null,null,null,null,null,null,null,0.7652647975077882,null,0.7652474904811354,null,null,null,null,null,null],[null,null,null,null,null,null,null,null,null,null,null,0.7670993423329872,null,null,null,null,null,null],[null,null,null,null,null,null,null,null,null,null,0.7559190031152648,null,null,null,null,null,null,null],[null,null,null,null,null,null,null,null,null,null,null,null,0.7652647975077882,null,null,null,null,null],[null,null,null,0.7541017653167186,null,null,null,null,null,null,null,null,null,null,null,null,null,null],[null,null,null,null,null,null,null,null,null,null,null,null,null,null,null,null,null,null]],\"type\":\"contour\"},{\"marker\":{\"color\":\"black\",\"line\":{\"color\":\"Gray\",\"width\":2.0}},\"mode\":\"markers\",\"name\":\"Feasible Trial\",\"showlegend\":false,\"x\":[4,11,7,18,3,9,13,20,15,10,8,9,7,14,9,5,12,16,6,11,8,9,9,10,6,12,9,13,10,4,7,9,8,11,10,6,8,9,5,11,13,9,9,7,10,8,12,9,11,20],\"y\":[98,96,97,77,144,161,186,96,165,116,50,134,152,196,137,129,128,173,141,113,138,162,181,180,115,194,153,72,175,135,107,161,154,186,170,149,126,162,200,146,188,178,159,168,163,135,122,101,156,144],\"type\":\"scatter\"},{\"marker\":{\"color\":\"#cccccc\",\"line\":{\"color\":\"Gray\",\"width\":2.0}},\"mode\":\"markers\",\"name\":\"Infeasible Trial\",\"showlegend\":false,\"x\":[],\"y\":[],\"type\":\"scatter\"}],                        {\"title\":{\"text\":\"Contour Plot\"},\"template\":{\"data\":{\"histogram2dcontour\":[{\"type\":\"histogram2dcontour\",\"colorbar\":{\"outlinewidth\":0,\"ticks\":\"\"},\"colorscale\":[[0.0,\"#0d0887\"],[0.1111111111111111,\"#46039f\"],[0.2222222222222222,\"#7201a8\"],[0.3333333333333333,\"#9c179e\"],[0.4444444444444444,\"#bd3786\"],[0.5555555555555556,\"#d8576b\"],[0.6666666666666666,\"#ed7953\"],[0.7777777777777778,\"#fb9f3a\"],[0.8888888888888888,\"#fdca26\"],[1.0,\"#f0f921\"]]}],\"choropleth\":[{\"type\":\"choropleth\",\"colorbar\":{\"outlinewidth\":0,\"ticks\":\"\"}}],\"histogram2d\":[{\"type\":\"histogram2d\",\"colorbar\":{\"outlinewidth\":0,\"ticks\":\"\"},\"colorscale\":[[0.0,\"#0d0887\"],[0.1111111111111111,\"#46039f\"],[0.2222222222222222,\"#7201a8\"],[0.3333333333333333,\"#9c179e\"],[0.4444444444444444,\"#bd3786\"],[0.5555555555555556,\"#d8576b\"],[0.6666666666666666,\"#ed7953\"],[0.7777777777777778,\"#fb9f3a\"],[0.8888888888888888,\"#fdca26\"],[1.0,\"#f0f921\"]]}],\"heatmap\":[{\"type\":\"heatmap\",\"colorbar\":{\"outlinewidth\":0,\"ticks\":\"\"},\"colorscale\":[[0.0,\"#0d0887\"],[0.1111111111111111,\"#46039f\"],[0.2222222222222222,\"#7201a8\"],[0.3333333333333333,\"#9c179e\"],[0.4444444444444444,\"#bd3786\"],[0.5555555555555556,\"#d8576b\"],[0.6666666666666666,\"#ed7953\"],[0.7777777777777778,\"#fb9f3a\"],[0.8888888888888888,\"#fdca26\"],[1.0,\"#f0f921\"]]}],\"heatmapgl\":[{\"type\":\"heatmapgl\",\"colorbar\":{\"outlinewidth\":0,\"ticks\":\"\"},\"colorscale\":[[0.0,\"#0d0887\"],[0.1111111111111111,\"#46039f\"],[0.2222222222222222,\"#7201a8\"],[0.3333333333333333,\"#9c179e\"],[0.4444444444444444,\"#bd3786\"],[0.5555555555555556,\"#d8576b\"],[0.6666666666666666,\"#ed7953\"],[0.7777777777777778,\"#fb9f3a\"],[0.8888888888888888,\"#fdca26\"],[1.0,\"#f0f921\"]]}],\"contourcarpet\":[{\"type\":\"contourcarpet\",\"colorbar\":{\"outlinewidth\":0,\"ticks\":\"\"}}],\"contour\":[{\"type\":\"contour\",\"colorbar\":{\"outlinewidth\":0,\"ticks\":\"\"},\"colorscale\":[[0.0,\"#0d0887\"],[0.1111111111111111,\"#46039f\"],[0.2222222222222222,\"#7201a8\"],[0.3333333333333333,\"#9c179e\"],[0.4444444444444444,\"#bd3786\"],[0.5555555555555556,\"#d8576b\"],[0.6666666666666666,\"#ed7953\"],[0.7777777777777778,\"#fb9f3a\"],[0.8888888888888888,\"#fdca26\"],[1.0,\"#f0f921\"]]}],\"surface\":[{\"type\":\"surface\",\"colorbar\":{\"outlinewidth\":0,\"ticks\":\"\"},\"colorscale\":[[0.0,\"#0d0887\"],[0.1111111111111111,\"#46039f\"],[0.2222222222222222,\"#7201a8\"],[0.3333333333333333,\"#9c179e\"],[0.4444444444444444,\"#bd3786\"],[0.5555555555555556,\"#d8576b\"],[0.6666666666666666,\"#ed7953\"],[0.7777777777777778,\"#fb9f3a\"],[0.8888888888888888,\"#fdca26\"],[1.0,\"#f0f921\"]]}],\"mesh3d\":[{\"type\":\"mesh3d\",\"colorbar\":{\"outlinewidth\":0,\"ticks\":\"\"}}],\"scatter\":[{\"fillpattern\":{\"fillmode\":\"overlay\",\"size\":10,\"solidity\":0.2},\"type\":\"scatter\"}],\"parcoords\":[{\"type\":\"parcoords\",\"line\":{\"colorbar\":{\"outlinewidth\":0,\"ticks\":\"\"}}}],\"scatterpolargl\":[{\"type\":\"scatterpolargl\",\"marker\":{\"colorbar\":{\"outlinewidth\":0,\"ticks\":\"\"}}}],\"bar\":[{\"error_x\":{\"color\":\"#2a3f5f\"},\"error_y\":{\"color\":\"#2a3f5f\"},\"marker\":{\"line\":{\"color\":\"#E5ECF6\",\"width\":0.5},\"pattern\":{\"fillmode\":\"overlay\",\"size\":10,\"solidity\":0.2}},\"type\":\"bar\"}],\"scattergeo\":[{\"type\":\"scattergeo\",\"marker\":{\"colorbar\":{\"outlinewidth\":0,\"ticks\":\"\"}}}],\"scatterpolar\":[{\"type\":\"scatterpolar\",\"marker\":{\"colorbar\":{\"outlinewidth\":0,\"ticks\":\"\"}}}],\"histogram\":[{\"marker\":{\"pattern\":{\"fillmode\":\"overlay\",\"size\":10,\"solidity\":0.2}},\"type\":\"histogram\"}],\"scattergl\":[{\"type\":\"scattergl\",\"marker\":{\"colorbar\":{\"outlinewidth\":0,\"ticks\":\"\"}}}],\"scatter3d\":[{\"type\":\"scatter3d\",\"line\":{\"colorbar\":{\"outlinewidth\":0,\"ticks\":\"\"}},\"marker\":{\"colorbar\":{\"outlinewidth\":0,\"ticks\":\"\"}}}],\"scattermapbox\":[{\"type\":\"scattermapbox\",\"marker\":{\"colorbar\":{\"outlinewidth\":0,\"ticks\":\"\"}}}],\"scatterternary\":[{\"type\":\"scatterternary\",\"marker\":{\"colorbar\":{\"outlinewidth\":0,\"ticks\":\"\"}}}],\"scattercarpet\":[{\"type\":\"scattercarpet\",\"marker\":{\"colorbar\":{\"outlinewidth\":0,\"ticks\":\"\"}}}],\"carpet\":[{\"aaxis\":{\"endlinecolor\":\"#2a3f5f\",\"gridcolor\":\"white\",\"linecolor\":\"white\",\"minorgridcolor\":\"white\",\"startlinecolor\":\"#2a3f5f\"},\"baxis\":{\"endlinecolor\":\"#2a3f5f\",\"gridcolor\":\"white\",\"linecolor\":\"white\",\"minorgridcolor\":\"white\",\"startlinecolor\":\"#2a3f5f\"},\"type\":\"carpet\"}],\"table\":[{\"cells\":{\"fill\":{\"color\":\"#EBF0F8\"},\"line\":{\"color\":\"white\"}},\"header\":{\"fill\":{\"color\":\"#C8D4E3\"},\"line\":{\"color\":\"white\"}},\"type\":\"table\"}],\"barpolar\":[{\"marker\":{\"line\":{\"color\":\"#E5ECF6\",\"width\":0.5},\"pattern\":{\"fillmode\":\"overlay\",\"size\":10,\"solidity\":0.2}},\"type\":\"barpolar\"}],\"pie\":[{\"automargin\":true,\"type\":\"pie\"}]},\"layout\":{\"autotypenumbers\":\"strict\",\"colorway\":[\"#636efa\",\"#EF553B\",\"#00cc96\",\"#ab63fa\",\"#FFA15A\",\"#19d3f3\",\"#FF6692\",\"#B6E880\",\"#FF97FF\",\"#FECB52\"],\"font\":{\"color\":\"#2a3f5f\"},\"hovermode\":\"closest\",\"hoverlabel\":{\"align\":\"left\"},\"paper_bgcolor\":\"white\",\"plot_bgcolor\":\"#E5ECF6\",\"polar\":{\"bgcolor\":\"#E5ECF6\",\"angularaxis\":{\"gridcolor\":\"white\",\"linecolor\":\"white\",\"ticks\":\"\"},\"radialaxis\":{\"gridcolor\":\"white\",\"linecolor\":\"white\",\"ticks\":\"\"}},\"ternary\":{\"bgcolor\":\"#E5ECF6\",\"aaxis\":{\"gridcolor\":\"white\",\"linecolor\":\"white\",\"ticks\":\"\"},\"baxis\":{\"gridcolor\":\"white\",\"linecolor\":\"white\",\"ticks\":\"\"},\"caxis\":{\"gridcolor\":\"white\",\"linecolor\":\"white\",\"ticks\":\"\"}},\"coloraxis\":{\"colorbar\":{\"outlinewidth\":0,\"ticks\":\"\"}},\"colorscale\":{\"sequential\":[[0.0,\"#0d0887\"],[0.1111111111111111,\"#46039f\"],[0.2222222222222222,\"#7201a8\"],[0.3333333333333333,\"#9c179e\"],[0.4444444444444444,\"#bd3786\"],[0.5555555555555556,\"#d8576b\"],[0.6666666666666666,\"#ed7953\"],[0.7777777777777778,\"#fb9f3a\"],[0.8888888888888888,\"#fdca26\"],[1.0,\"#f0f921\"]],\"sequentialminus\":[[0.0,\"#0d0887\"],[0.1111111111111111,\"#46039f\"],[0.2222222222222222,\"#7201a8\"],[0.3333333333333333,\"#9c179e\"],[0.4444444444444444,\"#bd3786\"],[0.5555555555555556,\"#d8576b\"],[0.6666666666666666,\"#ed7953\"],[0.7777777777777778,\"#fb9f3a\"],[0.8888888888888888,\"#fdca26\"],[1.0,\"#f0f921\"]],\"diverging\":[[0,\"#8e0152\"],[0.1,\"#c51b7d\"],[0.2,\"#de77ae\"],[0.3,\"#f1b6da\"],[0.4,\"#fde0ef\"],[0.5,\"#f7f7f7\"],[0.6,\"#e6f5d0\"],[0.7,\"#b8e186\"],[0.8,\"#7fbc41\"],[0.9,\"#4d9221\"],[1,\"#276419\"]]},\"xaxis\":{\"gridcolor\":\"white\",\"linecolor\":\"white\",\"ticks\":\"\",\"title\":{\"standoff\":15},\"zerolinecolor\":\"white\",\"automargin\":true,\"zerolinewidth\":2},\"yaxis\":{\"gridcolor\":\"white\",\"linecolor\":\"white\",\"ticks\":\"\",\"title\":{\"standoff\":15},\"zerolinecolor\":\"white\",\"automargin\":true,\"zerolinewidth\":2},\"scene\":{\"xaxis\":{\"backgroundcolor\":\"#E5ECF6\",\"gridcolor\":\"white\",\"linecolor\":\"white\",\"showbackground\":true,\"ticks\":\"\",\"zerolinecolor\":\"white\",\"gridwidth\":2},\"yaxis\":{\"backgroundcolor\":\"#E5ECF6\",\"gridcolor\":\"white\",\"linecolor\":\"white\",\"showbackground\":true,\"ticks\":\"\",\"zerolinecolor\":\"white\",\"gridwidth\":2},\"zaxis\":{\"backgroundcolor\":\"#E5ECF6\",\"gridcolor\":\"white\",\"linecolor\":\"white\",\"showbackground\":true,\"ticks\":\"\",\"zerolinecolor\":\"white\",\"gridwidth\":2}},\"shapedefaults\":{\"line\":{\"color\":\"#2a3f5f\"}},\"annotationdefaults\":{\"arrowcolor\":\"#2a3f5f\",\"arrowhead\":0,\"arrowwidth\":1},\"geo\":{\"bgcolor\":\"white\",\"landcolor\":\"#E5ECF6\",\"subunitcolor\":\"white\",\"showland\":true,\"showlakes\":true,\"lakecolor\":\"white\"},\"title\":{\"x\":0.05},\"mapbox\":{\"style\":\"light\"}}},\"xaxis\":{\"title\":{\"text\":\"max_depth\"},\"range\":[2.15,20.85]},\"yaxis\":{\"title\":{\"text\":\"n_estimators\"},\"range\":[42.5,207.5]}},                        {\"responsive\": true}                    ).then(function(){\n",
              "                            \n",
              "var gd = document.getElementById('e930dfb7-af29-4eb3-b15d-5be1eaa24196');\n",
              "var x = new MutationObserver(function (mutations, observer) {{\n",
              "        var display = window.getComputedStyle(gd).display;\n",
              "        if (!display || display === 'none') {{\n",
              "            console.log([gd, 'removed!']);\n",
              "            Plotly.purge(gd);\n",
              "            observer.disconnect();\n",
              "        }}\n",
              "}});\n",
              "\n",
              "// Listen for the removal of the full notebook cells\n",
              "var notebookContainer = gd.closest('#notebook-container');\n",
              "if (notebookContainer) {{\n",
              "    x.observe(notebookContainer, {childList: true});\n",
              "}}\n",
              "\n",
              "// Listen for the clearing of the current output cell\n",
              "var outputEl = gd.closest('.output');\n",
              "if (outputEl) {{\n",
              "    x.observe(outputEl, {childList: true});\n",
              "}}\n",
              "\n",
              "                        })                };                            </script>        </div>\n",
              "</body>\n",
              "</html>"
            ]
          },
          "metadata": {}
        }
      ]
    },
    {
      "cell_type": "code",
      "source": [
        "plot_param_importances(study).show()"
      ],
      "metadata": {
        "id": "EScWRgLHBYR7",
        "outputId": "62ef9c22-c3a5-4541-f2cb-33d724204ead",
        "colab": {
          "base_uri": "https://localhost:8080/",
          "height": 542
        }
      },
      "execution_count": 16,
      "outputs": [
        {
          "output_type": "display_data",
          "data": {
            "text/html": [
              "<html>\n",
              "<head><meta charset=\"utf-8\" /></head>\n",
              "<body>\n",
              "    <div>            <script src=\"https://cdnjs.cloudflare.com/ajax/libs/mathjax/2.7.5/MathJax.js?config=TeX-AMS-MML_SVG\"></script><script type=\"text/javascript\">if (window.MathJax && window.MathJax.Hub && window.MathJax.Hub.Config) {window.MathJax.Hub.Config({SVG: {font: \"STIX-Web\"}});}</script>                <script type=\"text/javascript\">window.PlotlyConfig = {MathJaxConfig: 'local'};</script>\n",
              "        <script charset=\"utf-8\" src=\"https://cdn.plot.ly/plotly-2.35.2.min.js\"></script>                <div id=\"69180f77-a100-46b9-a520-8963dab148b8\" class=\"plotly-graph-div\" style=\"height:525px; width:100%;\"></div>            <script type=\"text/javascript\">                                    window.PLOTLYENV=window.PLOTLYENV || {};                                    if (document.getElementById(\"69180f77-a100-46b9-a520-8963dab148b8\")) {                    Plotly.newPlot(                        \"69180f77-a100-46b9-a520-8963dab148b8\",                        [{\"cliponaxis\":false,\"hovertemplate\":[\"n_estimators (IntDistribution): 0.39159016190225865\\u003cextra\\u003e\\u003c\\u002fextra\\u003e\",\"max_depth (IntDistribution): 0.6084098380977413\\u003cextra\\u003e\\u003c\\u002fextra\\u003e\"],\"name\":\"Objective Value\",\"orientation\":\"h\",\"text\":[\"0.39\",\"0.61\"],\"textposition\":\"outside\",\"x\":[0.39159016190225865,0.6084098380977413],\"y\":[\"n_estimators\",\"max_depth\"],\"type\":\"bar\"}],                        {\"title\":{\"text\":\"Hyperparameter Importances\"},\"xaxis\":{\"title\":{\"text\":\"Hyperparameter Importance\"}},\"yaxis\":{\"title\":{\"text\":\"Hyperparameter\"}},\"template\":{\"data\":{\"histogram2dcontour\":[{\"type\":\"histogram2dcontour\",\"colorbar\":{\"outlinewidth\":0,\"ticks\":\"\"},\"colorscale\":[[0.0,\"#0d0887\"],[0.1111111111111111,\"#46039f\"],[0.2222222222222222,\"#7201a8\"],[0.3333333333333333,\"#9c179e\"],[0.4444444444444444,\"#bd3786\"],[0.5555555555555556,\"#d8576b\"],[0.6666666666666666,\"#ed7953\"],[0.7777777777777778,\"#fb9f3a\"],[0.8888888888888888,\"#fdca26\"],[1.0,\"#f0f921\"]]}],\"choropleth\":[{\"type\":\"choropleth\",\"colorbar\":{\"outlinewidth\":0,\"ticks\":\"\"}}],\"histogram2d\":[{\"type\":\"histogram2d\",\"colorbar\":{\"outlinewidth\":0,\"ticks\":\"\"},\"colorscale\":[[0.0,\"#0d0887\"],[0.1111111111111111,\"#46039f\"],[0.2222222222222222,\"#7201a8\"],[0.3333333333333333,\"#9c179e\"],[0.4444444444444444,\"#bd3786\"],[0.5555555555555556,\"#d8576b\"],[0.6666666666666666,\"#ed7953\"],[0.7777777777777778,\"#fb9f3a\"],[0.8888888888888888,\"#fdca26\"],[1.0,\"#f0f921\"]]}],\"heatmap\":[{\"type\":\"heatmap\",\"colorbar\":{\"outlinewidth\":0,\"ticks\":\"\"},\"colorscale\":[[0.0,\"#0d0887\"],[0.1111111111111111,\"#46039f\"],[0.2222222222222222,\"#7201a8\"],[0.3333333333333333,\"#9c179e\"],[0.4444444444444444,\"#bd3786\"],[0.5555555555555556,\"#d8576b\"],[0.6666666666666666,\"#ed7953\"],[0.7777777777777778,\"#fb9f3a\"],[0.8888888888888888,\"#fdca26\"],[1.0,\"#f0f921\"]]}],\"heatmapgl\":[{\"type\":\"heatmapgl\",\"colorbar\":{\"outlinewidth\":0,\"ticks\":\"\"},\"colorscale\":[[0.0,\"#0d0887\"],[0.1111111111111111,\"#46039f\"],[0.2222222222222222,\"#7201a8\"],[0.3333333333333333,\"#9c179e\"],[0.4444444444444444,\"#bd3786\"],[0.5555555555555556,\"#d8576b\"],[0.6666666666666666,\"#ed7953\"],[0.7777777777777778,\"#fb9f3a\"],[0.8888888888888888,\"#fdca26\"],[1.0,\"#f0f921\"]]}],\"contourcarpet\":[{\"type\":\"contourcarpet\",\"colorbar\":{\"outlinewidth\":0,\"ticks\":\"\"}}],\"contour\":[{\"type\":\"contour\",\"colorbar\":{\"outlinewidth\":0,\"ticks\":\"\"},\"colorscale\":[[0.0,\"#0d0887\"],[0.1111111111111111,\"#46039f\"],[0.2222222222222222,\"#7201a8\"],[0.3333333333333333,\"#9c179e\"],[0.4444444444444444,\"#bd3786\"],[0.5555555555555556,\"#d8576b\"],[0.6666666666666666,\"#ed7953\"],[0.7777777777777778,\"#fb9f3a\"],[0.8888888888888888,\"#fdca26\"],[1.0,\"#f0f921\"]]}],\"surface\":[{\"type\":\"surface\",\"colorbar\":{\"outlinewidth\":0,\"ticks\":\"\"},\"colorscale\":[[0.0,\"#0d0887\"],[0.1111111111111111,\"#46039f\"],[0.2222222222222222,\"#7201a8\"],[0.3333333333333333,\"#9c179e\"],[0.4444444444444444,\"#bd3786\"],[0.5555555555555556,\"#d8576b\"],[0.6666666666666666,\"#ed7953\"],[0.7777777777777778,\"#fb9f3a\"],[0.8888888888888888,\"#fdca26\"],[1.0,\"#f0f921\"]]}],\"mesh3d\":[{\"type\":\"mesh3d\",\"colorbar\":{\"outlinewidth\":0,\"ticks\":\"\"}}],\"scatter\":[{\"fillpattern\":{\"fillmode\":\"overlay\",\"size\":10,\"solidity\":0.2},\"type\":\"scatter\"}],\"parcoords\":[{\"type\":\"parcoords\",\"line\":{\"colorbar\":{\"outlinewidth\":0,\"ticks\":\"\"}}}],\"scatterpolargl\":[{\"type\":\"scatterpolargl\",\"marker\":{\"colorbar\":{\"outlinewidth\":0,\"ticks\":\"\"}}}],\"bar\":[{\"error_x\":{\"color\":\"#2a3f5f\"},\"error_y\":{\"color\":\"#2a3f5f\"},\"marker\":{\"line\":{\"color\":\"#E5ECF6\",\"width\":0.5},\"pattern\":{\"fillmode\":\"overlay\",\"size\":10,\"solidity\":0.2}},\"type\":\"bar\"}],\"scattergeo\":[{\"type\":\"scattergeo\",\"marker\":{\"colorbar\":{\"outlinewidth\":0,\"ticks\":\"\"}}}],\"scatterpolar\":[{\"type\":\"scatterpolar\",\"marker\":{\"colorbar\":{\"outlinewidth\":0,\"ticks\":\"\"}}}],\"histogram\":[{\"marker\":{\"pattern\":{\"fillmode\":\"overlay\",\"size\":10,\"solidity\":0.2}},\"type\":\"histogram\"}],\"scattergl\":[{\"type\":\"scattergl\",\"marker\":{\"colorbar\":{\"outlinewidth\":0,\"ticks\":\"\"}}}],\"scatter3d\":[{\"type\":\"scatter3d\",\"line\":{\"colorbar\":{\"outlinewidth\":0,\"ticks\":\"\"}},\"marker\":{\"colorbar\":{\"outlinewidth\":0,\"ticks\":\"\"}}}],\"scattermapbox\":[{\"type\":\"scattermapbox\",\"marker\":{\"colorbar\":{\"outlinewidth\":0,\"ticks\":\"\"}}}],\"scatterternary\":[{\"type\":\"scatterternary\",\"marker\":{\"colorbar\":{\"outlinewidth\":0,\"ticks\":\"\"}}}],\"scattercarpet\":[{\"type\":\"scattercarpet\",\"marker\":{\"colorbar\":{\"outlinewidth\":0,\"ticks\":\"\"}}}],\"carpet\":[{\"aaxis\":{\"endlinecolor\":\"#2a3f5f\",\"gridcolor\":\"white\",\"linecolor\":\"white\",\"minorgridcolor\":\"white\",\"startlinecolor\":\"#2a3f5f\"},\"baxis\":{\"endlinecolor\":\"#2a3f5f\",\"gridcolor\":\"white\",\"linecolor\":\"white\",\"minorgridcolor\":\"white\",\"startlinecolor\":\"#2a3f5f\"},\"type\":\"carpet\"}],\"table\":[{\"cells\":{\"fill\":{\"color\":\"#EBF0F8\"},\"line\":{\"color\":\"white\"}},\"header\":{\"fill\":{\"color\":\"#C8D4E3\"},\"line\":{\"color\":\"white\"}},\"type\":\"table\"}],\"barpolar\":[{\"marker\":{\"line\":{\"color\":\"#E5ECF6\",\"width\":0.5},\"pattern\":{\"fillmode\":\"overlay\",\"size\":10,\"solidity\":0.2}},\"type\":\"barpolar\"}],\"pie\":[{\"automargin\":true,\"type\":\"pie\"}]},\"layout\":{\"autotypenumbers\":\"strict\",\"colorway\":[\"#636efa\",\"#EF553B\",\"#00cc96\",\"#ab63fa\",\"#FFA15A\",\"#19d3f3\",\"#FF6692\",\"#B6E880\",\"#FF97FF\",\"#FECB52\"],\"font\":{\"color\":\"#2a3f5f\"},\"hovermode\":\"closest\",\"hoverlabel\":{\"align\":\"left\"},\"paper_bgcolor\":\"white\",\"plot_bgcolor\":\"#E5ECF6\",\"polar\":{\"bgcolor\":\"#E5ECF6\",\"angularaxis\":{\"gridcolor\":\"white\",\"linecolor\":\"white\",\"ticks\":\"\"},\"radialaxis\":{\"gridcolor\":\"white\",\"linecolor\":\"white\",\"ticks\":\"\"}},\"ternary\":{\"bgcolor\":\"#E5ECF6\",\"aaxis\":{\"gridcolor\":\"white\",\"linecolor\":\"white\",\"ticks\":\"\"},\"baxis\":{\"gridcolor\":\"white\",\"linecolor\":\"white\",\"ticks\":\"\"},\"caxis\":{\"gridcolor\":\"white\",\"linecolor\":\"white\",\"ticks\":\"\"}},\"coloraxis\":{\"colorbar\":{\"outlinewidth\":0,\"ticks\":\"\"}},\"colorscale\":{\"sequential\":[[0.0,\"#0d0887\"],[0.1111111111111111,\"#46039f\"],[0.2222222222222222,\"#7201a8\"],[0.3333333333333333,\"#9c179e\"],[0.4444444444444444,\"#bd3786\"],[0.5555555555555556,\"#d8576b\"],[0.6666666666666666,\"#ed7953\"],[0.7777777777777778,\"#fb9f3a\"],[0.8888888888888888,\"#fdca26\"],[1.0,\"#f0f921\"]],\"sequentialminus\":[[0.0,\"#0d0887\"],[0.1111111111111111,\"#46039f\"],[0.2222222222222222,\"#7201a8\"],[0.3333333333333333,\"#9c179e\"],[0.4444444444444444,\"#bd3786\"],[0.5555555555555556,\"#d8576b\"],[0.6666666666666666,\"#ed7953\"],[0.7777777777777778,\"#fb9f3a\"],[0.8888888888888888,\"#fdca26\"],[1.0,\"#f0f921\"]],\"diverging\":[[0,\"#8e0152\"],[0.1,\"#c51b7d\"],[0.2,\"#de77ae\"],[0.3,\"#f1b6da\"],[0.4,\"#fde0ef\"],[0.5,\"#f7f7f7\"],[0.6,\"#e6f5d0\"],[0.7,\"#b8e186\"],[0.8,\"#7fbc41\"],[0.9,\"#4d9221\"],[1,\"#276419\"]]},\"xaxis\":{\"gridcolor\":\"white\",\"linecolor\":\"white\",\"ticks\":\"\",\"title\":{\"standoff\":15},\"zerolinecolor\":\"white\",\"automargin\":true,\"zerolinewidth\":2},\"yaxis\":{\"gridcolor\":\"white\",\"linecolor\":\"white\",\"ticks\":\"\",\"title\":{\"standoff\":15},\"zerolinecolor\":\"white\",\"automargin\":true,\"zerolinewidth\":2},\"scene\":{\"xaxis\":{\"backgroundcolor\":\"#E5ECF6\",\"gridcolor\":\"white\",\"linecolor\":\"white\",\"showbackground\":true,\"ticks\":\"\",\"zerolinecolor\":\"white\",\"gridwidth\":2},\"yaxis\":{\"backgroundcolor\":\"#E5ECF6\",\"gridcolor\":\"white\",\"linecolor\":\"white\",\"showbackground\":true,\"ticks\":\"\",\"zerolinecolor\":\"white\",\"gridwidth\":2},\"zaxis\":{\"backgroundcolor\":\"#E5ECF6\",\"gridcolor\":\"white\",\"linecolor\":\"white\",\"showbackground\":true,\"ticks\":\"\",\"zerolinecolor\":\"white\",\"gridwidth\":2}},\"shapedefaults\":{\"line\":{\"color\":\"#2a3f5f\"}},\"annotationdefaults\":{\"arrowcolor\":\"#2a3f5f\",\"arrowhead\":0,\"arrowwidth\":1},\"geo\":{\"bgcolor\":\"white\",\"landcolor\":\"#E5ECF6\",\"subunitcolor\":\"white\",\"showland\":true,\"showlakes\":true,\"lakecolor\":\"white\"},\"title\":{\"x\":0.05},\"mapbox\":{\"style\":\"light\"}}}},                        {\"responsive\": true}                    ).then(function(){\n",
              "                            \n",
              "var gd = document.getElementById('69180f77-a100-46b9-a520-8963dab148b8');\n",
              "var x = new MutationObserver(function (mutations, observer) {{\n",
              "        var display = window.getComputedStyle(gd).display;\n",
              "        if (!display || display === 'none') {{\n",
              "            console.log([gd, 'removed!']);\n",
              "            Plotly.purge(gd);\n",
              "            observer.disconnect();\n",
              "        }}\n",
              "}});\n",
              "\n",
              "// Listen for the removal of the full notebook cells\n",
              "var notebookContainer = gd.closest('#notebook-container');\n",
              "if (notebookContainer) {{\n",
              "    x.observe(notebookContainer, {childList: true});\n",
              "}}\n",
              "\n",
              "// Listen for the clearing of the current output cell\n",
              "var outputEl = gd.closest('.output');\n",
              "if (outputEl) {{\n",
              "    x.observe(outputEl, {childList: true});\n",
              "}}\n",
              "\n",
              "                        })                };                            </script>        </div>\n",
              "</body>\n",
              "</html>"
            ]
          },
          "metadata": {}
        }
      ]
    },
    {
      "cell_type": "code",
      "source": [
        "from sklearn.ensemble import RandomForestClassifier, GradientBoostingClassifier\n",
        "from sklearn.svm import SVC"
      ],
      "metadata": {
        "id": "aLn2HwbvBdw8"
      },
      "execution_count": 17,
      "outputs": []
    },
    {
      "cell_type": "code",
      "source": [
        "# Define the objective function for Optuna\n",
        "def objective(trial):\n",
        "    # Choose the algorithm to tune\n",
        "    classifier_name = trial.suggest_categorical('classifier', ['SVM', 'RandomForest', 'GradientBoosting'])\n",
        "\n",
        "    if classifier_name == 'SVM':\n",
        "        # SVM hyperparameters\n",
        "        c = trial.suggest_float('C', 0.1, 100, log=True)\n",
        "        kernel = trial.suggest_categorical('kernel', ['linear', 'rbf', 'poly', 'sigmoid'])\n",
        "        gamma = trial.suggest_categorical('gamma', ['scale', 'auto'])\n",
        "\n",
        "        model = SVC(C=c, kernel=kernel, gamma=gamma, random_state=42)\n",
        "\n",
        "    elif classifier_name == 'RandomForest':\n",
        "        # Random Forest hyperparameters\n",
        "        n_estimators = trial.suggest_int('n_estimators', 50, 300)\n",
        "        max_depth = trial.suggest_int('max_depth', 3, 20)\n",
        "        min_samples_split = trial.suggest_int('min_samples_split', 2, 10)\n",
        "        min_samples_leaf = trial.suggest_int('min_samples_leaf', 1, 10)\n",
        "        bootstrap = trial.suggest_categorical('bootstrap', [True, False])\n",
        "\n",
        "        model = RandomForestClassifier(\n",
        "            n_estimators=n_estimators,\n",
        "            max_depth=max_depth,\n",
        "            min_samples_split=min_samples_split,\n",
        "            min_samples_leaf=min_samples_leaf,\n",
        "            bootstrap=bootstrap,\n",
        "            random_state=42,\n",
        "            n_jobs=-1\n",
        "        )\n",
        "\n",
        "    elif classifier_name == 'GradientBoosting':\n",
        "        # Gradient Boosting hyperparameters\n",
        "        n_estimators = trial.suggest_int('n_estimators', 50, 300)\n",
        "        learning_rate = trial.suggest_float('learning_rate', 0.01, 0.3, log=True)\n",
        "        max_depth = trial.suggest_int('max_depth', 3, 20)\n",
        "        min_samples_split = trial.suggest_int('min_samples_split', 2, 10)\n",
        "        min_samples_leaf = trial.suggest_int('min_samples_leaf', 1, 10)\n",
        "\n",
        "        model = GradientBoostingClassifier(\n",
        "            n_estimators=n_estimators,\n",
        "            learning_rate=learning_rate,\n",
        "            max_depth=max_depth,\n",
        "            min_samples_split=min_samples_split,\n",
        "            min_samples_leaf=min_samples_leaf,\n",
        "            random_state=42\n",
        "        )\n",
        "\n",
        "    # Perform cross-validation and return the mean accuracy\n",
        "    score = cross_val_score(model, X_train, y_train, cv=3, scoring='accuracy',n_jobs=-1).mean()\n",
        "    return score"
      ],
      "metadata": {
        "id": "9MOUCB_fBkXq"
      },
      "execution_count": 18,
      "outputs": []
    },
    {
      "cell_type": "code",
      "source": [
        "study = optuna.create_study(direction='maximize')\n",
        "study.optimize(objective, n_trials=100)"
      ],
      "metadata": {
        "id": "UiWZ99qgCDhB",
        "outputId": "3914e4b0-dcc4-4d35-f8f8-841c4485eb73",
        "colab": {
          "base_uri": "https://localhost:8080/"
        }
      },
      "execution_count": 19,
      "outputs": [
        {
          "output_type": "stream",
          "name": "stderr",
          "text": [
            "[I 2025-06-12 12:06:07,489] A new study created in memory with name: no-name-31b5ce0d-07cb-4e08-93e5-021a809bd9a1\n",
            "[I 2025-06-12 12:06:12,092] Trial 0 finished with value: 0.7057728119180634 and parameters: {'classifier': 'SVM', 'C': 20.9337216417056, 'kernel': 'poly', 'gamma': 'scale'}. Best is trial 0 with value: 0.7057728119180634.\n",
            "[I 2025-06-12 12:06:12,373] Trial 1 finished with value: 0.6722532588454376 and parameters: {'classifier': 'SVM', 'C': 89.50596958774604, 'kernel': 'poly', 'gamma': 'scale'}. Best is trial 0 with value: 0.7057728119180634.\n",
            "[I 2025-06-12 12:06:15,204] Trial 2 finished with value: 0.7541899441340782 and parameters: {'classifier': 'GradientBoosting', 'n_estimators': 273, 'learning_rate': 0.047133052106739896, 'max_depth': 7, 'min_samples_split': 9, 'min_samples_leaf': 3}. Best is trial 2 with value: 0.7541899441340782.\n",
            "[I 2025-06-12 12:06:15,253] Trial 3 finished with value: 0.7635009310986964 and parameters: {'classifier': 'SVM', 'C': 6.130004694316687, 'kernel': 'rbf', 'gamma': 'auto'}. Best is trial 3 with value: 0.7635009310986964.\n",
            "[I 2025-06-12 12:06:16,444] Trial 4 finished with value: 0.756052141527002 and parameters: {'classifier': 'GradientBoosting', 'n_estimators': 224, 'learning_rate': 0.0861657073233247, 'max_depth': 4, 'min_samples_split': 7, 'min_samples_leaf': 7}. Best is trial 3 with value: 0.7635009310986964.\n",
            "[I 2025-06-12 12:06:16,482] Trial 5 finished with value: 0.7374301675977654 and parameters: {'classifier': 'SVM', 'C': 2.371033118359023, 'kernel': 'poly', 'gamma': 'auto'}. Best is trial 3 with value: 0.7635009310986964.\n",
            "[I 2025-06-12 12:06:19,374] Trial 6 finished with value: 0.750465549348231 and parameters: {'classifier': 'GradientBoosting', 'n_estimators': 187, 'learning_rate': 0.054291001716448295, 'max_depth': 15, 'min_samples_split': 6, 'min_samples_leaf': 4}. Best is trial 3 with value: 0.7635009310986964.\n",
            "[I 2025-06-12 12:06:22,637] Trial 7 finished with value: 0.7057728119180634 and parameters: {'classifier': 'GradientBoosting', 'n_estimators': 143, 'learning_rate': 0.010527676638918236, 'max_depth': 13, 'min_samples_split': 5, 'min_samples_leaf': 1}. Best is trial 3 with value: 0.7635009310986964.\n",
            "[I 2025-06-12 12:06:25,347] Trial 8 finished with value: 0.74487895716946 and parameters: {'classifier': 'GradientBoosting', 'n_estimators': 194, 'learning_rate': 0.15976814374529844, 'max_depth': 10, 'min_samples_split': 5, 'min_samples_leaf': 5}. Best is trial 3 with value: 0.7635009310986964.\n",
            "[I 2025-06-12 12:06:25,395] Trial 9 finished with value: 0.7858472998137801 and parameters: {'classifier': 'SVM', 'C': 2.73844935866141, 'kernel': 'linear', 'gamma': 'scale'}. Best is trial 9 with value: 0.7858472998137801.\n",
            "[I 2025-06-12 12:06:25,738] Trial 10 finished with value: 0.7728119180633146 and parameters: {'classifier': 'RandomForest', 'n_estimators': 56, 'max_depth': 19, 'min_samples_split': 2, 'min_samples_leaf': 10, 'bootstrap': False}. Best is trial 9 with value: 0.7858472998137801.\n",
            "[I 2025-06-12 12:06:26,081] Trial 11 finished with value: 0.7783985102420856 and parameters: {'classifier': 'RandomForest', 'n_estimators': 58, 'max_depth': 20, 'min_samples_split': 2, 'min_samples_leaf': 10, 'bootstrap': False}. Best is trial 9 with value: 0.7858472998137801.\n",
            "[I 2025-06-12 12:06:26,491] Trial 12 finished with value: 0.7653631284916201 and parameters: {'classifier': 'RandomForest', 'n_estimators': 62, 'max_depth': 19, 'min_samples_split': 2, 'min_samples_leaf': 10, 'bootstrap': True}. Best is trial 9 with value: 0.7858472998137801.\n",
            "[I 2025-06-12 12:06:27,032] Trial 13 finished with value: 0.7746741154562384 and parameters: {'classifier': 'RandomForest', 'n_estimators': 99, 'max_depth': 16, 'min_samples_split': 3, 'min_samples_leaf': 8, 'bootstrap': False}. Best is trial 9 with value: 0.7858472998137801.\n",
            "[I 2025-06-12 12:06:27,649] Trial 14 finished with value: 0.7746741154562384 and parameters: {'classifier': 'RandomForest', 'n_estimators': 115, 'max_depth': 20, 'min_samples_split': 10, 'min_samples_leaf': 7, 'bootstrap': False}. Best is trial 9 with value: 0.7858472998137801.\n",
            "[I 2025-06-12 12:06:27,695] Trial 15 finished with value: 0.7858472998137803 and parameters: {'classifier': 'SVM', 'C': 0.19426256850174917, 'kernel': 'linear', 'gamma': 'scale'}. Best is trial 15 with value: 0.7858472998137803.\n",
            "[I 2025-06-12 12:06:27,740] Trial 16 finished with value: 0.7895716945996275 and parameters: {'classifier': 'SVM', 'C': 0.11589874809297444, 'kernel': 'linear', 'gamma': 'scale'}. Best is trial 16 with value: 0.7895716945996275.\n",
            "[I 2025-06-12 12:06:27,786] Trial 17 finished with value: 0.7877094972067038 and parameters: {'classifier': 'SVM', 'C': 0.10639666794272784, 'kernel': 'linear', 'gamma': 'scale'}. Best is trial 16 with value: 0.7895716945996275.\n",
            "[I 2025-06-12 12:06:27,826] Trial 18 finished with value: 0.7877094972067038 and parameters: {'classifier': 'SVM', 'C': 0.10709808414077504, 'kernel': 'linear', 'gamma': 'scale'}. Best is trial 16 with value: 0.7895716945996275.\n",
            "[I 2025-06-12 12:06:27,872] Trial 19 finished with value: 0.7616387337057727 and parameters: {'classifier': 'SVM', 'C': 0.44277230626426595, 'kernel': 'sigmoid', 'gamma': 'scale'}. Best is trial 16 with value: 0.7895716945996275.\n",
            "[I 2025-06-12 12:06:27,915] Trial 20 finished with value: 0.7839851024208566 and parameters: {'classifier': 'SVM', 'C': 0.5004207911948567, 'kernel': 'linear', 'gamma': 'scale'}. Best is trial 16 with value: 0.7895716945996275.\n",
            "[I 2025-06-12 12:06:27,960] Trial 21 finished with value: 0.7877094972067038 and parameters: {'classifier': 'SVM', 'C': 0.10231606660686397, 'kernel': 'linear', 'gamma': 'scale'}. Best is trial 16 with value: 0.7895716945996275.\n",
            "[I 2025-06-12 12:06:28,000] Trial 22 finished with value: 0.7895716945996275 and parameters: {'classifier': 'SVM', 'C': 0.11509627903496283, 'kernel': 'linear', 'gamma': 'scale'}. Best is trial 16 with value: 0.7895716945996275.\n",
            "[I 2025-06-12 12:06:28,044] Trial 23 finished with value: 0.7839851024208566 and parameters: {'classifier': 'SVM', 'C': 0.5654733235627971, 'kernel': 'linear', 'gamma': 'scale'}. Best is trial 16 with value: 0.7895716945996275.\n",
            "[I 2025-06-12 12:06:28,082] Trial 24 finished with value: 0.7858472998137803 and parameters: {'classifier': 'SVM', 'C': 0.26945188217781263, 'kernel': 'linear', 'gamma': 'auto'}. Best is trial 16 with value: 0.7895716945996275.\n",
            "[I 2025-06-12 12:06:28,126] Trial 25 finished with value: 0.7448789571694601 and parameters: {'classifier': 'SVM', 'C': 1.0870933546193589, 'kernel': 'sigmoid', 'gamma': 'scale'}. Best is trial 16 with value: 0.7895716945996275.\n",
            "[I 2025-06-12 12:06:28,173] Trial 26 finished with value: 0.7094972067039106 and parameters: {'classifier': 'SVM', 'C': 0.10435674413702449, 'kernel': 'rbf', 'gamma': 'scale'}. Best is trial 16 with value: 0.7895716945996275.\n",
            "[I 2025-06-12 12:06:28,212] Trial 27 finished with value: 0.7858472998137803 and parameters: {'classifier': 'SVM', 'C': 0.23809677147065, 'kernel': 'linear', 'gamma': 'scale'}. Best is trial 16 with value: 0.7895716945996275.\n",
            "[I 2025-06-12 12:06:28,253] Trial 28 finished with value: 0.7858472998137803 and parameters: {'classifier': 'SVM', 'C': 0.8402604834323475, 'kernel': 'linear', 'gamma': 'auto'}. Best is trial 16 with value: 0.7895716945996275.\n",
            "[I 2025-06-12 12:06:28,300] Trial 29 finished with value: 0.7858472998137803 and parameters: {'classifier': 'SVM', 'C': 0.24305442216237325, 'kernel': 'linear', 'gamma': 'scale'}. Best is trial 16 with value: 0.7895716945996275.\n",
            "[I 2025-06-12 12:06:28,348] Trial 30 finished with value: 0.7597765363128491 and parameters: {'classifier': 'SVM', 'C': 1.2941280621859894, 'kernel': 'sigmoid', 'gamma': 'scale'}. Best is trial 16 with value: 0.7895716945996275.\n",
            "[I 2025-06-12 12:06:28,393] Trial 31 finished with value: 0.7895716945996275 and parameters: {'classifier': 'SVM', 'C': 0.1429011076366317, 'kernel': 'linear', 'gamma': 'scale'}. Best is trial 16 with value: 0.7895716945996275.\n",
            "[I 2025-06-12 12:06:28,436] Trial 32 finished with value: 0.7895716945996275 and parameters: {'classifier': 'SVM', 'C': 0.14508281623257763, 'kernel': 'linear', 'gamma': 'scale'}. Best is trial 16 with value: 0.7895716945996275.\n",
            "[I 2025-06-12 12:06:28,481] Trial 33 finished with value: 0.7858472998137803 and parameters: {'classifier': 'SVM', 'C': 0.18717087375009328, 'kernel': 'linear', 'gamma': 'scale'}. Best is trial 16 with value: 0.7895716945996275.\n",
            "[I 2025-06-12 12:06:28,525] Trial 34 finished with value: 0.7821229050279329 and parameters: {'classifier': 'SVM', 'C': 0.3723998134484549, 'kernel': 'linear', 'gamma': 'scale'}. Best is trial 16 with value: 0.7895716945996275.\n",
            "[I 2025-06-12 12:06:28,584] Trial 35 finished with value: 0.7523277467411545 and parameters: {'classifier': 'SVM', 'C': 0.16527632448572782, 'kernel': 'rbf', 'gamma': 'scale'}. Best is trial 16 with value: 0.7895716945996275.\n",
            "[I 2025-06-12 12:06:28,636] Trial 36 finished with value: 0.7858472998137803 and parameters: {'classifier': 'SVM', 'C': 0.3200595030142012, 'kernel': 'linear', 'gamma': 'scale'}. Best is trial 16 with value: 0.7895716945996275.\n",
            "[I 2025-06-12 12:06:29,952] Trial 37 finished with value: 0.7672253258845437 and parameters: {'classifier': 'GradientBoosting', 'n_estimators': 289, 'learning_rate': 0.011239552426718327, 'max_depth': 3, 'min_samples_split': 8, 'min_samples_leaf': 1}. Best is trial 16 with value: 0.7895716945996275.\n",
            "[I 2025-06-12 12:06:29,991] Trial 38 finished with value: 0.7877094972067038 and parameters: {'classifier': 'SVM', 'C': 0.15814151318183664, 'kernel': 'linear', 'gamma': 'auto'}. Best is trial 16 with value: 0.7895716945996275.\n",
            "[I 2025-06-12 12:06:32,110] Trial 39 finished with value: 0.7541899441340782 and parameters: {'classifier': 'GradientBoosting', 'n_estimators': 244, 'learning_rate': 0.21923314380813314, 'max_depth': 8, 'min_samples_split': 4, 'min_samples_leaf': 3}. Best is trial 16 with value: 0.7895716945996275.\n",
            "[I 2025-06-12 12:06:32,180] Trial 40 finished with value: 0.7858472998137801 and parameters: {'classifier': 'SVM', 'C': 6.4102319648201025, 'kernel': 'linear', 'gamma': 'scale'}. Best is trial 16 with value: 0.7895716945996275.\n",
            "[I 2025-06-12 12:06:32,227] Trial 41 finished with value: 0.7895716945996275 and parameters: {'classifier': 'SVM', 'C': 0.13647349836965456, 'kernel': 'linear', 'gamma': 'scale'}. Best is trial 16 with value: 0.7895716945996275.\n",
            "[I 2025-06-12 12:06:32,272] Trial 42 finished with value: 0.7895716945996275 and parameters: {'classifier': 'SVM', 'C': 0.15423679465326784, 'kernel': 'linear', 'gamma': 'scale'}. Best is trial 16 with value: 0.7895716945996275.\n",
            "[I 2025-06-12 12:06:32,314] Trial 43 finished with value: 0.7150837988826816 and parameters: {'classifier': 'SVM', 'C': 0.15447224444577407, 'kernel': 'poly', 'gamma': 'scale'}. Best is trial 16 with value: 0.7895716945996275.\n",
            "[I 2025-06-12 12:06:32,459] Trial 44 finished with value: 0.7858472998137801 and parameters: {'classifier': 'SVM', 'C': 36.27698346255502, 'kernel': 'linear', 'gamma': 'scale'}. Best is trial 16 with value: 0.7895716945996275.\n",
            "[I 2025-06-12 12:06:33,602] Trial 45 finished with value: 0.7672253258845437 and parameters: {'classifier': 'GradientBoosting', 'n_estimators': 151, 'learning_rate': 0.02622735180206601, 'max_depth': 6, 'min_samples_split': 10, 'min_samples_leaf': 8}. Best is trial 16 with value: 0.7895716945996275.\n",
            "[I 2025-06-12 12:06:35,495] Trial 46 finished with value: 0.7597765363128491 and parameters: {'classifier': 'RandomForest', 'n_estimators': 222, 'max_depth': 11, 'min_samples_split': 7, 'min_samples_leaf': 6, 'bootstrap': True}. Best is trial 16 with value: 0.7895716945996275.\n",
            "[I 2025-06-12 12:06:35,562] Trial 47 finished with value: 0.7281191806331471 and parameters: {'classifier': 'SVM', 'C': 0.3098113694769144, 'kernel': 'poly', 'gamma': 'scale'}. Best is trial 16 with value: 0.7895716945996275.\n",
            "[I 2025-06-12 12:06:35,631] Trial 48 finished with value: 0.7858472998137803 and parameters: {'classifier': 'SVM', 'C': 0.7555684893255107, 'kernel': 'linear', 'gamma': 'scale'}. Best is trial 16 with value: 0.7895716945996275.\n",
            "[I 2025-06-12 12:06:36,751] Trial 49 finished with value: 0.7560521415270017 and parameters: {'classifier': 'RandomForest', 'n_estimators': 104, 'max_depth': 16, 'min_samples_split': 8, 'min_samples_leaf': 2, 'bootstrap': True}. Best is trial 16 with value: 0.7895716945996275.\n",
            "[I 2025-06-12 12:06:36,805] Trial 50 finished with value: 0.7653631284916201 and parameters: {'classifier': 'SVM', 'C': 6.438650610062823, 'kernel': 'rbf', 'gamma': 'auto'}. Best is trial 16 with value: 0.7895716945996275.\n",
            "[I 2025-06-12 12:06:36,844] Trial 51 finished with value: 0.7895716945996275 and parameters: {'classifier': 'SVM', 'C': 0.14695486281530695, 'kernel': 'linear', 'gamma': 'scale'}. Best is trial 16 with value: 0.7895716945996275.\n",
            "[I 2025-06-12 12:06:36,887] Trial 52 finished with value: 0.7895716945996275 and parameters: {'classifier': 'SVM', 'C': 0.14518676444865616, 'kernel': 'linear', 'gamma': 'scale'}. Best is trial 16 with value: 0.7895716945996275.\n",
            "[I 2025-06-12 12:06:36,926] Trial 53 finished with value: 0.7858472998137803 and parameters: {'classifier': 'SVM', 'C': 0.21737150189392174, 'kernel': 'linear', 'gamma': 'scale'}. Best is trial 16 with value: 0.7895716945996275.\n",
            "[I 2025-06-12 12:06:36,965] Trial 54 finished with value: 0.7895716945996275 and parameters: {'classifier': 'SVM', 'C': 0.1310221134626509, 'kernel': 'linear', 'gamma': 'scale'}. Best is trial 16 with value: 0.7895716945996275.\n",
            "[I 2025-06-12 12:06:40,890] Trial 55 finished with value: 0.74487895716946 and parameters: {'classifier': 'GradientBoosting', 'n_estimators': 299, 'learning_rate': 0.024627176541348657, 'max_depth': 13, 'min_samples_split': 4, 'min_samples_leaf': 5}. Best is trial 16 with value: 0.7895716945996275.\n",
            "[I 2025-06-12 12:06:40,936] Trial 56 finished with value: 0.7188081936685289 and parameters: {'classifier': 'SVM', 'C': 0.22663678890280467, 'kernel': 'poly', 'gamma': 'scale'}. Best is trial 16 with value: 0.7895716945996275.\n",
            "[I 2025-06-12 12:06:41,027] Trial 57 finished with value: 0.7858472998137801 and parameters: {'classifier': 'SVM', 'C': 13.871264633932267, 'kernel': 'linear', 'gamma': 'scale'}. Best is trial 16 with value: 0.7895716945996275.\n",
            "[I 2025-06-12 12:06:42,563] Trial 58 finished with value: 0.7597765363128491 and parameters: {'classifier': 'RandomForest', 'n_estimators': 253, 'max_depth': 9, 'min_samples_split': 6, 'min_samples_leaf': 9, 'bootstrap': True}. Best is trial 16 with value: 0.7895716945996275.\n",
            "[I 2025-06-12 12:06:42,603] Trial 59 finished with value: 0.7877094972067038 and parameters: {'classifier': 'SVM', 'C': 0.10105276766917826, 'kernel': 'linear', 'gamma': 'scale'}. Best is trial 16 with value: 0.7895716945996275.\n",
            "[I 2025-06-12 12:06:42,650] Trial 60 finished with value: 0.7541899441340782 and parameters: {'classifier': 'SVM', 'C': 0.4039306104049239, 'kernel': 'sigmoid', 'gamma': 'scale'}. Best is trial 16 with value: 0.7895716945996275.\n",
            "[I 2025-06-12 12:06:42,691] Trial 61 finished with value: 0.7895716945996275 and parameters: {'classifier': 'SVM', 'C': 0.1420852274515333, 'kernel': 'linear', 'gamma': 'scale'}. Best is trial 16 with value: 0.7895716945996275.\n",
            "[I 2025-06-12 12:06:42,739] Trial 62 finished with value: 0.7877094972067038 and parameters: {'classifier': 'SVM', 'C': 0.17794444373473703, 'kernel': 'linear', 'gamma': 'scale'}. Best is trial 16 with value: 0.7895716945996275.\n",
            "[I 2025-06-12 12:06:42,785] Trial 63 finished with value: 0.7895716945996275 and parameters: {'classifier': 'SVM', 'C': 0.12886679822021158, 'kernel': 'linear', 'gamma': 'scale'}. Best is trial 16 with value: 0.7895716945996275.\n",
            "[I 2025-06-12 12:06:43,118] Trial 64 finished with value: 0.7858472998137801 and parameters: {'classifier': 'SVM', 'C': 95.1702956226491, 'kernel': 'linear', 'gamma': 'scale'}. Best is trial 16 with value: 0.7895716945996275.\n",
            "[I 2025-06-12 12:06:43,160] Trial 65 finished with value: 0.7877094972067038 and parameters: {'classifier': 'SVM', 'C': 0.10156099241053507, 'kernel': 'linear', 'gamma': 'scale'}. Best is trial 16 with value: 0.7895716945996275.\n",
            "[I 2025-06-12 12:06:43,206] Trial 66 finished with value: 0.7858472998137803 and parameters: {'classifier': 'SVM', 'C': 0.2012335838646514, 'kernel': 'linear', 'gamma': 'auto'}. Best is trial 16 with value: 0.7895716945996275.\n",
            "[I 2025-06-12 12:06:43,252] Trial 67 finished with value: 0.7858472998137803 and parameters: {'classifier': 'SVM', 'C': 0.2637401430372762, 'kernel': 'linear', 'gamma': 'scale'}. Best is trial 16 with value: 0.7895716945996275.\n",
            "[I 2025-06-12 12:06:43,308] Trial 68 finished with value: 0.7709497206703911 and parameters: {'classifier': 'SVM', 'C': 2.057322012237713, 'kernel': 'rbf', 'gamma': 'scale'}. Best is trial 16 with value: 0.7895716945996275.\n",
            "[I 2025-06-12 12:06:43,355] Trial 69 finished with value: 0.7895716945996275 and parameters: {'classifier': 'SVM', 'C': 0.13525759319528843, 'kernel': 'linear', 'gamma': 'scale'}. Best is trial 16 with value: 0.7895716945996275.\n",
            "[I 2025-06-12 12:06:44,644] Trial 70 finished with value: 0.7486033519553073 and parameters: {'classifier': 'GradientBoosting', 'n_estimators': 156, 'learning_rate': 0.11331297569873723, 'max_depth': 6, 'min_samples_split': 9, 'min_samples_leaf': 4}. Best is trial 16 with value: 0.7895716945996275.\n",
            "[I 2025-06-12 12:06:44,685] Trial 71 finished with value: 0.7895716945996275 and parameters: {'classifier': 'SVM', 'C': 0.13942425086210886, 'kernel': 'linear', 'gamma': 'scale'}. Best is trial 16 with value: 0.7895716945996275.\n",
            "[I 2025-06-12 12:06:44,731] Trial 72 finished with value: 0.7858472998137803 and parameters: {'classifier': 'SVM', 'C': 0.18931393757240694, 'kernel': 'linear', 'gamma': 'scale'}. Best is trial 16 with value: 0.7895716945996275.\n",
            "[I 2025-06-12 12:06:44,780] Trial 73 finished with value: 0.7895716945996275 and parameters: {'classifier': 'SVM', 'C': 0.12375889106486114, 'kernel': 'linear', 'gamma': 'scale'}. Best is trial 16 with value: 0.7895716945996275.\n",
            "[I 2025-06-12 12:06:44,827] Trial 74 finished with value: 0.7839851024208566 and parameters: {'classifier': 'SVM', 'C': 0.5354979259111351, 'kernel': 'linear', 'gamma': 'scale'}. Best is trial 16 with value: 0.7895716945996275.\n",
            "[I 2025-06-12 12:06:44,881] Trial 75 finished with value: 0.7616387337057727 and parameters: {'classifier': 'SVM', 'C': 0.290430310127354, 'kernel': 'sigmoid', 'gamma': 'scale'}. Best is trial 16 with value: 0.7895716945996275.\n",
            "[I 2025-06-12 12:06:44,927] Trial 76 finished with value: 0.7877094972067038 and parameters: {'classifier': 'SVM', 'C': 0.17642348994091187, 'kernel': 'linear', 'gamma': 'scale'}. Best is trial 16 with value: 0.7895716945996275.\n",
            "[I 2025-06-12 12:06:44,974] Trial 77 finished with value: 0.7895716945996275 and parameters: {'classifier': 'SVM', 'C': 0.12248246085229737, 'kernel': 'linear', 'gamma': 'auto'}. Best is trial 16 with value: 0.7895716945996275.\n",
            "[I 2025-06-12 12:06:45,020] Trial 78 finished with value: 0.7858472998137803 and parameters: {'classifier': 'SVM', 'C': 0.22720074153109765, 'kernel': 'linear', 'gamma': 'scale'}. Best is trial 16 with value: 0.7895716945996275.\n",
            "[I 2025-06-12 12:06:46,082] Trial 79 finished with value: 0.7672253258845437 and parameters: {'classifier': 'RandomForest', 'n_estimators': 211, 'max_depth': 13, 'min_samples_split': 4, 'min_samples_leaf': 6, 'bootstrap': False}. Best is trial 16 with value: 0.7895716945996275.\n",
            "[I 2025-06-12 12:06:46,128] Trial 80 finished with value: 0.7858472998137803 and parameters: {'classifier': 'SVM', 'C': 0.33002071401012695, 'kernel': 'linear', 'gamma': 'scale'}. Best is trial 16 with value: 0.7895716945996275.\n",
            "[I 2025-06-12 12:06:46,175] Trial 81 finished with value: 0.7895716945996275 and parameters: {'classifier': 'SVM', 'C': 0.14950713642287894, 'kernel': 'linear', 'gamma': 'scale'}. Best is trial 16 with value: 0.7895716945996275.\n",
            "[I 2025-06-12 12:06:46,220] Trial 82 finished with value: 0.7877094972067038 and parameters: {'classifier': 'SVM', 'C': 0.10232286353652115, 'kernel': 'linear', 'gamma': 'scale'}. Best is trial 16 with value: 0.7895716945996275.\n",
            "[I 2025-06-12 12:06:46,266] Trial 83 finished with value: 0.7895716945996275 and parameters: {'classifier': 'SVM', 'C': 0.12752726381943347, 'kernel': 'linear', 'gamma': 'scale'}. Best is trial 16 with value: 0.7895716945996275.\n",
            "[I 2025-06-12 12:06:46,312] Trial 84 finished with value: 0.7150837988826816 and parameters: {'classifier': 'SVM', 'C': 0.16947480709833734, 'kernel': 'poly', 'gamma': 'scale'}. Best is trial 16 with value: 0.7895716945996275.\n",
            "[I 2025-06-12 12:06:46,358] Trial 85 finished with value: 0.7858472998137803 and parameters: {'classifier': 'SVM', 'C': 0.2009596478483056, 'kernel': 'linear', 'gamma': 'scale'}. Best is trial 16 with value: 0.7895716945996275.\n",
            "[I 2025-06-12 12:06:46,640] Trial 86 finished with value: 0.7858472998137801 and parameters: {'classifier': 'SVM', 'C': 62.15503216612965, 'kernel': 'linear', 'gamma': 'scale'}. Best is trial 16 with value: 0.7895716945996275.\n",
            "[I 2025-06-12 12:06:50,762] Trial 87 finished with value: 0.7392923649906891 and parameters: {'classifier': 'GradientBoosting', 'n_estimators': 124, 'learning_rate': 0.02951478665695768, 'max_depth': 17, 'min_samples_split': 3, 'min_samples_leaf': 2}. Best is trial 16 with value: 0.7895716945996275.\n",
            "[I 2025-06-12 12:06:50,827] Trial 88 finished with value: 0.7579143389199255 and parameters: {'classifier': 'SVM', 'C': 0.2551876921442749, 'kernel': 'rbf', 'gamma': 'scale'}. Best is trial 16 with value: 0.7895716945996275.\n",
            "[I 2025-06-12 12:06:51,397] Trial 89 finished with value: 0.7560521415270017 and parameters: {'classifier': 'RandomForest', 'n_estimators': 90, 'max_depth': 5, 'min_samples_split': 7, 'min_samples_leaf': 8, 'bootstrap': True}. Best is trial 16 with value: 0.7895716945996275.\n",
            "[I 2025-06-12 12:06:51,444] Trial 90 finished with value: 0.7895716945996275 and parameters: {'classifier': 'SVM', 'C': 0.12306072942241227, 'kernel': 'linear', 'gamma': 'scale'}. Best is trial 16 with value: 0.7895716945996275.\n",
            "[I 2025-06-12 12:06:51,491] Trial 91 finished with value: 0.7895716945996275 and parameters: {'classifier': 'SVM', 'C': 0.1489148345099249, 'kernel': 'linear', 'gamma': 'scale'}. Best is trial 16 with value: 0.7895716945996275.\n",
            "[I 2025-06-12 12:06:51,532] Trial 92 finished with value: 0.7895716945996275 and parameters: {'classifier': 'SVM', 'C': 0.15451053770299011, 'kernel': 'linear', 'gamma': 'scale'}. Best is trial 16 with value: 0.7895716945996275.\n",
            "[I 2025-06-12 12:06:51,571] Trial 93 finished with value: 0.7895716945996275 and parameters: {'classifier': 'SVM', 'C': 0.11529536338221855, 'kernel': 'linear', 'gamma': 'scale'}. Best is trial 16 with value: 0.7895716945996275.\n",
            "[I 2025-06-12 12:06:51,617] Trial 94 finished with value: 0.7877094972067038 and parameters: {'classifier': 'SVM', 'C': 0.16034814065717715, 'kernel': 'linear', 'gamma': 'scale'}. Best is trial 16 with value: 0.7895716945996275.\n",
            "[I 2025-06-12 12:06:51,667] Trial 95 finished with value: 0.7728119180633147 and parameters: {'classifier': 'SVM', 'C': 0.1985373300413819, 'kernel': 'sigmoid', 'gamma': 'scale'}. Best is trial 16 with value: 0.7895716945996275.\n",
            "[I 2025-06-12 12:06:51,710] Trial 96 finished with value: 0.7877094972067038 and parameters: {'classifier': 'SVM', 'C': 0.10191705318106141, 'kernel': 'linear', 'gamma': 'auto'}. Best is trial 16 with value: 0.7895716945996275.\n",
            "[I 2025-06-12 12:06:51,758] Trial 97 finished with value: 0.7839851024208566 and parameters: {'classifier': 'SVM', 'C': 0.3927451838089763, 'kernel': 'linear', 'gamma': 'scale'}. Best is trial 16 with value: 0.7895716945996275.\n",
            "[I 2025-06-12 12:06:51,834] Trial 98 finished with value: 0.7858472998137801 and parameters: {'classifier': 'SVM', 'C': 4.569814348482733, 'kernel': 'linear', 'gamma': 'scale'}. Best is trial 16 with value: 0.7895716945996275.\n",
            "[I 2025-06-12 12:06:51,887] Trial 99 finished with value: 0.7094972067039107 and parameters: {'classifier': 'SVM', 'C': 0.13603715313389111, 'kernel': 'poly', 'gamma': 'scale'}. Best is trial 16 with value: 0.7895716945996275.\n"
          ]
        }
      ]
    },
    {
      "cell_type": "code",
      "source": [
        "print(f'Best trial accuracy: {study.best_trial.value}')\n",
        "print(f'Best trial parameters: {study.best_trial.params}')"
      ],
      "metadata": {
        "id": "t8S665QfCHy3",
        "outputId": "5519de83-f50e-4e8e-ac23-330faa1bd993",
        "colab": {
          "base_uri": "https://localhost:8080/"
        }
      },
      "execution_count": 20,
      "outputs": [
        {
          "output_type": "stream",
          "name": "stdout",
          "text": [
            "Best trial accuracy: 0.7895716945996275\n",
            "Best trial parameters: {'classifier': 'SVM', 'C': 0.11589874809297444, 'kernel': 'linear', 'gamma': 'scale'}\n"
          ]
        }
      ]
    },
    {
      "cell_type": "code",
      "source": [
        "! pip install optuna-integration[xgboost]"
      ],
      "metadata": {
        "id": "g4EbuGD9CVyc",
        "outputId": "7daacc2e-ceb8-4c69-b90c-cc1dd3dfabd5",
        "colab": {
          "base_uri": "https://localhost:8080/"
        }
      },
      "execution_count": 21,
      "outputs": [
        {
          "output_type": "stream",
          "name": "stdout",
          "text": [
            "Collecting optuna-integration[xgboost]\n",
            "  Downloading optuna_integration-4.3.0-py3-none-any.whl.metadata (12 kB)\n",
            "Requirement already satisfied: optuna in /usr/local/lib/python3.11/dist-packages (from optuna-integration[xgboost]) (4.3.0)\n",
            "Requirement already satisfied: xgboost in /usr/local/lib/python3.11/dist-packages (from optuna-integration[xgboost]) (2.1.4)\n",
            "Requirement already satisfied: alembic>=1.5.0 in /usr/local/lib/python3.11/dist-packages (from optuna->optuna-integration[xgboost]) (1.16.1)\n",
            "Requirement already satisfied: colorlog in /usr/local/lib/python3.11/dist-packages (from optuna->optuna-integration[xgboost]) (6.9.0)\n",
            "Requirement already satisfied: numpy in /usr/local/lib/python3.11/dist-packages (from optuna->optuna-integration[xgboost]) (2.0.2)\n",
            "Requirement already satisfied: packaging>=20.0 in /usr/local/lib/python3.11/dist-packages (from optuna->optuna-integration[xgboost]) (24.2)\n",
            "Requirement already satisfied: sqlalchemy>=1.4.2 in /usr/local/lib/python3.11/dist-packages (from optuna->optuna-integration[xgboost]) (2.0.41)\n",
            "Requirement already satisfied: tqdm in /usr/local/lib/python3.11/dist-packages (from optuna->optuna-integration[xgboost]) (4.67.1)\n",
            "Requirement already satisfied: PyYAML in /usr/local/lib/python3.11/dist-packages (from optuna->optuna-integration[xgboost]) (6.0.2)\n",
            "Requirement already satisfied: nvidia-nccl-cu12 in /usr/local/lib/python3.11/dist-packages (from xgboost->optuna-integration[xgboost]) (2.21.5)\n",
            "Requirement already satisfied: scipy in /usr/local/lib/python3.11/dist-packages (from xgboost->optuna-integration[xgboost]) (1.15.3)\n",
            "Requirement already satisfied: Mako in /usr/lib/python3/dist-packages (from alembic>=1.5.0->optuna->optuna-integration[xgboost]) (1.1.3)\n",
            "Requirement already satisfied: typing-extensions>=4.12 in /usr/local/lib/python3.11/dist-packages (from alembic>=1.5.0->optuna->optuna-integration[xgboost]) (4.14.0)\n",
            "Requirement already satisfied: greenlet>=1 in /usr/local/lib/python3.11/dist-packages (from sqlalchemy>=1.4.2->optuna->optuna-integration[xgboost]) (3.2.2)\n",
            "Downloading optuna_integration-4.3.0-py3-none-any.whl (98 kB)\n",
            "\u001b[2K   \u001b[90m━━━━━━━━━━━━━━━━━━━━━━━━━━━━━━━━━━━━━━━━\u001b[0m \u001b[32m98.5/98.5 kB\u001b[0m \u001b[31m2.8 MB/s\u001b[0m eta \u001b[36m0:00:00\u001b[0m\n",
            "\u001b[?25hInstalling collected packages: optuna-integration\n",
            "Successfully installed optuna-integration-4.3.0\n"
          ]
        }
      ]
    },
    {
      "cell_type": "code",
      "source": [],
      "metadata": {
        "id": "Oh6XCsjiFBSC"
      },
      "execution_count": null,
      "outputs": []
    }
  ]
}