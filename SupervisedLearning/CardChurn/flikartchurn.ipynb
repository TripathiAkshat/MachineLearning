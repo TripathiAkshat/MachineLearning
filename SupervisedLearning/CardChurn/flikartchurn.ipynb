{
 "metadata": {
  "kernelspec": {
   "language": "python",
   "display_name": "Python 3",
   "name": "python3"
  },
  "language_info": {
   "name": "python",
   "version": "3.11.11",
   "mimetype": "text/x-python",
   "codemirror_mode": {
    "name": "ipython",
    "version": 3
   },
   "pygments_lexer": "ipython3",
   "nbconvert_exporter": "python",
   "file_extension": ".py"
  },
  "kaggle": {
   "accelerator": "none",
   "dataSources": [
    {
     "sourceId": 7627123,
     "sourceType": "datasetVersion",
     "datasetId": 4443573
    }
   ],
   "dockerImageVersionId": 31041,
   "isInternetEnabled": true,
   "language": "python",
   "sourceType": "notebook",
   "isGpuEnabled": false
  }
 },
 "nbformat_minor": 4,
 "nbformat": 4,
 "cells": [
  {
   "cell_type": "code",
   "source": "import pandas as pd\nfrom sklearn.preprocessing import StandardScaler\nfrom sklearn.model_selection import train_test_split",
   "metadata": {
    "_uuid": "8f2839f25d086af736a60e9eeb907d3b93b6e0e5",
    "_cell_guid": "b1076dfc-b9ad-4769-8c92-a6c4dae69d19",
    "trusted": true,
    "execution": {
     "iopub.status.busy": "2025-05-29T11:15:21.721939Z",
     "iopub.execute_input": "2025-05-29T11:15:21.722497Z",
     "iopub.status.idle": "2025-05-29T11:15:21.727234Z",
     "shell.execute_reply.started": "2025-05-29T11:15:21.722462Z",
     "shell.execute_reply": "2025-05-29T11:15:21.726220Z"
    }
   },
   "outputs": [],
   "execution_count": 13
  },
  {
   "cell_type": "code",
   "source": "df = pd.read_csv('/kaggle/input/online-retail-customer-churn-dataset/online_retail_customer_churn.csv')",
   "metadata": {
    "trusted": true,
    "execution": {
     "iopub.status.busy": "2025-05-29T11:15:21.734858Z",
     "iopub.execute_input": "2025-05-29T11:15:21.735447Z",
     "iopub.status.idle": "2025-05-29T11:15:21.752235Z",
     "shell.execute_reply.started": "2025-05-29T11:15:21.735419Z",
     "shell.execute_reply": "2025-05-29T11:15:21.751148Z"
    }
   },
   "outputs": [],
   "execution_count": 14
  },
  {
   "cell_type": "code",
   "source": "df",
   "metadata": {
    "trusted": true,
    "execution": {
     "iopub.status.busy": "2025-05-29T11:15:21.753717Z",
     "iopub.execute_input": "2025-05-29T11:15:21.754075Z",
     "iopub.status.idle": "2025-05-29T11:15:21.774409Z",
     "shell.execute_reply.started": "2025-05-29T11:15:21.754023Z",
     "shell.execute_reply": "2025-05-29T11:15:21.773226Z"
    }
   },
   "outputs": [
    {
     "execution_count": 15,
     "output_type": "execute_result",
     "data": {
      "text/plain": "     Customer_ID  Age  Gender  Annual_Income  Total_Spend  Years_as_Customer  \\\n0              1   62   Other          45.15      5892.58                  5   \n1              2   65    Male          79.51      9025.47                 13   \n2              3   18    Male          29.19       618.83                 13   \n3              4   21   Other          79.63      9110.30                  3   \n4              5   21   Other          77.66      5390.88                 15   \n..           ...  ...     ...            ...          ...                ...   \n995          996   54    Male         143.72      1089.09                  2   \n996          997   19    Male         164.19      3700.24                  9   \n997          998   47  Female         113.31       705.85                 17   \n998          999   23    Male          72.98      3891.60                  7   \n999         1000   34   Other         134.86      3956.71                 15   \n\n     Num_of_Purchases  Average_Transaction_Amount  Num_of_Returns  \\\n0                  22                      453.80               2   \n1                  77                       22.90               2   \n2                  71                       50.53               5   \n3                  33                      411.83               5   \n4                  43                      101.19               3   \n..                ...                         ...             ...   \n995                29                       77.75               0   \n996                90                       34.45               6   \n997                69                      187.37               7   \n998                31                      483.80               1   \n999                48                      420.91               6   \n\n     Num_of_Support_Contacts  Satisfaction_Score  Last_Purchase_Days_Ago  \\\n0                          0                   3                     129   \n1                          2                   3                     227   \n2                          2                   2                     283   \n3                          3                   5                     226   \n4                          0                   5                     242   \n..                       ...                 ...                     ...   \n995                        3                   2                      88   \n996                        4                   4                     352   \n997                        3                   1                     172   \n998                        2                   5                      55   \n999                        0                   1                     269   \n\n     Email_Opt_In Promotion_Response  Target_Churn  \n0            True          Responded          True  \n1           False          Responded         False  \n2           False          Responded          True  \n3            True            Ignored          True  \n4           False       Unsubscribed         False  \n..            ...                ...           ...  \n995          True            Ignored         False  \n996         False          Responded          True  \n997          True       Unsubscribed         False  \n998         False          Responded          True  \n999          True            Ignored          True  \n\n[1000 rows x 15 columns]",
      "text/html": "<div>\n<style scoped>\n    .dataframe tbody tr th:only-of-type {\n        vertical-align: middle;\n    }\n\n    .dataframe tbody tr th {\n        vertical-align: top;\n    }\n\n    .dataframe thead th {\n        text-align: right;\n    }\n</style>\n<table border=\"1\" class=\"dataframe\">\n  <thead>\n    <tr style=\"text-align: right;\">\n      <th></th>\n      <th>Customer_ID</th>\n      <th>Age</th>\n      <th>Gender</th>\n      <th>Annual_Income</th>\n      <th>Total_Spend</th>\n      <th>Years_as_Customer</th>\n      <th>Num_of_Purchases</th>\n      <th>Average_Transaction_Amount</th>\n      <th>Num_of_Returns</th>\n      <th>Num_of_Support_Contacts</th>\n      <th>Satisfaction_Score</th>\n      <th>Last_Purchase_Days_Ago</th>\n      <th>Email_Opt_In</th>\n      <th>Promotion_Response</th>\n      <th>Target_Churn</th>\n    </tr>\n  </thead>\n  <tbody>\n    <tr>\n      <th>0</th>\n      <td>1</td>\n      <td>62</td>\n      <td>Other</td>\n      <td>45.15</td>\n      <td>5892.58</td>\n      <td>5</td>\n      <td>22</td>\n      <td>453.80</td>\n      <td>2</td>\n      <td>0</td>\n      <td>3</td>\n      <td>129</td>\n      <td>True</td>\n      <td>Responded</td>\n      <td>True</td>\n    </tr>\n    <tr>\n      <th>1</th>\n      <td>2</td>\n      <td>65</td>\n      <td>Male</td>\n      <td>79.51</td>\n      <td>9025.47</td>\n      <td>13</td>\n      <td>77</td>\n      <td>22.90</td>\n      <td>2</td>\n      <td>2</td>\n      <td>3</td>\n      <td>227</td>\n      <td>False</td>\n      <td>Responded</td>\n      <td>False</td>\n    </tr>\n    <tr>\n      <th>2</th>\n      <td>3</td>\n      <td>18</td>\n      <td>Male</td>\n      <td>29.19</td>\n      <td>618.83</td>\n      <td>13</td>\n      <td>71</td>\n      <td>50.53</td>\n      <td>5</td>\n      <td>2</td>\n      <td>2</td>\n      <td>283</td>\n      <td>False</td>\n      <td>Responded</td>\n      <td>True</td>\n    </tr>\n    <tr>\n      <th>3</th>\n      <td>4</td>\n      <td>21</td>\n      <td>Other</td>\n      <td>79.63</td>\n      <td>9110.30</td>\n      <td>3</td>\n      <td>33</td>\n      <td>411.83</td>\n      <td>5</td>\n      <td>3</td>\n      <td>5</td>\n      <td>226</td>\n      <td>True</td>\n      <td>Ignored</td>\n      <td>True</td>\n    </tr>\n    <tr>\n      <th>4</th>\n      <td>5</td>\n      <td>21</td>\n      <td>Other</td>\n      <td>77.66</td>\n      <td>5390.88</td>\n      <td>15</td>\n      <td>43</td>\n      <td>101.19</td>\n      <td>3</td>\n      <td>0</td>\n      <td>5</td>\n      <td>242</td>\n      <td>False</td>\n      <td>Unsubscribed</td>\n      <td>False</td>\n    </tr>\n    <tr>\n      <th>...</th>\n      <td>...</td>\n      <td>...</td>\n      <td>...</td>\n      <td>...</td>\n      <td>...</td>\n      <td>...</td>\n      <td>...</td>\n      <td>...</td>\n      <td>...</td>\n      <td>...</td>\n      <td>...</td>\n      <td>...</td>\n      <td>...</td>\n      <td>...</td>\n      <td>...</td>\n    </tr>\n    <tr>\n      <th>995</th>\n      <td>996</td>\n      <td>54</td>\n      <td>Male</td>\n      <td>143.72</td>\n      <td>1089.09</td>\n      <td>2</td>\n      <td>29</td>\n      <td>77.75</td>\n      <td>0</td>\n      <td>3</td>\n      <td>2</td>\n      <td>88</td>\n      <td>True</td>\n      <td>Ignored</td>\n      <td>False</td>\n    </tr>\n    <tr>\n      <th>996</th>\n      <td>997</td>\n      <td>19</td>\n      <td>Male</td>\n      <td>164.19</td>\n      <td>3700.24</td>\n      <td>9</td>\n      <td>90</td>\n      <td>34.45</td>\n      <td>6</td>\n      <td>4</td>\n      <td>4</td>\n      <td>352</td>\n      <td>False</td>\n      <td>Responded</td>\n      <td>True</td>\n    </tr>\n    <tr>\n      <th>997</th>\n      <td>998</td>\n      <td>47</td>\n      <td>Female</td>\n      <td>113.31</td>\n      <td>705.85</td>\n      <td>17</td>\n      <td>69</td>\n      <td>187.37</td>\n      <td>7</td>\n      <td>3</td>\n      <td>1</td>\n      <td>172</td>\n      <td>True</td>\n      <td>Unsubscribed</td>\n      <td>False</td>\n    </tr>\n    <tr>\n      <th>998</th>\n      <td>999</td>\n      <td>23</td>\n      <td>Male</td>\n      <td>72.98</td>\n      <td>3891.60</td>\n      <td>7</td>\n      <td>31</td>\n      <td>483.80</td>\n      <td>1</td>\n      <td>2</td>\n      <td>5</td>\n      <td>55</td>\n      <td>False</td>\n      <td>Responded</td>\n      <td>True</td>\n    </tr>\n    <tr>\n      <th>999</th>\n      <td>1000</td>\n      <td>34</td>\n      <td>Other</td>\n      <td>134.86</td>\n      <td>3956.71</td>\n      <td>15</td>\n      <td>48</td>\n      <td>420.91</td>\n      <td>6</td>\n      <td>0</td>\n      <td>1</td>\n      <td>269</td>\n      <td>True</td>\n      <td>Ignored</td>\n      <td>True</td>\n    </tr>\n  </tbody>\n</table>\n<p>1000 rows × 15 columns</p>\n</div>"
     },
     "metadata": {}
    }
   ],
   "execution_count": 15
  },
  {
   "cell_type": "code",
   "source": "df.drop(columns=['Customer_ID'])",
   "metadata": {
    "trusted": true,
    "execution": {
     "iopub.status.busy": "2025-05-29T11:15:21.775798Z",
     "iopub.execute_input": "2025-05-29T11:15:21.776117Z",
     "iopub.status.idle": "2025-05-29T11:15:21.806105Z",
     "shell.execute_reply.started": "2025-05-29T11:15:21.776092Z",
     "shell.execute_reply": "2025-05-29T11:15:21.805144Z"
    }
   },
   "outputs": [
    {
     "execution_count": 16,
     "output_type": "execute_result",
     "data": {
      "text/plain": "     Age  Gender  Annual_Income  Total_Spend  Years_as_Customer  \\\n0     62   Other          45.15      5892.58                  5   \n1     65    Male          79.51      9025.47                 13   \n2     18    Male          29.19       618.83                 13   \n3     21   Other          79.63      9110.30                  3   \n4     21   Other          77.66      5390.88                 15   \n..   ...     ...            ...          ...                ...   \n995   54    Male         143.72      1089.09                  2   \n996   19    Male         164.19      3700.24                  9   \n997   47  Female         113.31       705.85                 17   \n998   23    Male          72.98      3891.60                  7   \n999   34   Other         134.86      3956.71                 15   \n\n     Num_of_Purchases  Average_Transaction_Amount  Num_of_Returns  \\\n0                  22                      453.80               2   \n1                  77                       22.90               2   \n2                  71                       50.53               5   \n3                  33                      411.83               5   \n4                  43                      101.19               3   \n..                ...                         ...             ...   \n995                29                       77.75               0   \n996                90                       34.45               6   \n997                69                      187.37               7   \n998                31                      483.80               1   \n999                48                      420.91               6   \n\n     Num_of_Support_Contacts  Satisfaction_Score  Last_Purchase_Days_Ago  \\\n0                          0                   3                     129   \n1                          2                   3                     227   \n2                          2                   2                     283   \n3                          3                   5                     226   \n4                          0                   5                     242   \n..                       ...                 ...                     ...   \n995                        3                   2                      88   \n996                        4                   4                     352   \n997                        3                   1                     172   \n998                        2                   5                      55   \n999                        0                   1                     269   \n\n     Email_Opt_In Promotion_Response  Target_Churn  \n0            True          Responded          True  \n1           False          Responded         False  \n2           False          Responded          True  \n3            True            Ignored          True  \n4           False       Unsubscribed         False  \n..            ...                ...           ...  \n995          True            Ignored         False  \n996         False          Responded          True  \n997          True       Unsubscribed         False  \n998         False          Responded          True  \n999          True            Ignored          True  \n\n[1000 rows x 14 columns]",
      "text/html": "<div>\n<style scoped>\n    .dataframe tbody tr th:only-of-type {\n        vertical-align: middle;\n    }\n\n    .dataframe tbody tr th {\n        vertical-align: top;\n    }\n\n    .dataframe thead th {\n        text-align: right;\n    }\n</style>\n<table border=\"1\" class=\"dataframe\">\n  <thead>\n    <tr style=\"text-align: right;\">\n      <th></th>\n      <th>Age</th>\n      <th>Gender</th>\n      <th>Annual_Income</th>\n      <th>Total_Spend</th>\n      <th>Years_as_Customer</th>\n      <th>Num_of_Purchases</th>\n      <th>Average_Transaction_Amount</th>\n      <th>Num_of_Returns</th>\n      <th>Num_of_Support_Contacts</th>\n      <th>Satisfaction_Score</th>\n      <th>Last_Purchase_Days_Ago</th>\n      <th>Email_Opt_In</th>\n      <th>Promotion_Response</th>\n      <th>Target_Churn</th>\n    </tr>\n  </thead>\n  <tbody>\n    <tr>\n      <th>0</th>\n      <td>62</td>\n      <td>Other</td>\n      <td>45.15</td>\n      <td>5892.58</td>\n      <td>5</td>\n      <td>22</td>\n      <td>453.80</td>\n      <td>2</td>\n      <td>0</td>\n      <td>3</td>\n      <td>129</td>\n      <td>True</td>\n      <td>Responded</td>\n      <td>True</td>\n    </tr>\n    <tr>\n      <th>1</th>\n      <td>65</td>\n      <td>Male</td>\n      <td>79.51</td>\n      <td>9025.47</td>\n      <td>13</td>\n      <td>77</td>\n      <td>22.90</td>\n      <td>2</td>\n      <td>2</td>\n      <td>3</td>\n      <td>227</td>\n      <td>False</td>\n      <td>Responded</td>\n      <td>False</td>\n    </tr>\n    <tr>\n      <th>2</th>\n      <td>18</td>\n      <td>Male</td>\n      <td>29.19</td>\n      <td>618.83</td>\n      <td>13</td>\n      <td>71</td>\n      <td>50.53</td>\n      <td>5</td>\n      <td>2</td>\n      <td>2</td>\n      <td>283</td>\n      <td>False</td>\n      <td>Responded</td>\n      <td>True</td>\n    </tr>\n    <tr>\n      <th>3</th>\n      <td>21</td>\n      <td>Other</td>\n      <td>79.63</td>\n      <td>9110.30</td>\n      <td>3</td>\n      <td>33</td>\n      <td>411.83</td>\n      <td>5</td>\n      <td>3</td>\n      <td>5</td>\n      <td>226</td>\n      <td>True</td>\n      <td>Ignored</td>\n      <td>True</td>\n    </tr>\n    <tr>\n      <th>4</th>\n      <td>21</td>\n      <td>Other</td>\n      <td>77.66</td>\n      <td>5390.88</td>\n      <td>15</td>\n      <td>43</td>\n      <td>101.19</td>\n      <td>3</td>\n      <td>0</td>\n      <td>5</td>\n      <td>242</td>\n      <td>False</td>\n      <td>Unsubscribed</td>\n      <td>False</td>\n    </tr>\n    <tr>\n      <th>...</th>\n      <td>...</td>\n      <td>...</td>\n      <td>...</td>\n      <td>...</td>\n      <td>...</td>\n      <td>...</td>\n      <td>...</td>\n      <td>...</td>\n      <td>...</td>\n      <td>...</td>\n      <td>...</td>\n      <td>...</td>\n      <td>...</td>\n      <td>...</td>\n    </tr>\n    <tr>\n      <th>995</th>\n      <td>54</td>\n      <td>Male</td>\n      <td>143.72</td>\n      <td>1089.09</td>\n      <td>2</td>\n      <td>29</td>\n      <td>77.75</td>\n      <td>0</td>\n      <td>3</td>\n      <td>2</td>\n      <td>88</td>\n      <td>True</td>\n      <td>Ignored</td>\n      <td>False</td>\n    </tr>\n    <tr>\n      <th>996</th>\n      <td>19</td>\n      <td>Male</td>\n      <td>164.19</td>\n      <td>3700.24</td>\n      <td>9</td>\n      <td>90</td>\n      <td>34.45</td>\n      <td>6</td>\n      <td>4</td>\n      <td>4</td>\n      <td>352</td>\n      <td>False</td>\n      <td>Responded</td>\n      <td>True</td>\n    </tr>\n    <tr>\n      <th>997</th>\n      <td>47</td>\n      <td>Female</td>\n      <td>113.31</td>\n      <td>705.85</td>\n      <td>17</td>\n      <td>69</td>\n      <td>187.37</td>\n      <td>7</td>\n      <td>3</td>\n      <td>1</td>\n      <td>172</td>\n      <td>True</td>\n      <td>Unsubscribed</td>\n      <td>False</td>\n    </tr>\n    <tr>\n      <th>998</th>\n      <td>23</td>\n      <td>Male</td>\n      <td>72.98</td>\n      <td>3891.60</td>\n      <td>7</td>\n      <td>31</td>\n      <td>483.80</td>\n      <td>1</td>\n      <td>2</td>\n      <td>5</td>\n      <td>55</td>\n      <td>False</td>\n      <td>Responded</td>\n      <td>True</td>\n    </tr>\n    <tr>\n      <th>999</th>\n      <td>34</td>\n      <td>Other</td>\n      <td>134.86</td>\n      <td>3956.71</td>\n      <td>15</td>\n      <td>48</td>\n      <td>420.91</td>\n      <td>6</td>\n      <td>0</td>\n      <td>1</td>\n      <td>269</td>\n      <td>True</td>\n      <td>Ignored</td>\n      <td>True</td>\n    </tr>\n  </tbody>\n</table>\n<p>1000 rows × 14 columns</p>\n</div>"
     },
     "metadata": {}
    }
   ],
   "execution_count": 16
  },
  {
   "cell_type": "code",
   "source": "from sklearn.preprocessing import LabelEncoder",
   "metadata": {
    "trusted": true,
    "execution": {
     "iopub.status.busy": "2025-05-29T11:15:21.808289Z",
     "iopub.execute_input": "2025-05-29T11:15:21.808689Z",
     "iopub.status.idle": "2025-05-29T11:15:21.827911Z",
     "shell.execute_reply.started": "2025-05-29T11:15:21.808659Z",
     "shell.execute_reply": "2025-05-29T11:15:21.826982Z"
    }
   },
   "outputs": [],
   "execution_count": 17
  },
  {
   "cell_type": "code",
   "source": "le1= LabelEncoder()\nle2= LabelEncoder()\nle3= LabelEncoder()\nle4= LabelEncoder()\n\n\ndf['Gender'] = le1.fit_transform(df['Gender'])\ndf['Email_Opt_In'] = le2.fit_transform(df['Email_Opt_In'])\ndf['Promotion_Response'] = le3.fit_transform(df['Promotion_Response'])\ndf['Target_Churn'] = le4.fit_transform(df['Target_Churn'])",
   "metadata": {
    "trusted": true,
    "execution": {
     "iopub.status.busy": "2025-05-29T11:15:21.829166Z",
     "iopub.execute_input": "2025-05-29T11:15:21.829521Z",
     "iopub.status.idle": "2025-05-29T11:15:21.855348Z",
     "shell.execute_reply.started": "2025-05-29T11:15:21.829489Z",
     "shell.execute_reply": "2025-05-29T11:15:21.854326Z"
    }
   },
   "outputs": [],
   "execution_count": 18
  },
  {
   "cell_type": "code",
   "source": "X = df.iloc[:,:-1]",
   "metadata": {
    "trusted": true,
    "execution": {
     "iopub.status.busy": "2025-05-29T11:15:21.857100Z",
     "iopub.execute_input": "2025-05-29T11:15:21.857473Z",
     "iopub.status.idle": "2025-05-29T11:15:21.876993Z",
     "shell.execute_reply.started": "2025-05-29T11:15:21.857450Z",
     "shell.execute_reply": "2025-05-29T11:15:21.876025Z"
    }
   },
   "outputs": [],
   "execution_count": 19
  },
  {
   "cell_type": "code",
   "source": "df",
   "metadata": {
    "trusted": true,
    "execution": {
     "iopub.status.busy": "2025-05-29T11:15:21.877929Z",
     "iopub.execute_input": "2025-05-29T11:15:21.878384Z",
     "iopub.status.idle": "2025-05-29T11:15:21.910083Z",
     "shell.execute_reply.started": "2025-05-29T11:15:21.878354Z",
     "shell.execute_reply": "2025-05-29T11:15:21.909107Z"
    }
   },
   "outputs": [
    {
     "execution_count": 20,
     "output_type": "execute_result",
     "data": {
      "text/plain": "     Customer_ID  Age  Gender  Annual_Income  Total_Spend  Years_as_Customer  \\\n0              1   62       2          45.15      5892.58                  5   \n1              2   65       1          79.51      9025.47                 13   \n2              3   18       1          29.19       618.83                 13   \n3              4   21       2          79.63      9110.30                  3   \n4              5   21       2          77.66      5390.88                 15   \n..           ...  ...     ...            ...          ...                ...   \n995          996   54       1         143.72      1089.09                  2   \n996          997   19       1         164.19      3700.24                  9   \n997          998   47       0         113.31       705.85                 17   \n998          999   23       1          72.98      3891.60                  7   \n999         1000   34       2         134.86      3956.71                 15   \n\n     Num_of_Purchases  Average_Transaction_Amount  Num_of_Returns  \\\n0                  22                      453.80               2   \n1                  77                       22.90               2   \n2                  71                       50.53               5   \n3                  33                      411.83               5   \n4                  43                      101.19               3   \n..                ...                         ...             ...   \n995                29                       77.75               0   \n996                90                       34.45               6   \n997                69                      187.37               7   \n998                31                      483.80               1   \n999                48                      420.91               6   \n\n     Num_of_Support_Contacts  Satisfaction_Score  Last_Purchase_Days_Ago  \\\n0                          0                   3                     129   \n1                          2                   3                     227   \n2                          2                   2                     283   \n3                          3                   5                     226   \n4                          0                   5                     242   \n..                       ...                 ...                     ...   \n995                        3                   2                      88   \n996                        4                   4                     352   \n997                        3                   1                     172   \n998                        2                   5                      55   \n999                        0                   1                     269   \n\n     Email_Opt_In  Promotion_Response  Target_Churn  \n0               1                   1             1  \n1               0                   1             0  \n2               0                   1             1  \n3               1                   0             1  \n4               0                   2             0  \n..            ...                 ...           ...  \n995             1                   0             0  \n996             0                   1             1  \n997             1                   2             0  \n998             0                   1             1  \n999             1                   0             1  \n\n[1000 rows x 15 columns]",
      "text/html": "<div>\n<style scoped>\n    .dataframe tbody tr th:only-of-type {\n        vertical-align: middle;\n    }\n\n    .dataframe tbody tr th {\n        vertical-align: top;\n    }\n\n    .dataframe thead th {\n        text-align: right;\n    }\n</style>\n<table border=\"1\" class=\"dataframe\">\n  <thead>\n    <tr style=\"text-align: right;\">\n      <th></th>\n      <th>Customer_ID</th>\n      <th>Age</th>\n      <th>Gender</th>\n      <th>Annual_Income</th>\n      <th>Total_Spend</th>\n      <th>Years_as_Customer</th>\n      <th>Num_of_Purchases</th>\n      <th>Average_Transaction_Amount</th>\n      <th>Num_of_Returns</th>\n      <th>Num_of_Support_Contacts</th>\n      <th>Satisfaction_Score</th>\n      <th>Last_Purchase_Days_Ago</th>\n      <th>Email_Opt_In</th>\n      <th>Promotion_Response</th>\n      <th>Target_Churn</th>\n    </tr>\n  </thead>\n  <tbody>\n    <tr>\n      <th>0</th>\n      <td>1</td>\n      <td>62</td>\n      <td>2</td>\n      <td>45.15</td>\n      <td>5892.58</td>\n      <td>5</td>\n      <td>22</td>\n      <td>453.80</td>\n      <td>2</td>\n      <td>0</td>\n      <td>3</td>\n      <td>129</td>\n      <td>1</td>\n      <td>1</td>\n      <td>1</td>\n    </tr>\n    <tr>\n      <th>1</th>\n      <td>2</td>\n      <td>65</td>\n      <td>1</td>\n      <td>79.51</td>\n      <td>9025.47</td>\n      <td>13</td>\n      <td>77</td>\n      <td>22.90</td>\n      <td>2</td>\n      <td>2</td>\n      <td>3</td>\n      <td>227</td>\n      <td>0</td>\n      <td>1</td>\n      <td>0</td>\n    </tr>\n    <tr>\n      <th>2</th>\n      <td>3</td>\n      <td>18</td>\n      <td>1</td>\n      <td>29.19</td>\n      <td>618.83</td>\n      <td>13</td>\n      <td>71</td>\n      <td>50.53</td>\n      <td>5</td>\n      <td>2</td>\n      <td>2</td>\n      <td>283</td>\n      <td>0</td>\n      <td>1</td>\n      <td>1</td>\n    </tr>\n    <tr>\n      <th>3</th>\n      <td>4</td>\n      <td>21</td>\n      <td>2</td>\n      <td>79.63</td>\n      <td>9110.30</td>\n      <td>3</td>\n      <td>33</td>\n      <td>411.83</td>\n      <td>5</td>\n      <td>3</td>\n      <td>5</td>\n      <td>226</td>\n      <td>1</td>\n      <td>0</td>\n      <td>1</td>\n    </tr>\n    <tr>\n      <th>4</th>\n      <td>5</td>\n      <td>21</td>\n      <td>2</td>\n      <td>77.66</td>\n      <td>5390.88</td>\n      <td>15</td>\n      <td>43</td>\n      <td>101.19</td>\n      <td>3</td>\n      <td>0</td>\n      <td>5</td>\n      <td>242</td>\n      <td>0</td>\n      <td>2</td>\n      <td>0</td>\n    </tr>\n    <tr>\n      <th>...</th>\n      <td>...</td>\n      <td>...</td>\n      <td>...</td>\n      <td>...</td>\n      <td>...</td>\n      <td>...</td>\n      <td>...</td>\n      <td>...</td>\n      <td>...</td>\n      <td>...</td>\n      <td>...</td>\n      <td>...</td>\n      <td>...</td>\n      <td>...</td>\n      <td>...</td>\n    </tr>\n    <tr>\n      <th>995</th>\n      <td>996</td>\n      <td>54</td>\n      <td>1</td>\n      <td>143.72</td>\n      <td>1089.09</td>\n      <td>2</td>\n      <td>29</td>\n      <td>77.75</td>\n      <td>0</td>\n      <td>3</td>\n      <td>2</td>\n      <td>88</td>\n      <td>1</td>\n      <td>0</td>\n      <td>0</td>\n    </tr>\n    <tr>\n      <th>996</th>\n      <td>997</td>\n      <td>19</td>\n      <td>1</td>\n      <td>164.19</td>\n      <td>3700.24</td>\n      <td>9</td>\n      <td>90</td>\n      <td>34.45</td>\n      <td>6</td>\n      <td>4</td>\n      <td>4</td>\n      <td>352</td>\n      <td>0</td>\n      <td>1</td>\n      <td>1</td>\n    </tr>\n    <tr>\n      <th>997</th>\n      <td>998</td>\n      <td>47</td>\n      <td>0</td>\n      <td>113.31</td>\n      <td>705.85</td>\n      <td>17</td>\n      <td>69</td>\n      <td>187.37</td>\n      <td>7</td>\n      <td>3</td>\n      <td>1</td>\n      <td>172</td>\n      <td>1</td>\n      <td>2</td>\n      <td>0</td>\n    </tr>\n    <tr>\n      <th>998</th>\n      <td>999</td>\n      <td>23</td>\n      <td>1</td>\n      <td>72.98</td>\n      <td>3891.60</td>\n      <td>7</td>\n      <td>31</td>\n      <td>483.80</td>\n      <td>1</td>\n      <td>2</td>\n      <td>5</td>\n      <td>55</td>\n      <td>0</td>\n      <td>1</td>\n      <td>1</td>\n    </tr>\n    <tr>\n      <th>999</th>\n      <td>1000</td>\n      <td>34</td>\n      <td>2</td>\n      <td>134.86</td>\n      <td>3956.71</td>\n      <td>15</td>\n      <td>48</td>\n      <td>420.91</td>\n      <td>6</td>\n      <td>0</td>\n      <td>1</td>\n      <td>269</td>\n      <td>1</td>\n      <td>0</td>\n      <td>1</td>\n    </tr>\n  </tbody>\n</table>\n<p>1000 rows × 15 columns</p>\n</div>"
     },
     "metadata": {}
    }
   ],
   "execution_count": 20
  },
  {
   "cell_type": "code",
   "source": "X.drop(columns=[\"Gender\",\"Email_Opt_In\",\"Promotion_Response\"],inplace=True)",
   "metadata": {
    "trusted": true,
    "execution": {
     "iopub.status.busy": "2025-05-29T11:15:21.911157Z",
     "iopub.execute_input": "2025-05-29T11:15:21.912179Z",
     "iopub.status.idle": "2025-05-29T11:15:21.932075Z",
     "shell.execute_reply.started": "2025-05-29T11:15:21.912153Z",
     "shell.execute_reply": "2025-05-29T11:15:21.931135Z"
    }
   },
   "outputs": [],
   "execution_count": 21
  },
  {
   "cell_type": "code",
   "source": "y = df.iloc[:,-1]",
   "metadata": {
    "trusted": true,
    "execution": {
     "iopub.status.busy": "2025-05-29T11:15:21.933368Z",
     "iopub.execute_input": "2025-05-29T11:15:21.933615Z",
     "iopub.status.idle": "2025-05-29T11:15:21.953306Z",
     "shell.execute_reply.started": "2025-05-29T11:15:21.933595Z",
     "shell.execute_reply": "2025-05-29T11:15:21.952373Z"
    }
   },
   "outputs": [],
   "execution_count": 22
  },
  {
   "cell_type": "code",
   "source": "y",
   "metadata": {
    "trusted": true,
    "execution": {
     "iopub.status.busy": "2025-05-29T11:15:21.954598Z",
     "iopub.execute_input": "2025-05-29T11:15:21.954939Z",
     "iopub.status.idle": "2025-05-29T11:15:21.980341Z",
     "shell.execute_reply.started": "2025-05-29T11:15:21.954911Z",
     "shell.execute_reply": "2025-05-29T11:15:21.979139Z"
    }
   },
   "outputs": [
    {
     "execution_count": 23,
     "output_type": "execute_result",
     "data": {
      "text/plain": "0      1\n1      0\n2      1\n3      1\n4      0\n      ..\n995    0\n996    1\n997    0\n998    1\n999    1\nName: Target_Churn, Length: 1000, dtype: int64"
     },
     "metadata": {}
    }
   ],
   "execution_count": 23
  },
  {
   "cell_type": "code",
   "source": [
    "from sklearn.svm import SVC\n",
    "X_train, X_test, Y_train, Y_test = train_test_split(X, y, test_size=0.2, random_state=42)\n",
    "\n",
    "\n",
    "# grid = GridSearchCV(SVC(), param_grid=param_grid, refit=True, cv=2, verbose=3,n_jobs=-1)\n",
    "# grid.fit(X_train, Y_train)\n",
    "\n",
    "# print(\"Best parameters:\", grid.best_params_)\n",
    "# print(\"Test set score:\", grid.score(X_test, Y_test))\n",
    "svc = SVC(kernel = 'rbf')\n",
    "svc.fit(X_train,Y_train)"
   ],
   "metadata": {
    "trusted": true,
    "execution": {
     "iopub.status.busy": "2025-05-29T11:15:48.097428Z",
     "iopub.execute_input": "2025-05-29T11:15:48.097864Z",
     "iopub.status.idle": "2025-05-29T11:21:06.143289Z",
     "shell.execute_reply.started": "2025-05-29T11:15:48.097838Z",
     "shell.execute_reply": "2025-05-29T11:21:06.142397Z"
    }
   },
   "outputs": [
    {
     "execution_count": 28,
     "output_type": "execute_result",
     "data": {
      "text/plain": "SVC(kernel='linear')",
      "text/html": "<style>#sk-container-id-2 {color: black;background-color: white;}#sk-container-id-2 pre{padding: 0;}#sk-container-id-2 div.sk-toggleable {background-color: white;}#sk-container-id-2 label.sk-toggleable__label {cursor: pointer;display: block;width: 100%;margin-bottom: 0;padding: 0.3em;box-sizing: border-box;text-align: center;}#sk-container-id-2 label.sk-toggleable__label-arrow:before {content: \"▸\";float: left;margin-right: 0.25em;color: #696969;}#sk-container-id-2 label.sk-toggleable__label-arrow:hover:before {color: black;}#sk-container-id-2 div.sk-estimator:hover label.sk-toggleable__label-arrow:before {color: black;}#sk-container-id-2 div.sk-toggleable__content {max-height: 0;max-width: 0;overflow: hidden;text-align: left;background-color: #f0f8ff;}#sk-container-id-2 div.sk-toggleable__content pre {margin: 0.2em;color: black;border-radius: 0.25em;background-color: #f0f8ff;}#sk-container-id-2 input.sk-toggleable__control:checked~div.sk-toggleable__content {max-height: 200px;max-width: 100%;overflow: auto;}#sk-container-id-2 input.sk-toggleable__control:checked~label.sk-toggleable__label-arrow:before {content: \"▾\";}#sk-container-id-2 div.sk-estimator input.sk-toggleable__control:checked~label.sk-toggleable__label {background-color: #d4ebff;}#sk-container-id-2 div.sk-label input.sk-toggleable__control:checked~label.sk-toggleable__label {background-color: #d4ebff;}#sk-container-id-2 input.sk-hidden--visually {border: 0;clip: rect(1px 1px 1px 1px);clip: rect(1px, 1px, 1px, 1px);height: 1px;margin: -1px;overflow: hidden;padding: 0;position: absolute;width: 1px;}#sk-container-id-2 div.sk-estimator {font-family: monospace;background-color: #f0f8ff;border: 1px dotted black;border-radius: 0.25em;box-sizing: border-box;margin-bottom: 0.5em;}#sk-container-id-2 div.sk-estimator:hover {background-color: #d4ebff;}#sk-container-id-2 div.sk-parallel-item::after {content: \"\";width: 100%;border-bottom: 1px solid gray;flex-grow: 1;}#sk-container-id-2 div.sk-label:hover label.sk-toggleable__label {background-color: #d4ebff;}#sk-container-id-2 div.sk-serial::before {content: \"\";position: absolute;border-left: 1px solid gray;box-sizing: border-box;top: 0;bottom: 0;left: 50%;z-index: 0;}#sk-container-id-2 div.sk-serial {display: flex;flex-direction: column;align-items: center;background-color: white;padding-right: 0.2em;padding-left: 0.2em;position: relative;}#sk-container-id-2 div.sk-item {position: relative;z-index: 1;}#sk-container-id-2 div.sk-parallel {display: flex;align-items: stretch;justify-content: center;background-color: white;position: relative;}#sk-container-id-2 div.sk-item::before, #sk-container-id-2 div.sk-parallel-item::before {content: \"\";position: absolute;border-left: 1px solid gray;box-sizing: border-box;top: 0;bottom: 0;left: 50%;z-index: -1;}#sk-container-id-2 div.sk-parallel-item {display: flex;flex-direction: column;z-index: 1;position: relative;background-color: white;}#sk-container-id-2 div.sk-parallel-item:first-child::after {align-self: flex-end;width: 50%;}#sk-container-id-2 div.sk-parallel-item:last-child::after {align-self: flex-start;width: 50%;}#sk-container-id-2 div.sk-parallel-item:only-child::after {width: 0;}#sk-container-id-2 div.sk-dashed-wrapped {border: 1px dashed gray;margin: 0 0.4em 0.5em 0.4em;box-sizing: border-box;padding-bottom: 0.4em;background-color: white;}#sk-container-id-2 div.sk-label label {font-family: monospace;font-weight: bold;display: inline-block;line-height: 1.2em;}#sk-container-id-2 div.sk-label-container {text-align: center;}#sk-container-id-2 div.sk-container {/* jupyter's `normalize.less` sets `[hidden] { display: none; }` but bootstrap.min.css set `[hidden] { display: none !important; }` so we also need the `!important` here to be able to override the default hidden behavior on the sphinx rendered scikit-learn.org. See: https://github.com/scikit-learn/scikit-learn/issues/21755 */display: inline-block !important;position: relative;}#sk-container-id-2 div.sk-text-repr-fallback {display: none;}</style><div id=\"sk-container-id-2\" class=\"sk-top-container\"><div class=\"sk-text-repr-fallback\"><pre>SVC(kernel=&#x27;linear&#x27;)</pre><b>In a Jupyter environment, please rerun this cell to show the HTML representation or trust the notebook. <br />On GitHub, the HTML representation is unable to render, please try loading this page with nbviewer.org.</b></div><div class=\"sk-container\" hidden><div class=\"sk-item\"><div class=\"sk-estimator sk-toggleable\"><input class=\"sk-toggleable__control sk-hidden--visually\" id=\"sk-estimator-id-2\" type=\"checkbox\" checked><label for=\"sk-estimator-id-2\" class=\"sk-toggleable__label sk-toggleable__label-arrow\">SVC</label><div class=\"sk-toggleable__content\"><pre>SVC(kernel=&#x27;linear&#x27;)</pre></div></div></div></div></div>"
     },
     "metadata": {}
    }
   ],
   "execution_count": 28
  },
  {
   "cell_type": "code",
   "source": "# from sklearn.modelselection import GridSearchCV\nfrom sklearn.svm import SVC\nfrom sklearn.preprocessing import StandardScaler\n\nX_train, X_test, Y_train, Y_test = train_test_split(X, y, test_size=0.2, random_state=42)\nscaler = StandardScaler()\n\n\n\nsvc = SVC(kernel = 'rbf')\nsvc.fit(X_train,Y_train)",
   "metadata": {
    "trusted": true
   },
   "outputs": [],
   "execution_count": null
  },
  {
   "cell_type": "code",
   "source": "from sklearn.metrics import classification_report,confusion_matrix",
   "metadata": {
    "trusted": true,
    "execution": {
     "iopub.status.busy": "2025-05-29T11:15:38.050470Z",
     "iopub.execute_input": "2025-05-29T11:15:38.050796Z",
     "iopub.status.idle": "2025-05-29T11:15:38.054932Z",
     "shell.execute_reply.started": "2025-05-29T11:15:38.050773Z",
     "shell.execute_reply": "2025-05-29T11:15:38.054001Z"
    }
   },
   "outputs": [],
   "execution_count": 26
  },
  {
   "cell_type": "code",
   "source": "y_pred1 = svc.predict(X_test)\nprint(classification_report(Y_test,y_pred1))\nprint(confusion_matrix(Y_test,y_pred1))",
   "metadata": {
    "trusted": true,
    "execution": {
     "iopub.status.busy": "2025-05-29T11:24:57.958849Z",
     "iopub.execute_input": "2025-05-29T11:24:57.959538Z",
     "iopub.status.idle": "2025-05-29T11:24:57.976502Z",
     "shell.execute_reply.started": "2025-05-29T11:24:57.959512Z",
     "shell.execute_reply": "2025-05-29T11:24:57.975617Z"
    }
   },
   "outputs": [
    {
     "name": "stdout",
     "text": "              precision    recall  f1-score   support\n\n           0       0.49      0.22      0.31        94\n           1       0.54      0.79      0.64       106\n\n    accuracy                           0.53       200\n   macro avg       0.51      0.51      0.47       200\nweighted avg       0.51      0.53      0.48       200\n\n[[21 73]\n [22 84]]\n",
     "output_type": "stream"
    }
   ],
   "execution_count": 29
  },
  {
   "cell_type": "code",
   "source": "rbf = SVC(kernel = 'rbf')\nrbf.fit(X_train,Y_train)",
   "metadata": {
    "trusted": true,
    "execution": {
     "iopub.status.busy": "2025-05-29T11:15:22.014893Z",
     "iopub.status.idle": "2025-05-29T11:15:22.016017Z",
     "shell.execute_reply.started": "2025-05-29T11:15:22.015524Z",
     "shell.execute_reply": "2025-05-29T11:15:22.015568Z"
    }
   },
   "outputs": [],
   "execution_count": null
  },
  {
   "cell_type": "code",
   "source": "y_pred1 = rbf.predict(X_test)\nprint(classification_report(Y_test,y_pred1))\nprint(confusion_matrix(Y_test,y_pred1))",
   "metadata": {
    "trusted": true,
    "execution": {
     "iopub.status.busy": "2025-05-29T11:15:22.017661Z",
     "iopub.status.idle": "2025-05-29T11:15:22.018112Z",
     "shell.execute_reply.started": "2025-05-29T11:15:22.017862Z",
     "shell.execute_reply": "2025-05-29T11:15:22.017876Z"
    }
   },
   "outputs": [],
   "execution_count": null
  },
  {
   "cell_type": "code",
   "source": "X = X[['Years_as_Customer','Num_of_Purchases','Num_of_Returns']]\n# from sklearn.modelselection import GridSearchCV\nfrom sklearn.svm import SVC\nfrom sklearn.preprocessing import StandardScaler\n\nX_train, X_test, Y_train, Y_test = train_test_split(X, y, test_size=0.1, random_state=42)\nscaler = StandardScaler()\nX_train = scaler.fit_transform(X_train)\nX_test = scaler.transform(X_test)\n\n\n\nsvc = SVC(kernel = 'sigmoid')\nsvc.fit(X_train,Y_train)\ny_pred1 = svc.predict(X_test)\nprint(classification_report(Y_test,y_pred1))\nprint(confusion_matrix(Y_test,y_pred1))",
   "metadata": {
    "trusted": true,
    "execution": {
     "iopub.status.busy": "2025-05-29T11:34:01.885108Z",
     "iopub.execute_input": "2025-05-29T11:34:01.885417Z",
     "iopub.status.idle": "2025-05-29T11:34:01.946025Z",
     "shell.execute_reply.started": "2025-05-29T11:34:01.885393Z",
     "shell.execute_reply": "2025-05-29T11:34:01.945085Z"
    }
   },
   "outputs": [
    {
     "name": "stdout",
     "text": "              precision    recall  f1-score   support\n\n           0       0.49      0.57      0.53        46\n           1       0.57      0.50      0.53        54\n\n    accuracy                           0.53       100\n   macro avg       0.53      0.53      0.53       100\nweighted avg       0.54      0.53      0.53       100\n\n[[26 20]\n [27 27]]\n",
     "output_type": "stream"
    }
   ],
   "execution_count": 34
  },
  {
   "cell_type": "code",
   "source": [
    "from sklearn.model_selection import GridSearchCV, train_test_split\n",
    "from sklearn.svm import SVC\n",
    "from sklearn.preprocessing import StandardScaler\n",
    "from sklearn.metrics import classification_report, confusion_matrix\n",
    "\n",
    "X = X[['Years_as_Customer','Num_of_Purchases','Num_of_Returns']]\n",
    "\n",
    "X_train, X_test, Y_train, Y_test = train_test_split(X, y, test_size=0.1, random_state=42)\n",
    "\n",
    "scaler = StandardScaler()\n",
    "X_train = scaler.fit_transform(X_train)\n",
    "X_test = scaler.transform(X_test)\n",
    "\n",
    "param_grid = {\n",
    "    'C': [0.1, 1, 10, 100],\n",
    "    'gamma': ['scale', 'auto', 0.001, 0.01, 0.1, 1],\n",
    "    'kernel': ['sigmoid', 'rbf', 'linear', 'poly']\n",
    "}\n",
    "\n",
    "grid_search = GridSearchCV(\n",
    "    SVC(), \n",
    "    param_grid=param_grid, \n",
    "    cv=5,  # 5-fold cross-validation\n",
    "    scoring='accuracy',\n",
    "    verbose=1,\n",
    "    n_jobs=-1\n",
    ")\n",
    "\n",
    "grid_search.fit(X_train, Y_train)\n",
    "\n",
    "best_svc = grid_search.best_estimator_\n",
    "y_pred = best_svc.predict(X_test)\n",
    "print(\"Best parameters found:\", grid_search.best_params_)\n",
    "print(\"Best cross-validation score:\", grid_search.best_score_)\n",
    "print(\"\\nClassification Report:\")\n",
    "print(classification_report(Y_test, y_pred))\n",
    "print(\"\\nConfusion Matrix:\")\n",
    "print(confusion_matrix(Y_test, y_pred))\n",
    "\n",
    "print(f\"\\nTest accuracy with best parameters: {best_svc.score(X_test, Y_test):.4f}\")\n"
   ],
   "metadata": {
    "trusted": true,
    "execution": {
     "iopub.status.busy": "2025-05-29T11:35:50.294847Z",
     "iopub.execute_input": "2025-05-29T11:35:50.295639Z",
     "iopub.status.idle": "2025-05-29T11:36:44.003523Z",
     "shell.execute_reply.started": "2025-05-29T11:35:50.295612Z",
     "shell.execute_reply": "2025-05-29T11:36:44.002635Z"
    }
   },
   "outputs": [
    {
     "name": "stdout",
     "text": "Fitting 5 folds for each of 96 candidates, totalling 480 fits\nBest parameters found: {'C': 100, 'gamma': 'scale', 'kernel': 'rbf'}\nBest cross-validation score: 0.5322222222222223\n\nClassification Report:\n              precision    recall  f1-score   support\n\n           0       0.43      0.35      0.39        46\n           1       0.52      0.61      0.56        54\n\n    accuracy                           0.49       100\n   macro avg       0.48      0.48      0.47       100\nweighted avg       0.48      0.49      0.48       100\n\n\nConfusion Matrix:\n[[16 30]\n [21 33]]\n\nTest accuracy with best parameters: 0.4900\n",
     "output_type": "stream"
    }
   ],
   "execution_count": 36
  }
 ]
}
